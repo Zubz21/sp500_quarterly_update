{
 "cells": [
  {
   "cell_type": "markdown",
   "id": "bb3d0e6f-2644-46b6-8d76-3e556b79af4b",
   "metadata": {},
   "source": [
    "# Getting Started"
   ]
  },
  {
   "cell_type": "code",
   "execution_count": 1,
   "id": "60b80df4-d690-48de-b795-e86ae794c44b",
   "metadata": {},
   "outputs": [
    {
     "name": "stderr",
     "output_type": "stream",
     "text": [
      "2023-10-26 17:49:08.625245: I tensorflow/core/platform/cpu_feature_guard.cc:182] This TensorFlow binary is optimized to use available CPU instructions in performance-critical operations.\n",
      "To enable the following instructions: AVX2 FMA, in other operations, rebuild TensorFlow with the appropriate compiler flags.\n"
     ]
    }
   ],
   "source": [
    "import pandas as pd\n",
    "import numpy as np\n",
    "import matplotlib.pyplot as plt\n",
    "import seaborn as sns\n",
    "\n",
    "from sklearn.model_selection import train_test_split\n",
    "from sklearn.pipeline import Pipeline\n",
    "from sklearn.preprocessing import StandardScaler\n",
    "from sklearn.impute import SimpleImputer\n",
    "from sklearn.linear_model import LogisticRegression\n",
    "from sklearn.metrics import accuracy_score, classification_report, roc_auc_score, log_loss, confusion_matrix\n",
    "from sklearn.model_selection import GridSearchCV, KFold, StratifiedKFold\n",
    "from imblearn.over_sampling import SMOTE\n",
    "from sklearn.ensemble import RandomForestClassifier\n",
    "\n",
    "import xgboost as xgb\n",
    "from xgboost import XGBClassifier\n",
    "from sklearn.calibration import CalibratedClassifierCV\n",
    "\n",
    "import tensorflow as tf\n",
    "from tensorflow import keras\n",
    "from keras.models import Sequential\n",
    "from keras.layers import Dense, Dropout\n",
    "from keras.regularizers import l1, l2\n",
    "from keras.callbacks import EarlyStopping\n",
    "from tensorflow.keras.metrics import Precision, Recall"
   ]
  },
  {
   "cell_type": "code",
   "execution_count": 2,
   "id": "b52dd5c2-b47d-48fb-b20c-bd83ac17dd9f",
   "metadata": {},
   "outputs": [
    {
     "data": {
      "text/html": [
       "\n",
       "                <audio  controls=\"controls\" autoplay=\"autoplay\">\n",
       "                    <source src=\"https://www.soundjay.com/button/beep-07.wav\" type=\"audio/x-wav\" />\n",
       "                    Your browser does not support the audio element.\n",
       "                </audio>\n",
       "              "
      ],
      "text/plain": [
       "<IPython.lib.display.Audio object>"
      ]
     },
     "metadata": {},
     "output_type": "display_data"
    }
   ],
   "source": [
    "from IPython.display import Audio, display\n",
    "\n",
    "def play_sound():\n",
    "    display(Audio(url=\"https://www.soundjay.com/button/beep-07.wav\", autoplay=True))\n",
    "\n",
    "# At the end of your code cell\n",
    "play_sound()"
   ]
  },
  {
   "cell_type": "code",
   "execution_count": 3,
   "id": "799d5871-74e7-411c-8d5e-1b3c244eedf7",
   "metadata": {},
   "outputs": [],
   "source": [
    "snp = pd.read_csv(\"../data/s&pv1.csv\")\n",
    "rus = pd.read_csv(\"../data/russell500.csv\")"
   ]
  },
  {
   "cell_type": "markdown",
   "id": "ecfae300-84d9-4eb9-93ce-d1324e039f94",
   "metadata": {},
   "source": [
    "## Data Cleaning"
   ]
  },
  {
   "cell_type": "code",
   "execution_count": 4,
   "id": "0d229ce9-3c7a-4fad-8b13-2c006b0cea44",
   "metadata": {},
   "outputs": [
    {
     "data": {
      "text/plain": [
       "((501, 48), (507, 36))"
      ]
     },
     "execution_count": 4,
     "metadata": {},
     "output_type": "execute_result"
    }
   ],
   "source": [
    "snp.shape,rus.shape"
   ]
  },
  {
   "cell_type": "code",
   "execution_count": 5,
   "id": "cc83fe0e-6e24-49b1-a9e8-31d4a3cfad92",
   "metadata": {},
   "outputs": [],
   "source": [
    "drop_cols = ['Market Cap Category', 'Yearly_NetIncome', 'Profitable',\n",
    "       'Avg_Volume_1_6', 'Volume_Category', 'Avg Monthly Volume',\n",
    "       'Avg Quarterly Income', 'Volume to Income Ratio', 'Avg Monthly Income',\n",
    "       'Market Cap to Avg Monthly Income Ratio']\n",
    "snp.drop(columns=drop_cols,inplace=True)"
   ]
  },
  {
   "cell_type": "code",
   "execution_count": 6,
   "id": "b32ff0a9-0bc9-4c15-84bb-59ae501c9b3f",
   "metadata": {},
   "outputs": [
    {
     "data": {
      "text/plain": [
       "((501, 38), (507, 36))"
      ]
     },
     "execution_count": 6,
     "metadata": {},
     "output_type": "execute_result"
    }
   ],
   "source": [
    "snp.shape,rus.shape"
   ]
  },
  {
   "cell_type": "code",
   "execution_count": 7,
   "id": "079e638f-1ab0-421f-986c-dfc2e7077817",
   "metadata": {},
   "outputs": [
    {
     "data": {
      "text/plain": [
       "0    505\n",
       "1      2\n",
       "Name: Underaged, dtype: int64"
      ]
     },
     "execution_count": 7,
     "metadata": {},
     "output_type": "execute_result"
    }
   ],
   "source": [
    "rus['in_index'] = 0\n",
    "rus['Underaged'] = np.where(rus['Q4_NetIncome'].isna(), 1, 0)\n",
    "rus['Underaged'].value_counts()"
   ]
  },
  {
   "cell_type": "code",
   "execution_count": 8,
   "id": "b2baf95f-068e-4389-aad1-d3962055244b",
   "metadata": {},
   "outputs": [],
   "source": [
    "shared_tickers = snp[snp['Ticker'].isin(rus['Ticker'].unique())]['Ticker'].unique()\n",
    "rus = rus[~rus['Ticker'].isin(shared_tickers)]"
   ]
  },
  {
   "cell_type": "code",
   "execution_count": 9,
   "id": "ff9ef67c-9594-42cd-ad4c-a26e793ba1e5",
   "metadata": {},
   "outputs": [
    {
     "data": {
      "text/plain": [
       "Ticker                 0\n",
       "Market Cap             0\n",
       "Exchange               0\n",
       "Outstanding Shares     0\n",
       "Q1_NetIncome           0\n",
       "Q2_NetIncome           0\n",
       "Q3_NetIncome           0\n",
       "Q4_NetIncome           2\n",
       "Q5_NetIncome           2\n",
       "Q6_NetIncome           2\n",
       "Q7_NetIncome           3\n",
       "Q8_NetIncome           4\n",
       "Month1_Volume          1\n",
       "Month2_Volume          1\n",
       "Month3_Volume          4\n",
       "Month4_Volume          5\n",
       "Month5_Volume          7\n",
       "Month6_Volume          7\n",
       "Month7_Volume          7\n",
       "Month8_Volume          8\n",
       "Month9_Volume          8\n",
       "Month10_Volume         8\n",
       "Month11_Volume         8\n",
       "Month12_Volume         9\n",
       "Month13_Volume         9\n",
       "Month14_Volume         9\n",
       "Month15_Volume         9\n",
       "Month16_Volume         9\n",
       "Month17_Volume         9\n",
       "Month18_Volume         9\n",
       "Month19_Volume         9\n",
       "Month20_Volume        10\n",
       "Month21_Volume        10\n",
       "Month22_Volume        11\n",
       "Month23_Volume        13\n",
       "Month24_Volume        14\n",
       "in_index               0\n",
       "Underaged              0\n",
       "dtype: int64"
      ]
     },
     "execution_count": 9,
     "metadata": {},
     "output_type": "execute_result"
    }
   ],
   "source": [
    "rus.isnull().sum()"
   ]
  },
  {
   "cell_type": "code",
   "execution_count": 10,
   "id": "e28a04de-a395-43ce-9a99-d717167434d5",
   "metadata": {},
   "outputs": [],
   "source": [
    "rus.loc[rus['Ticker'] == 'CAVA', 'Market Cap'] = 3750000000\n",
    "rus.loc[rus['Ticker'] == 'CAVA', 'Outstanding Shares'] = 113580000\n",
    "rus.loc[rus['Ticker'] == 'LLYVA', 'Market Cap'] = 26430000000\n",
    "rus.loc[rus['Ticker'] == 'LLYVA', 'Oustanding Shares'] = 25560000\n",
    "rus.loc[rus['Ticker'] == 'LLYVK', 'Market Cap'] = 26430000000\n",
    "rus.loc[rus['Ticker'] == 'LLYVK', 'Outstanding Shares'] = 26430000000\n",
    "rus.loc[rus['Ticker'] == 'PHIN', 'Market Cap'] = 1240000000\n",
    "rus.loc[rus['Ticker'] == 'PHIN', 'Outstanding Shares'] = 46600000"
   ]
  },
  {
   "cell_type": "code",
   "execution_count": 11,
   "id": "41cd6cec-7736-4be7-8ef3-74aa1aa90cba",
   "metadata": {},
   "outputs": [],
   "source": [
    "rus['Market Cap'] = rus['Market Cap'].astype(int)"
   ]
  },
  {
   "cell_type": "code",
   "execution_count": 12,
   "id": "e83af7e7-e35c-4065-8838-b4b366c8a370",
   "metadata": {},
   "outputs": [
    {
     "data": {
      "text/plain": [
       "(Ticker                 object\n",
       " Market Cap              int64\n",
       " Exchange               object\n",
       " Outstanding Shares      int64\n",
       " Q1_NetIncome            int64\n",
       " Q2_NetIncome            int64\n",
       " Q3_NetIncome            int64\n",
       " Q4_NetIncome          float64\n",
       " Q5_NetIncome          float64\n",
       " Q6_NetIncome          float64\n",
       " Q7_NetIncome          float64\n",
       " Q8_NetIncome          float64\n",
       " Month1_Volume         float64\n",
       " Month2_Volume         float64\n",
       " Month3_Volume         float64\n",
       " Month4_Volume         float64\n",
       " Month5_Volume         float64\n",
       " Month6_Volume         float64\n",
       " Month7_Volume         float64\n",
       " Month8_Volume         float64\n",
       " Month9_Volume         float64\n",
       " Month10_Volume        float64\n",
       " Month11_Volume        float64\n",
       " Month12_Volume        float64\n",
       " Month13_Volume        float64\n",
       " Month14_Volume        float64\n",
       " Month15_Volume        float64\n",
       " Month16_Volume        float64\n",
       " Month17_Volume        float64\n",
       " Month18_Volume        float64\n",
       " Month19_Volume        float64\n",
       " Month20_Volume        float64\n",
       " Month21_Volume        float64\n",
       " Month22_Volume        float64\n",
       " Month23_Volume        float64\n",
       " Month24_Volume        float64\n",
       " in_index                int64\n",
       " Underaged               int64\n",
       " Oustanding Shares     float64\n",
       " dtype: object,\n",
       " Ticker                 object\n",
       " Market Cap              int64\n",
       " Exchange               object\n",
       " Outstanding Shares      int64\n",
       " Q1_NetIncome            int64\n",
       " Q2_NetIncome            int64\n",
       " Q3_NetIncome            int64\n",
       " Q4_NetIncome            int64\n",
       " Q5_NetIncome            int64\n",
       " Q6_NetIncome            int64\n",
       " Q7_NetIncome            int64\n",
       " Q8_NetIncome          float64\n",
       " Month1_Volume         float64\n",
       " Month2_Volume         float64\n",
       " Month3_Volume         float64\n",
       " Month4_Volume         float64\n",
       " Month5_Volume         float64\n",
       " Month6_Volume         float64\n",
       " Month7_Volume         float64\n",
       " Month8_Volume         float64\n",
       " Month9_Volume         float64\n",
       " Month10_Volume        float64\n",
       " Month11_Volume        float64\n",
       " Month12_Volume        float64\n",
       " Month13_Volume        float64\n",
       " Month14_Volume        float64\n",
       " Month15_Volume        float64\n",
       " Month16_Volume        float64\n",
       " Month17_Volume        float64\n",
       " Month18_Volume        float64\n",
       " Month19_Volume        float64\n",
       " Month20_Volume        float64\n",
       " Month21_Volume        float64\n",
       " Month22_Volume        float64\n",
       " Month23_Volume        float64\n",
       " Month24_Volume        float64\n",
       " Underaged               int64\n",
       " in_index                int64\n",
       " dtype: object)"
      ]
     },
     "execution_count": 12,
     "metadata": {},
     "output_type": "execute_result"
    }
   ],
   "source": [
    "rus.dtypes,snp.dtypes"
   ]
  },
  {
   "cell_type": "code",
   "execution_count": 13,
   "id": "aa1e7b35-8f44-4776-ba1c-31954cd224b1",
   "metadata": {},
   "outputs": [
    {
     "data": {
      "text/plain": [
       "(0    507\n",
       " Name: in_index, dtype: int64,\n",
       " 1    501\n",
       " Name: in_index, dtype: int64)"
      ]
     },
     "execution_count": 13,
     "metadata": {},
     "output_type": "execute_result"
    }
   ],
   "source": [
    "rus['in_index'].value_counts(),snp['in_index'].value_counts()"
   ]
  },
  {
   "cell_type": "markdown",
   "id": "79d534ea-eca3-4ba1-8e5d-9663fd585274",
   "metadata": {},
   "source": [
    "# Model 1: Classification Model of SP500 Index Components\n",
    "---"
   ]
  },
  {
   "cell_type": "markdown",
   "id": "31277e8c-bda6-4ec1-97a5-563ddb3eee20",
   "metadata": {},
   "source": [
    "## Classification Model Prep (1st Run Through)\n"
   ]
  },
  {
   "cell_type": "code",
   "execution_count": 14,
   "id": "9a9ad69f-2de1-4c9c-b8ba-6929b054aedc",
   "metadata": {},
   "outputs": [],
   "source": [
    "np.random.seed(42)"
   ]
  },
  {
   "cell_type": "code",
   "execution_count": 15,
   "id": "91a50f15-ceb1-411e-9c44-efa6fe08a7da",
   "metadata": {},
   "outputs": [],
   "source": [
    "market = pd.concat([snp, rus], ignore_index=True)\n",
    "market = market.sample(frac=1).reset_index(drop=True)\n",
    "\n",
    "market.to_csv(\"total_market.csv\",index=False)\n",
    "\n",
    "X = market.drop(columns=['in_index'])\n",
    "y = market['in_index']\n",
    "\n",
    "X_train, X_test, y_train, y_test = train_test_split(X, y, test_size=0.33, random_state=42)"
   ]
  },
  {
   "cell_type": "code",
   "execution_count": 16,
   "id": "102c1ec7-81a7-462f-b1f2-e2ed865281e1",
   "metadata": {},
   "outputs": [],
   "source": [
    "# Saving Ticker for later identification\n",
    "tickers_train = X_train['Ticker'].copy()\n",
    "tickers_test = X_test['Ticker'].copy()\n",
    "\n",
    "# Dropping Ticker and Exchange\n",
    "X_train = X_train.drop(columns=['Ticker', 'Exchange'])\n",
    "X_test = X_test.drop(columns=['Ticker', 'Exchange'])"
   ]
  },
  {
   "cell_type": "markdown",
   "id": "0bf708ac-a275-4c3c-bd0b-2d2edd5fb295",
   "metadata": {},
   "source": [
    "## Classification"
   ]
  },
  {
   "cell_type": "markdown",
   "id": "84331d3b-47a6-4e89-9420-fae053e5d038",
   "metadata": {},
   "source": [
    "#### We are going to train our model first if its able to correctly and highly accurately predict which tickers are indeed in fact in the S&P and which are not. Once we have a solid model that can distiniguish between the two indexes then we can move on to predicting quaretely income and volume"
   ]
  },
  {
   "cell_type": "markdown",
   "id": "800f1914-f35c-4355-93a8-bdfc94ba6e9c",
   "metadata": {},
   "source": [
    "### Logistic Regression (V1)"
   ]
  },
  {
   "cell_type": "code",
   "execution_count": 22,
   "id": "fe48a3c5-0cc3-41d8-b33d-817b4f97a0d3",
   "metadata": {},
   "outputs": [
    {
     "name": "stdout",
     "output_type": "stream",
     "text": [
      "0.7777777777777778\n",
      "              precision    recall  f1-score   support\n",
      "\n",
      "           0       0.71      0.93      0.81       164\n",
      "           1       0.91      0.63      0.74       169\n",
      "\n",
      "    accuracy                           0.78       333\n",
      "   macro avg       0.81      0.78      0.77       333\n",
      "weighted avg       0.81      0.78      0.77       333\n",
      "\n"
     ]
    }
   ],
   "source": [
    "pipeline = Pipeline([\n",
    "    ('imputer', SimpleImputer(strategy='mean')),  # Handling missing values\n",
    "    ('scaler', StandardScaler()),  # Scaling data\n",
    "    ('classifier', LogisticRegression())  # Logistic Regression\n",
    "])\n",
    "\n",
    "# Step 3: Model Training and Testing\n",
    "pipeline.fit(X_train, y_train)\n",
    "\n",
    "y_pred = pipeline.predict(X_test)\n",
    "\n",
    "print(accuracy_score(y_test, y_pred))\n",
    "print(classification_report(y_test, y_pred))\n"
   ]
  },
  {
   "cell_type": "markdown",
   "id": "6cd65210-45fa-407d-8177-860cbc86d9ca",
   "metadata": {},
   "source": [
    "### Logistic Regression (V2)"
   ]
  },
  {
   "cell_type": "code",
   "execution_count": 63,
   "id": "457f48ea-eb08-4134-8854-10b3876ce31a",
   "metadata": {},
   "outputs": [],
   "source": [
    "imputer = SimpleImputer(strategy='mean')\n",
    "X_train = imputer.fit_transform(X_train)\n",
    "X_test = imputer.transform(X_test)\n",
    "\n",
    "scaler = StandardScaler()\n",
    "X_train = scaler.fit_transform(X_train)\n",
    "X_test = scaler.transform(X_test)\n",
    "\n",
    "smote = SMOTE(random_state=42)\n",
    "X_train, y_train = smote.fit_resample(X_train, y_train)"
   ]
  },
  {
   "cell_type": "code",
   "execution_count": 64,
   "id": "b901c032-742e-4ff1-bf03-310ff724e1a9",
   "metadata": {},
   "outputs": [
    {
     "name": "stdout",
     "output_type": "stream",
     "text": [
      "ROC AUC Score: 0.8958724202626641\n",
      "Log Loss: 0.4308661215597974\n",
      "Classification Report:\n",
      "               precision    recall  f1-score   support\n",
      "\n",
      "           0       0.75      0.90      0.82       164\n",
      "           1       0.88      0.72      0.79       169\n",
      "\n",
      "    accuracy                           0.80       333\n",
      "   macro avg       0.82      0.81      0.80       333\n",
      "weighted avg       0.82      0.80      0.80       333\n",
      "\n",
      "Confusion Matrix:\n",
      " [[147  17]\n",
      " [ 48 121]]\n"
     ]
    },
    {
     "data": {
      "text/html": [
       "\n",
       "                <audio  controls=\"controls\" autoplay=\"autoplay\">\n",
       "                    <source src=\"https://www.soundjay.com/button/beep-07.wav\" type=\"audio/x-wav\" />\n",
       "                    Your browser does not support the audio element.\n",
       "                </audio>\n",
       "              "
      ],
      "text/plain": [
       "<IPython.lib.display.Audio object>"
      ]
     },
     "metadata": {},
     "output_type": "display_data"
    }
   ],
   "source": [
    "%timeit\n",
    "param_grid = [\n",
    "    {\n",
    "        'penalty': ['l1'],\n",
    "        'solver': ['saga', 'liblinear'],  # Only these solvers support l1\n",
    "        'class_weight': [None, 'balanced'],\n",
    "        'C': np.logspace(-4, 4, 10)\n",
    "    },\n",
    "    {\n",
    "        'penalty': ['l2'],\n",
    "        'solver': ['lbfgs', 'sag', 'saga', 'newton-cg', 'liblinear'],\n",
    "        'class_weight': [None, 'balanced'],\n",
    "        'C': np.logspace(-4, 4, 10)\n",
    "    }\n",
    "]\n",
    "\n",
    "grid = GridSearchCV(LogisticRegression(max_iter=10000, random_state=42),\n",
    "                    param_grid, cv=5, scoring='f1', n_jobs=-1)\n",
    "\n",
    "grid.fit(X_train, y_train)\n",
    "\n",
    "# Retrieve the best estimator\n",
    "clf_best = grid.best_estimator_\n",
    "\n",
    "# 3. Model Evaluation\n",
    "# -------------------\n",
    "\n",
    "# Predict on test set\n",
    "y_pred = clf_best.predict(X_test)\n",
    "y_pred_proba = clf_best.predict_proba(X_test)[:,1]\n",
    "\n",
    "# Print performance metrics\n",
    "print(\"ROC AUC Score:\", roc_auc_score(y_test, y_pred_proba))\n",
    "print(\"Log Loss:\", log_loss(y_test, y_pred_proba))\n",
    "print(\"Classification Report:\\n\", classification_report(y_test, y_pred))\n",
    "print(\"Confusion Matrix:\\n\", confusion_matrix(y_test, y_pred))\n",
    "play_sound()"
   ]
  },
  {
   "cell_type": "markdown",
   "id": "aa762ec6-315d-4a26-b42d-2e9ccdfbd97b",
   "metadata": {},
   "source": [
    "### Random Forest Classifier (v1)"
   ]
  },
  {
   "cell_type": "code",
   "execution_count": 65,
   "id": "fb90f8d3-97d6-4602-a192-36dc031aeb8f",
   "metadata": {},
   "outputs": [
    {
     "data": {
      "text/plain": [
       "RandomForestClassifier(random_state=42)"
      ]
     },
     "execution_count": 65,
     "metadata": {},
     "output_type": "execute_result"
    }
   ],
   "source": [
    "rfc = RandomForestClassifier(n_estimators=100, random_state=42)\n",
    "rfc.fit(X_train, y_train)"
   ]
  },
  {
   "cell_type": "code",
   "execution_count": 66,
   "id": "31cbcedc-8c49-4e19-8a08-1edf74f8559b",
   "metadata": {},
   "outputs": [],
   "source": [
    "y_pred = rfc.predict(X_test)\n",
    "y_pred_prob = rfc.predict_proba(X_test)[:, 1]"
   ]
  },
  {
   "cell_type": "code",
   "execution_count": 67,
   "id": "8ebbcfa0-13d3-4975-831d-00a0f12cc028",
   "metadata": {},
   "outputs": [
    {
     "name": "stdout",
     "output_type": "stream",
     "text": [
      "ROC AUC Score: 0.9485315341319095\n",
      "Log Loss: 0.3130763634691878\n",
      "Classification Report:\n",
      "              precision    recall  f1-score   support\n",
      "\n",
      "           0       0.83      0.95      0.89       164\n",
      "           1       0.94      0.82      0.87       169\n",
      "\n",
      "    accuracy                           0.88       333\n",
      "   macro avg       0.89      0.88      0.88       333\n",
      "weighted avg       0.89      0.88      0.88       333\n",
      "\n",
      "Confusion Matrix:\n",
      "[[155   9]\n",
      " [ 31 138]]\n"
     ]
    }
   ],
   "source": [
    "# ROC AUC Score\n",
    "roc_auc = roc_auc_score(y_test, y_pred_prob)\n",
    "print(f\"ROC AUC Score: {roc_auc}\")\n",
    "\n",
    "# Log Loss\n",
    "logloss = log_loss(y_test, y_pred_prob)\n",
    "print(f\"Log Loss: {logloss}\")\n",
    "\n",
    "# Classification Report\n",
    "print(\"Classification Report:\")\n",
    "print(classification_report(y_test, y_pred))\n",
    "\n",
    "# Confusion Matrix\n",
    "print(\"Confusion Matrix:\")\n",
    "print(confusion_matrix(y_test, y_pred))\n"
   ]
  },
  {
   "cell_type": "markdown",
   "id": "b9713e46-0538-4549-b08c-8354b4f565f8",
   "metadata": {},
   "source": [
    "### Random Forest Classifier (v2)"
   ]
  },
  {
   "cell_type": "code",
   "execution_count": 68,
   "id": "fd849e3f-a3c9-4299-8e87-8bc91adadea3",
   "metadata": {},
   "outputs": [
    {
     "name": "stdout",
     "output_type": "stream",
     "text": [
      "Fitting 5 folds for each of 108 candidates, totalling 540 fits\n",
      "ROC AUC Score: 0.9487299754654351\n",
      "Log Loss: 0.31352327983513845\n",
      "Classification Report:\n",
      "              precision    recall  f1-score   support\n",
      "\n",
      "           0       0.84      0.94      0.89       164\n",
      "           1       0.93      0.82      0.87       169\n",
      "\n",
      "    accuracy                           0.88       333\n",
      "   macro avg       0.88      0.88      0.88       333\n",
      "weighted avg       0.89      0.88      0.88       333\n",
      "\n",
      "Best Parameters: {'max_depth': 30, 'min_samples_leaf': 1, 'min_samples_split': 5, 'n_estimators': 300}\n",
      "Best Score: 0.8717655770654819\n"
     ]
    }
   ],
   "source": [
    "%timeit\n",
    "\n",
    "rfc = RandomForestClassifier()\n",
    "\n",
    "param_grid = {\n",
    "    'n_estimators': [100, 200, 300],\n",
    "    'max_depth': [None, 10, 20, 30],\n",
    "    'min_samples_split': [ 5, 10, 15],\n",
    "    'min_samples_leaf': [1, 2, 4]\n",
    "}\n",
    "\n",
    "grid_search = GridSearchCV(rfc, param_grid, cv=5, scoring='accuracy', verbose=1)\n",
    "grid_search.fit(X_train, y_train)\n",
    "\n",
    "# Getting the best estimator/model\n",
    "best_rf = grid_search.best_estimator_\n",
    "\n",
    "# Making predictions on the test set using the best model\n",
    "y_pred = best_rf.predict(X_test)\n",
    "y_pred_proba = best_rf.predict_proba(X_test)[:,1]\n",
    "\n",
    "# Evaluating the best model\n",
    "print(\"ROC AUC Score:\", roc_auc_score(y_test, y_pred_proba))\n",
    "print(\"Log Loss:\", log_loss(y_test, y_pred_proba))\n",
    "print(\"Classification Report:\")\n",
    "print(classification_report(y_test, y_pred))\n",
    "print(\"Best Parameters:\", grid_search.best_params_)\n",
    "print(\"Best Score:\", grid_search.best_score_)"
   ]
  },
  {
   "cell_type": "markdown",
   "id": "746cccba-0b90-4620-80ed-a4b4743130cd",
   "metadata": {},
   "source": [
    "From working on Random Forest Classifier and modifying the parameters several times we learned a few things:\n",
    "* The performance metrics seems to be sensitive to small changes\n",
    "* With Overfitting, the more estimater the slightly better but it is making the model much more complex\n",
    "* When there is a higher min sample split we see the need for less estimators when it comes to best estimator\n"
   ]
  },
  {
   "cell_type": "markdown",
   "id": "bd31a6b4-7805-42c6-b09d-1613ad56ac30",
   "metadata": {},
   "source": [
    "We are going to try new methods of hyperparameter tune the grid serach instead this time in the next version of Random Forest Classifier. Also we are going to add max featues to see if that does make a difference as well which I doubt it does."
   ]
  },
  {
   "cell_type": "markdown",
   "id": "b805ea9e-6b6c-42cd-bd64-4ceecb2d0ed3",
   "metadata": {},
   "source": [
    "### Random Forest Classifier (v3)"
   ]
  },
  {
   "cell_type": "code",
   "execution_count": 69,
   "id": "6469a3b2-39e6-43d0-a23c-ce68723c5c10",
   "metadata": {},
   "outputs": [
    {
     "name": "stdout",
     "output_type": "stream",
     "text": [
      "Fitting 5 folds for each of 432 candidates, totalling 2160 fits\n",
      "Cross-Validation Method: KFold\n",
      "ROC AUC Score: 0.9509308702554481\n",
      "Log Loss: 0.3112478558125301\n",
      "Classification Report:\n",
      "               precision    recall  f1-score   support\n",
      "\n",
      "           0       0.85      0.94      0.89       164\n",
      "           1       0.93      0.83      0.88       169\n",
      "\n",
      "    accuracy                           0.89       333\n",
      "   macro avg       0.89      0.89      0.89       333\n",
      "weighted avg       0.89      0.89      0.89       333\n",
      "\n",
      "Best Parameters: {'max_depth': 10, 'max_features': 'auto', 'min_samples_leaf': 1, 'min_samples_split': 5, 'n_estimators': 100}\n",
      "==============================================\n",
      "\n",
      "Fitting 5 folds for each of 432 candidates, totalling 2160 fits\n",
      "Cross-Validation Method: StratifiedKFold\n",
      "ROC AUC Score: 0.9464930004329629\n",
      "Log Loss: 0.3226993670150462\n",
      "Classification Report:\n",
      "               precision    recall  f1-score   support\n",
      "\n",
      "           0       0.84      0.95      0.89       164\n",
      "           1       0.94      0.82      0.88       169\n",
      "\n",
      "    accuracy                           0.88       333\n",
      "   macro avg       0.89      0.88      0.88       333\n",
      "weighted avg       0.89      0.88      0.88       333\n",
      "\n",
      "Best Parameters: {'max_depth': 20, 'max_features': 'auto', 'min_samples_leaf': 1, 'min_samples_split': 15, 'n_estimators': 200}\n",
      "==============================================\n",
      "\n"
     ]
    }
   ],
   "source": [
    "param_grid = {\n",
    "    'n_estimators': [50,100, 200],\n",
    "    'max_depth': [10, 20, 30, None],\n",
    "    'min_samples_split': [ 5, 10, 15],\n",
    "    'min_samples_leaf': [1, 2, 5],\n",
    "    'max_features': ['auto', 'sqrt', 'log2', None]  # Added max_features\n",
    "}\n",
    "\n",
    "rf = RandomForestClassifier(random_state=42)\n",
    "\n",
    "# Here we're going to use both KFold and StratifiedKFold for demonstration, you can choose one based on your data.\n",
    "cv_methods = [KFold(n_splits=5, shuffle=True, random_state=42), \n",
    "              StratifiedKFold(n_splits=5, shuffle=True, random_state=42)]\n",
    "\n",
    "best_scores = {}\n",
    "best_params = {}\n",
    "\n",
    "for cv_method in cv_methods:\n",
    "    grid_search = GridSearchCV(rf, param_grid, cv=cv_method, scoring='accuracy', n_jobs=-1, verbose=1)\n",
    "    grid_search.fit(X_train, y_train)\n",
    "    \n",
    "    # Predict on test set\n",
    "    y_pred_proba = grid_search.best_estimator_.predict_proba(X_test)[:,1]\n",
    "    y_pred = grid_search.best_estimator_.predict(X_test)\n",
    "    \n",
    "    # Save results for current cv_method\n",
    "    method_name = str(cv_method).split(\"(\")[0]  # Extracting the name of the CV method for display purposes\n",
    "    best_scores[method_name] = roc_auc_score(y_test, y_pred_proba)\n",
    "    best_params[method_name] = grid_search.best_params_\n",
    "\n",
    "    # Print out metrics\n",
    "    print(f\"Cross-Validation Method: {method_name}\")\n",
    "    print(\"ROC AUC Score:\", roc_auc_score(y_test, y_pred_proba))\n",
    "    print(\"Log Loss:\", log_loss(y_test, y_pred_proba))\n",
    "    print(\"Classification Report:\\n\", classification_report(y_test, y_pred))\n",
    "    print(\"Best Parameters:\", grid_search.best_params_)\n",
    "    print(\"==============================================\\n\")\n"
   ]
  },
  {
   "cell_type": "markdown",
   "id": "cf5efd93-8a67-4603-9225-90dff2ffa153",
   "metadata": {},
   "source": [
    "Observations from the 2 Folding Types:\n",
    "* Both models have very close precision values with stratefied giving slightly better results\n",
    "* with ROC AUC Stratified also has slightly better results\n",
    "* Best hyperparameters are actually very different amongst the two suggesting the fold here will play the biggest role but nonetheless we need a better model"
   ]
  },
  {
   "cell_type": "markdown",
   "id": "42a7ff2b-573e-4f20-bc08-aa346d86921a",
   "metadata": {},
   "source": [
    "### Gradient Boosted Tree (v1)"
   ]
  },
  {
   "cell_type": "code",
   "execution_count": 70,
   "id": "b874e7e7-4a07-4575-a9b7-49a2f4c12d74",
   "metadata": {},
   "outputs": [
    {
     "name": "stdout",
     "output_type": "stream",
     "text": [
      "Fitting 5 folds for each of 324 candidates, totalling 1620 fits\n"
     ]
    },
    {
     "name": "stderr",
     "output_type": "stream",
     "text": [
      "/Users/zubeirsaid/opt/anaconda3/lib/python3.9/site-packages/xgboost/sklearn.py:1395: UserWarning: `use_label_encoder` is deprecated in 1.7.0.\n",
      "  warnings.warn(\"`use_label_encoder` is deprecated in 1.7.0.\")\n",
      "/Users/zubeirsaid/opt/anaconda3/lib/python3.9/site-packages/xgboost/sklearn.py:1395: UserWarning: `use_label_encoder` is deprecated in 1.7.0.\n",
      "  warnings.warn(\"`use_label_encoder` is deprecated in 1.7.0.\")\n"
     ]
    },
    {
     "name": "stdout",
     "output_type": "stream",
     "text": [
      "ROC AUC Score: 0.9579304372925386\n",
      "Log Loss: 0.2763725772734966\n",
      "Classification Report:\n",
      "              precision    recall  f1-score   support\n",
      "\n",
      "           0       0.86      0.92      0.89       164\n",
      "           1       0.92      0.85      0.88       169\n",
      "\n",
      "    accuracy                           0.89       333\n",
      "   macro avg       0.89      0.89      0.89       333\n",
      "weighted avg       0.89      0.89      0.89       333\n",
      "\n",
      "Best Parameters: {'colsample_bytree': 1, 'learning_rate': 0.05, 'max_depth': 3, 'n_estimators': 100, 'subsample': 0.8}\n"
     ]
    }
   ],
   "source": [
    "param_grid = {\n",
    "    'learning_rate': [ 0.05, 0.1,0.2],\n",
    "    'n_estimators': [25, 50, 100],\n",
    "    'max_depth': [3, 5, 7, 10],\n",
    "    'subsample': [0.8, 0.9, 1],\n",
    "    'colsample_bytree': [0.8, 0.9, 1]\n",
    "}\n",
    "\n",
    "xgbc = xgb.XGBClassifier(objective=\"binary:logistic\", eval_metric=\"logloss\", use_label_encoder=False)\n",
    "\n",
    "grid_search = GridSearchCV(xgbc, param_grid, scoring='roc_auc', cv=StratifiedKFold(n_splits=5), verbose=1, n_jobs=-1)\n",
    "grid_search.fit(X_train, y_train)\n",
    "\n",
    "# Predictions\n",
    "y_pred_proba = grid_search.best_estimator_.predict_proba(X_test)[:,1]\n",
    "y_pred = grid_search.best_estimator_.predict(X_test)\n",
    "\n",
    "# Evaluations\n",
    "print(\"ROC AUC Score:\", roc_auc_score(y_test, y_pred_proba))\n",
    "print(\"Log Loss:\", log_loss(y_test, y_pred_proba))\n",
    "print(\"Classification Report:\")\n",
    "print(classification_report(y_test, y_pred))\n",
    "print(\"Best Parameters:\", grid_search.best_params_)\n"
   ]
  },
  {
   "cell_type": "markdown",
   "id": "d5497bfa-86f3-44b4-97c0-160b1f5d91c3",
   "metadata": {},
   "source": [
    "##### Since this is our best peforming model and Im not sure whats better than XGB, I will do a feature analysis and try to work on improving this model. Ideally I need either precision or recall to be above 0.95"
   ]
  },
  {
   "cell_type": "markdown",
   "id": "0acb4730-9740-413e-81f7-3d490f8ae067",
   "metadata": {},
   "source": [
    "### Gradient Boosted Tree Feature Analysis"
   ]
  },
  {
   "cell_type": "code",
   "execution_count": 71,
   "id": "10c6640a-f2ec-4717-9155-5bd8566f6c8e",
   "metadata": {},
   "outputs": [
    {
     "data": {
      "image/png": "[encoded data removed]",
      "text/plain": [
       "<Figure size 1200x800 with 1 Axes>"
      ]
     },
     "metadata": {},
     "output_type": "display_data"
    }
   ],
   "source": [
    "# Using the best parameters obtained from the GridSearch\n",
    "model = xgb.XGBClassifier(\n",
    "    objective='binary:logistic',\n",
    "    colsample_bytree=0.8,\n",
    "    learning_rate=0.1,\n",
    "    max_depth=3,\n",
    "    n_estimators=50,\n",
    "    subsample=0.8\n",
    ")\n",
    "\n",
    "model.fit(X_train, y_train)\n",
    "\n",
    "# Get feature importances\n",
    "feature_importances = model.feature_importances_\n",
    "\n",
    "# Match importances with feature names\n",
    "features = list(X.columns)\n",
    "importances_with_names = sorted(list(zip(features, feature_importances)), key=lambda x: x[1], reverse=True)\n",
    "\n",
    "# Visualization\n",
    "plt.figure(figsize=(12, 8))\n",
    "plt.title(\"Feature Importances\")\n",
    "plt.barh([x[0] for x in importances_with_names], [x[1] for x in importances_with_names])\n",
    "plt.xlabel(\"Relative Importance\")\n",
    "plt.ylabel(\"Feature\")\n",
    "plt.gca().invert_yaxis()  # Highest importance at the top\n",
    "plt.show()"
   ]
  },
  {
   "cell_type": "code",
   "execution_count": 72,
   "id": "1abd27b8-7307-4c84-a477-d93333212a7f",
   "metadata": {},
   "outputs": [
    {
     "name": "stdout",
     "output_type": "stream",
     "text": [
      "Feature Importance Analysis:\n",
      "\n",
      "Feature: Ticker, Importance: 0.1750\n",
      "Feature: Q6_NetIncome, Importance: 0.0553\n",
      "Feature: Q8_NetIncome, Importance: 0.0484\n",
      "Feature: Month10_Volume, Importance: 0.0469\n",
      "Feature: Outstanding Shares, Importance: 0.0404\n",
      "Feature: Exchange, Importance: 0.0371\n",
      "Feature: Q4_NetIncome, Importance: 0.0364\n",
      "Feature: Month2_Volume, Importance: 0.0355\n",
      "Feature: Month11_Volume, Importance: 0.0334\n",
      "Feature: Month15_Volume, Importance: 0.0316\n",
      "Feature: Q5_NetIncome, Importance: 0.0315\n",
      "Feature: Month20_Volume, Importance: 0.0304\n",
      "Feature: Q3_NetIncome, Importance: 0.0286\n",
      "Feature: Month8_Volume, Importance: 0.0285\n",
      "Feature: Month19_Volume, Importance: 0.0250\n",
      "Feature: Month1_Volume, Importance: 0.0246\n",
      "Feature: Month14_Volume, Importance: 0.0244\n",
      "Feature: Market Cap, Importance: 0.0238\n",
      "Feature: Month7_Volume, Importance: 0.0217\n",
      "Feature: Month12_Volume, Importance: 0.0196\n",
      "Feature: Month5_Volume, Importance: 0.0186\n",
      "Feature: Month21_Volume, Importance: 0.0184\n",
      "Feature: Month6_Volume, Importance: 0.0183\n",
      "Feature: Month22_Volume, Importance: 0.0176\n",
      "Feature: Month13_Volume, Importance: 0.0172\n",
      "Feature: Month3_Volume, Importance: 0.0166\n",
      "Feature: Q2_NetIncome, Importance: 0.0163\n",
      "Feature: Month17_Volume, Importance: 0.0161\n",
      "Feature: Month18_Volume, Importance: 0.0155\n",
      "Feature: Q7_NetIncome, Importance: 0.0150\n",
      "Feature: Q1_NetIncome, Importance: 0.0137\n",
      "Feature: Month4_Volume, Importance: 0.0112\n",
      "Feature: Month16_Volume, Importance: 0.0075\n",
      "Feature: Month9_Volume, Importance: 0.0000\n",
      "Feature: Month23_Volume, Importance: 0.0000\n"
     ]
    }
   ],
   "source": [
    "print(\"Feature Importance Analysis:\\n\")\n",
    "for feature, importance in importances_with_names:\n",
    "    print(f\"Feature: {feature}, Importance: {importance:.4f}\")"
   ]
  },
  {
   "cell_type": "markdown",
   "id": "0cc05dd6-351d-4d45-81e2-a00ea7e21c5e",
   "metadata": {},
   "source": [
    "The biggest takeaway here is that:\n",
    "1. Ticker has wayyyyyyyy too big of a significance and needs to be dropped from the training set in fear of overfiting\n",
    "2. Market Cap should indefinitely be the single most important feature and the fact that its that low is concerning\n",
    "\n",
    "What I would like to do is run through all the above models with ticker dropped and think of some models that I could use where I can adjust the weighting of Market Cap but first one more GBT run"
   ]
  },
  {
   "cell_type": "markdown",
   "id": "51afe946-5a57-4987-9a28-dcdc5ae825bc",
   "metadata": {},
   "source": [
    "### Gradient Boosted Tree (v2)"
   ]
  },
  {
   "cell_type": "code",
   "execution_count": 81,
   "id": "bb372193-8902-4f22-9e65-a8c8af32fc04",
   "metadata": {},
   "outputs": [],
   "source": [
    "# Ensure you've defined your train/test split and the XGBClassifier\n",
    "from xgboost import XGBClassifier\n",
    "\n",
    "# Given the best parameters from before:\n",
    "best_params = {\n",
    "    'colsample_bytree': 1,\n",
    "    'learning_rate': 0.05,\n",
    "    'max_depth': 3,\n",
    "    'n_estimators': 100,\n",
    "    'subsample': 0.8,\n",
    "    'objective': 'binary:logistic'\n",
    "}\n",
    "\n",
    "xgbc = XGBClassifier(**best_params)\n",
    "xgbc.fit(X_train, y_train)\n",
    "\n",
    "# Now calibrate using CalibratedClassifierCV\n",
    "from sklearn.calibration import CalibratedClassifierCV\n",
    "\n",
    "calibrated_xgbc = CalibratedClassifierCV(xgbc, method='sigmoid', cv='prefit')\n",
    "calibrated_xgbc.fit(X_train, y_train)\n",
    "probs = calibrated_xgbc.predict_proba(X_test)"
   ]
  },
  {
   "cell_type": "code",
   "execution_count": 74,
   "id": "c67e3a76-da78-4b2d-8a50-1aa3c50f1bc7",
   "metadata": {},
   "outputs": [
    {
     "name": "stdout",
     "output_type": "stream",
     "text": [
      "              precision    recall  f1-score   support\n",
      "\n",
      "           0       0.86      0.91      0.88       164\n",
      "           1       0.91      0.85      0.88       169\n",
      "\n",
      "    accuracy                           0.88       333\n",
      "   macro avg       0.88      0.88      0.88       333\n",
      "weighted avg       0.88      0.88      0.88       333\n",
      "\n",
      "ROC AUC Score: 0.9592293260210707\n",
      "Log Loss: 0.31587142265355816\n"
     ]
    }
   ],
   "source": [
    "y_prob_calibrated = calibrated_xgbc.predict_proba(X_test)[:, 1]\n",
    "\n",
    "# Convert probabilities to class predictions (threshold = 0.5)\n",
    "y_pred_calibrated = (y_prob_calibrated > 0.5).astype(int)\n",
    "\n",
    "# Print the classification report\n",
    "print(classification_report(y_test, y_pred_calibrated))\n",
    "\n",
    "# Print the ROC AUC Score and Log Loss\n",
    "print(\"ROC AUC Score:\", roc_auc_score(y_test, y_prob_calibrated))\n",
    "print(\"Log Loss:\", log_loss(y_test, y_prob_calibrated))\n"
   ]
  },
  {
   "cell_type": "markdown",
   "id": "0a9f759c-0908-4b45-a2c3-5317a80934d3",
   "metadata": {},
   "source": [
    "### Market Cap Correlation"
   ]
  },
  {
   "cell_type": "code",
   "execution_count": 75,
   "id": "b2bb11df-4d0c-4659-b4f3-e04541cb64d1",
   "metadata": {},
   "outputs": [
    {
     "data": {
      "image/png": "[encoded data removed]",
      "text/plain": [
       "<Figure size 1000x2000 with 2 Axes>"
      ]
     },
     "metadata": {},
     "output_type": "display_data"
    },
    {
     "name": "stdout",
     "output_type": "stream",
     "text": [
      "Market Cap            1.000000\n",
      "Q8_NetIncome          0.837111\n",
      "Q7_NetIncome          0.803476\n",
      "Q6_NetIncome          0.792403\n",
      "Q1_NetIncome          0.766625\n",
      "Q2_NetIncome          0.739211\n",
      "Q4_NetIncome          0.728487\n",
      "Q3_NetIncome          0.707982\n",
      "Outstanding Shares    0.567888\n",
      "Month12_Volume        0.548311\n",
      "Month11_Volume        0.534104\n",
      "Month13_Volume        0.526783\n",
      "Month14_Volume        0.520541\n",
      "Month9_Volume         0.503001\n",
      "Month10_Volume        0.496529\n",
      "Month7_Volume         0.494572\n",
      "Month2_Volume         0.488447\n",
      "Month16_Volume        0.478207\n",
      "Month8_Volume         0.472224\n",
      "Q5_NetIncome          0.463730\n",
      "Month6_Volume         0.452604\n",
      "Month3_Volume         0.436734\n",
      "Month4_Volume         0.433595\n",
      "Month15_Volume        0.429327\n",
      "Month17_Volume        0.423484\n",
      "Month5_Volume         0.420551\n",
      "Month1_Volume         0.416619\n",
      "Month23_Volume        0.414082\n",
      "Month19_Volume        0.400729\n",
      "Month18_Volume        0.392453\n",
      "Month22_Volume        0.381745\n",
      "Month20_Volume        0.361180\n",
      "Month21_Volume        0.361145\n",
      "Month24_Volume        0.339057\n",
      "in_index              0.218427\n",
      "Underaged            -0.011652\n",
      "Oustanding Shares          NaN\n",
      "Name: Market Cap, dtype: float64\n"
     ]
    }
   ],
   "source": [
    "correlations = market.corr()\n",
    "market_cap_corr = correlations['Market Cap'].sort_values(ascending=False)\n",
    "\n",
    "plt.figure(figsize=(10, 20))\n",
    "sns.heatmap(pd.DataFrame(market_cap_corr), annot=True, cmap='coolwarm', vmin=-1, vmax=1)\n",
    "plt.title('Correlation with Market Cap')\n",
    "plt.show()\n",
    "\n",
    "print(market_cap_corr)\n"
   ]
  },
  {
   "cell_type": "markdown",
   "id": "bbe7f427-b35a-4944-bb76-48fc5c1077d3",
   "metadata": {},
   "source": [
    "##### As expected all the net income columns with exception to one have the highest correlation with market cap. SO does outsanding shares which makes the most sense as well. Given this then maybe the volume columns are the ones hurting us the most. I might have to enhance my feature set. But we will try Neural Networks first before doing so to see if the model can indirectly account for market cap weighting. "
   ]
  },
  {
   "cell_type": "markdown",
   "id": "6674d374-8db7-48b8-8a01-2fbbba8b023b",
   "metadata": {},
   "source": [
    "### Gradient Boosted Tree (v3) W/ Specialized Feature Set and Indirect Market Cap Heavy Weighting\n",
    "\n",
    "We are going to create interaction features with other highly correlated features and add a market cap duplicate as well. The theory here is it might overtrain but lets see how it does on the test set"
   ]
  },
  {
   "cell_type": "code",
   "execution_count": 82,
   "id": "f37e3cac-727f-4706-8661-7196dbe1b68e",
   "metadata": {},
   "outputs": [
    {
     "name": "stdout",
     "output_type": "stream",
     "text": [
      "              precision    recall  f1-score   support\n",
      "\n",
      "           0       0.85      0.95      0.90       147\n",
      "           1       0.94      0.85      0.89       156\n",
      "\n",
      "    accuracy                           0.89       303\n",
      "   macro avg       0.90      0.90      0.89       303\n",
      "weighted avg       0.90      0.89      0.89       303\n",
      "\n",
      "ROC AUC Score: 0.9646781789638932\n",
      "Log Loss: 0.25714818402055173\n"
     ]
    }
   ],
   "source": [
    "import pandas as pd\n",
    "import xgboost as xgb\n",
    "from sklearn.model_selection import train_test_split\n",
    "from sklearn.metrics import classification_report, roc_auc_score, log_loss\n",
    "\n",
    "# Creating interaction features with other highly correlated features\n",
    "market['MarketCap_Q2NetIncome'] = market['Market Cap'] * market['Q2_NetIncome']\n",
    "market['MarketCap_Q1NetIncome'] = market['Market Cap'] * market['Q1_NetIncome']\n",
    "# Add more interaction features as necessary...\n",
    "\n",
    "# Duplicating the Market Cap feature to give it more weight\n",
    "market['MarketCap_duplicate'] = market['Market Cap']\n",
    "\n",
    "# Splitting the data\n",
    "X_special = market.drop(['in_index', 'Ticker', 'Exchange'], axis=1)\n",
    "y_special = market['in_index']\n",
    "X_train_special, X_test_special, y_train_special, y_test_special = train_test_split(X_special, y_special, test_size=0.3, random_state=42)\n",
    "\n",
    "# Training the XGBoost model\n",
    "xgbc = xgb.XGBClassifier(colsample_bytree=1, learning_rate=0.05, max_depth=3, n_estimators=100, subsample=0.8)\n",
    "xgbc.fit(X_train_special, y_train_special)\n",
    "\n",
    "# Predictions and metrics\n",
    "y_pred_special = xgbc.predict(X_test_special)\n",
    "y_pred_proba_special = xgbc.predict_proba(X_test_special)[:, 1]\n",
    "\n",
    "print(classification_report(y_test_special, y_pred_special))\n",
    "print(\"ROC AUC Score:\", roc_auc_score(y_test_special, y_pred_proba_special))\n",
    "print(\"Log Loss:\", log_loss(y_test_special, y_pred_proba_special))\n",
    "\n",
    "# Drop the added columns from market\n",
    "market.drop(['MarketCap_Q2NetIncome', 'MarketCap_Q1NetIncome', 'MarketCap_duplicate'], axis=1, inplace=True)\n"
   ]
  },
  {
   "cell_type": "markdown",
   "id": "c435f939-5442-42fa-876a-7bfaf3896b44",
   "metadata": {},
   "source": [
    "The above is our best performance yet. What we learned is that when we skew the data with interaction features we do actually get the deseired results. Now is that a huge risk of overfitting, yes it is. But do we necessarily care? Given taht we know that the S&P 500 companies has 490 of the largest market cap companies in the entire stock market we should lean hevily towards that in our training. I would like to also try to skew the dataset towards more interaction features with the quaretely incomes."
   ]
  },
  {
   "cell_type": "markdown",
   "id": "4d36d09c-b55d-4e91-97e4-79b816611cb1",
   "metadata": {},
   "source": [
    "### Gradient Boosted Tree (v4) W/ Specialized Feature Set and Indirect Market Cap AND Income Heavy Weighting\n",
    "\n",
    "We are going to repeat the above except heavy weight the quareterly incomes as well to see if it will have as much of an effect on the accuracy and precision. Specifically with Q1-A4 income as the more recent the income the biggest influecne it will have."
   ]
  },
  {
   "cell_type": "code",
   "execution_count": 86,
   "id": "8c2ad4f7-928e-4456-b699-7b72bcc46316",
   "metadata": {},
   "outputs": [
    {
     "name": "stdout",
     "output_type": "stream",
     "text": [
      "              precision    recall  f1-score   support\n",
      "\n",
      "           0       0.88      0.95      0.91       147\n",
      "           1       0.95      0.87      0.91       156\n",
      "\n",
      "    accuracy                           0.91       303\n",
      "   macro avg       0.91      0.91      0.91       303\n",
      "weighted avg       0.91      0.91      0.91       303\n",
      "\n",
      "ROC AUC Score: 0.9698238269666841\n",
      "Log Loss: 0.24202615358919002\n"
     ]
    }
   ],
   "source": [
    "# Creating interaction features with other highly correlated features\n",
    "market['MarketCap_Q8NetIncome'] = market['Market Cap'] * market['Q8_NetIncome']\n",
    "market['MarketCap_Q7NetIncome'] = market['Market Cap'] * market['Q7_NetIncome']\n",
    "\n",
    "# Duplicating the Market Cap feature to give it more weight\n",
    "market['MarketCap_duplicate'] = market['Market Cap']\n",
    "\n",
    "# Duplicating the Q1, Q2, Q3, Q4 incomes to give them more weight\n",
    "quarters = ['Q1', 'Q2', 'Q3', 'Q4']\n",
    "for q in quarters:\n",
    "    col_name = f'{q}_NetIncome'\n",
    "    duplicate_col_name = f'{q}_NetIncome_duplicate'\n",
    "    market[duplicate_col_name] = market[col_name]\n",
    "\n",
    "# Splitting the data\n",
    "X_special = market.drop(['in_index', 'Ticker', 'Exchange'], axis=1)\n",
    "y_special = market['in_index']\n",
    "X_train_special, X_test_special, y_train_special, y_test_special = train_test_split(X_special, y_special, test_size=0.3, random_state=42)\n",
    "\n",
    "# Training the XGBoost model\n",
    "xgbc = xgb.XGBClassifier(colsample_bytree=0.8, learning_rate=0.1, max_depth=3, n_estimators=50, subsample=0.8)\n",
    "xgbc.fit(X_train_special, y_train_special)\n",
    "\n",
    "# Predictions and metrics\n",
    "y_pred_special = xgbc.predict(X_test_special)\n",
    "y_pred_proba_special = xgbc.predict_proba(X_test_special)[:, 1]\n",
    "\n",
    "print(classification_report(y_test_special, y_pred_special))\n",
    "print(\"ROC AUC Score:\", roc_auc_score(y_test_special, y_pred_proba_special))\n",
    "print(\"Log Loss:\", log_loss(y_test_special, y_pred_proba_special))\n",
    "\n",
    "# Drop the added columns from market\n",
    "columns_to_drop = ['MarketCap_Q8NetIncome', 'MarketCap_Q7NetIncome', 'MarketCap_duplicate']\n",
    "for q in quarters:\n",
    "    duplicate_col_name = f'{q}_NetIncome_duplicate'\n",
    "    columns_to_drop.append(duplicate_col_name)\n",
    "\n",
    "market.drop(columns_to_drop, axis=1, inplace=True)\n"
   ]
  },
  {
   "cell_type": "markdown",
   "id": "c2084d6c-d09f-4f91-b96e-d94db7a36930",
   "metadata": {},
   "source": [
    "As expected the accuract slightly improves 2 which is huge at this state. and precision increase 3%. So it turns out that we will have to heavy weight in the future to get the best results possible."
   ]
  },
  {
   "cell_type": "markdown",
   "id": "7cd021ee-814f-4456-bb54-7c797c07f7eb",
   "metadata": {},
   "source": [
    "## Neural Networks (v1)"
   ]
  },
  {
   "cell_type": "code",
   "execution_count": 93,
   "id": "dcc227e4-a400-4e92-9cf9-0487e79bb9d0",
   "metadata": {
    "collapsed": true,
    "jupyter": {
     "outputs_hidden": true
    },
    "tags": []
   },
   "outputs": [
    {
     "name": "stdout",
     "output_type": "stream",
     "text": [
      "Epoch 1/50\n",
      "22/22 [==============================] - 1s 11ms/step - loss: 0.6594 - accuracy: 0.5904 - val_loss: 0.6390 - val_accuracy: 0.6306\n",
      "Epoch 2/50\n",
      "22/22 [==============================] - 0s 4ms/step - loss: 0.6243 - accuracy: 0.6501 - val_loss: 0.5845 - val_accuracy: 0.6877\n",
      "Epoch 3/50\n",
      "22/22 [==============================] - 0s 4ms/step - loss: 0.5861 - accuracy: 0.6924 - val_loss: 0.5496 - val_accuracy: 0.7177\n",
      "Epoch 4/50\n",
      "22/22 [==============================] - 0s 5ms/step - loss: 0.5755 - accuracy: 0.7114 - val_loss: 0.5409 - val_accuracy: 0.7117\n",
      "Epoch 5/50\n",
      "22/22 [==============================] - 0s 5ms/step - loss: 0.5438 - accuracy: 0.7289 - val_loss: 0.5304 - val_accuracy: 0.7297\n",
      "Epoch 6/50\n",
      "22/22 [==============================] - 0s 4ms/step - loss: 0.5458 - accuracy: 0.7201 - val_loss: 0.5153 - val_accuracy: 0.7538\n",
      "Epoch 7/50\n",
      "22/22 [==============================] - 0s 5ms/step - loss: 0.5310 - accuracy: 0.7507 - val_loss: 0.5229 - val_accuracy: 0.7267\n",
      "Epoch 8/50\n",
      "22/22 [==============================] - 0s 4ms/step - loss: 0.5240 - accuracy: 0.7420 - val_loss: 0.5118 - val_accuracy: 0.7387\n",
      "Epoch 9/50\n",
      "22/22 [==============================] - 0s 5ms/step - loss: 0.5038 - accuracy: 0.7493 - val_loss: 0.5085 - val_accuracy: 0.7447\n",
      "Epoch 10/50\n",
      "22/22 [==============================] - 0s 5ms/step - loss: 0.4884 - accuracy: 0.7609 - val_loss: 0.4958 - val_accuracy: 0.7628\n",
      "Epoch 11/50\n",
      "22/22 [==============================] - 0s 4ms/step - loss: 0.4908 - accuracy: 0.7609 - val_loss: 0.4994 - val_accuracy: 0.7748\n",
      "Epoch 12/50\n",
      "22/22 [==============================] - 0s 5ms/step - loss: 0.4827 - accuracy: 0.7697 - val_loss: 0.5003 - val_accuracy: 0.7568\n",
      "Epoch 13/50\n",
      "22/22 [==============================] - 0s 5ms/step - loss: 0.4830 - accuracy: 0.7755 - val_loss: 0.4927 - val_accuracy: 0.7928\n",
      "Epoch 14/50\n",
      "22/22 [==============================] - 0s 5ms/step - loss: 0.4760 - accuracy: 0.7726 - val_loss: 0.4928 - val_accuracy: 0.7628\n",
      "Epoch 15/50\n",
      "22/22 [==============================] - 0s 4ms/step - loss: 0.4878 - accuracy: 0.7711 - val_loss: 0.4804 - val_accuracy: 0.7928\n",
      "Epoch 16/50\n",
      "22/22 [==============================] - 0s 4ms/step - loss: 0.4707 - accuracy: 0.7741 - val_loss: 0.4909 - val_accuracy: 0.7748\n",
      "Epoch 17/50\n",
      "22/22 [==============================] - 0s 5ms/step - loss: 0.4670 - accuracy: 0.7784 - val_loss: 0.4814 - val_accuracy: 0.8018\n",
      "Epoch 18/50\n",
      "22/22 [==============================] - 0s 4ms/step - loss: 0.4689 - accuracy: 0.7930 - val_loss: 0.4934 - val_accuracy: 0.7778\n",
      "Epoch 19/50\n",
      "22/22 [==============================] - 0s 4ms/step - loss: 0.4636 - accuracy: 0.7857 - val_loss: 0.4999 - val_accuracy: 0.7688\n",
      "Epoch 20/50\n",
      "22/22 [==============================] - 0s 4ms/step - loss: 0.4697 - accuracy: 0.7945 - val_loss: 0.4634 - val_accuracy: 0.7958\n",
      "Epoch 21/50\n",
      "22/22 [==============================] - 0s 4ms/step - loss: 0.4300 - accuracy: 0.8105 - val_loss: 0.4616 - val_accuracy: 0.7988\n",
      "Epoch 22/50\n",
      "22/22 [==============================] - 0s 4ms/step - loss: 0.4255 - accuracy: 0.8105 - val_loss: 0.4606 - val_accuracy: 0.7928\n",
      "Epoch 23/50\n",
      "22/22 [==============================] - 0s 4ms/step - loss: 0.4386 - accuracy: 0.8120 - val_loss: 0.4583 - val_accuracy: 0.7988\n",
      "Epoch 24/50\n",
      "22/22 [==============================] - 0s 4ms/step - loss: 0.4159 - accuracy: 0.8178 - val_loss: 0.4502 - val_accuracy: 0.8078\n",
      "Epoch 25/50\n",
      "22/22 [==============================] - 0s 4ms/step - loss: 0.4365 - accuracy: 0.8003 - val_loss: 0.4460 - val_accuracy: 0.8078\n",
      "Epoch 26/50\n",
      "22/22 [==============================] - 0s 8ms/step - loss: 0.4080 - accuracy: 0.8411 - val_loss: 0.4629 - val_accuracy: 0.8018\n",
      "Epoch 27/50\n",
      "22/22 [==============================] - 0s 4ms/step - loss: 0.4111 - accuracy: 0.8251 - val_loss: 0.4477 - val_accuracy: 0.8108\n",
      "Epoch 28/50\n",
      "22/22 [==============================] - 0s 4ms/step - loss: 0.4110 - accuracy: 0.8251 - val_loss: 0.4626 - val_accuracy: 0.7928\n",
      "Epoch 29/50\n",
      "22/22 [==============================] - 0s 4ms/step - loss: 0.4101 - accuracy: 0.8251 - val_loss: 0.4491 - val_accuracy: 0.8078\n",
      "Epoch 30/50\n",
      "22/22 [==============================] - 0s 4ms/step - loss: 0.4146 - accuracy: 0.8032 - val_loss: 0.4448 - val_accuracy: 0.8198\n",
      "Epoch 31/50\n",
      "22/22 [==============================] - 0s 5ms/step - loss: 0.3832 - accuracy: 0.8397 - val_loss: 0.4438 - val_accuracy: 0.8108\n",
      "Epoch 32/50\n",
      "22/22 [==============================] - 0s 6ms/step - loss: 0.3993 - accuracy: 0.8382 - val_loss: 0.4347 - val_accuracy: 0.8228\n",
      "Epoch 33/50\n",
      "22/22 [==============================] - 0s 8ms/step - loss: 0.4055 - accuracy: 0.8163 - val_loss: 0.4322 - val_accuracy: 0.8288\n",
      "Epoch 34/50\n",
      "22/22 [==============================] - 0s 5ms/step - loss: 0.3775 - accuracy: 0.8338 - val_loss: 0.4353 - val_accuracy: 0.8288\n",
      "Epoch 35/50\n",
      "22/22 [==============================] - 0s 4ms/step - loss: 0.3871 - accuracy: 0.8324 - val_loss: 0.4478 - val_accuracy: 0.8138\n",
      "Epoch 36/50\n",
      "22/22 [==============================] - 0s 4ms/step - loss: 0.3906 - accuracy: 0.8222 - val_loss: 0.4478 - val_accuracy: 0.8258\n",
      "Epoch 37/50\n",
      "22/22 [==============================] - 0s 4ms/step - loss: 0.3800 - accuracy: 0.8367 - val_loss: 0.4467 - val_accuracy: 0.8138\n",
      "Epoch 38/50\n",
      "22/22 [==============================] - 0s 3ms/step - loss: 0.3574 - accuracy: 0.8499 - val_loss: 0.4426 - val_accuracy: 0.8318\n",
      "Epoch 39/50\n",
      "22/22 [==============================] - 0s 4ms/step - loss: 0.3657 - accuracy: 0.8324 - val_loss: 0.4388 - val_accuracy: 0.8288\n",
      "Epoch 40/50\n",
      "22/22 [==============================] - 0s 3ms/step - loss: 0.3807 - accuracy: 0.8324 - val_loss: 0.4417 - val_accuracy: 0.8228\n",
      "Epoch 41/50\n",
      "22/22 [==============================] - 0s 4ms/step - loss: 0.3602 - accuracy: 0.8382 - val_loss: 0.4355 - val_accuracy: 0.8348\n",
      "Epoch 42/50\n",
      "22/22 [==============================] - 0s 4ms/step - loss: 0.3600 - accuracy: 0.8440 - val_loss: 0.4383 - val_accuracy: 0.8318\n",
      "Epoch 43/50\n",
      "22/22 [==============================] - 0s 4ms/step - loss: 0.3743 - accuracy: 0.8426 - val_loss: 0.4378 - val_accuracy: 0.8258\n",
      "Epoch 44/50\n",
      "22/22 [==============================] - 0s 3ms/step - loss: 0.3761 - accuracy: 0.8338 - val_loss: 0.4490 - val_accuracy: 0.8108\n",
      "Epoch 45/50\n",
      "22/22 [==============================] - 0s 3ms/step - loss: 0.3581 - accuracy: 0.8469 - val_loss: 0.4507 - val_accuracy: 0.8138\n",
      "Epoch 46/50\n",
      "22/22 [==============================] - 0s 3ms/step - loss: 0.3579 - accuracy: 0.8397 - val_loss: 0.4574 - val_accuracy: 0.8138\n",
      "Epoch 47/50\n",
      "22/22 [==============================] - 0s 3ms/step - loss: 0.3403 - accuracy: 0.8542 - val_loss: 0.4259 - val_accuracy: 0.8348\n",
      "Epoch 48/50\n",
      "22/22 [==============================] - 0s 3ms/step - loss: 0.3275 - accuracy: 0.8586 - val_loss: 0.4299 - val_accuracy: 0.8288\n",
      "Epoch 49/50\n",
      "22/22 [==============================] - 0s 3ms/step - loss: 0.3497 - accuracy: 0.8586 - val_loss: 0.4328 - val_accuracy: 0.8228\n",
      "Epoch 50/50\n",
      "22/22 [==============================] - 0s 3ms/step - loss: 0.3466 - accuracy: 0.8557 - val_loss: 0.4349 - val_accuracy: 0.8228\n",
      "11/11 [==============================] - 0s 1ms/step - loss: 0.4349 - accuracy: 0.8228\n",
      "\n",
      "Test accuracy: 0.8228228092193604\n",
      "22/22 [==============================] - 0s 1ms/step - loss: 0.2958 - accuracy: 0.8717\n",
      "\n",
      "Train accuracy: 0.8717201352119446\n"
     ]
    }
   ],
   "source": [
    "# Define the model\n",
    "model = keras.Sequential([\n",
    "    keras.layers.Dense(128, activation='relu', input_shape=(X_train.shape[1],)),  # First hidden layer\n",
    "    keras.layers.Dropout(0.5),  # Dropout layer to prevent overfitting\n",
    "    keras.layers.Dense(64, activation='relu'),  # Second hidden layer\n",
    "    keras.layers.Dropout(0.5),  # Another dropout layer\n",
    "    keras.layers.Dense(1, activation='sigmoid')  # Output layer for binary classification\n",
    "])\n",
    "\n",
    "# Compile the model\n",
    "model.compile(optimizer='adam',\n",
    "              loss='binary_crossentropy',\n",
    "              metrics=['accuracy'])\n",
    "\n",
    "# Train the model\n",
    "history = model.fit(\n",
    "    X_train, y_train,\n",
    "    epochs=50, \n",
    "    batch_size=32,\n",
    "    validation_data=(X_test, y_test)\n",
    ")\n",
    "\n",
    "# Evaluate the model\n",
    "test_loss, test_acc = model.evaluate(X_test, y_test)\n",
    "print(\"\\nTest accuracy:\", test_acc)\n",
    "test_loss, train_acc = model.evaluate(X_train, y_train)\n",
    "print(\"\\nTrain accuracy:\", train_acc)"
   ]
  },
  {
   "cell_type": "markdown",
   "id": "c7c54cd2-a32c-41dc-b13f-6c404370ec65",
   "metadata": {},
   "source": [
    "Not the best score to start off with neural networks but luckily there is a lot we can attempt to do with this model to improve it"
   ]
  },
  {
   "cell_type": "markdown",
   "id": "8912b3d6-16d4-4cef-9c5a-3c42c0eae8dd",
   "metadata": {},
   "source": [
    "##### Evaluating Over/Underfitting: Graphing Loss Curves"
   ]
  },
  {
   "cell_type": "code",
   "execution_count": 91,
   "id": "2bf1b3b4-01ff-4e67-bdf8-5bcdd684d0fa",
   "metadata": {},
   "outputs": [
    {
     "data": {
      "image/png": "[encoded data removed]",
      "text/plain": [
       "<Figure size 1200x600 with 1 Axes>"
      ]
     },
     "metadata": {},
     "output_type": "display_data"
    }
   ],
   "source": [
    "plt.figure(figsize=(12, 6))\n",
    "plt.plot(history.history['loss'], label='Training Loss')\n",
    "plt.plot(history.history['val_loss'], label='Validation Loss')\n",
    "plt.title('Training and Validation Loss Across Epochs')\n",
    "plt.xlabel('Epoch')\n",
    "plt.ylabel('Loss')\n",
    "plt.legend()\n",
    "plt.show()"
   ]
  },
  {
   "cell_type": "markdown",
   "id": "11fc5856-7190-41be-8c69-4323f6f5a0b6",
   "metadata": {},
   "source": [
    "Takeaways:\n",
    "* The training loss continues to decrease almost reaching 0.35 indicating the mdoel is fitting better to the train data with each epoch\n",
    "* The valdiation decreases as well about around 10-15 epochs it smoothesn out at 0.45\n",
    "\n",
    "Given this graph we will need to implement early stopping, increase dropout, potential reduce layers, regularize, and use fewer epochs"
   ]
  },
  {
   "cell_type": "markdown",
   "id": "e2ba6f1b-b97b-48f7-a0bf-c342a01eb388",
   "metadata": {},
   "source": [
    "## Neural Networks (v2)\n",
    "\n",
    "Implemented the following:\n",
    "* early stopping\n",
    "* increased dropout\n",
    "* regularization"
   ]
  },
  {
   "cell_type": "code",
   "execution_count": 111,
   "id": "f99cb347-ac9c-4769-9b40-380b3543bb10",
   "metadata": {
    "collapsed": true,
    "jupyter": {
     "outputs_hidden": true
    },
    "tags": []
   },
   "outputs": [
    {
     "name": "stdout",
     "output_type": "stream",
     "text": [
      "Model: \"sequential_11\"\n",
      "_________________________________________________________________\n",
      " Layer (type)                Output Shape              Param #   \n",
      "=================================================================\n",
      " dense_32 (Dense)            (None, 128)               4608      \n",
      "                                                                 \n",
      " dense_33 (Dense)            (None, 64)                8256      \n",
      "                                                                 \n",
      " dropout_20 (Dropout)        (None, 64)                0         \n",
      "                                                                 \n",
      " dense_34 (Dense)            (None, 32)                2080      \n",
      "                                                                 \n",
      " dropout_21 (Dropout)        (None, 32)                0         \n",
      "                                                                 \n",
      " dense_35 (Dense)            (None, 1)                 33        \n",
      "                                                                 \n",
      "=================================================================\n",
      "Total params: 14977 (58.50 KB)\n",
      "Trainable params: 14977 (58.50 KB)\n",
      "Non-trainable params: 0 (0.00 Byte)\n",
      "_________________________________________________________________\n",
      "Epoch 1/100\n",
      "22/22 [==============================] - 1s 11ms/step - loss: 0.7982 - accuracy: 0.6108 - val_loss: 0.7523 - val_accuracy: 0.6817\n",
      "Epoch 2/100\n",
      "22/22 [==============================] - 0s 5ms/step - loss: 0.7120 - accuracy: 0.6968 - val_loss: 0.6797 - val_accuracy: 0.7297\n",
      "Epoch 3/100\n",
      "22/22 [==============================] - 0s 5ms/step - loss: 0.6695 - accuracy: 0.7420 - val_loss: 0.6437 - val_accuracy: 0.7658\n",
      "Epoch 4/100\n",
      "22/22 [==============================] - 0s 6ms/step - loss: 0.6397 - accuracy: 0.7449 - val_loss: 0.6166 - val_accuracy: 0.7568\n",
      "Epoch 5/100\n",
      "22/22 [==============================] - 0s 4ms/step - loss: 0.6088 - accuracy: 0.7668 - val_loss: 0.6037 - val_accuracy: 0.7508\n",
      "Epoch 6/100\n",
      "22/22 [==============================] - 0s 4ms/step - loss: 0.5816 - accuracy: 0.7799 - val_loss: 0.6009 - val_accuracy: 0.7628\n",
      "Epoch 7/100\n",
      "22/22 [==============================] - 0s 4ms/step - loss: 0.5647 - accuracy: 0.7843 - val_loss: 0.5703 - val_accuracy: 0.7688\n",
      "Epoch 8/100\n",
      "22/22 [==============================] - 0s 4ms/step - loss: 0.5646 - accuracy: 0.7959 - val_loss: 0.5669 - val_accuracy: 0.7898\n",
      "Epoch 9/100\n",
      "22/22 [==============================] - 0s 6ms/step - loss: 0.5484 - accuracy: 0.7901 - val_loss: 0.5787 - val_accuracy: 0.7688\n",
      "Epoch 10/100\n",
      "22/22 [==============================] - 0s 5ms/step - loss: 0.5345 - accuracy: 0.7930 - val_loss: 0.5731 - val_accuracy: 0.7688\n",
      "Epoch 11/100\n",
      "22/22 [==============================] - 0s 5ms/step - loss: 0.5101 - accuracy: 0.8061 - val_loss: 0.5654 - val_accuracy: 0.7718\n",
      "Epoch 12/100\n",
      "22/22 [==============================] - 0s 5ms/step - loss: 0.4983 - accuracy: 0.8192 - val_loss: 0.5426 - val_accuracy: 0.8108\n",
      "Epoch 13/100\n",
      "22/22 [==============================] - 0s 5ms/step - loss: 0.4701 - accuracy: 0.8280 - val_loss: 0.5465 - val_accuracy: 0.7928\n",
      "Epoch 14/100\n",
      "22/22 [==============================] - 0s 5ms/step - loss: 0.4800 - accuracy: 0.8309 - val_loss: 0.5319 - val_accuracy: 0.8018\n",
      "Epoch 15/100\n",
      "22/22 [==============================] - 0s 5ms/step - loss: 0.4763 - accuracy: 0.8411 - val_loss: 0.5455 - val_accuracy: 0.7898\n",
      "Epoch 16/100\n",
      "22/22 [==============================] - 0s 4ms/step - loss: 0.4345 - accuracy: 0.8528 - val_loss: 0.5710 - val_accuracy: 0.7838\n",
      "Epoch 17/100\n",
      "22/22 [==============================] - 0s 5ms/step - loss: 0.4243 - accuracy: 0.8542 - val_loss: 0.5170 - val_accuracy: 0.8168\n",
      "Epoch 18/100\n",
      "22/22 [==============================] - 0s 5ms/step - loss: 0.4143 - accuracy: 0.8586 - val_loss: 0.5164 - val_accuracy: 0.8228\n",
      "Epoch 19/100\n",
      "22/22 [==============================] - 0s 5ms/step - loss: 0.4047 - accuracy: 0.8703 - val_loss: 0.5142 - val_accuracy: 0.8258\n",
      "Epoch 20/100\n",
      "22/22 [==============================] - 0s 5ms/step - loss: 0.4106 - accuracy: 0.8571 - val_loss: 0.5387 - val_accuracy: 0.8018\n",
      "Epoch 21/100\n",
      "22/22 [==============================] - 0s 5ms/step - loss: 0.3836 - accuracy: 0.8717 - val_loss: 0.5336 - val_accuracy: 0.8108\n",
      "Epoch 22/100\n",
      "22/22 [==============================] - 0s 5ms/step - loss: 0.3979 - accuracy: 0.8644 - val_loss: 0.5539 - val_accuracy: 0.8018\n",
      "Epoch 23/100\n",
      "22/22 [==============================] - 0s 5ms/step - loss: 0.4013 - accuracy: 0.8688 - val_loss: 0.5829 - val_accuracy: 0.7928\n",
      "Epoch 24/100\n",
      "22/22 [==============================] - 0s 4ms/step - loss: 0.3894 - accuracy: 0.8644 - val_loss: 0.5369 - val_accuracy: 0.8108\n",
      "Epoch 25/100\n",
      "22/22 [==============================] - 0s 4ms/step - loss: 0.4101 - accuracy: 0.8746 - val_loss: 0.5202 - val_accuracy: 0.8168\n",
      "Epoch 26/100\n",
      "22/22 [==============================] - 0s 8ms/step - loss: 0.3951 - accuracy: 0.8571 - val_loss: 0.5092 - val_accuracy: 0.8228\n",
      "Epoch 27/100\n",
      "22/22 [==============================] - 0s 5ms/step - loss: 0.3614 - accuracy: 0.8834 - val_loss: 0.5082 - val_accuracy: 0.8258\n",
      "Epoch 28/100\n",
      "22/22 [==============================] - 0s 5ms/step - loss: 0.3558 - accuracy: 0.8878 - val_loss: 0.5201 - val_accuracy: 0.8138\n",
      "Epoch 29/100\n",
      "22/22 [==============================] - 0s 5ms/step - loss: 0.3570 - accuracy: 0.8921 - val_loss: 0.5301 - val_accuracy: 0.8138\n",
      "Epoch 30/100\n",
      "22/22 [==============================] - 0s 5ms/step - loss: 0.3453 - accuracy: 0.8761 - val_loss: 0.5224 - val_accuracy: 0.8258\n",
      "Epoch 31/100\n",
      "22/22 [==============================] - 0s 5ms/step - loss: 0.3531 - accuracy: 0.8863 - val_loss: 0.6030 - val_accuracy: 0.7928\n",
      "Epoch 32/100\n",
      "22/22 [==============================] - 0s 5ms/step - loss: 0.3819 - accuracy: 0.8630 - val_loss: 0.5292 - val_accuracy: 0.8348\n",
      "Epoch 33/100\n",
      "22/22 [==============================] - 0s 5ms/step - loss: 0.3745 - accuracy: 0.8703 - val_loss: 0.5032 - val_accuracy: 0.8288\n",
      "Epoch 34/100\n",
      "22/22 [==============================] - 0s 5ms/step - loss: 0.3327 - accuracy: 0.8965 - val_loss: 0.5012 - val_accuracy: 0.8288\n",
      "Epoch 35/100\n",
      "22/22 [==============================] - 0s 5ms/step - loss: 0.3188 - accuracy: 0.8936 - val_loss: 0.5063 - val_accuracy: 0.8258\n",
      "Epoch 36/100\n",
      "22/22 [==============================] - 0s 5ms/step - loss: 0.3143 - accuracy: 0.8921 - val_loss: 0.5288 - val_accuracy: 0.8258\n",
      "Epoch 37/100\n",
      "22/22 [==============================] - 0s 5ms/step - loss: 0.3455 - accuracy: 0.8878 - val_loss: 0.5564 - val_accuracy: 0.8258\n",
      "Epoch 38/100\n",
      "22/22 [==============================] - 0s 4ms/step - loss: 0.3511 - accuracy: 0.8805 - val_loss: 0.5274 - val_accuracy: 0.8258\n",
      "Epoch 39/100\n",
      "22/22 [==============================] - 0s 4ms/step - loss: 0.3205 - accuracy: 0.9009 - val_loss: 0.5546 - val_accuracy: 0.8138\n",
      "Epoch 40/100\n",
      "22/22 [==============================] - 0s 3ms/step - loss: 0.3438 - accuracy: 0.8980 - val_loss: 0.5332 - val_accuracy: 0.8498\n",
      "Epoch 41/100\n",
      "22/22 [==============================] - 0s 4ms/step - loss: 0.3190 - accuracy: 0.8848 - val_loss: 0.5351 - val_accuracy: 0.8348\n",
      "Epoch 42/100\n",
      "22/22 [==============================] - 0s 5ms/step - loss: 0.3050 - accuracy: 0.9067 - val_loss: 0.5098 - val_accuracy: 0.8378\n",
      "Epoch 43/100\n",
      "22/22 [==============================] - 0s 5ms/step - loss: 0.2884 - accuracy: 0.9052 - val_loss: 0.5404 - val_accuracy: 0.8288\n",
      "Epoch 44/100\n",
      "22/22 [==============================] - 0s 5ms/step - loss: 0.2875 - accuracy: 0.9169 - val_loss: 0.5314 - val_accuracy: 0.8378\n"
     ]
    }
   ],
   "source": [
    "# Initialize the neural network\n",
    "model = Sequential()\n",
    "\n",
    "# Input layer with 36 features as input_dim\n",
    "model.add(Dense(128, input_dim=35, activation='relu'))\n",
    "\n",
    "# Hidden layer with L1 regularization and reduced dropout\n",
    "model.add(Dense(64, activation='relu', kernel_regularizer=l2(0.001)))\n",
    "model.add(Dropout(0.2))\n",
    "\n",
    "model.add(Dense(32, activation='relu', kernel_regularizer=l2(0.001)))\n",
    "model.add(Dropout(0.2))\n",
    "\n",
    "# Output layer for binary classification\n",
    "model.add(Dense(1, activation='sigmoid'))\n",
    "\n",
    "# Compile the model\n",
    "model.compile(optimizer='adam', loss='binary_crossentropy', metrics=['accuracy'])\n",
    "\n",
    "# Display the model's architecture\n",
    "model.summary()\n",
    "\n",
    "# Set up early stopping\n",
    "early_stopping = EarlyStopping(monitor='val_loss', patience=10, restore_best_weights=True)\n",
    "\n",
    "# Train the model\n",
    "history = model.fit(X_train, y_train, validation_data=(X_test, y_test), epochs=100, batch_size=32, callbacks=[early_stopping])\n"
   ]
  },
  {
   "cell_type": "markdown",
   "id": "e2873626-45d2-4933-aea9-ba87811c17e6",
   "metadata": {},
   "source": [
    "With this neural network we actually actually matches our accuracy that we were able to get in our Gradient Boost data that used the interaction features for heavy weighting. I think its probably worth  playing around with this a bit more."
   ]
  },
  {
   "cell_type": "markdown",
   "id": "742d32a2-d796-433e-9eaf-450283f0c80b",
   "metadata": {},
   "source": [
    "## Neural Networks (v3)\n",
    "Implemented\n",
    "- No dropout\n",
    "- Different L2 Strengths"
   ]
  },
  {
   "cell_type": "code",
   "execution_count": 115,
   "id": "13c7f451-beb6-4fc2-87da-ca15abd2c921",
   "metadata": {
    "collapsed": true,
    "jupyter": {
     "outputs_hidden": true
    },
    "tags": []
   },
   "outputs": [
    {
     "name": "stdout",
     "output_type": "stream",
     "text": [
      "Epoch 1/100\n",
      "22/22 [==============================] - 1s 11ms/step - loss: 16.6102 - accuracy: 0.5845 - val_loss: 13.8594 - val_accuracy: 0.6517\n",
      "Epoch 2/100\n",
      "22/22 [==============================] - 0s 4ms/step - loss: 11.8656 - accuracy: 0.6589 - val_loss: 9.8251 - val_accuracy: 0.6336\n",
      "Epoch 3/100\n",
      "22/22 [==============================] - 0s 4ms/step - loss: 8.3932 - accuracy: 0.6574 - val_loss: 6.9423 - val_accuracy: 0.6426\n",
      "Epoch 4/100\n",
      "22/22 [==============================] - 0s 4ms/step - loss: 5.9373 - accuracy: 0.6501 - val_loss: 4.9223 - val_accuracy: 0.6396\n",
      "Epoch 5/100\n",
      "22/22 [==============================] - 0s 7ms/step - loss: 4.2246 - accuracy: 0.6531 - val_loss: 3.5243 - val_accuracy: 0.6306\n",
      "Epoch 6/100\n",
      "22/22 [==============================] - 0s 6ms/step - loss: 3.0456 - accuracy: 0.6560 - val_loss: 2.5681 - val_accuracy: 0.6336\n",
      "Epoch 7/100\n",
      "22/22 [==============================] - 0s 5ms/step - loss: 2.2444 - accuracy: 0.6385 - val_loss: 1.9240 - val_accuracy: 0.6216\n",
      "Epoch 8/100\n",
      "22/22 [==============================] - 0s 4ms/step - loss: 1.7061 - accuracy: 0.6254 - val_loss: 1.4939 - val_accuracy: 0.6186\n",
      "Epoch 9/100\n",
      "22/22 [==============================] - 0s 4ms/step - loss: 1.3495 - accuracy: 0.6327 - val_loss: 1.2102 - val_accuracy: 0.6216\n",
      "Epoch 10/100\n",
      "22/22 [==============================] - 0s 4ms/step - loss: 1.1155 - accuracy: 0.6414 - val_loss: 1.0250 - val_accuracy: 0.6336\n",
      "Epoch 11/100\n",
      "22/22 [==============================] - 0s 5ms/step - loss: 0.9635 - accuracy: 0.6297 - val_loss: 0.9056 - val_accuracy: 0.6066\n",
      "Epoch 12/100\n",
      "22/22 [==============================] - 0s 4ms/step - loss: 0.8661 - accuracy: 0.5569 - val_loss: 0.8288 - val_accuracy: 0.5285\n",
      "Epoch 13/100\n",
      "22/22 [==============================] - 0s 4ms/step - loss: 0.8032 - accuracy: 0.5816 - val_loss: 0.7795 - val_accuracy: 0.5495\n",
      "Epoch 14/100\n",
      "22/22 [==============================] - 0s 5ms/step - loss: 0.7634 - accuracy: 0.5262 - val_loss: 0.7481 - val_accuracy: 0.6847\n",
      "Epoch 15/100\n",
      "22/22 [==============================] - 0s 4ms/step - loss: 0.7376 - accuracy: 0.5773 - val_loss: 0.7278 - val_accuracy: 0.5435\n",
      "Epoch 16/100\n",
      "22/22 [==============================] - 0s 5ms/step - loss: 0.7212 - accuracy: 0.5583 - val_loss: 0.7148 - val_accuracy: 0.6006\n",
      "Epoch 17/100\n",
      "22/22 [==============================] - 0s 4ms/step - loss: 0.7109 - accuracy: 0.5306 - val_loss: 0.7064 - val_accuracy: 0.5075\n",
      "Epoch 18/100\n",
      "22/22 [==============================] - 0s 4ms/step - loss: 0.7044 - accuracy: 0.4796 - val_loss: 0.7013 - val_accuracy: 0.4925\n",
      "Epoch 19/100\n",
      "22/22 [==============================] - 0s 4ms/step - loss: 0.6998 - accuracy: 0.5000 - val_loss: 0.6982 - val_accuracy: 0.4925\n",
      "Epoch 20/100\n",
      "22/22 [==============================] - 0s 4ms/step - loss: 0.6973 - accuracy: 0.5000 - val_loss: 0.6960 - val_accuracy: 0.5075\n",
      "Epoch 21/100\n",
      "22/22 [==============================] - 0s 4ms/step - loss: 0.6957 - accuracy: 0.5000 - val_loss: 0.6948 - val_accuracy: 0.5075\n",
      "Epoch 22/100\n",
      "22/22 [==============================] - 0s 4ms/step - loss: 0.6946 - accuracy: 0.4650 - val_loss: 0.6941 - val_accuracy: 0.5075\n",
      "Epoch 23/100\n",
      "22/22 [==============================] - 0s 4ms/step - loss: 0.6943 - accuracy: 0.4738 - val_loss: 0.6938 - val_accuracy: 0.4925\n",
      "Epoch 24/100\n",
      "22/22 [==============================] - 0s 4ms/step - loss: 0.6938 - accuracy: 0.5000 - val_loss: 0.6936 - val_accuracy: 0.4925\n",
      "Epoch 25/100\n",
      "22/22 [==============================] - 0s 4ms/step - loss: 0.6938 - accuracy: 0.5000 - val_loss: 0.6935 - val_accuracy: 0.4925\n",
      "Epoch 26/100\n",
      "22/22 [==============================] - 0s 4ms/step - loss: 0.6935 - accuracy: 0.4621 - val_loss: 0.6932 - val_accuracy: 0.5075\n",
      "Epoch 27/100\n",
      "22/22 [==============================] - 0s 4ms/step - loss: 0.6933 - accuracy: 0.4913 - val_loss: 0.6933 - val_accuracy: 0.4925\n",
      "Epoch 28/100\n",
      "22/22 [==============================] - 0s 4ms/step - loss: 0.6934 - accuracy: 0.4971 - val_loss: 0.6931 - val_accuracy: 0.5075\n",
      "Epoch 29/100\n",
      "22/22 [==============================] - 0s 4ms/step - loss: 0.6934 - accuracy: 0.5000 - val_loss: 0.6931 - val_accuracy: 0.5075\n",
      "Epoch 30/100\n",
      "22/22 [==============================] - 0s 4ms/step - loss: 0.6935 - accuracy: 0.4825 - val_loss: 0.6932 - val_accuracy: 0.4925\n",
      "Epoch 31/100\n",
      "22/22 [==============================] - 0s 4ms/step - loss: 0.6932 - accuracy: 0.4854 - val_loss: 0.6931 - val_accuracy: 0.5075\n",
      "Epoch 32/100\n",
      "22/22 [==============================] - 0s 4ms/step - loss: 0.6933 - accuracy: 0.5000 - val_loss: 0.6931 - val_accuracy: 0.5075\n",
      "Epoch 33/100\n",
      "22/22 [==============================] - 0s 4ms/step - loss: 0.6933 - accuracy: 0.4854 - val_loss: 0.6932 - val_accuracy: 0.4925\n",
      "Epoch 34/100\n",
      "22/22 [==============================] - 0s 4ms/step - loss: 0.6934 - accuracy: 0.5000 - val_loss: 0.6932 - val_accuracy: 0.4925\n",
      "Epoch 35/100\n",
      "22/22 [==============================] - 0s 4ms/step - loss: 0.6934 - accuracy: 0.4796 - val_loss: 0.6931 - val_accuracy: 0.5075\n",
      "Epoch 36/100\n",
      "22/22 [==============================] - 0s 4ms/step - loss: 0.6933 - accuracy: 0.4971 - val_loss: 0.6933 - val_accuracy: 0.4925\n",
      "Epoch 37/100\n",
      "22/22 [==============================] - 0s 4ms/step - loss: 0.6936 - accuracy: 0.4825 - val_loss: 0.6931 - val_accuracy: 0.5075\n",
      "Epoch 38/100\n",
      "22/22 [==============================] - 0s 4ms/step - loss: 0.6932 - accuracy: 0.5000 - val_loss: 0.6931 - val_accuracy: 0.5075\n",
      "Epoch 39/100\n",
      "22/22 [==============================] - 0s 4ms/step - loss: 0.6933 - accuracy: 0.5000 - val_loss: 0.6931 - val_accuracy: 0.5075\n",
      "Epoch 40/100\n",
      "22/22 [==============================] - 0s 4ms/step - loss: 0.6934 - accuracy: 0.4679 - val_loss: 0.6932 - val_accuracy: 0.4925\n",
      "Epoch 41/100\n",
      "22/22 [==============================] - 0s 3ms/step - loss: 0.6933 - accuracy: 0.5000 - val_loss: 0.6932 - val_accuracy: 0.4925\n",
      "Epoch 42/100\n",
      "22/22 [==============================] - 0s 4ms/step - loss: 0.6931 - accuracy: 0.5087 - val_loss: 0.6931 - val_accuracy: 0.5075\n",
      "Epoch 1/100\n",
      "22/22 [==============================] - 1s 9ms/step - loss: 2.3020 - accuracy: 0.6429 - val_loss: 2.0693 - val_accuracy: 0.6967\n",
      "Epoch 2/100\n",
      "22/22 [==============================] - 0s 3ms/step - loss: 1.8759 - accuracy: 0.7172 - val_loss: 1.6943 - val_accuracy: 0.7207\n",
      "Epoch 3/100\n",
      "22/22 [==============================] - 0s 4ms/step - loss: 1.5441 - accuracy: 0.7434 - val_loss: 1.4103 - val_accuracy: 0.7177\n",
      "Epoch 4/100\n",
      "22/22 [==============================] - 0s 4ms/step - loss: 1.2889 - accuracy: 0.7434 - val_loss: 1.1898 - val_accuracy: 0.7357\n",
      "Epoch 5/100\n",
      "22/22 [==============================] - 0s 4ms/step - loss: 1.1087 - accuracy: 0.7580 - val_loss: 1.0380 - val_accuracy: 0.7357\n",
      "Epoch 6/100\n",
      "22/22 [==============================] - 0s 6ms/step - loss: 0.9653 - accuracy: 0.7770 - val_loss: 0.9273 - val_accuracy: 0.7477\n",
      "Epoch 7/100\n",
      "22/22 [==============================] - 0s 3ms/step - loss: 0.8659 - accuracy: 0.7770 - val_loss: 0.8380 - val_accuracy: 0.7598\n",
      "Epoch 8/100\n",
      "22/22 [==============================] - 0s 3ms/step - loss: 0.7865 - accuracy: 0.7813 - val_loss: 0.7717 - val_accuracy: 0.7748\n",
      "Epoch 9/100\n",
      "22/22 [==============================] - 0s 3ms/step - loss: 0.7252 - accuracy: 0.7945 - val_loss: 0.7306 - val_accuracy: 0.7748\n",
      "Epoch 10/100\n",
      "22/22 [==============================] - 0s 3ms/step - loss: 0.6798 - accuracy: 0.7974 - val_loss: 0.6971 - val_accuracy: 0.7748\n",
      "Epoch 11/100\n",
      "22/22 [==============================] - 0s 4ms/step - loss: 0.6497 - accuracy: 0.7886 - val_loss: 0.6590 - val_accuracy: 0.7838\n",
      "Epoch 12/100\n",
      "22/22 [==============================] - 0s 4ms/step - loss: 0.6130 - accuracy: 0.8032 - val_loss: 0.6408 - val_accuracy: 0.7958\n",
      "Epoch 13/100\n",
      "22/22 [==============================] - 0s 4ms/step - loss: 0.5974 - accuracy: 0.8149 - val_loss: 0.6181 - val_accuracy: 0.7958\n",
      "Epoch 14/100\n",
      "22/22 [==============================] - 0s 3ms/step - loss: 0.5732 - accuracy: 0.8134 - val_loss: 0.6154 - val_accuracy: 0.7748\n",
      "Epoch 15/100\n",
      "22/22 [==============================] - 0s 4ms/step - loss: 0.5723 - accuracy: 0.8090 - val_loss: 0.5996 - val_accuracy: 0.7838\n",
      "Epoch 16/100\n",
      "22/22 [==============================] - 0s 4ms/step - loss: 0.5669 - accuracy: 0.8149 - val_loss: 0.5771 - val_accuracy: 0.7958\n",
      "Epoch 17/100\n",
      "22/22 [==============================] - 0s 4ms/step - loss: 0.5371 - accuracy: 0.8192 - val_loss: 0.5836 - val_accuracy: 0.8198\n",
      "Epoch 18/100\n",
      "22/22 [==============================] - 0s 4ms/step - loss: 0.5303 - accuracy: 0.8280 - val_loss: 0.5608 - val_accuracy: 0.8048\n",
      "Epoch 19/100\n",
      "22/22 [==============================] - 0s 4ms/step - loss: 0.5225 - accuracy: 0.8222 - val_loss: 0.6022 - val_accuracy: 0.7598\n",
      "Epoch 20/100\n",
      "22/22 [==============================] - 0s 4ms/step - loss: 0.5182 - accuracy: 0.8236 - val_loss: 0.5604 - val_accuracy: 0.7958\n",
      "Epoch 21/100\n",
      "22/22 [==============================] - 0s 4ms/step - loss: 0.5101 - accuracy: 0.8338 - val_loss: 0.5459 - val_accuracy: 0.7988\n",
      "Epoch 22/100\n",
      "22/22 [==============================] - 0s 4ms/step - loss: 0.5046 - accuracy: 0.8294 - val_loss: 0.5423 - val_accuracy: 0.8018\n",
      "Epoch 23/100\n",
      "22/22 [==============================] - 0s 4ms/step - loss: 0.4935 - accuracy: 0.8367 - val_loss: 0.5869 - val_accuracy: 0.7628\n",
      "Epoch 24/100\n",
      "22/22 [==============================] - 0s 4ms/step - loss: 0.4934 - accuracy: 0.8469 - val_loss: 0.5413 - val_accuracy: 0.7898\n",
      "Epoch 25/100\n",
      "22/22 [==============================] - 0s 4ms/step - loss: 0.4866 - accuracy: 0.8367 - val_loss: 0.5300 - val_accuracy: 0.8018\n",
      "Epoch 26/100\n",
      "22/22 [==============================] - 0s 4ms/step - loss: 0.4829 - accuracy: 0.8469 - val_loss: 0.5312 - val_accuracy: 0.8048\n",
      "Epoch 27/100\n",
      "22/22 [==============================] - 0s 4ms/step - loss: 0.4864 - accuracy: 0.8309 - val_loss: 0.5377 - val_accuracy: 0.7898\n",
      "Epoch 28/100\n",
      "22/22 [==============================] - 0s 4ms/step - loss: 0.4708 - accuracy: 0.8469 - val_loss: 0.5304 - val_accuracy: 0.8258\n",
      "Epoch 29/100\n",
      "22/22 [==============================] - 0s 4ms/step - loss: 0.4804 - accuracy: 0.8426 - val_loss: 0.5450 - val_accuracy: 0.7838\n",
      "Epoch 30/100\n",
      "22/22 [==============================] - 0s 4ms/step - loss: 0.4787 - accuracy: 0.8367 - val_loss: 0.5206 - val_accuracy: 0.7988\n",
      "Epoch 31/100\n",
      "22/22 [==============================] - 0s 4ms/step - loss: 0.4713 - accuracy: 0.8542 - val_loss: 0.5340 - val_accuracy: 0.7808\n",
      "Epoch 32/100\n",
      "22/22 [==============================] - 0s 4ms/step - loss: 0.4685 - accuracy: 0.8513 - val_loss: 0.5178 - val_accuracy: 0.8018\n",
      "Epoch 33/100\n",
      "22/22 [==============================] - 0s 4ms/step - loss: 0.4584 - accuracy: 0.8528 - val_loss: 0.5516 - val_accuracy: 0.7838\n",
      "Epoch 34/100\n",
      "22/22 [==============================] - 0s 4ms/step - loss: 0.4759 - accuracy: 0.8309 - val_loss: 0.5655 - val_accuracy: 0.7838\n",
      "Epoch 35/100\n",
      "22/22 [==============================] - 0s 4ms/step - loss: 0.4599 - accuracy: 0.8440 - val_loss: 0.5178 - val_accuracy: 0.8048\n",
      "Epoch 36/100\n",
      "22/22 [==============================] - 0s 4ms/step - loss: 0.4526 - accuracy: 0.8586 - val_loss: 0.5110 - val_accuracy: 0.8078\n",
      "Epoch 37/100\n",
      "22/22 [==============================] - 0s 4ms/step - loss: 0.4614 - accuracy: 0.8455 - val_loss: 0.5558 - val_accuracy: 0.7778\n",
      "Epoch 38/100\n",
      "22/22 [==============================] - 0s 4ms/step - loss: 0.4540 - accuracy: 0.8499 - val_loss: 0.5063 - val_accuracy: 0.8078\n",
      "Epoch 39/100\n",
      "22/22 [==============================] - 0s 5ms/step - loss: 0.4588 - accuracy: 0.8571 - val_loss: 0.5133 - val_accuracy: 0.8108\n",
      "Epoch 40/100\n",
      "22/22 [==============================] - 0s 4ms/step - loss: 0.4532 - accuracy: 0.8513 - val_loss: 0.5084 - val_accuracy: 0.8078\n",
      "Epoch 41/100\n",
      "22/22 [==============================] - 0s 4ms/step - loss: 0.4482 - accuracy: 0.8542 - val_loss: 0.5079 - val_accuracy: 0.8138\n",
      "Epoch 42/100\n",
      "22/22 [==============================] - 0s 4ms/step - loss: 0.4434 - accuracy: 0.8571 - val_loss: 0.5097 - val_accuracy: 0.8108\n",
      "Epoch 43/100\n",
      "22/22 [==============================] - 0s 4ms/step - loss: 0.4438 - accuracy: 0.8630 - val_loss: 0.5038 - val_accuracy: 0.8138\n",
      "Epoch 44/100\n",
      "22/22 [==============================] - 0s 4ms/step - loss: 0.4493 - accuracy: 0.8586 - val_loss: 0.5058 - val_accuracy: 0.8078\n",
      "Epoch 45/100\n",
      "22/22 [==============================] - 0s 4ms/step - loss: 0.4407 - accuracy: 0.8601 - val_loss: 0.5141 - val_accuracy: 0.8108\n",
      "Epoch 46/100\n",
      "22/22 [==============================] - 0s 4ms/step - loss: 0.4561 - accuracy: 0.8542 - val_loss: 0.5386 - val_accuracy: 0.7808\n",
      "Epoch 47/100\n",
      "22/22 [==============================] - 0s 4ms/step - loss: 0.4506 - accuracy: 0.8469 - val_loss: 0.4996 - val_accuracy: 0.8168\n",
      "Epoch 48/100\n",
      "22/22 [==============================] - 0s 4ms/step - loss: 0.4495 - accuracy: 0.8513 - val_loss: 0.5234 - val_accuracy: 0.7838\n",
      "Epoch 49/100\n",
      "22/22 [==============================] - 0s 4ms/step - loss: 0.4494 - accuracy: 0.8542 - val_loss: 0.5204 - val_accuracy: 0.8258\n",
      "Epoch 50/100\n",
      "22/22 [==============================] - 0s 4ms/step - loss: 0.4341 - accuracy: 0.8659 - val_loss: 0.4993 - val_accuracy: 0.8138\n",
      "Epoch 51/100\n",
      "22/22 [==============================] - 0s 4ms/step - loss: 0.4400 - accuracy: 0.8528 - val_loss: 0.4987 - val_accuracy: 0.8228\n",
      "Epoch 52/100\n",
      "22/22 [==============================] - 0s 9ms/step - loss: 0.4361 - accuracy: 0.8630 - val_loss: 0.5630 - val_accuracy: 0.7778\n",
      "Epoch 53/100\n",
      "22/22 [==============================] - 0s 5ms/step - loss: 0.4380 - accuracy: 0.8586 - val_loss: 0.4976 - val_accuracy: 0.8198\n",
      "Epoch 54/100\n",
      "22/22 [==============================] - 0s 4ms/step - loss: 0.4284 - accuracy: 0.8659 - val_loss: 0.5161 - val_accuracy: 0.8018\n",
      "Epoch 55/100\n",
      "22/22 [==============================] - 0s 4ms/step - loss: 0.4300 - accuracy: 0.8615 - val_loss: 0.5034 - val_accuracy: 0.8258\n",
      "Epoch 56/100\n",
      "22/22 [==============================] - 0s 4ms/step - loss: 0.4303 - accuracy: 0.8703 - val_loss: 0.4974 - val_accuracy: 0.8198\n",
      "Epoch 57/100\n",
      "22/22 [==============================] - 0s 4ms/step - loss: 0.4267 - accuracy: 0.8746 - val_loss: 0.4961 - val_accuracy: 0.8198\n",
      "Epoch 58/100\n",
      "22/22 [==============================] - 0s 5ms/step - loss: 0.4236 - accuracy: 0.8659 - val_loss: 0.4976 - val_accuracy: 0.8198\n",
      "Epoch 59/100\n",
      "22/22 [==============================] - 0s 4ms/step - loss: 0.4388 - accuracy: 0.8630 - val_loss: 0.5150 - val_accuracy: 0.8048\n",
      "Epoch 60/100\n",
      "22/22 [==============================] - 0s 4ms/step - loss: 0.4498 - accuracy: 0.8484 - val_loss: 0.4979 - val_accuracy: 0.8138\n",
      "Epoch 61/100\n",
      "22/22 [==============================] - 0s 5ms/step - loss: 0.4420 - accuracy: 0.8499 - val_loss: 0.5010 - val_accuracy: 0.8108\n",
      "Epoch 62/100\n",
      "22/22 [==============================] - 0s 4ms/step - loss: 0.4277 - accuracy: 0.8644 - val_loss: 0.5057 - val_accuracy: 0.8048\n",
      "Epoch 63/100\n",
      "22/22 [==============================] - 0s 4ms/step - loss: 0.4347 - accuracy: 0.8571 - val_loss: 0.5008 - val_accuracy: 0.8318\n",
      "Epoch 64/100\n",
      "22/22 [==============================] - 0s 5ms/step - loss: 0.4717 - accuracy: 0.8484 - val_loss: 0.5170 - val_accuracy: 0.8198\n",
      "Epoch 65/100\n",
      "22/22 [==============================] - 0s 5ms/step - loss: 0.4528 - accuracy: 0.8324 - val_loss: 0.5061 - val_accuracy: 0.8108\n",
      "Epoch 66/100\n",
      "22/22 [==============================] - 0s 5ms/step - loss: 0.4461 - accuracy: 0.8528 - val_loss: 0.5539 - val_accuracy: 0.7778\n",
      "Epoch 67/100\n",
      "22/22 [==============================] - 0s 5ms/step - loss: 0.4540 - accuracy: 0.8382 - val_loss: 0.5437 - val_accuracy: 0.7808\n",
      "Epoch 1/100\n",
      "22/22 [==============================] - 1s 11ms/step - loss: 0.8369 - accuracy: 0.5889 - val_loss: 0.7806 - val_accuracy: 0.6787\n",
      "Epoch 2/100\n",
      "22/22 [==============================] - 0s 5ms/step - loss: 0.7389 - accuracy: 0.7172 - val_loss: 0.7037 - val_accuracy: 0.7447\n",
      "Epoch 3/100\n",
      "22/22 [==============================] - 0s 5ms/step - loss: 0.6757 - accuracy: 0.7536 - val_loss: 0.6644 - val_accuracy: 0.7477\n",
      "Epoch 4/100\n",
      "22/22 [==============================] - 0s 5ms/step - loss: 0.6427 - accuracy: 0.7668 - val_loss: 0.6423 - val_accuracy: 0.7838\n",
      "Epoch 5/100\n",
      "22/22 [==============================] - 0s 5ms/step - loss: 0.6165 - accuracy: 0.7711 - val_loss: 0.6337 - val_accuracy: 0.7808\n",
      "Epoch 6/100\n",
      "22/22 [==============================] - 0s 8ms/step - loss: 0.5925 - accuracy: 0.7813 - val_loss: 0.6248 - val_accuracy: 0.7778\n",
      "Epoch 7/100\n",
      "22/22 [==============================] - 0s 5ms/step - loss: 0.5736 - accuracy: 0.7959 - val_loss: 0.6181 - val_accuracy: 0.7928\n",
      "Epoch 8/100\n",
      "22/22 [==============================] - 0s 5ms/step - loss: 0.5615 - accuracy: 0.8003 - val_loss: 0.5903 - val_accuracy: 0.7898\n",
      "Epoch 9/100\n",
      "22/22 [==============================] - 0s 3ms/step - loss: 0.5299 - accuracy: 0.8163 - val_loss: 0.5778 - val_accuracy: 0.8138\n",
      "Epoch 10/100\n",
      "22/22 [==============================] - 0s 3ms/step - loss: 0.5342 - accuracy: 0.8105 - val_loss: 0.6198 - val_accuracy: 0.7718\n",
      "Epoch 11/100\n",
      "22/22 [==============================] - 0s 4ms/step - loss: 0.5223 - accuracy: 0.8309 - val_loss: 0.5556 - val_accuracy: 0.8108\n",
      "Epoch 12/100\n",
      "22/22 [==============================] - 0s 3ms/step - loss: 0.4869 - accuracy: 0.8367 - val_loss: 0.5575 - val_accuracy: 0.8048\n",
      "Epoch 13/100\n",
      "22/22 [==============================] - 0s 4ms/step - loss: 0.4803 - accuracy: 0.8484 - val_loss: 0.5894 - val_accuracy: 0.7778\n",
      "Epoch 14/100\n",
      "22/22 [==============================] - 0s 3ms/step - loss: 0.4655 - accuracy: 0.8440 - val_loss: 0.5429 - val_accuracy: 0.8168\n",
      "Epoch 15/100\n",
      "22/22 [==============================] - 0s 3ms/step - loss: 0.4583 - accuracy: 0.8469 - val_loss: 0.5632 - val_accuracy: 0.8168\n",
      "Epoch 16/100\n",
      "22/22 [==============================] - 0s 4ms/step - loss: 0.5155 - accuracy: 0.8076 - val_loss: 0.5364 - val_accuracy: 0.8228\n",
      "Epoch 17/100\n",
      "22/22 [==============================] - 0s 3ms/step - loss: 0.4935 - accuracy: 0.8382 - val_loss: 0.6015 - val_accuracy: 0.7688\n",
      "Epoch 18/100\n",
      "22/22 [==============================] - 0s 3ms/step - loss: 0.4555 - accuracy: 0.8542 - val_loss: 0.5364 - val_accuracy: 0.8318\n",
      "Epoch 19/100\n",
      "22/22 [==============================] - 0s 3ms/step - loss: 0.4324 - accuracy: 0.8732 - val_loss: 0.5717 - val_accuracy: 0.7898\n",
      "Epoch 20/100\n",
      "22/22 [==============================] - 0s 3ms/step - loss: 0.4272 - accuracy: 0.8542 - val_loss: 0.5321 - val_accuracy: 0.8468\n",
      "Epoch 21/100\n",
      "22/22 [==============================] - 0s 3ms/step - loss: 0.4181 - accuracy: 0.8746 - val_loss: 0.5583 - val_accuracy: 0.8048\n",
      "Epoch 22/100\n",
      "22/22 [==============================] - 0s 3ms/step - loss: 0.4067 - accuracy: 0.8819 - val_loss: 0.6342 - val_accuracy: 0.7808\n",
      "Epoch 23/100\n",
      "22/22 [==============================] - 0s 6ms/step - loss: 0.4840 - accuracy: 0.8469 - val_loss: 0.5655 - val_accuracy: 0.8108\n",
      "Epoch 24/100\n",
      "22/22 [==============================] - 0s 4ms/step - loss: 0.4160 - accuracy: 0.8717 - val_loss: 0.5412 - val_accuracy: 0.8228\n",
      "Epoch 25/100\n",
      "22/22 [==============================] - 0s 4ms/step - loss: 0.3958 - accuracy: 0.8819 - val_loss: 0.5260 - val_accuracy: 0.8438\n",
      "Epoch 26/100\n",
      "22/22 [==============================] - 0s 3ms/step - loss: 0.3878 - accuracy: 0.8776 - val_loss: 0.5324 - val_accuracy: 0.8378\n",
      "Epoch 27/100\n",
      "22/22 [==============================] - 0s 4ms/step - loss: 0.3896 - accuracy: 0.8746 - val_loss: 0.5782 - val_accuracy: 0.8408\n",
      "Epoch 28/100\n",
      "22/22 [==============================] - 0s 4ms/step - loss: 0.3985 - accuracy: 0.8819 - val_loss: 0.5499 - val_accuracy: 0.8318\n",
      "Epoch 29/100\n",
      "22/22 [==============================] - 0s 4ms/step - loss: 0.3670 - accuracy: 0.8980 - val_loss: 0.5489 - val_accuracy: 0.8498\n",
      "Epoch 30/100\n",
      "22/22 [==============================] - 0s 4ms/step - loss: 0.3744 - accuracy: 0.8892 - val_loss: 0.5466 - val_accuracy: 0.8348\n",
      "Epoch 31/100\n",
      "22/22 [==============================] - 0s 4ms/step - loss: 0.3609 - accuracy: 0.9038 - val_loss: 0.5329 - val_accuracy: 0.8559\n",
      "Epoch 32/100\n",
      "22/22 [==============================] - 0s 4ms/step - loss: 0.3478 - accuracy: 0.9023 - val_loss: 0.5485 - val_accuracy: 0.8318\n",
      "Epoch 33/100\n",
      "22/22 [==============================] - 0s 3ms/step - loss: 0.3443 - accuracy: 0.9038 - val_loss: 0.5893 - val_accuracy: 0.8288\n",
      "Epoch 34/100\n",
      "22/22 [==============================] - 0s 3ms/step - loss: 0.3385 - accuracy: 0.9009 - val_loss: 0.5357 - val_accuracy: 0.8619\n",
      "Epoch 35/100\n",
      "22/22 [==============================] - 0s 4ms/step - loss: 0.3322 - accuracy: 0.9140 - val_loss: 0.5595 - val_accuracy: 0.8559\n",
      "Epoch 1/100\n",
      "22/22 [==============================] - 1s 9ms/step - loss: 0.6668 - accuracy: 0.5889 - val_loss: 0.6235 - val_accuracy: 0.6667\n",
      "Epoch 2/100\n",
      "22/22 [==============================] - 0s 4ms/step - loss: 0.5837 - accuracy: 0.7201 - val_loss: 0.5579 - val_accuracy: 0.7327\n",
      "Epoch 3/100\n",
      "22/22 [==============================] - 0s 8ms/step - loss: 0.5359 - accuracy: 0.7522 - val_loss: 0.5421 - val_accuracy: 0.7357\n",
      "Epoch 4/100\n",
      "22/22 [==============================] - 0s 4ms/step - loss: 0.5099 - accuracy: 0.7507 - val_loss: 0.5218 - val_accuracy: 0.7477\n",
      "Epoch 5/100\n",
      "22/22 [==============================] - 0s 4ms/step - loss: 0.4788 - accuracy: 0.7770 - val_loss: 0.5093 - val_accuracy: 0.7838\n",
      "Epoch 6/100\n",
      "22/22 [==============================] - 0s 5ms/step - loss: 0.4758 - accuracy: 0.7741 - val_loss: 0.4936 - val_accuracy: 0.7898\n",
      "Epoch 7/100\n",
      "22/22 [==============================] - 0s 4ms/step - loss: 0.4482 - accuracy: 0.7959 - val_loss: 0.4850 - val_accuracy: 0.7778\n",
      "Epoch 8/100\n",
      "22/22 [==============================] - 0s 4ms/step - loss: 0.4295 - accuracy: 0.8149 - val_loss: 0.4988 - val_accuracy: 0.7688\n",
      "Epoch 9/100\n",
      "22/22 [==============================] - 0s 4ms/step - loss: 0.4178 - accuracy: 0.8105 - val_loss: 0.4593 - val_accuracy: 0.7928\n",
      "Epoch 10/100\n",
      "22/22 [==============================] - 0s 4ms/step - loss: 0.3974 - accuracy: 0.8251 - val_loss: 0.4448 - val_accuracy: 0.8018\n",
      "Epoch 11/100\n",
      "22/22 [==============================] - 0s 4ms/step - loss: 0.3811 - accuracy: 0.8367 - val_loss: 0.4367 - val_accuracy: 0.8078\n",
      "Epoch 12/100\n",
      "22/22 [==============================] - 0s 4ms/step - loss: 0.3795 - accuracy: 0.8426 - val_loss: 0.4574 - val_accuracy: 0.8138\n",
      "Epoch 13/100\n",
      "22/22 [==============================] - 0s 4ms/step - loss: 0.4360 - accuracy: 0.8163 - val_loss: 0.4826 - val_accuracy: 0.8138\n",
      "Epoch 14/100\n",
      "22/22 [==============================] - 0s 4ms/step - loss: 0.3805 - accuracy: 0.8513 - val_loss: 0.4376 - val_accuracy: 0.8228\n",
      "Epoch 15/100\n",
      "22/22 [==============================] - 0s 4ms/step - loss: 0.3469 - accuracy: 0.8615 - val_loss: 0.4258 - val_accuracy: 0.8228\n",
      "Epoch 16/100\n",
      "22/22 [==============================] - 0s 4ms/step - loss: 0.3418 - accuracy: 0.8615 - val_loss: 0.4638 - val_accuracy: 0.8018\n",
      "Epoch 17/100\n",
      "22/22 [==============================] - 0s 4ms/step - loss: 0.3244 - accuracy: 0.8673 - val_loss: 0.5076 - val_accuracy: 0.7808\n",
      "Epoch 18/100\n",
      "22/22 [==============================] - 0s 4ms/step - loss: 0.3313 - accuracy: 0.8746 - val_loss: 0.4569 - val_accuracy: 0.8378\n",
      "Epoch 19/100\n",
      "22/22 [==============================] - 0s 4ms/step - loss: 0.3253 - accuracy: 0.8746 - val_loss: 0.4180 - val_accuracy: 0.8258\n",
      "Epoch 20/100\n",
      "22/22 [==============================] - 0s 4ms/step - loss: 0.3069 - accuracy: 0.8790 - val_loss: 0.4222 - val_accuracy: 0.8318\n",
      "Epoch 21/100\n",
      "22/22 [==============================] - 0s 5ms/step - loss: 0.2860 - accuracy: 0.8980 - val_loss: 0.4159 - val_accuracy: 0.8348\n",
      "Epoch 22/100\n",
      "22/22 [==============================] - 0s 5ms/step - loss: 0.2765 - accuracy: 0.9067 - val_loss: 0.4191 - val_accuracy: 0.8468\n",
      "Epoch 23/100\n",
      "22/22 [==============================] - 0s 4ms/step - loss: 0.2865 - accuracy: 0.8994 - val_loss: 0.4435 - val_accuracy: 0.8318\n",
      "Epoch 24/100\n",
      "22/22 [==============================] - 0s 5ms/step - loss: 0.2852 - accuracy: 0.8848 - val_loss: 0.4147 - val_accuracy: 0.8318\n",
      "Epoch 25/100\n",
      "22/22 [==============================] - 0s 5ms/step - loss: 0.2631 - accuracy: 0.9023 - val_loss: 0.4413 - val_accuracy: 0.8498\n",
      "Epoch 26/100\n",
      "22/22 [==============================] - 0s 5ms/step - loss: 0.2607 - accuracy: 0.9038 - val_loss: 0.4337 - val_accuracy: 0.8378\n",
      "Epoch 27/100\n",
      "22/22 [==============================] - 0s 5ms/step - loss: 0.2499 - accuracy: 0.9023 - val_loss: 0.4278 - val_accuracy: 0.8408\n",
      "Epoch 28/100\n",
      "22/22 [==============================] - 0s 5ms/step - loss: 0.2448 - accuracy: 0.9140 - val_loss: 0.4275 - val_accuracy: 0.8468\n",
      "Epoch 29/100\n",
      "22/22 [==============================] - 0s 4ms/step - loss: 0.2403 - accuracy: 0.9169 - val_loss: 0.4392 - val_accuracy: 0.8408\n",
      "Epoch 30/100\n",
      "22/22 [==============================] - 0s 5ms/step - loss: 0.2345 - accuracy: 0.9227 - val_loss: 0.4264 - val_accuracy: 0.8438\n",
      "Epoch 31/100\n",
      "22/22 [==============================] - 0s 5ms/step - loss: 0.2281 - accuracy: 0.9082 - val_loss: 0.4416 - val_accuracy: 0.8438\n",
      "Epoch 32/100\n",
      "22/22 [==============================] - 0s 4ms/step - loss: 0.2457 - accuracy: 0.9184 - val_loss: 0.5382 - val_accuracy: 0.7868\n",
      "Epoch 33/100\n",
      "22/22 [==============================] - 0s 5ms/step - loss: 0.3019 - accuracy: 0.8776 - val_loss: 0.4568 - val_accuracy: 0.8408\n",
      "Epoch 34/100\n",
      "22/22 [==============================] - 0s 5ms/step - loss: 0.2351 - accuracy: 0.9140 - val_loss: 0.4326 - val_accuracy: 0.8529\n"
     ]
    },
    {
     "data": {
      "image/png": "[encoded data removed]",
      "text/plain": [
       "<Figure size 1200x500 with 2 Axes>"
      ]
     },
     "metadata": {},
     "output_type": "display_data"
    }
   ],
   "source": [
    "import matplotlib.pyplot as plt\n",
    "from keras.layers import Dense\n",
    "from keras.models import Sequential\n",
    "from keras.regularizers import l2\n",
    "from keras.callbacks import EarlyStopping\n",
    "\n",
    "# Assuming you have X_train, y_train, X_test, y_test defined somewhere above\n",
    "early_stopping = EarlyStopping(monitor='val_loss', patience=10, restore_best_weights=True)\n",
    "\n",
    "l2_values = [1e-1, 1e-2, 1e-3, 1e-4]\n",
    "\n",
    "# To store validation accuracy and loss for each L2 value\n",
    "val_accuracies = []\n",
    "val_losses = []\n",
    "\n",
    "for l2_strength in l2_values:\n",
    "    model = Sequential()\n",
    "    model.add(Dense(128, activation='relu', input_dim=35, kernel_regularizer=l2(l2_strength)))\n",
    "    model.add(Dense(64, activation='relu', kernel_regularizer=l2(l2_strength)))\n",
    "    model.add(Dense(32, activation='relu', kernel_regularizer=l2(l2_strength)))\n",
    "    model.add(Dense(1, activation='sigmoid'))\n",
    "    \n",
    "    model.compile(optimizer='adam', loss='binary_crossentropy', metrics=['accuracy'])\n",
    "    history = model.fit(X_train, y_train, validation_data=(X_test, y_test), epochs=100, batch_size=32, callbacks=[early_stopping])\n",
    "    \n",
    "    # Store the final validation accuracy and loss\n",
    "    val_accuracies.append(history.history['val_accuracy'][-1])\n",
    "    val_losses.append(history.history['val_loss'][-1])\n",
    "\n",
    "# Visualizing the validation accuracy and loss for each L2 value\n",
    "plt.figure(figsize=(12, 5))\n",
    "\n",
    "# Plotting validation accuracy\n",
    "plt.subplot(1, 2, 1)\n",
    "plt.plot(l2_values, val_accuracies, marker='o', label='Validation Accuracy')\n",
    "plt.xscale('log')\n",
    "plt.xlabel('L2 Strength')\n",
    "plt.ylabel('Validation Accuracy')\n",
    "plt.title('Validation Accuracy vs. L2 Strength')\n",
    "plt.legend()\n",
    "\n",
    "# Plotting validation loss\n",
    "plt.subplot(1, 2, 2)\n",
    "plt.plot(l2_values, val_losses, marker='o', color='red', label='Validation Loss')\n",
    "plt.xscale('log')\n",
    "plt.xlabel('L2 Strength')\n",
    "plt.ylabel('Validation Loss')\n",
    "plt.title('Validation Loss vs. L2 Strength')\n",
    "plt.legend()\n",
    "\n",
    "plt.tight_layout()\n",
    "plt.show()\n"
   ]
  },
  {
   "cell_type": "markdown",
   "id": "2477a221-c7f0-43bd-911c-d6bfea72d15a",
   "metadata": {},
   "source": [
    "Takeaways:\n",
    "* the smaller the stronger the L2 the worse validation accuracy gets meaning its leading to underfitting\n",
    "* however, the validation loss is the lowest for the weak l2 strength, meaning strong L2 is only hurting us"
   ]
  },
  {
   "cell_type": "markdown",
   "id": "034ed16a-cfc6-4558-9511-450245109a75",
   "metadata": {},
   "source": [
    "Lets Examine the training metrics again to help lead us in what we want to modify in our model"
   ]
  },
  {
   "cell_type": "code",
   "execution_count": 117,
   "id": "e4c9d7e4-3707-4586-b22d-7757765d0e41",
   "metadata": {
    "collapsed": true,
    "jupyter": {
     "outputs_hidden": true
    },
    "tags": []
   },
   "outputs": [
    {
     "name": "stdout",
     "output_type": "stream",
     "text": [
      "Epoch 1/100\n",
      "22/22 [==============================] - 0s 7ms/step - loss: 0.2696 - accuracy: 0.9082 - val_loss: 0.4272 - val_accuracy: 0.8438\n",
      "Epoch 2/100\n",
      "22/22 [==============================] - 0s 5ms/step - loss: 0.2557 - accuracy: 0.9111 - val_loss: 0.4564 - val_accuracy: 0.8318\n",
      "Epoch 3/100\n",
      "22/22 [==============================] - 0s 5ms/step - loss: 0.2527 - accuracy: 0.9023 - val_loss: 0.4524 - val_accuracy: 0.8348\n",
      "Epoch 4/100\n",
      "22/22 [==============================] - 0s 5ms/step - loss: 0.2450 - accuracy: 0.9140 - val_loss: 0.4752 - val_accuracy: 0.8529\n",
      "Epoch 5/100\n",
      "22/22 [==============================] - 0s 5ms/step - loss: 0.2576 - accuracy: 0.9111 - val_loss: 0.5746 - val_accuracy: 0.7988\n",
      "Epoch 6/100\n",
      "22/22 [==============================] - 0s 5ms/step - loss: 0.2945 - accuracy: 0.8950 - val_loss: 0.6196 - val_accuracy: 0.8078\n",
      "Epoch 7/100\n",
      "22/22 [==============================] - 0s 5ms/step - loss: 0.2830 - accuracy: 0.9009 - val_loss: 0.4885 - val_accuracy: 0.8288\n",
      "Epoch 8/100\n",
      "22/22 [==============================] - 0s 5ms/step - loss: 0.2835 - accuracy: 0.8994 - val_loss: 0.4546 - val_accuracy: 0.8408\n",
      "Epoch 9/100\n",
      "22/22 [==============================] - 0s 5ms/step - loss: 0.2440 - accuracy: 0.9111 - val_loss: 0.4381 - val_accuracy: 0.8468\n",
      "Epoch 10/100\n",
      "22/22 [==============================] - 0s 5ms/step - loss: 0.2511 - accuracy: 0.9111 - val_loss: 0.4544 - val_accuracy: 0.8498\n",
      "Epoch 11/100\n",
      "22/22 [==============================] - 0s 6ms/step - loss: 0.2640 - accuracy: 0.9125 - val_loss: 0.4312 - val_accuracy: 0.8498\n",
      "Epoch 12/100\n",
      "22/22 [==============================] - 0s 6ms/step - loss: 0.2213 - accuracy: 0.9198 - val_loss: 0.4575 - val_accuracy: 0.8378\n",
      "Epoch 13/100\n",
      "22/22 [==============================] - 0s 6ms/step - loss: 0.2297 - accuracy: 0.9169 - val_loss: 0.4552 - val_accuracy: 0.8468\n",
      "Epoch 14/100\n",
      "22/22 [==============================] - 0s 5ms/step - loss: 0.2165 - accuracy: 0.9227 - val_loss: 0.4451 - val_accuracy: 0.8498\n",
      "Epoch 15/100\n",
      "22/22 [==============================] - 0s 6ms/step - loss: 0.2161 - accuracy: 0.9315 - val_loss: 0.5269 - val_accuracy: 0.8228\n",
      "Epoch 16/100\n",
      "22/22 [==============================] - 0s 5ms/step - loss: 0.2836 - accuracy: 0.8776 - val_loss: 0.5310 - val_accuracy: 0.8198\n",
      "Epoch 17/100\n",
      "22/22 [==============================] - 0s 5ms/step - loss: 0.2533 - accuracy: 0.9023 - val_loss: 0.4742 - val_accuracy: 0.8498\n",
      "Epoch 18/100\n",
      "22/22 [==============================] - 0s 5ms/step - loss: 0.2217 - accuracy: 0.9125 - val_loss: 0.5739 - val_accuracy: 0.8108\n",
      "Epoch 19/100\n",
      "22/22 [==============================] - 0s 5ms/step - loss: 0.2050 - accuracy: 0.9227 - val_loss: 0.4583 - val_accuracy: 0.8408\n",
      "Epoch 20/100\n",
      "22/22 [==============================] - 0s 6ms/step - loss: 0.2100 - accuracy: 0.9300 - val_loss: 0.4838 - val_accuracy: 0.8378\n",
      "Epoch 21/100\n",
      "22/22 [==============================] - 0s 9ms/step - loss: 0.2006 - accuracy: 0.9257 - val_loss: 0.4706 - val_accuracy: 0.8498\n",
      "Epoch 22/100\n",
      "22/22 [==============================] - 0s 6ms/step - loss: 0.1817 - accuracy: 0.9446 - val_loss: 0.4708 - val_accuracy: 0.8559\n",
      "Epoch 23/100\n",
      "22/22 [==============================] - 0s 12ms/step - loss: 0.2162 - accuracy: 0.9213 - val_loss: 0.5195 - val_accuracy: 0.8408\n",
      "Epoch 24/100\n",
      "22/22 [==============================] - 0s 5ms/step - loss: 0.2435 - accuracy: 0.9140 - val_loss: 0.4752 - val_accuracy: 0.8559\n",
      "Epoch 25/100\n",
      "22/22 [==============================] - 0s 5ms/step - loss: 0.1955 - accuracy: 0.9257 - val_loss: 0.4946 - val_accuracy: 0.8498\n",
      "Epoch 26/100\n",
      "22/22 [==============================] - 0s 6ms/step - loss: 0.2073 - accuracy: 0.9271 - val_loss: 0.5100 - val_accuracy: 0.8589\n",
      "Epoch 27/100\n",
      "22/22 [==============================] - 0s 5ms/step - loss: 0.1841 - accuracy: 0.9402 - val_loss: 0.5548 - val_accuracy: 0.8318\n",
      "Epoch 28/100\n",
      "22/22 [==============================] - 0s 5ms/step - loss: 0.1877 - accuracy: 0.9315 - val_loss: 0.5573 - val_accuracy: 0.8438\n",
      "Epoch 29/100\n",
      "22/22 [==============================] - 0s 5ms/step - loss: 0.1799 - accuracy: 0.9431 - val_loss: 0.5463 - val_accuracy: 0.8378\n",
      "Epoch 30/100\n",
      "22/22 [==============================] - 0s 5ms/step - loss: 0.1817 - accuracy: 0.9490 - val_loss: 0.5137 - val_accuracy: 0.8529\n",
      "Epoch 31/100\n",
      "22/22 [==============================] - 0s 5ms/step - loss: 0.1727 - accuracy: 0.9388 - val_loss: 0.5142 - val_accuracy: 0.8589\n",
      "Epoch 32/100\n",
      "22/22 [==============================] - 0s 5ms/step - loss: 0.1636 - accuracy: 0.9504 - val_loss: 0.5277 - val_accuracy: 0.8619\n",
      "Epoch 33/100\n",
      "22/22 [==============================] - 0s 5ms/step - loss: 0.1994 - accuracy: 0.9344 - val_loss: 0.5369 - val_accuracy: 0.8619\n",
      "Epoch 34/100\n",
      "22/22 [==============================] - 0s 5ms/step - loss: 0.1910 - accuracy: 0.9373 - val_loss: 0.5467 - val_accuracy: 0.8468\n",
      "Epoch 35/100\n",
      "22/22 [==============================] - 0s 4ms/step - loss: 0.1718 - accuracy: 0.9446 - val_loss: 0.5243 - val_accuracy: 0.8589\n",
      "Epoch 36/100\n",
      "22/22 [==============================] - 0s 3ms/step - loss: 0.1651 - accuracy: 0.9388 - val_loss: 0.5396 - val_accuracy: 0.8589\n",
      "Epoch 37/100\n",
      "22/22 [==============================] - 0s 4ms/step - loss: 0.1739 - accuracy: 0.9388 - val_loss: 0.5500 - val_accuracy: 0.8619\n",
      "Epoch 38/100\n",
      "22/22 [==============================] - 0s 4ms/step - loss: 0.1758 - accuracy: 0.9373 - val_loss: 0.5381 - val_accuracy: 0.8679\n",
      "Epoch 39/100\n",
      "22/22 [==============================] - 0s 4ms/step - loss: 0.1627 - accuracy: 0.9446 - val_loss: 0.6049 - val_accuracy: 0.8318\n",
      "Epoch 40/100\n",
      "22/22 [==============================] - 0s 5ms/step - loss: 0.2126 - accuracy: 0.9242 - val_loss: 0.6008 - val_accuracy: 0.8348\n",
      "Epoch 41/100\n",
      "22/22 [==============================] - 0s 5ms/step - loss: 0.1787 - accuracy: 0.9534 - val_loss: 0.5424 - val_accuracy: 0.8619\n",
      "Epoch 42/100\n",
      "22/22 [==============================] - 0s 5ms/step - loss: 0.1538 - accuracy: 0.9475 - val_loss: 0.5504 - val_accuracy: 0.8649\n",
      "Epoch 43/100\n",
      "22/22 [==============================] - 0s 4ms/step - loss: 0.1560 - accuracy: 0.9504 - val_loss: 0.5411 - val_accuracy: 0.8679\n",
      "Epoch 44/100\n",
      "22/22 [==============================] - 0s 4ms/step - loss: 0.1652 - accuracy: 0.9431 - val_loss: 0.5671 - val_accuracy: 0.8589\n",
      "Epoch 45/100\n",
      "22/22 [==============================] - 0s 3ms/step - loss: 0.2031 - accuracy: 0.9300 - val_loss: 0.6352 - val_accuracy: 0.8288\n",
      "Epoch 46/100\n",
      "22/22 [==============================] - 0s 3ms/step - loss: 0.2087 - accuracy: 0.9300 - val_loss: 0.6118 - val_accuracy: 0.8468\n",
      "Epoch 47/100\n",
      "22/22 [==============================] - 0s 3ms/step - loss: 0.2107 - accuracy: 0.9286 - val_loss: 0.6545 - val_accuracy: 0.8288\n",
      "Epoch 48/100\n",
      "22/22 [==============================] - 0s 3ms/step - loss: 0.2791 - accuracy: 0.9359 - val_loss: 0.9072 - val_accuracy: 0.7988\n",
      "Epoch 49/100\n",
      "22/22 [==============================] - 0s 3ms/step - loss: 0.2634 - accuracy: 0.9125 - val_loss: 0.5501 - val_accuracy: 0.8619\n",
      "Epoch 50/100\n",
      "22/22 [==============================] - 0s 3ms/step - loss: 0.1834 - accuracy: 0.9373 - val_loss: 0.5653 - val_accuracy: 0.8348\n",
      "Epoch 51/100\n",
      "22/22 [==============================] - 0s 4ms/step - loss: 0.1732 - accuracy: 0.9431 - val_loss: 0.5541 - val_accuracy: 0.8498\n",
      "Epoch 52/100\n",
      "22/22 [==============================] - 0s 3ms/step - loss: 0.1692 - accuracy: 0.9329 - val_loss: 0.5731 - val_accuracy: 0.8438\n",
      "Epoch 53/100\n",
      "22/22 [==============================] - 0s 4ms/step - loss: 0.1862 - accuracy: 0.9461 - val_loss: 0.5161 - val_accuracy: 0.8438\n",
      "Epoch 54/100\n",
      "22/22 [==============================] - 0s 6ms/step - loss: 0.1588 - accuracy: 0.9475 - val_loss: 0.5377 - val_accuracy: 0.8408\n",
      "Epoch 55/100\n",
      "22/22 [==============================] - 0s 5ms/step - loss: 0.1549 - accuracy: 0.9431 - val_loss: 0.5379 - val_accuracy: 0.8709\n",
      "Epoch 56/100\n",
      "22/22 [==============================] - 0s 9ms/step - loss: 0.1460 - accuracy: 0.9519 - val_loss: 0.5714 - val_accuracy: 0.8679\n",
      "Epoch 57/100\n",
      "22/22 [==============================] - 0s 4ms/step - loss: 0.1791 - accuracy: 0.9388 - val_loss: 0.5428 - val_accuracy: 0.8679\n",
      "Epoch 58/100\n",
      "22/22 [==============================] - 0s 4ms/step - loss: 0.1614 - accuracy: 0.9504 - val_loss: 0.5429 - val_accuracy: 0.8589\n",
      "Epoch 59/100\n",
      "22/22 [==============================] - 0s 4ms/step - loss: 0.1897 - accuracy: 0.9402 - val_loss: 0.6020 - val_accuracy: 0.8438\n",
      "Epoch 60/100\n",
      "22/22 [==============================] - 0s 4ms/step - loss: 0.1546 - accuracy: 0.9461 - val_loss: 0.5769 - val_accuracy: 0.8378\n",
      "Epoch 61/100\n",
      "22/22 [==============================] - 0s 3ms/step - loss: 0.1479 - accuracy: 0.9519 - val_loss: 0.6080 - val_accuracy: 0.8378\n",
      "Epoch 62/100\n",
      "22/22 [==============================] - 0s 4ms/step - loss: 0.1807 - accuracy: 0.9315 - val_loss: 0.5606 - val_accuracy: 0.8619\n",
      "Epoch 63/100\n",
      "22/22 [==============================] - 0s 5ms/step - loss: 0.1499 - accuracy: 0.9431 - val_loss: 0.5987 - val_accuracy: 0.8348\n",
      "Epoch 64/100\n",
      "22/22 [==============================] - 0s 5ms/step - loss: 0.1394 - accuracy: 0.9621 - val_loss: 0.6182 - val_accuracy: 0.8378\n",
      "Epoch 65/100\n",
      "22/22 [==============================] - 0s 5ms/step - loss: 0.1589 - accuracy: 0.9446 - val_loss: 0.5786 - val_accuracy: 0.8589\n",
      "Epoch 66/100\n",
      "22/22 [==============================] - 0s 4ms/step - loss: 0.1419 - accuracy: 0.9563 - val_loss: 0.6103 - val_accuracy: 0.8378\n",
      "Epoch 67/100\n",
      "22/22 [==============================] - 0s 5ms/step - loss: 0.1410 - accuracy: 0.9563 - val_loss: 0.5883 - val_accuracy: 0.8619\n",
      "Epoch 68/100\n",
      "22/22 [==============================] - 0s 6ms/step - loss: 0.1380 - accuracy: 0.9563 - val_loss: 0.5979 - val_accuracy: 0.8739\n",
      "Epoch 69/100\n",
      "22/22 [==============================] - 0s 5ms/step - loss: 0.1457 - accuracy: 0.9548 - val_loss: 0.5968 - val_accuracy: 0.8679\n",
      "Epoch 70/100\n",
      "22/22 [==============================] - 0s 6ms/step - loss: 0.1413 - accuracy: 0.9548 - val_loss: 0.5999 - val_accuracy: 0.8529\n",
      "Epoch 71/100\n",
      "22/22 [==============================] - 0s 6ms/step - loss: 0.1379 - accuracy: 0.9621 - val_loss: 0.6252 - val_accuracy: 0.8438\n",
      "Epoch 72/100\n",
      "22/22 [==============================] - 0s 7ms/step - loss: 0.1416 - accuracy: 0.9548 - val_loss: 0.6043 - val_accuracy: 0.8589\n",
      "Epoch 73/100\n",
      "22/22 [==============================] - 0s 6ms/step - loss: 0.1321 - accuracy: 0.9606 - val_loss: 0.7519 - val_accuracy: 0.8258\n",
      "Epoch 74/100\n",
      "22/22 [==============================] - 0s 5ms/step - loss: 0.1699 - accuracy: 0.9373 - val_loss: 0.5997 - val_accuracy: 0.8649\n",
      "Epoch 75/100\n",
      "22/22 [==============================] - 0s 6ms/step - loss: 0.1405 - accuracy: 0.9563 - val_loss: 0.6101 - val_accuracy: 0.8679\n",
      "Epoch 76/100\n",
      "22/22 [==============================] - 0s 7ms/step - loss: 0.1412 - accuracy: 0.9577 - val_loss: 0.6681 - val_accuracy: 0.8348\n",
      "Epoch 77/100\n",
      "22/22 [==============================] - 0s 6ms/step - loss: 0.1767 - accuracy: 0.9417 - val_loss: 0.8025 - val_accuracy: 0.8078\n",
      "Epoch 78/100\n",
      "22/22 [==============================] - 0s 6ms/step - loss: 0.1616 - accuracy: 0.9504 - val_loss: 0.6199 - val_accuracy: 0.8769\n",
      "Epoch 79/100\n",
      "22/22 [==============================] - 0s 6ms/step - loss: 0.1450 - accuracy: 0.9504 - val_loss: 0.6206 - val_accuracy: 0.8498\n",
      "Epoch 80/100\n",
      "22/22 [==============================] - 0s 6ms/step - loss: 0.1360 - accuracy: 0.9563 - val_loss: 0.6305 - val_accuracy: 0.8529\n",
      "Epoch 81/100\n",
      "22/22 [==============================] - 0s 6ms/step - loss: 0.1305 - accuracy: 0.9548 - val_loss: 0.6978 - val_accuracy: 0.8348\n",
      "Epoch 82/100\n",
      "22/22 [==============================] - 0s 6ms/step - loss: 0.1578 - accuracy: 0.9548 - val_loss: 0.7240 - val_accuracy: 0.8138\n",
      "Epoch 83/100\n",
      "22/22 [==============================] - 0s 6ms/step - loss: 0.1602 - accuracy: 0.9490 - val_loss: 0.6033 - val_accuracy: 0.8649\n",
      "Epoch 84/100\n",
      "22/22 [==============================] - 0s 6ms/step - loss: 0.1405 - accuracy: 0.9534 - val_loss: 0.6264 - val_accuracy: 0.8559\n",
      "Epoch 85/100\n",
      "22/22 [==============================] - 0s 5ms/step - loss: 0.1332 - accuracy: 0.9621 - val_loss: 0.6901 - val_accuracy: 0.8348\n",
      "Epoch 86/100\n",
      "22/22 [==============================] - 0s 6ms/step - loss: 0.1499 - accuracy: 0.9490 - val_loss: 0.6379 - val_accuracy: 0.8468\n",
      "Epoch 87/100\n",
      "22/22 [==============================] - 0s 6ms/step - loss: 0.1341 - accuracy: 0.9563 - val_loss: 0.6709 - val_accuracy: 0.8378\n",
      "Epoch 88/100\n",
      "22/22 [==============================] - 0s 5ms/step - loss: 0.1316 - accuracy: 0.9548 - val_loss: 0.6342 - val_accuracy: 0.8709\n",
      "Epoch 89/100\n",
      "22/22 [==============================] - 0s 6ms/step - loss: 0.1329 - accuracy: 0.9548 - val_loss: 0.6376 - val_accuracy: 0.8498\n",
      "Epoch 90/100\n",
      "22/22 [==============================] - 0s 6ms/step - loss: 0.1326 - accuracy: 0.9606 - val_loss: 0.6751 - val_accuracy: 0.8378\n",
      "Epoch 91/100\n",
      "22/22 [==============================] - 0s 6ms/step - loss: 0.1301 - accuracy: 0.9519 - val_loss: 0.6610 - val_accuracy: 0.8769\n",
      "Epoch 92/100\n",
      "22/22 [==============================] - 0s 6ms/step - loss: 0.1342 - accuracy: 0.9548 - val_loss: 0.6658 - val_accuracy: 0.8498\n",
      "Epoch 93/100\n",
      "22/22 [==============================] - 0s 6ms/step - loss: 0.1199 - accuracy: 0.9592 - val_loss: 0.6505 - val_accuracy: 0.8529\n",
      "Epoch 94/100\n",
      "22/22 [==============================] - 0s 4ms/step - loss: 0.1227 - accuracy: 0.9650 - val_loss: 0.7205 - val_accuracy: 0.8378\n",
      "Epoch 95/100\n",
      "22/22 [==============================] - 0s 5ms/step - loss: 0.1618 - accuracy: 0.9548 - val_loss: 0.7386 - val_accuracy: 0.8498\n",
      "Epoch 96/100\n",
      "22/22 [==============================] - 0s 5ms/step - loss: 0.1735 - accuracy: 0.9417 - val_loss: 0.5774 - val_accuracy: 0.8498\n",
      "Epoch 97/100\n",
      "22/22 [==============================] - 0s 5ms/step - loss: 0.1322 - accuracy: 0.9563 - val_loss: 0.6212 - val_accuracy: 0.8378\n",
      "Epoch 98/100\n",
      "22/22 [==============================] - 0s 6ms/step - loss: 0.1574 - accuracy: 0.9461 - val_loss: 0.7043 - val_accuracy: 0.8348\n",
      "Epoch 99/100\n",
      "22/22 [==============================] - 0s 6ms/step - loss: 0.1547 - accuracy: 0.9534 - val_loss: 0.6096 - val_accuracy: 0.8498\n",
      "Epoch 100/100\n",
      "22/22 [==============================] - 0s 6ms/step - loss: 0.1839 - accuracy: 0.9417 - val_loss: 0.7348 - val_accuracy: 0.8559\n"
     ]
    },
    {
     "data": {
      "image/png": "[encoded data removed]",
      "text/plain": [
       "<Figure size 1200x500 with 2 Axes>"
      ]
     },
     "metadata": {},
     "output_type": "display_data"
    }
   ],
   "source": [
    "\n",
    "history = model.fit(X_train, y_train, validation_data=(X_test, y_test), epochs=100, batch_size=32)\n",
    "\n",
    "# Plot Training and Validation metrics\n",
    "plt.figure(figsize=(12, 5))\n",
    "\n",
    "plt.subplot(1, 2, 1)\n",
    "plt.plot(history.history['accuracy'], label='Training Accuracy')\n",
    "plt.plot(history.history['val_accuracy'], label='Validation Accuracy')\n",
    "plt.title('Training and Validation Accuracy')\n",
    "plt.xlabel('Epochs')\n",
    "plt.ylabel('Accuracy')\n",
    "plt.legend()\n",
    "\n",
    "plt.subplot(1, 2, 2)\n",
    "plt.plot(history.history['loss'], label='Training Loss')\n",
    "plt.plot(history.history['val_loss'], label='Validation Loss')\n",
    "plt.title('Training and Validation Loss')\n",
    "plt.xlabel('Epochs')\n",
    "plt.ylabel('Loss')\n",
    "plt.legend()\n",
    "\n",
    "plt.tight_layout()\n",
    "plt.show()\n"
   ]
  },
  {
   "cell_type": "markdown",
   "id": "5aff7210-4d0a-4c90-a3ef-5395a018810d",
   "metadata": {},
   "source": [
    "## Neural Networks (v4)\n",
    "Parameters:\n",
    "* Learning rate: 1e-4\n",
    "* L2 Regularization\n",
    "* Dropout\n",
    "* Early Stopping\n",
    "* 5 Layers"
   ]
  },
  {
   "cell_type": "code",
   "execution_count": 132,
   "id": "d042c664-eb3d-4964-8bc1-c4ee25383e32",
   "metadata": {
    "collapsed": true,
    "jupyter": {
     "outputs_hidden": true
    },
    "tags": []
   },
   "outputs": [
    {
     "name": "stdout",
     "output_type": "stream",
     "text": [
      "Epoch 1/100\n",
      "22/22 [==============================] - 2s 28ms/step - loss: 0.6831 - accuracy: 0.5962 - precision: 0.6130 - recall: 0.5219 - val_loss: 0.6523 - val_accuracy: 0.6396 - val_precision: 0.8182 - val_recall: 0.3728\n",
      "Epoch 2/100\n",
      "22/22 [==============================] - 0s 8ms/step - loss: 0.6245 - accuracy: 0.6880 - precision: 0.8177 - recall: 0.4840 - val_loss: 0.5843 - val_accuracy: 0.7177 - val_precision: 0.9310 - val_recall: 0.4793\n",
      "Epoch 3/100\n",
      "22/22 [==============================] - 0s 9ms/step - loss: 0.5804 - accuracy: 0.7303 - precision: 0.8086 - recall: 0.6035 - val_loss: 0.5450 - val_accuracy: 0.7327 - val_precision: 0.9348 - val_recall: 0.5089\n",
      "Epoch 4/100\n",
      "22/22 [==============================] - 0s 6ms/step - loss: 0.5432 - accuracy: 0.7391 - precision: 0.8203 - recall: 0.6122 - val_loss: 0.5249 - val_accuracy: 0.7748 - val_precision: 0.8917 - val_recall: 0.6331\n",
      "Epoch 5/100\n",
      "22/22 [==============================] - 0s 6ms/step - loss: 0.5336 - accuracy: 0.7624 - precision: 0.8082 - recall: 0.6880 - val_loss: 0.5501 - val_accuracy: 0.7417 - val_precision: 0.9663 - val_recall: 0.5089\n",
      "Epoch 6/100\n",
      "22/22 [==============================] - 0s 7ms/step - loss: 0.5177 - accuracy: 0.7580 - precision: 0.8526 - recall: 0.6239 - val_loss: 0.5004 - val_accuracy: 0.7748 - val_precision: 0.8310 - val_recall: 0.6982\n",
      "Epoch 7/100\n",
      "22/22 [==============================] - 0s 16ms/step - loss: 0.5208 - accuracy: 0.7828 - precision: 0.8415 - recall: 0.6968 - val_loss: 0.5031 - val_accuracy: 0.7898 - val_precision: 0.8898 - val_recall: 0.6686\n",
      "Epoch 8/100\n",
      "22/22 [==============================] - 0s 6ms/step - loss: 0.5076 - accuracy: 0.7697 - precision: 0.8292 - recall: 0.6793 - val_loss: 0.4830 - val_accuracy: 0.7898 - val_precision: 0.8278 - val_recall: 0.7396\n",
      "Epoch 9/100\n",
      "22/22 [==============================] - 0s 6ms/step - loss: 0.4898 - accuracy: 0.7886 - precision: 0.8322 - recall: 0.7230 - val_loss: 0.4825 - val_accuracy: 0.7868 - val_precision: 0.8712 - val_recall: 0.6805\n",
      "Epoch 10/100\n",
      "22/22 [==============================] - 0s 8ms/step - loss: 0.4748 - accuracy: 0.7930 - precision: 0.8317 - recall: 0.7347 - val_loss: 0.4833 - val_accuracy: 0.7868 - val_precision: 0.9153 - val_recall: 0.6391\n",
      "Epoch 11/100\n",
      "22/22 [==============================] - 0s 6ms/step - loss: 0.4484 - accuracy: 0.8265 - precision: 0.8684 - recall: 0.7697 - val_loss: 0.4586 - val_accuracy: 0.8018 - val_precision: 0.8411 - val_recall: 0.7515\n",
      "Epoch 12/100\n",
      "22/22 [==============================] - 0s 7ms/step - loss: 0.4401 - accuracy: 0.8105 - precision: 0.8277 - recall: 0.7843 - val_loss: 0.4683 - val_accuracy: 0.7928 - val_precision: 0.8906 - val_recall: 0.6746\n",
      "Epoch 13/100\n",
      "22/22 [==============================] - 0s 7ms/step - loss: 0.4107 - accuracy: 0.8338 - precision: 0.8706 - recall: 0.7843 - val_loss: 0.4476 - val_accuracy: 0.8078 - val_precision: 0.8621 - val_recall: 0.7396\n",
      "Epoch 14/100\n",
      "22/22 [==============================] - 0s 7ms/step - loss: 0.4450 - accuracy: 0.8280 - precision: 0.8527 - recall: 0.7930 - val_loss: 0.4409 - val_accuracy: 0.8408 - val_precision: 0.8580 - val_recall: 0.8225\n",
      "Epoch 15/100\n",
      "22/22 [==============================] - 0s 15ms/step - loss: 0.3852 - accuracy: 0.8528 - precision: 0.8623 - recall: 0.8397 - val_loss: 0.5526 - val_accuracy: 0.7718 - val_precision: 0.9429 - val_recall: 0.5858\n",
      "Epoch 16/100\n",
      "22/22 [==============================] - 0s 6ms/step - loss: 0.3928 - accuracy: 0.8382 - precision: 0.8537 - recall: 0.8163 - val_loss: 0.4285 - val_accuracy: 0.8288 - val_precision: 0.8590 - val_recall: 0.7929\n",
      "Epoch 17/100\n",
      "22/22 [==============================] - 0s 6ms/step - loss: 0.4035 - accuracy: 0.8251 - precision: 0.8328 - recall: 0.8134 - val_loss: 0.4517 - val_accuracy: 0.8108 - val_precision: 0.8681 - val_recall: 0.7396\n",
      "Epoch 18/100\n",
      "22/22 [==============================] - 0s 6ms/step - loss: 0.4009 - accuracy: 0.8426 - precision: 0.8660 - recall: 0.8105 - val_loss: 0.4751 - val_accuracy: 0.8018 - val_precision: 0.8759 - val_recall: 0.7101\n",
      "Epoch 19/100\n",
      "22/22 [==============================] - 0s 5ms/step - loss: 0.3713 - accuracy: 0.8601 - precision: 0.8665 - recall: 0.8513 - val_loss: 0.4330 - val_accuracy: 0.8408 - val_precision: 0.8766 - val_recall: 0.7988\n",
      "Epoch 20/100\n",
      "22/22 [==============================] - 0s 6ms/step - loss: 0.3781 - accuracy: 0.8382 - precision: 0.8648 - recall: 0.8017 - val_loss: 0.4449 - val_accuracy: 0.8348 - val_precision: 0.8239 - val_recall: 0.8580\n",
      "Epoch 21/100\n",
      "22/22 [==============================] - 0s 8ms/step - loss: 0.4036 - accuracy: 0.8192 - precision: 0.8067 - recall: 0.8397 - val_loss: 0.4805 - val_accuracy: 0.8288 - val_precision: 0.8077 - val_recall: 0.8698\n",
      "Epoch 22/100\n",
      "22/22 [==============================] - 0s 5ms/step - loss: 0.3703 - accuracy: 0.8615 - precision: 0.8690 - recall: 0.8513 - val_loss: 0.4633 - val_accuracy: 0.8138 - val_precision: 0.8591 - val_recall: 0.7574\n",
      "Epoch 23/100\n",
      "22/22 [==============================] - 0s 7ms/step - loss: 0.3591 - accuracy: 0.8542 - precision: 0.8785 - recall: 0.8222 - val_loss: 0.4555 - val_accuracy: 0.8348 - val_precision: 0.8904 - val_recall: 0.7692\n",
      "Epoch 24/100\n",
      "22/22 [==============================] - 0s 12ms/step - loss: 0.3747 - accuracy: 0.8484 - precision: 0.8867 - recall: 0.7988 - val_loss: 0.4460 - val_accuracy: 0.8318 - val_precision: 0.8304 - val_recall: 0.8402\n",
      "Epoch 25/100\n",
      "22/22 [==============================] - 0s 8ms/step - loss: 0.3588 - accuracy: 0.8615 - precision: 0.8503 - recall: 0.8776 - val_loss: 0.4386 - val_accuracy: 0.8408 - val_precision: 0.8671 - val_recall: 0.8107\n",
      "Epoch 26/100\n",
      "22/22 [==============================] - 0s 11ms/step - loss: 0.3361 - accuracy: 0.8819 - precision: 0.8994 - recall: 0.8601 - val_loss: 0.4416 - val_accuracy: 0.8348 - val_precision: 0.8750 - val_recall: 0.7870\n"
     ]
    }
   ],
   "source": [
    "model = Sequential([\n",
    "    Dense(128, activation='relu', kernel_regularizer=l2(1e-4), input_shape=(X_train.shape[1],)),\n",
    "    Dropout(0.2),\n",
    "    Dense(64, activation='relu', kernel_regularizer=l2(1e-4)),\n",
    "    Dropout(0.2),\n",
    "    Dense(64, activation='relu', kernel_regularizer=l2(1e-4)),\n",
    "    Dropout(0.2),\n",
    "    Dense(32, activation='relu', kernel_regularizer=l2(1e-4)),\n",
    "    Dropout(0.2),\n",
    "    Dense(1, activation='sigmoid')  # assuming binary classification\n",
    "])\n",
    "\n",
    "model.compile(optimizer='adam',\n",
    "              loss='binary_crossentropy',\n",
    "              metrics=['accuracy', Precision(name='precision'), Recall(name='recall')])\n",
    "\n",
    "\n",
    "# Early stopping callback\n",
    "early_stop = EarlyStopping(monitor='val_loss', patience=10, restore_best_weights=True)\n",
    "\n",
    "# Train the model\n",
    "history = model.fit(X_train, y_train, validation_data=(X_test, y_test), epochs=100, batch_size=32, callbacks=[early_stop])\n"
   ]
  },
  {
   "cell_type": "markdown",
   "id": "888eb162-95b4-4430-a173-ce4130e3fd75",
   "metadata": {},
   "source": [
    "#### Biggest Takeaways:\n",
    "* L2 Regularization is critical here\n",
    "* Dropout was the largest influence towards model accuracay overall\n",
    "* Additional complexity did make slight improvements to the model"
   ]
  },
  {
   "cell_type": "markdown",
   "id": "d9b8722d-a470-4a09-b02b-73d02415b772",
   "metadata": {},
   "source": [
    "## Bagging Model (v1)"
   ]
  },
  {
   "cell_type": "code",
   "execution_count": 146,
   "id": "87b5d1e7-ae23-4a04-8b2d-053bf5944053",
   "metadata": {},
   "outputs": [
    {
     "data": {
      "text/plain": [
       "array([1, 1, 1, 0, 1, 1, 0, 1, 0, 0, 1, 1, 0, 0, 0, 1, 1, 0, 1, 1, 1, 0,\n",
       "       0, 1, 0, 0, 1, 0, 1, 1, 1, 0, 0, 1, 0, 0, 1, 1, 1, 0, 1, 0, 0, 0,\n",
       "       0, 1, 0, 0, 0, 0, 0, 0, 0, 1, 0, 0, 1, 1, 0, 1, 0, 1, 0, 0, 1, 1,\n",
       "       0, 0, 0, 0, 1, 0, 1, 1, 0, 1, 0, 0, 0, 1, 0, 1, 0, 1, 0, 0, 1, 1,\n",
       "       0, 1, 0, 1, 1, 1, 0, 0, 1, 1, 1, 0, 1, 0, 1, 0, 1, 1, 0, 0, 1, 1,\n",
       "       0, 0, 1, 0, 1, 0, 1, 0, 1, 1, 1, 1, 0, 1, 1, 0, 1, 0, 0, 1, 0, 0,\n",
       "       1, 0, 0, 0, 1, 0, 1, 1, 1, 0, 1, 1, 0, 1, 1, 0, 0, 1, 0, 1, 1, 1,\n",
       "       0, 1, 1, 1, 1, 1, 0, 0, 0, 0, 1, 0, 0, 1, 1, 0, 0, 1, 1, 1, 1, 0,\n",
       "       1, 0, 0, 0, 0, 0, 1, 1, 1, 1, 1, 0, 1, 0, 0, 1, 0, 1, 0, 1, 0, 1,\n",
       "       1, 1, 1, 1, 1, 1, 1, 1, 0, 0, 0, 1, 1, 0, 1, 0, 1, 1, 1, 0, 0, 1,\n",
       "       0, 0, 0, 0, 0, 1, 1, 1, 0, 1, 0, 1, 0, 1, 1, 1, 0, 0, 1, 1, 0, 1,\n",
       "       1, 1, 0, 1, 0, 0, 0, 0, 0, 0, 0, 0, 1, 1, 1, 1, 0, 0, 1, 1, 1, 1,\n",
       "       1, 0, 0, 1, 0, 1, 0, 1, 0, 0, 1, 0, 0, 1, 0, 0, 0, 0, 0, 0, 1, 0,\n",
       "       0, 0, 0, 1, 1, 1, 1, 1, 0, 0, 1, 1, 0, 1, 0, 0, 1, 0, 0, 1, 1, 0,\n",
       "       1, 0, 0, 0, 0, 1, 0, 1, 1, 1, 1, 1, 1, 0, 0, 1, 1, 1, 0, 1, 0, 1,\n",
       "       0, 1, 1])"
      ]
     },
     "execution_count": 146,
     "metadata": {},
     "output_type": "execute_result"
    }
   ],
   "source": [
    "from sklearn.ensemble import BaggingClassifier\n",
    "from sklearn.tree import DecisionTreeClassifier\n",
    "\n",
    "bag_clf = BaggingClassifier(\n",
    "    DecisionTreeClassifier(random_state=42), \n",
    "    n_estimators=500,\n",
    "    max_samples=100, \n",
    "    bootstrap=True, \n",
    "    n_jobs=-1,\n",
    "    random_state=42\n",
    ")\n",
    "\n",
    "# Assuming X_train, y_train are your training data\n",
    "bag_clf.fit(X_train, y_train)\n",
    "\n",
    "# To get predictions: bag_clf.predict(X_test)\n",
    "bag_clf.predict(X_test)"
   ]
  },
  {
   "cell_type": "code",
   "execution_count": 147,
   "id": "5d73e285-e2fe-4c90-b1ab-c9d7e4180328",
   "metadata": {},
   "outputs": [
    {
     "name": "stdout",
     "output_type": "stream",
     "text": [
      "Accuracy: 0.8498\n",
      "Precision: 0.8647\n",
      "Recall: 0.8448\n",
      "F1 Score: 0.8547\n",
      "\n",
      "ROC AUC Score: 0.9368\n",
      "Log Loss: 0.3280\n",
      "\n",
      "Classification Report:\n",
      "              precision    recall  f1-score   support\n",
      "\n",
      "           0       0.83      0.86      0.84       159\n",
      "           1       0.86      0.84      0.85       174\n",
      "\n",
      "    accuracy                           0.85       333\n",
      "   macro avg       0.85      0.85      0.85       333\n",
      "weighted avg       0.85      0.85      0.85       333\n",
      "\n",
      "Confusion Matrix:\n",
      "[[136  23]\n",
      " [ 27 147]]\n"
     ]
    }
   ],
   "source": [
    "from sklearn.metrics import accuracy_score, precision_score, recall_score, f1_score\n",
    "from sklearn.metrics import confusion_matrix, classification_report, roc_auc_score, log_loss\n",
    "\n",
    "# Assuming you've already split your data into training and testing sets\n",
    "# and you've already trained your bag_clf\n",
    "\n",
    "# Get predictions on the test set\n",
    "y_pred = bag_clf.predict(X_test)\n",
    "y_pred_prob = bag_clf.predict_proba(X_test)[:, 1]  # Probability estimates for the positive class\n",
    "\n",
    "# Performance metrics\n",
    "accuracy = accuracy_score(y_test, y_pred)\n",
    "precision = precision_score(y_test, y_pred)\n",
    "recall = recall_score(y_test, y_pred)\n",
    "f1 = f1_score(y_test, y_pred)\n",
    "\n",
    "print(f\"Accuracy: {accuracy:.4f}\")\n",
    "print(f\"Precision: {precision:.4f}\")\n",
    "print(f\"Recall: {recall:.4f}\")\n",
    "print(f\"F1 Score: {f1:.4f}\")\n",
    "\n",
    "# ROC AUC Score\n",
    "roc_auc = roc_auc_score(y_test, y_pred_prob)\n",
    "print(f\"\\nROC AUC Score: {roc_auc:.4f}\")\n",
    "\n",
    "# Log Loss\n",
    "logloss = log_loss(y_test, y_pred_prob)\n",
    "print(f\"Log Loss: {logloss:.4f}\")\n",
    "\n",
    "# Classification Report\n",
    "print(\"\\nClassification Report:\")\n",
    "print(classification_report(y_test, y_pred))\n",
    "\n",
    "# Confusion Matrix\n",
    "print(\"Confusion Matrix:\")\n",
    "print(confusion_matrix(y_test, y_pred))\n"
   ]
  },
  {
   "cell_type": "code",
   "execution_count": null,
   "id": "1ce20633-3672-4bef-a130-9184c2abb0c5",
   "metadata": {},
   "outputs": [],
   "source": []
  },
  {
   "cell_type": "code",
   "execution_count": null,
   "id": "d2e83fca-4ebc-49ac-b082-fa0f90978366",
   "metadata": {},
   "outputs": [],
   "source": []
  },
  {
   "cell_type": "code",
   "execution_count": null,
   "id": "80a9694c-0420-4b3c-a3aa-82abcd09e25f",
   "metadata": {},
   "outputs": [],
   "source": []
  },
  {
   "cell_type": "code",
   "execution_count": null,
   "id": "7bc8b64c-436e-4f7c-9804-59ecc76bddbc",
   "metadata": {},
   "outputs": [],
   "source": []
  },
  {
   "cell_type": "code",
   "execution_count": null,
   "id": "94adc7e9-2e9f-477b-8954-ce7e291dbe84",
   "metadata": {},
   "outputs": [],
   "source": []
  },
  {
   "cell_type": "code",
   "execution_count": null,
   "id": "691d8be1-6af8-456e-8f49-d32bdce9a023",
   "metadata": {},
   "outputs": [],
   "source": []
  },
  {
   "cell_type": "code",
   "execution_count": null,
   "id": "ae3d144c-97fe-4488-9ca8-00e4132a964d",
   "metadata": {},
   "outputs": [],
   "source": []
  },
  {
   "cell_type": "code",
   "execution_count": null,
   "id": "409a4028-bbbb-4e30-8059-702260e52dca",
   "metadata": {},
   "outputs": [],
   "source": []
  },
  {
   "cell_type": "code",
   "execution_count": null,
   "id": "eae33b10-8969-4b85-b4a9-5dbfa44bab37",
   "metadata": {},
   "outputs": [],
   "source": []
  },
  {
   "cell_type": "code",
   "execution_count": null,
   "id": "dfa82c0c-f9ce-41c8-93d5-aa7c04097d91",
   "metadata": {},
   "outputs": [],
   "source": []
  },
  {
   "cell_type": "code",
   "execution_count": null,
   "id": "5d5b1eb5-3691-4b79-9744-78f457f1b68e",
   "metadata": {},
   "outputs": [],
   "source": []
  },
  {
   "cell_type": "code",
   "execution_count": null,
   "id": "415e5fa2-c4af-40ba-9b61-f888dd3f9b3d",
   "metadata": {},
   "outputs": [],
   "source": []
  },
  {
   "cell_type": "code",
   "execution_count": null,
   "id": "8da5e0c5-50be-4319-8552-27cfc8c8ec97",
   "metadata": {},
   "outputs": [],
   "source": []
  },
  {
   "cell_type": "code",
   "execution_count": null,
   "id": "f96d671c-85a9-42cf-a578-25ae1ed969e9",
   "metadata": {},
   "outputs": [],
   "source": []
  },
  {
   "cell_type": "code",
   "execution_count": null,
   "id": "a4b3fe61-eebc-489f-ab76-b91f02472c82",
   "metadata": {},
   "outputs": [],
   "source": []
  },
  {
   "cell_type": "code",
   "execution_count": null,
   "id": "e095d500-e576-4190-9383-b5aa7b873b56",
   "metadata": {},
   "outputs": [],
   "source": []
  },
  {
   "cell_type": "code",
   "execution_count": null,
   "id": "a9f2ea02-db35-47a2-8bc5-42a5763dc48b",
   "metadata": {},
   "outputs": [],
   "source": []
  },
  {
   "cell_type": "code",
   "execution_count": null,
   "id": "396e24d8-bcf8-430f-9357-3f255ba10ab8",
   "metadata": {},
   "outputs": [],
   "source": []
  },
  {
   "cell_type": "markdown",
   "id": "1c5b8468-f5f2-445b-94a0-dfd8b46062f1",
   "metadata": {},
   "source": [
    "### 1st Run Through Lessons\n",
    "\n",
    "* Best Model:\n",
    "    * XGBoost with a precision recall and accuray of 91%\n",
    "* Feature Set:\n",
    "    * Feature Interaction features and heavy weighting gives us more of the intended results of what it is we want to get from our models\n",
    "    * Market Cap and Income are and should be the leading indicators of whether or not a stock is in the index\n",
    "* Lessons:\n",
    "    * We need more quarterly income data going back a bit further but probably not to before covid\n",
    "    * I am fearful of how the model will perform once we add in the NLP data for market sentiment\n",
    "    * neural networks may be too complex of a model for this dataset; XGBoost does the job well\n",
    "* What to do next:\n",
    "    * Use only the quarterly income feature set as I feel the volume data invites way too much noise"
   ]
  },
  {
   "cell_type": "markdown",
   "id": "4ace5b23-a266-45e3-be90-ce0be53947db",
   "metadata": {},
   "source": [
    "## Classification Model Prep (2nd Run Through)"
   ]
  },
  {
   "cell_type": "markdown",
   "id": "750529f6-7030-41b8-b415-25077028b2eb",
   "metadata": {},
   "source": [
    "We are going to run through all the models above with a new feature set. We are going to drop 12 months of volume column which despite it was time consuming and costly to get it is severely hurting our model here. So the feature set will be the same with the exception of 12 less monthyl volume columns"
   ]
  },
  {
   "cell_type": "code",
   "execution_count": 134,
   "id": "396a8bd2-d32a-497c-b96f-233133612e56",
   "metadata": {},
   "outputs": [],
   "source": [
    "market = pd.concat([snp, rus], ignore_index=True)\n",
    "market = market.sample(frac=1).reset_index(drop=True)\n",
    "\n",
    "X = market.drop(columns=['in_index','Month1_Volume', 'Month2_Volume', 'Month3_Volume', 'Month4_Volume',\n",
    "       'Month5_Volume', 'Month6_Volume', 'Month7_Volume', 'Month8_Volume',\n",
    "       'Month9_Volume', 'Month10_Volume', 'Month11_Volume', 'Month12_Volume',\n",
    "       'Month13_Volume', 'Month14_Volume', 'Month15_Volume', 'Month16_Volume',\n",
    "       'Month17_Volume', 'Month18_Volume', 'Month19_Volume', 'Month20_Volume',\n",
    "       'Month21_Volume', 'Month22_Volume', 'Month23_Volume', 'Month24_Volume'])\n",
    "y = market['in_index']\n",
    "\n",
    "X_train, X_test, y_train, y_test = train_test_split(X, y, test_size=0.33, random_state=42)"
   ]
  },
  {
   "cell_type": "code",
   "execution_count": 135,
   "id": "6ef4a008-04f6-4835-9c7c-7a6453106288",
   "metadata": {},
   "outputs": [],
   "source": [
    "# Saving Ticker for later identification\n",
    "tickers_train = X_train['Ticker'].copy()\n",
    "tickers_test = X_test['Ticker'].copy()\n",
    "\n",
    "# Dropping Ticker and Exchange\n",
    "X_train = X_train.drop(columns=['Ticker', 'Exchange'])\n",
    "X_test = X_test.drop(columns=['Ticker', 'Exchange'])"
   ]
  },
  {
   "cell_type": "code",
   "execution_count": 136,
   "id": "640869e8-5115-47be-845d-e34aa07dc78f",
   "metadata": {},
   "outputs": [],
   "source": [
    "imputer = SimpleImputer(strategy='mean')\n",
    "X_train = imputer.fit_transform(X_train)\n",
    "X_test = imputer.transform(X_test)\n",
    "\n",
    "scaler = StandardScaler()\n",
    "X_train = scaler.fit_transform(X_train)\n",
    "X_test = scaler.transform(X_test)\n",
    "\n",
    "smote = SMOTE(random_state=42)\n",
    "X_train, y_train = smote.fit_resample(X_train, y_train)"
   ]
  },
  {
   "cell_type": "markdown",
   "id": "bc76cd4e-d876-4bc9-8ee7-1dbe48ea8181",
   "metadata": {},
   "source": [
    "## BEST Logistic Regression Model"
   ]
  },
  {
   "cell_type": "code",
   "execution_count": 137,
   "id": "dd291810-ddd4-4449-9a32-72aaefd8fbe0",
   "metadata": {},
   "outputs": [
    {
     "name": "stdout",
     "output_type": "stream",
     "text": [
      "ROC AUC Score: 0.8923949974698187\n",
      "Log Loss: 0.4867872657267001\n",
      "Classification Report:\n",
      "               precision    recall  f1-score   support\n",
      "\n",
      "           0       0.72      0.87      0.78       159\n",
      "           1       0.85      0.68      0.76       174\n",
      "\n",
      "    accuracy                           0.77       333\n",
      "   macro avg       0.78      0.78      0.77       333\n",
      "weighted avg       0.79      0.77      0.77       333\n",
      "\n",
      "Confusion Matrix:\n",
      " [[138  21]\n",
      " [ 55 119]]\n"
     ]
    },
    {
     "data": {
      "text/html": [
       "\n",
       "                <audio  controls=\"controls\" autoplay=\"autoplay\">\n",
       "                    <source src=\"https://www.soundjay.com/button/beep-07.wav\" type=\"audio/x-wav\" />\n",
       "                    Your browser does not support the audio element.\n",
       "                </audio>\n",
       "              "
      ],
      "text/plain": [
       "<IPython.lib.display.Audio object>"
      ]
     },
     "metadata": {},
     "output_type": "display_data"
    }
   ],
   "source": [
    "%timeit\n",
    "param_grid = [\n",
    "    {\n",
    "        'penalty': ['l1'],\n",
    "        'solver': ['saga', 'liblinear'],  # Only these solvers support l1\n",
    "        'class_weight': [None, 'balanced'],\n",
    "        'C': np.logspace(-4, 4, 10)\n",
    "    },\n",
    "    {\n",
    "        'penalty': ['l2'],\n",
    "        'solver': ['lbfgs', 'sag', 'saga', 'newton-cg', 'liblinear'],\n",
    "        'class_weight': [None, 'balanced'],\n",
    "        'C': np.logspace(-4, 4, 10)\n",
    "    }\n",
    "]\n",
    "\n",
    "grid = GridSearchCV(LogisticRegression(max_iter=10000, random_state=42),\n",
    "                    param_grid, cv=5, scoring='f1', n_jobs=-1)\n",
    "\n",
    "grid.fit(X_train, y_train)\n",
    "\n",
    "# Retrieve the best estimator\n",
    "clf_best = grid.best_estimator_\n",
    "\n",
    "# 3. Model Evaluation\n",
    "# -------------------\n",
    "\n",
    "# Predict on test set\n",
    "y_pred = clf_best.predict(X_test)\n",
    "y_pred_proba = clf_best.predict_proba(X_test)[:,1]\n",
    "\n",
    "# Print performance metrics\n",
    "print(\"ROC AUC Score:\", roc_auc_score(y_test, y_pred_proba))\n",
    "print(\"Log Loss:\", log_loss(y_test, y_pred_proba))\n",
    "print(\"Classification Report:\\n\", classification_report(y_test, y_pred))\n",
    "print(\"Confusion Matrix:\\n\", confusion_matrix(y_test, y_pred))\n",
    "play_sound()"
   ]
  },
  {
   "cell_type": "markdown",
   "id": "b7bf510f-b4a2-4915-9dd1-17622c6c4d4c",
   "metadata": {},
   "source": [
    "## BEST Random Forest Classifier"
   ]
  },
  {
   "cell_type": "code",
   "execution_count": 141,
   "id": "e5ed33ad-1efc-4e6b-85d4-1767da3bab8a",
   "metadata": {},
   "outputs": [
    {
     "name": "stdout",
     "output_type": "stream",
     "text": [
      "Fitting 5 folds for each of 432 candidates, totalling 2160 fits\n",
      "Cross-Validation Method: KFold\n",
      "ROC AUC Score: 0.9343237186438227\n",
      "Log Loss: 0.42271138079059567\n",
      "Classification Report:\n",
      "               precision    recall  f1-score   support\n",
      "\n",
      "           0       0.84      0.87      0.85       159\n",
      "           1       0.88      0.85      0.86       174\n",
      "\n",
      "    accuracy                           0.86       333\n",
      "   macro avg       0.86      0.86      0.86       333\n",
      "weighted avg       0.86      0.86      0.86       333\n",
      "\n",
      "Best Parameters: {'max_depth': 20, 'max_features': None, 'min_samples_leaf': 1, 'min_samples_split': 10, 'n_estimators': 100}\n",
      "==============================================\n",
      "\n",
      "Fitting 5 folds for each of 432 candidates, totalling 2160 fits\n",
      "Cross-Validation Method: StratifiedKFold\n",
      "ROC AUC Score: 0.9376852454276007\n",
      "Log Loss: 0.32446195653347865\n",
      "Classification Report:\n",
      "               precision    recall  f1-score   support\n",
      "\n",
      "           0       0.84      0.88      0.86       159\n",
      "           1       0.89      0.85      0.87       174\n",
      "\n",
      "    accuracy                           0.86       333\n",
      "   macro avg       0.86      0.87      0.86       333\n",
      "weighted avg       0.87      0.86      0.86       333\n",
      "\n",
      "Best Parameters: {'max_depth': 20, 'max_features': 'auto', 'min_samples_leaf': 2, 'min_samples_split': 5, 'n_estimators': 100}\n",
      "==============================================\n",
      "\n"
     ]
    }
   ],
   "source": [
    "param_grid = {\n",
    "    'n_estimators': [50,100, 200],\n",
    "    'max_depth': [10, 20, 30, None],\n",
    "    'min_samples_split': [ 5, 10, 15],\n",
    "    'min_samples_leaf': [1, 2, 5],\n",
    "    'max_features': ['auto', 'sqrt', 'log2', None]  # Added max_features\n",
    "}\n",
    "\n",
    "rf = RandomForestClassifier(random_state=42)\n",
    "\n",
    "# Here we're going to use both KFold and StratifiedKFold for demonstration, you can choose one based on your data.\n",
    "cv_methods = [KFold(n_splits=5, shuffle=True, random_state=42), \n",
    "              StratifiedKFold(n_splits=5, shuffle=True, random_state=42)]\n",
    "\n",
    "best_scores = {}\n",
    "best_params = {}\n",
    "\n",
    "for cv_method in cv_methods:\n",
    "    grid_search = GridSearchCV(rf, param_grid, cv=cv_method, scoring='accuracy', n_jobs=-1, verbose=1)\n",
    "    grid_search.fit(X_train, y_train)\n",
    "    \n",
    "    # Predict on test set\n",
    "    y_pred_proba = grid_search.best_estimator_.predict_proba(X_test)[:,1]\n",
    "    y_pred = grid_search.best_estimator_.predict(X_test)\n",
    "    \n",
    "    # Save results for current cv_method\n",
    "    method_name = str(cv_method).split(\"(\")[0]  # Extracting the name of the CV method for display purposes\n",
    "    best_scores[method_name] = roc_auc_score(y_test, y_pred_proba)\n",
    "    best_params[method_name] = grid_search.best_params_\n",
    "\n",
    "    # Print out metrics\n",
    "    print(f\"Cross-Validation Method: {method_name}\")\n",
    "    print(\"ROC AUC Score:\", roc_auc_score(y_test, y_pred_proba))\n",
    "    print(\"Log Loss:\", log_loss(y_test, y_pred_proba))\n",
    "    print(\"Classification Report:\\n\", classification_report(y_test, y_pred))\n",
    "    print(\"Best Parameters:\", grid_search.best_params_)\n",
    "    print(\"==============================================\\n\")\n"
   ]
  },
  {
   "cell_type": "markdown",
   "id": "92ef8e54-9830-4a98-bf2d-bbad6ced965d",
   "metadata": {},
   "source": [
    "## BEST Gradient Boosting Tree"
   ]
  },
  {
   "cell_type": "code",
   "execution_count": 143,
   "id": "451d6621-0c2f-47a1-8731-1c36f352da59",
   "metadata": {},
   "outputs": [],
   "source": [
    "# Ensure you've defined your train/test split and the XGBClassifier\n",
    "from xgboost import XGBClassifier\n",
    "\n",
    "# Given the best parameters from before:\n",
    "best_params = {\n",
    "    'colsample_bytree': 1,\n",
    "    'learning_rate': 0.05,\n",
    "    'max_depth': 3,\n",
    "    'n_estimators': 100,\n",
    "    'subsample': 0.8,\n",
    "    'objective': 'binary:logistic'\n",
    "}\n",
    "\n",
    "xgbc = XGBClassifier(**best_params)\n",
    "xgbc.fit(X_train, y_train)\n",
    "\n",
    "# Now calibrate using CalibratedClassifierCV\n",
    "from sklearn.calibration import CalibratedClassifierCV\n",
    "\n",
    "calibrated_xgbc = CalibratedClassifierCV(xgbc, method='sigmoid', cv='prefit')\n",
    "calibrated_xgbc.fit(X_train, y_train)\n",
    "probs = calibrated_xgbc.predict_proba(X_test)"
   ]
  },
  {
   "cell_type": "code",
   "execution_count": 144,
   "id": "2d106dd1-d057-42d4-a0f7-5aae95467b93",
   "metadata": {},
   "outputs": [
    {
     "name": "stdout",
     "output_type": "stream",
     "text": [
      "              precision    recall  f1-score   support\n",
      "\n",
      "           0       0.83      0.86      0.84       159\n",
      "           1       0.86      0.84      0.85       174\n",
      "\n",
      "    accuracy                           0.85       333\n",
      "   macro avg       0.85      0.85      0.85       333\n",
      "weighted avg       0.85      0.85      0.85       333\n",
      "\n",
      "ROC AUC Score: 0.9388418998048146\n",
      "Log Loss: 0.3985782256258598\n"
     ]
    }
   ],
   "source": [
    "y_prob_calibrated = calibrated_xgbc.predict_proba(X_test)[:, 1]\n",
    "\n",
    "# Convert probabilities to class predictions (threshold = 0.5)\n",
    "y_pred_calibrated = (y_prob_calibrated > 0.5).astype(int)\n",
    "\n",
    "# Print the classification report\n",
    "print(classification_report(y_test, y_pred_calibrated))\n",
    "\n",
    "# Print the ROC AUC Score and Log Loss\n",
    "print(\"ROC AUC Score:\", roc_auc_score(y_test, y_prob_calibrated))\n",
    "print(\"Log Loss:\", log_loss(y_test, y_prob_calibrated))\n"
   ]
  },
  {
   "cell_type": "markdown",
   "id": "fa2579c2-4ca9-4631-81f0-f85f91b3591e",
   "metadata": {},
   "source": [
    "## Best Gradient Boosting Tree w/ Heavy Weighting"
   ]
  },
  {
   "cell_type": "code",
   "execution_count": 145,
   "id": "c6793fb4-0d9a-47d1-9c87-6552ba248c02",
   "metadata": {},
   "outputs": [
    {
     "name": "stdout",
     "output_type": "stream",
     "text": [
      "              precision    recall  f1-score   support\n",
      "\n",
      "           0       0.83      0.88      0.85       145\n",
      "           1       0.89      0.83      0.86       158\n",
      "\n",
      "    accuracy                           0.85       303\n",
      "   macro avg       0.86      0.86      0.85       303\n",
      "weighted avg       0.86      0.85      0.85       303\n",
      "\n",
      "ROC AUC Score: 0.9394151025752946\n",
      "Log Loss: 0.3265426435796759\n"
     ]
    }
   ],
   "source": [
    "# Creating interaction features with other highly correlated features\n",
    "market['MarketCap_Q8NetIncome'] = market['Market Cap'] * market['Q8_NetIncome']\n",
    "market['MarketCap_Q7NetIncome'] = market['Market Cap'] * market['Q7_NetIncome']\n",
    "\n",
    "# Duplicating the Market Cap feature to give it more weight\n",
    "market['MarketCap_duplicate'] = market['Market Cap']\n",
    "\n",
    "# Duplicating the Q1, Q2, Q3, Q4 incomes to give them more weight\n",
    "quarters = ['Q1', 'Q2', 'Q3', 'Q4']\n",
    "for q in quarters:\n",
    "    col_name = f'{q}_NetIncome'\n",
    "    duplicate_col_name = f'{q}_NetIncome_duplicate'\n",
    "    market[duplicate_col_name] = market[col_name]\n",
    "\n",
    "# Splitting the data\n",
    "X_special = market.drop(['in_index', 'Ticker', 'Exchange'], axis=1)\n",
    "y_special = market['in_index']\n",
    "X_train_special, X_test_special, y_train_special, y_test_special = train_test_split(X_special, y_special, test_size=0.3, random_state=42)\n",
    "\n",
    "# Training the XGBoost model\n",
    "xgbc = xgb.XGBClassifier(colsample_bytree=0.8, learning_rate=0.1, max_depth=3, n_estimators=50, subsample=0.8)\n",
    "xgbc.fit(X_train_special, y_train_special)\n",
    "\n",
    "# Predictions and metrics\n",
    "y_pred_special = xgbc.predict(X_test_special)\n",
    "y_pred_proba_special = xgbc.predict_proba(X_test_special)[:, 1]\n",
    "\n",
    "print(classification_report(y_test_special, y_pred_special))\n",
    "print(\"ROC AUC Score:\", roc_auc_score(y_test_special, y_pred_proba_special))\n",
    "print(\"Log Loss:\", log_loss(y_test_special, y_pred_proba_special))\n",
    "\n",
    "# Drop the added columns from market\n",
    "columns_to_drop = ['MarketCap_Q8NetIncome', 'MarketCap_Q7NetIncome', 'MarketCap_duplicate']\n",
    "for q in quarters:\n",
    "    duplicate_col_name = f'{q}_NetIncome_duplicate'\n",
    "    columns_to_drop.append(duplicate_col_name)\n",
    "\n",
    "market.drop(columns_to_drop, axis=1, inplace=True)\n"
   ]
  },
  {
   "cell_type": "markdown",
   "id": "e5475465-4ad3-41fc-92be-61584aff4a90",
   "metadata": {},
   "source": [
    "### 2nd Run Through Lessons:\n",
    "\n",
    "* ALL my models performed significantly worse with the dropped data...."
   ]
  },
  {
   "cell_type": "markdown",
   "id": "2922b719-fa0e-4d4c-904f-d80f6e5564d4",
   "metadata": {},
   "source": [
    "## What To Do Next:\n",
    "* Collect NLP Data\n",
    "* Run some Clustering, KNN Models, SVM"
   ]
  },
  {
   "cell_type": "markdown",
   "id": "5124cf29-a706-4af2-be28-1303a7b466c8",
   "metadata": {},
   "source": [
    "# Model 2: Predictive Model of Next Qaurterly Net Income"
   ]
  },
  {
   "cell_type": "markdown",
   "id": "7a452777-a211-4ea5-8a3d-e1b2ff7149e7",
   "metadata": {},
   "source": [
    "## Predictive Model Prep"
   ]
  },
  {
   "cell_type": "code",
   "execution_count": 17,
   "id": "de25d9bb-e073-4203-8db9-0edbdcb557d0",
   "metadata": {},
   "outputs": [],
   "source": [
    "np.random.seed(42)"
   ]
  },
  {
   "cell_type": "code",
   "execution_count": 18,
   "id": "6c22ac29-f49a-4dcf-9e50-c7a952437043",
   "metadata": {},
   "outputs": [],
   "source": [
    "market = pd.concat([snp, rus], ignore_index=True)\n",
    "market = market.sample(frac=1).reset_index(drop=True)\n",
    "\n",
    "column_mappings = {\n",
    "    \"Q1_NetIncome\": \"NetIncome_Sep_30_2023\",\n",
    "    \"Q2_NetIncome\": \"NetIncome_Jun_30_2023\",\n",
    "    \"Q3_NetIncome\": \"NetIncome_Mar_31_2023\",\n",
    "    \"Q4_NetIncome\": \"NetIncome_Dec_31_2022\",\n",
    "    \"Q5_NetIncome\": \"NetIncome_Sep_30_2022\",\n",
    "    \"Q6_NetIncome\": \"NetIncome_Jun_30_2022\",\n",
    "    \"Q7_NetIncome\": \"NetIncome_Mar_31_2022\",\n",
    "    \"Q8_NetIncome\": \"NetIncome_Dec_31_2021\"\n",
    "}\n",
    "\n",
    "market.rename(columns=column_mappings, inplace=True)\n",
    "market[\"NetIncome_Dec_31_2023\"] = np.nan"
   ]
  },
  {
   "cell_type": "code",
   "execution_count": 19,
   "id": "cfd9da4f-cc52-41b5-aea2-54c563ed67aa",
   "metadata": {},
   "outputs": [],
   "source": [
    "X = market.drop(columns=[\"NetIncome_Dec_31_2023\"])\n",
    "y = market[\"NetIncome_Dec_31_2023\"]\n",
    "\n",
    "X_train, X_test, y_train, y_test = train_test_split(X, y, test_size=0.33, random_state=42)"
   ]
  },
  {
   "cell_type": "code",
   "execution_count": 20,
   "id": "f6aa0722-e0ae-47c4-96f1-8889b96d42b6",
   "metadata": {},
   "outputs": [],
   "source": [
    "# Saving Ticker for later identification\n",
    "tickers_train = X_train['Ticker'].copy()\n",
    "tickers_test = X_test['Ticker'].copy()\n",
    "\n",
    "# Dropping Ticker and Exchange\n",
    "X_train = X_train.drop(columns=['Ticker', 'Exchange'])\n",
    "X_test = X_test.drop(columns=['Ticker', 'Exchange'])"
   ]
  },
  {
   "cell_type": "code",
   "execution_count": null,
   "id": "3c54dcad-2505-42c0-b156-650413061f10",
   "metadata": {},
   "outputs": [],
   "source": []
  },
  {
   "cell_type": "code",
   "execution_count": null,
   "id": "1cf6cc48-89e0-494f-bd2e-9fbfd4c98d44",
   "metadata": {},
   "outputs": [],
   "source": []
  },
  {
   "cell_type": "code",
   "execution_count": null,
   "id": "fc9e2f47-5a29-4fd7-9539-2675088e4c18",
   "metadata": {},
   "outputs": [],
   "source": []
  },
  {
   "cell_type": "code",
   "execution_count": null,
   "id": "04094689-19df-47ed-9902-ac95bab058d9",
   "metadata": {},
   "outputs": [],
   "source": []
  },
  {
   "cell_type": "code",
   "execution_count": null,
   "id": "a896f895-a205-4dad-85fb-c1cf002b20c1",
   "metadata": {},
   "outputs": [],
   "source": []
  },
  {
   "cell_type": "code",
   "execution_count": null,
   "id": "c5734ff6-8f29-4d7a-ba9f-a8c6c91df0a1",
   "metadata": {},
   "outputs": [],
   "source": []
  },
  {
   "cell_type": "code",
   "execution_count": null,
   "id": "c64dcf66-b863-47ed-81de-a0e96a3e5486",
   "metadata": {},
   "outputs": [],
   "source": []
  },
  {
   "cell_type": "code",
   "execution_count": null,
   "id": "b43514e6-cd1d-4a98-a6f4-816b46695a8e",
   "metadata": {},
   "outputs": [],
   "source": []
  },
  {
   "cell_type": "code",
   "execution_count": null,
   "id": "6f8ddcd2-55c6-4426-9a6a-627d42f07817",
   "metadata": {},
   "outputs": [],
   "source": []
  }
 ],
 "metadata": {
  "kernelspec": {
   "display_name": "Python 3 (ipykernel)",
   "language": "python",
   "name": "python3"
  },
  "language_info": {
   "codemirror_mode": {
    "name": "ipython",
    "version": 3
   },
   "file_extension": ".py",
   "mimetype": "text/x-python",
   "name": "python",
   "nbconvert_exporter": "python",
   "pygments_lexer": "ipython3",
   "version": "3.9.13"
  }
 },
 "nbformat": 4,
 "nbformat_minor": 5
}
