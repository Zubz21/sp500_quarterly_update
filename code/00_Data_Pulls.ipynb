{
 "cells": [
  {
   "cell_type": "code",
   "execution_count": 1,
   "id": "521da568-28ab-4b5f-bacd-0b5b6874e8ca",
   "metadata": {},
   "outputs": [
    {
     "name": "stdout",
     "output_type": "stream",
     "text": [
      "Collecting alpha_vantage\n",
      "  Downloading alpha_vantage-2.3.1-py3-none-any.whl (31 kB)\n",
      "Requirement already satisfied: aiohttp in /Users/zubeirsaid/opt/anaconda3/lib/python3.9/site-packages (from alpha_vantage) (3.8.4)\n",
      "Requirement already satisfied: requests in /Users/zubeirsaid/opt/anaconda3/lib/python3.9/site-packages (from alpha_vantage) (2.31.0)\n",
      "Requirement already satisfied: attrs>=17.3.0 in /Users/zubeirsaid/opt/anaconda3/lib/python3.9/site-packages (from aiohttp->alpha_vantage) (23.1.0)\n",
      "Requirement already satisfied: charset-normalizer<4.0,>=2.0 in /Users/zubeirsaid/opt/anaconda3/lib/python3.9/site-packages (from aiohttp->alpha_vantage) (2.0.4)\n",
      "Requirement already satisfied: multidict<7.0,>=4.5 in /Users/zubeirsaid/opt/anaconda3/lib/python3.9/site-packages (from aiohttp->alpha_vantage) (6.0.4)\n",
      "Requirement already satisfied: async-timeout<5.0,>=4.0.0a3 in /Users/zubeirsaid/opt/anaconda3/lib/python3.9/site-packages (from aiohttp->alpha_vantage) (4.0.2)\n",
      "Requirement already satisfied: yarl<2.0,>=1.0 in /Users/zubeirsaid/opt/anaconda3/lib/python3.9/site-packages (from aiohttp->alpha_vantage) (1.8.2)\n",
      "Requirement already satisfied: frozenlist>=1.1.1 in /Users/zubeirsaid/opt/anaconda3/lib/python3.9/site-packages (from aiohttp->alpha_vantage) (1.3.3)\n",
      "Requirement already satisfied: aiosignal>=1.1.2 in /Users/zubeirsaid/opt/anaconda3/lib/python3.9/site-packages (from aiohttp->alpha_vantage) (1.3.1)\n",
      "Requirement already satisfied: idna<4,>=2.5 in /Users/zubeirsaid/opt/anaconda3/lib/python3.9/site-packages (from requests->alpha_vantage) (3.3)\n",
      "Requirement already satisfied: urllib3<3,>=1.21.1 in /Users/zubeirsaid/opt/anaconda3/lib/python3.9/site-packages (from requests->alpha_vantage) (1.26.11)\n",
      "Requirement already satisfied: certifi>=2017.4.17 in /Users/zubeirsaid/opt/anaconda3/lib/python3.9/site-packages (from requests->alpha_vantage) (2022.9.24)\n",
      "Installing collected packages: alpha_vantage\n",
      "Successfully installed alpha_vantage-2.3.1\n"
     ]
    }
   ],
   "source": [
    "!pip install alpha_vantage"
   ]
  },
  {
   "cell_type": "code",
   "execution_count": 26,
   "id": "e47937b4-7e89-4ef6-a95c-bf40b19babcb",
   "metadata": {},
   "outputs": [],
   "source": [
    "from alpha_vantage.timeseries import TimeSeries\n",
    "import matplotlib.pyplot as plt\n",
    "import pandas as pd\n",
    "import numpy as np\n",
    "import requests\n",
    "import time"
   ]
  },
  {
   "cell_type": "code",
   "execution_count": 17,
   "id": "1263b35f-d8ab-4286-87b1-9ffab4d414f6",
   "metadata": {},
   "outputs": [],
   "source": [
    "url = \"https://en.wikipedia.org/wiki/List_of_S%26P_500_companies\"\n",
    "data = pd.read_html(url)\n",
    "table = data[0]\n",
    "tickers_list = table['Symbol'].tolist()\n",
    "\n",
    "tickers_array = np.array(tickers_list)\n",
    "tickers_array_sorted = np.sort(tickers_array)\n"
   ]
  },
  {
   "cell_type": "code",
   "execution_count": 41,
   "id": "0d6cef3c-3945-4888-849f-4533c90dc1e0",
   "metadata": {},
   "outputs": [],
   "source": [
    "#tickers_array_sorted"
   ]
  },
  {
   "cell_type": "code",
   "execution_count": 46,
   "id": "ae1a65c8-9175-4843-8602-413ae78a8edc",
   "metadata": {},
   "outputs": [
    {
     "name": "stdout",
     "output_type": "stream",
     "text": [
      "['CDNS', 'N/A', 'N/A', 'N/A', 'N/A']\n",
      "1\n",
      "['CDW', 'N/A', 'N/A', 'N/A', 'N/A']\n"
     ]
    },
    {
     "ename": "KeyboardInterrupt",
     "evalue": "",
     "output_type": "error",
     "traceback": [
      "\u001b[0;31m---------------------------------------------------------------------------\u001b[0m",
      "\u001b[0;31mKeyboardInterrupt\u001b[0m                         Traceback (most recent call last)",
      "\u001b[0;32m/var/folders/n_/367n_sc56lj0q1ddbd82d5qw0000gn/T/ipykernel_91332/60833113.py\u001b[0m in \u001b[0;36m<module>\u001b[0;34m\u001b[0m\n\u001b[1;32m     44\u001b[0m \u001b[0;32mfor\u001b[0m \u001b[0mticker\u001b[0m \u001b[0;32min\u001b[0m \u001b[0mtickers_batch_2\u001b[0m\u001b[0;34m:\u001b[0m\u001b[0;34m\u001b[0m\u001b[0;34m\u001b[0m\u001b[0m\n\u001b[1;32m     45\u001b[0m     \u001b[0mdata_list_batch_2\u001b[0m\u001b[0;34m.\u001b[0m\u001b[0mappend\u001b[0m\u001b[0;34m(\u001b[0m\u001b[0mfetch_data_for_ticker\u001b[0m\u001b[0;34m(\u001b[0m\u001b[0mticker\u001b[0m\u001b[0;34m)\u001b[0m\u001b[0;34m)\u001b[0m\u001b[0;34m\u001b[0m\u001b[0;34m\u001b[0m\u001b[0m\n\u001b[0;32m---> 46\u001b[0;31m     \u001b[0mtime\u001b[0m\u001b[0;34m.\u001b[0m\u001b[0msleep\u001b[0m\u001b[0;34m(\u001b[0m\u001b[0;36m15\u001b[0m\u001b[0;34m)\u001b[0m  \u001b[0;31m# Introduce a pause to handle rate limits\u001b[0m\u001b[0;34m\u001b[0m\u001b[0;34m\u001b[0m\u001b[0m\n\u001b[0m\u001b[1;32m     47\u001b[0m     \u001b[0mcount\u001b[0m\u001b[0;34m+=\u001b[0m\u001b[0;36m1\u001b[0m\u001b[0;34m\u001b[0m\u001b[0;34m\u001b[0m\u001b[0m\n\u001b[1;32m     48\u001b[0m     \u001b[0mprint\u001b[0m\u001b[0;34m(\u001b[0m\u001b[0mcount\u001b[0m\u001b[0;34m)\u001b[0m\u001b[0;34m\u001b[0m\u001b[0;34m\u001b[0m\u001b[0m\n",
      "\u001b[0;31mKeyboardInterrupt\u001b[0m: "
     ]
    }
   ],
   "source": [
    "import requests\n",
    "import pandas as pd\n",
    "import time\n",
    "\n",
    "API_URL = \"https://www.alphavantage.co/query\"\n",
    "API_KEY = \"T4OUVH0IXFEKGNJA\"\n",
    "count = 0\n",
    "tickers_batch_2 = tickers_array_sorted[86:]\n",
    "# Define a function to fetch data for a given ticker\n",
    "def fetch_data_for_ticker(ticker):\n",
    "    \n",
    "    # Get overview data\n",
    "    params = {\n",
    "        \"function\": \"OVERVIEW\",\n",
    "        \"symbol\": ticker,\n",
    "        \"apikey\": API_KEY\n",
    "    }\n",
    "    response = requests.get(API_URL, params=params)\n",
    "    if response.status_code != 200:\n",
    "        print(f\"Error for ticker {ticker}: {response.text}\")\n",
    "        return [ticker, \"N/A\", \"N/A\", \"N/A\", \"N/A\"]\n",
    "    data = response.json()\n",
    "    \n",
    "    if \"Note\" in data:\n",
    "        print(data[\"Note\"])\n",
    "        time.sleep(60)  # Pause for 60 seconds to handle rate limits\n",
    "        return fetch_data_for_ticker(ticker)  # Retry\n",
    "    \n",
    "    # Extract relevant data with checks\n",
    "    ticker_price = data.get('LatestTradingDay', 'N/A')\n",
    "    market_cap = data.get('MarketCapitalization', 'N/A')\n",
    "    exchange = data.get('Exchange', 'N/A')\n",
    "    outstanding_shares = data.get('SharesOutstanding', 'N/A')\n",
    "    \n",
    "    print([ticker, ticker_price, market_cap, exchange, outstanding_shares])\n",
    "    return [ticker, ticker_price, market_cap, exchange, outstanding_shares]\n",
    "\n",
    "#data_list = []\n",
    "data_list_batch_2 = []\n",
    "for ticker in tickers_batch_2:\n",
    "    data_list_batch_2.append(fetch_data_for_ticker(ticker))\n",
    "    time.sleep(15)  \n",
    "    count+=1\n",
    "    print(count)\n",
    "\n",
    "df = pd.DataFrame(data_list, columns=[\"Ticker\", \"Ticker Price\", \"Market Cap\", \"Exchange\", \"Outstanding Shares\"])\n",
    "\n",
    "print(df)\n"
   ]
  },
  {
   "cell_type": "code",
   "execution_count": null,
   "id": "ced6e3aa-14f3-4946-a040-95ab6071564f",
   "metadata": {},
   "outputs": [],
   "source": [
    "# IMEDDIATELY SAVE THE DATAFRAME TO A CSV FILE"
   ]
  },
  {
   "cell_type": "code",
   "execution_count": 34,
   "id": "f118a873-39ad-4f1f-9489-8af98f5706a1",
   "metadata": {},
   "outputs": [
    {
     "data": {
      "text/plain": [
       "[['A', 'N/A', '32333791000', 'NYSE', '292587000'],\n",
       " ['AAL', 'N/A', '7657403000', 'NASDAQ', '653362000'],\n",
       " ['AAPL', 'N/A', '2796176802000', 'NASDAQ', '15634200000'],\n",
       " ['ABBV', 'N/A', '261156815000', 'NYSE', '1765050000'],\n",
       " ['ABNB', 'N/A', '79173460000', 'NASDAQ', '426359000'],\n",
       " ['ABT', 'N/A', '157692166000', 'NYSE', '1735360000'],\n",
       " ['ACGL', 'N/A', '31387808000', 'NASDAQ', '372954000'],\n",
       " ['ACN', 'N/A', '189851058000', 'NYSE', '629000000'],\n",
       " ['ADBE', 'N/A', '249850429000', 'NASDAQ', '455300000'],\n",
       " ['ADI', 'N/A', '85246575000', 'NASDAQ', '498314000'],\n",
       " ['ADM', 'N/A', '39306998000', 'NYSE', '536102000'],\n",
       " ['ADP', 'N/A', '101963071000', 'NASDAQ', '411972000'],\n",
       " ['ADSK', 'N/A', '44777144000', 'NASDAQ', '213764000'],\n",
       " ['AEE', 'N/A', '20481362000', 'NYSE', '262750000'],\n",
       " ['AEP', 'N/A', '38365155000', 'NASDAQ', '515176000'],\n",
       " ['AES', 'N/A', '8812318000', 'NYSE', '669629000'],\n",
       " ['AFL', 'N/A', '47673475000', 'NYSE', '594062000'],\n",
       " ['AIG', 'N/A', '43489972000', 'NYSE', '711900000'],\n",
       " ['AIZ', 'N/A', '7854253000', 'NYSE', '53023000'],\n",
       " ['AJG', 'N/A', '50402546000', 'NYSE', '215506000'],\n",
       " ['AKAM', 'N/A', '16174122000', 'NASDAQ', '151713000'],\n",
       " ['ALB', 'N/A', '19172153000', 'NYSE', '117347000'],\n",
       " ['ALGN', 'N/A', '20357198000', 'NASDAQ', '76534000'],\n",
       " ['ALK', 'N/A', '4207298000', 'NYSE', '127224000'],\n",
       " ['ALL', 'N/A', '31472583000', 'NYSE', '261574000'],\n",
       " ['ALLE', 'N/A', '9083475000', 'NYSE', '87780000'],\n",
       " ['AMAT', 'N/A', '118068412000', 'NASDAQ', '836534000'],\n",
       " ['AMCR', 'N/A', '12598492000', 'NYSE', '1446440000'],\n",
       " ['AMD', 'N/A', '169790751000', 'NASDAQ', '1615670000'],\n",
       " ['AME', 'N/A', '34293031000', 'NYSE', '230712000'],\n",
       " ['AMGN', 'N/A', '151965368000', 'NASDAQ', '534901000'],\n",
       " ['AMP', 'N/A', '33344215000', 'NYSE', '102626000'],\n",
       " ['AMT', 'N/A', '77829407000', 'NYSE', '466156000'],\n",
       " ['AMZN', 'N/A', '1339147289000', 'NASDAQ', '10317800000'],\n",
       " ['ANET', 'N/A', '58773955000', 'NYSE', '309581000'],\n",
       " ['ANSS', 'N/A', '25441077000', 'NASDAQ', '86791000'],\n",
       " ['AON', 'N/A', '66154934000', 'NYSE', '202867000'],\n",
       " ['AOS', 'N/A', '10573498000', 'NYSE', '124590000'],\n",
       " ['APA', 'N/A', '12674681000', 'NASDAQ', '307265000'],\n",
       " ['APD', 'N/A', '63414649000', 'NYSE', '222149000'],\n",
       " ['APH', 'N/A', '48849584000', 'NYSE', '596454000'],\n",
       " ['APTV', 'N/A', '26856966000', 'NYSE', '282824000'],\n",
       " ['ARE', 'N/A', '17109008000', 'NYSE', '173028000'],\n",
       " ['ATO', 'N/A', '16624775000', 'NYSE', '148462000'],\n",
       " ['AVB', 'N/A', '25054462000', 'NYSE', '142016000'],\n",
       " ['AVGO', 'N/A', '364519293000', 'NASDAQ', '412735000'],\n",
       " ['AVY', 'N/A', '14721672000', 'NYSE', '80583000'],\n",
       " ['AWK', 'N/A', '22978728000', 'NYSE', '194669000'],\n",
       " ['AXON', 'N/A', '16105547000', 'NASDAQ', '74760000'],\n",
       " ['AXP', 'N/A', '111278957000', 'NYSE', '736459000'],\n",
       " ['AZO', 'N/A', '45583565000', 'NYSE', '17857000'],\n",
       " ['BA', 'N/A', '111538446000', 'NYSE', '603204000'],\n",
       " ['BAC', 'N/A', '212644872000', 'NYSE', '7946370000'],\n",
       " ['BALL', 'N/A', '13887801000', 'NYSE', '315059000'],\n",
       " ['BAX', 'N/A', '16123935000', 'NYSE', '506405000'],\n",
       " ['BBWI', 'N/A', '6866906000', 'NYSE', '227381000'],\n",
       " ['BBY', 'N/A', '15123664000', 'NYSE', '217638000'],\n",
       " ['BDX', 'N/A', '75051196000', 'NYSE', '290109000'],\n",
       " ['BEN', 'N/A', '11301851000', 'NYSE', '498978000'],\n",
       " ['BF.B', 'N/A', 'N/A', 'N/A', 'N/A'],\n",
       " ['BG', 'N/A', '15391093000', 'NYSE', '150642000'],\n",
       " ['BIIB', 'N/A', '37981282000', 'NASDAQ', '144823000'],\n",
       " ['BIO', 'N/A', '10075837000', 'NYSE', '24004000'],\n",
       " ['BK', 'N/A', '32070244000', 'NYSE', '778782000'],\n",
       " ['BKNG', 'N/A', '105294848000', 'NASDAQ', '35692200'],\n",
       " ['BKR', 'N/A', '35430248000', 'NASDAQ', '1009650000'],\n",
       " ['BLK', 'N/A', '93711524000', 'NYSE', '149303000'],\n",
       " ['BMY', 'N/A', '117971485000', 'NYSE', '2089100000'],\n",
       " ['BR', 'N/A', '20898898000', 'NYSE', '117621000'],\n",
       " ['BRK.B', 'N/A', 'N/A', 'N/A', 'N/A'],\n",
       " ['BRO', 'N/A', '19770661000', 'NYSE', '283613000'],\n",
       " ['BSX', 'N/A', '72508178000', 'NYSE', '1464220000'],\n",
       " ['BWA', 'N/A', '9226235000', 'NYSE', '235063000'],\n",
       " ['BX', 'N/A', '126294499000', 'NYSE', '709750000'],\n",
       " ['BXP', 'N/A', '8696594000', 'NYSE', '156865000'],\n",
       " ['C', 'N/A', '79781749000', 'NYSE', '1925700000'],\n",
       " ['CAG', 'N/A', '13177577000', 'NYSE', '477968000'],\n",
       " ['CAH', 'N/A', '22965121000', 'NYSE', '246354000'],\n",
       " ['CARR', 'N/A', '44025729000', 'NYSE', '837628000'],\n",
       " ['CAT', 'N/A', '138349740000', 'NYSE', '516346000'],\n",
       " ['CB', 'N/A', '86640443000', 'NYSE', '410735000'],\n",
       " ['CBOE', 'N/A', '17102196000', 'BATS', '105517000'],\n",
       " ['CBRE', 'N/A', '22137926000', 'NYSE', '309838000'],\n",
       " ['CCI', 'N/A', '41000014000', 'NYSE', '433679000'],\n",
       " ['CCL', 'N/A', '16014748000', 'NYSE', '1119450000'],\n",
       " ['CDAY', 'N/A', '11303728000', 'NYSE', '155613000'],\n",
       " ['CDNS', 'N/A', 'N/A', 'N/A', 'N/A'],\n",
       " ['CDW', 'N/A', 'N/A', 'N/A', 'N/A'],\n",
       " ['CE', 'N/A', 'N/A', 'N/A', 'N/A'],\n",
       " ['CEG', 'N/A', 'N/A', 'N/A', 'N/A'],\n",
       " ['CF', 'N/A', 'N/A', 'N/A', 'N/A'],\n",
       " ['CFG', 'N/A', 'N/A', 'N/A', 'N/A'],\n",
       " ['CHD', 'N/A', 'N/A', 'N/A', 'N/A']]"
      ]
     },
     "execution_count": 34,
     "metadata": {},
     "output_type": "execute_result"
    }
   ],
   "source": [
    "data_list"
   ]
  },
  {
   "cell_type": "code",
   "execution_count": 35,
   "id": "80031c0e-fdf7-4d71-8f38-3a84fc0a0ec3",
   "metadata": {},
   "outputs": [],
   "source": [
    "a_to_cday = pd.DataFrame(data_list,columns=[\"Ticker\",\"Price\",\"Market Cap\", \"Exchange\", \"Outstanding Shares\"])\n"
   ]
  },
  {
   "cell_type": "code",
   "execution_count": 38,
   "id": "7cdfb1ca-3058-435e-a306-10b8273e0a3e",
   "metadata": {},
   "outputs": [],
   "source": [
    "a_to_cday = a_to_cday.iloc[:-7]"
   ]
  },
  {
   "cell_type": "code",
   "execution_count": 40,
   "id": "2daeb365-8b0f-451f-ba20-10916625edae",
   "metadata": {},
   "outputs": [
    {
     "data": {
      "text/plain": [
       "(86, 5)"
      ]
     },
     "execution_count": 40,
     "metadata": {},
     "output_type": "execute_result"
    }
   ],
   "source": [
    "a_to_cday.shape"
   ]
  },
  {
   "cell_type": "code",
   "execution_count": 47,
   "id": "45cb8b27-8bb2-4daa-bf93-5b17193db9e7",
   "metadata": {},
   "outputs": [],
   "source": [
    "a_to_cday.to_csv('a_to_cday.csv', index=False)"
   ]
  },
  {
   "cell_type": "code",
   "execution_count": null,
   "id": "00a5d189-29d9-4f87-ba1c-e9aa2a5523ed",
   "metadata": {},
   "outputs": [],
   "source": [
    "API_KEY = 'T4OUVH0IXFEKGNJA'\n",
    "\n",
    "def fetch_data_for_ticker(ticker):\n",
    "    data_dict = {'Ticker': ticker}\n",
    "    \n",
    "   \n",
    "    income_endpoint = f\"https://www.alphavantage.co/query?function=INCOME_STATEMENT&symbol={ticker}&apikey={API_KEY}\"\n",
    "    response = requests.get(income_endpoint)\n",
    "    income_data = response.json()\n",
    "    \n",
    "    if 'quarterlyReports' in income_data:\n",
    "        quarterly_reports = income_data['quarterlyReports']\n",
    "        for i in range(8):  \n",
    "            quarter_key = f\"Q{i+1}_NetIncome\"\n",
    "            data_dict[quarter_key] = quarterly_reports[i]['netIncome']\n",
    "            \n",
    "  \n",
    "    monthly_volume_endpoint = f\"https://www.alphavantage.co/query?function=TIME_SERIES_MONTHLY_ADJUSTED&symbol={ticker}&apikey={API_KEY}\"\n",
    "    response = requests.get(monthly_volume_endpoint)\n",
    "    monthly_volume_data = response.json()\n",
    "    \n",
    "    if 'Monthly Adjusted Time Series' in monthly_volume_data:\n",
    "        monthly_adjusted_series = monthly_volume_data['Monthly Adjusted Time Series']\n",
    "        months = list(monthly_adjusted_series.keys())[:12]\n",
    "        for i, month in enumerate(months):\n",
    "            month_key = f\"Month{i+1}_Volume\"\n",
    "            data_dict[month_key] = monthly_adjusted_series[month]['5. volume']\n",
    "    \n",
    "   \n",
    "    oldest_date = list(monthly_adjusted_series.keys())[-1]\n",
    "    data_dict['OldestDataDate'] = oldest_date \n",
    "    \n",
    "    return data_dict\n",
    "\n",
    "\n",
    "tickers_array_sorted = [ ... ] \n",
    "\n",
    "\n",
    "df = pd.DataFrame()\n",
    "\n",
    "\n",
    "for ticker in tickers_array_sorted:\n",
    "    df = df.append(fetch_data_for_ticker(ticker), ignore_index=True)\n",
    "    time.sleep(15\n"
   ]
  },
  {
   "cell_type": "code",
   "execution_count": null,
   "id": "080d56bc-39b1-43d7-975b-f245dea0e358",
   "metadata": {},
   "outputs": [],
   "source": []
  },
  {
   "cell_type": "code",
   "execution_count": null,
   "id": "e3c42b32-2d80-4598-833f-32f7cc7624bd",
   "metadata": {},
   "outputs": [],
   "source": []
  },
  {
   "cell_type": "code",
   "execution_count": null,
   "id": "b25b3cdc-33f8-4b6b-b291-2f34e3a622d9",
   "metadata": {},
   "outputs": [],
   "source": []
  },
  {
   "cell_type": "code",
   "execution_count": null,
   "id": "ddeedb83-8d16-4e88-a947-2248a7114824",
   "metadata": {},
   "outputs": [],
   "source": []
  },
  {
   "cell_type": "code",
   "execution_count": null,
   "id": "a049b2ce-3f33-4e5a-b29d-7d0848ec4a97",
   "metadata": {},
   "outputs": [],
   "source": []
  }
 ],
 "metadata": {
  "kernelspec": {
   "display_name": "Python 3 (ipykernel)",
   "language": "python",
   "name": "python3"
  },
  "language_info": {
   "codemirror_mode": {
    "name": "ipython",
    "version": 3
   },
   "file_extension": ".py",
   "mimetype": "text/x-python",
   "name": "python",
   "nbconvert_exporter": "python",
   "pygments_lexer": "ipython3",
   "version": "3.9.13"
  }
 },
 "nbformat": 4,
 "nbformat_minor": 5
}
