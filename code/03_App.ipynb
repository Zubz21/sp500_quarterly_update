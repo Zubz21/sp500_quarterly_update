{
 "cells": [
  {
   "cell_type": "code",
   "execution_count": 145,
   "id": "1ba8769f-4ecd-41cf-9491-42de6986510f",
   "metadata": {},
   "outputs": [],
   "source": [
    "import streamlit as st\n",
    "import pandas as pd\n",
    "import pickle"
   ]
  },
  {
   "cell_type": "code",
   "execution_count": 146,
   "id": "b1a41fb7-389c-48c1-8adc-9540a1e27501",
   "metadata": {},
   "outputs": [],
   "source": [
    "with open ('model_1_xgbc.pkl','rb') as f:\n",
    "    model = pickle.load(f)"
   ]
  },
  {
   "cell_type": "code",
   "execution_count": 147,
   "id": "3caad68b-7ab3-4a87-b045-eadc1e898fc7",
   "metadata": {},
   "outputs": [],
   "source": [
    "database = pd.read_csv(\"total_market.csv\")\n",
    "stocks = pd.read_csv(\"trained_market.csv\")"
   ]
  },
  {
   "cell_type": "code",
   "execution_count": 148,
   "id": "be08aa0f-8138-409b-9365-bf3a16545566",
   "metadata": {},
   "outputs": [],
   "source": [
    "stocks = stocks.sort_values('Market Cap')\n",
    "database = database.sort_values('Market Cap')"
   ]
  },
  {
   "cell_type": "code",
   "execution_count": 149,
   "id": "14963b70-de59-4590-9720-b6811d5a4bc6",
   "metadata": {},
   "outputs": [],
   "source": [
    "sp_tickers = database[database['in_index'] == 1]['Ticker'].tolist()\n",
    "index_info = database['in_index'].tolist()\n",
    "ticker = database['Ticker'].tolist()"
   ]
  },
  {
   "cell_type": "code",
   "execution_count": 150,
   "id": "1a10c6ea-cc6b-4bd8-b4ca-e523014cc185",
   "metadata": {},
   "outputs": [],
   "source": [
    "stocks['Ticker'] = ticker\n",
    "stocks['in_index'] = index_info"
   ]
  },
  {
   "cell_type": "code",
   "execution_count": 161,
   "id": "aa01d860-eb58-46cc-ace5-6d2b027d4979",
   "metadata": {},
   "outputs": [],
   "source": [
    "def check_stock_index(ticker, stocks):\n",
    "    # Convert ticker to uppercase if the DataFrame's tickers are stored that way\n",
    "    ticker = ticker.upper()\n",
    "\n",
    "    # Check if the ticker is in the DataFrame\n",
    "    if ticker in stocks['Ticker'].values:\n",
    "        #stocks = stocks.drop('Ticker')\n",
    "        # Get the row where the ticker matches\n",
    "        stock_info = stocks[stocks['Ticker'] == ticker].iloc[0]\n",
    "        \n",
    "        # Check the value of \"in_index\"\n",
    "        if stock_info['in_index'] == 1:\n",
    "            return f\"{ticker} is in the S&P 500.\"\n",
    "        else:\n",
    "            return f\"{ticker} is in the Russell 1000 but not in the S&P 500.\"\n",
    "    else:\n",
    "        return f\"{ticker} was not found in the database.\"\n"
   ]
  },
  {
   "cell_type": "code",
   "execution_count": null,
   "id": "f25d32ed-38bd-4b5f-9252-c12aee173ce8",
   "metadata": {},
   "outputs": [],
   "source": [
    "user_ticker_input = input(\"Enter a stock ticker: \")\n",
    "result = check_stock_index(user_ticker_input, stocks)\n",
    "print(result)"
   ]
  },
  {
   "cell_type": "code",
   "execution_count": 166,
   "id": "1cff903e-3f83-43bd-961a-ad203f813f38",
   "metadata": {},
   "outputs": [
    {
     "name": "stdin",
     "output_type": "stream",
     "text": [
      "Enter a stock ticker:  META\n"
     ]
    },
    {
     "name": "stdout",
     "output_type": "stream",
     "text": [
      "META is in the S&P 500. Predicted value: 1\n"
     ]
    }
   ],
   "source": [
    "def check_stock_index_and_predict(ticker, database):\n",
    "    # Convert ticker to uppercase if the DataFrame's tickers are stored that way\n",
    "    ticker = ticker.upper()\n",
    "\n",
    "    # Check if the ticker is in the DataFrame\n",
    "    if ticker in stocks['Ticker'].values:\n",
    "        # Get the row where the ticker matches\n",
    "        stock_info = stocks[stocks['Ticker'] == ticker]\n",
    "\n",
    "        # Prepare the input for prediction (assuming all necessary preprocessing is done)\n",
    "        # Here we're converting the DataFrame row to a format that the model expects (e.g., numpy array)\n",
    "        # You may need to select only the features columns expected by the model\n",
    "        input_data = stock_info.drop(columns=['Ticker', 'in_index']).to_numpy()\n",
    "        \n",
    "        # Make the prediction using the loaded model\n",
    "        prediction = model.predict(input_data)\n",
    "\n",
    "        # Check the value of \"in_index\" and give the appropriate message\n",
    "        if stock_info['in_index'].iloc[0] == 1:\n",
    "            return f\"{ticker} is in the S&P 500. Predicted value: {prediction[0]}\"\n",
    "        else:\n",
    "            return f\"{ticker} is in the Russell 1000 but not in the S&P 500. Predicted value: {prediction[0]}\"\n",
    "    else:\n",
    "        return f\"{ticker} was not found in the database.\"\n",
    "\n",
    "# Example usage:\n",
    "user_ticker_input = input(\"Enter a stock ticker: \")\n",
    "result = check_stock_index_and_predict(user_ticker_input, stocks)\n",
    "print(result)\n"
   ]
  },
  {
   "cell_type": "code",
   "execution_count": 64,
   "id": "adad88fe-a8cd-4ace-9a3a-0a02ccf61041",
   "metadata": {},
   "outputs": [
    {
     "data": {
      "text/plain": [
       "array([0, 0, 1, ..., 0, 1, 0])"
      ]
     },
     "execution_count": 64,
     "metadata": {},
     "output_type": "execute_result"
    }
   ],
   "source": [
    "model.predict(stocks)"
   ]
  },
  {
   "cell_type": "code",
   "execution_count": 34,
   "id": "1e449ad8-7b93-4365-a5dc-060ce29137b2",
   "metadata": {},
   "outputs": [
    {
     "name": "stdin",
     "output_type": "stream",
     "text": [
      " AAPL\n"
     ]
    }
   ],
   "source": [
    "user_input = input()"
   ]
  },
  {
   "cell_type": "code",
   "execution_count": 68,
   "id": "b83d929b-1ae6-42d2-86a2-188376bd1883",
   "metadata": {},
   "outputs": [],
   "source": [
    "#prediction = model.predict(user_input)"
   ]
  },
  {
   "cell_type": "code",
   "execution_count": 167,
   "id": "869e6847-04a6-44f0-8624-28347daab705",
   "metadata": {},
   "outputs": [
    {
     "data": {
      "text/plain": [
       "Index(['Market Cap', 'Outstanding Shares', 'Q1_NetIncome', 'Q2_NetIncome',\n",
       "       'Q3_NetIncome', 'Q4_NetIncome', 'Q5_NetIncome', 'Q6_NetIncome',\n",
       "       'Q7_NetIncome', 'Q8_NetIncome', 'Month1_Volume', 'Month2_Volume',\n",
       "       'Month3_Volume', 'Month4_Volume', 'Month5_Volume', 'Month6_Volume',\n",
       "       'Month7_Volume', 'Month8_Volume', 'Month9_Volume', 'Month10_Volume',\n",
       "       'Month11_Volume', 'Month12_Volume', 'Month13_Volume', 'Month14_Volume',\n",
       "       'Month15_Volume', 'Month16_Volume', 'Month17_Volume', 'Month18_Volume',\n",
       "       'Month19_Volume', 'Month20_Volume', 'Month21_Volume', 'Month22_Volume',\n",
       "       'Month23_Volume', 'Month24_Volume', 'Underaged', 'Oustanding Shares',\n",
       "       'MarketCap_Q8NetIncome', 'MarketCap_Q7NetIncome', 'MarketCap_duplicate',\n",
       "       'Q1_NetIncome_duplicate', 'Q2_NetIncome_duplicate',\n",
       "       'Q3_NetIncome_duplicate', 'Q4_NetIncome_duplicate', 'Ticker',\n",
       "       'in_index'],\n",
       "      dtype='object')"
      ]
     },
     "execution_count": 167,
     "metadata": {},
     "output_type": "execute_result"
    }
   ],
   "source": [
    "stocks.columns"
   ]
  },
  {
   "cell_type": "code",
   "execution_count": 176,
   "id": "2bfd400c-e440-4fd9-9ecf-13033464081b",
   "metadata": {},
   "outputs": [
    {
     "ename": "KeyError",
     "evalue": "'Oustanding Share'",
     "output_type": "error",
     "traceback": [
      "\u001b[0;31m---------------------------------------------------------------------------\u001b[0m",
      "\u001b[0;31mKeyError\u001b[0m                                  Traceback (most recent call last)",
      "\u001b[0;32m~/opt/anaconda3/lib/python3.9/site-packages/pandas/core/indexes/base.py\u001b[0m in \u001b[0;36mget_loc\u001b[0;34m(self, key, method, tolerance)\u001b[0m\n\u001b[1;32m   3628\u001b[0m             \u001b[0;32mtry\u001b[0m\u001b[0;34m:\u001b[0m\u001b[0;34m\u001b[0m\u001b[0;34m\u001b[0m\u001b[0m\n\u001b[0;32m-> 3629\u001b[0;31m                 \u001b[0;32mreturn\u001b[0m \u001b[0mself\u001b[0m\u001b[0;34m.\u001b[0m\u001b[0m_engine\u001b[0m\u001b[0;34m.\u001b[0m\u001b[0mget_loc\u001b[0m\u001b[0;34m(\u001b[0m\u001b[0mcasted_key\u001b[0m\u001b[0;34m)\u001b[0m\u001b[0;34m\u001b[0m\u001b[0;34m\u001b[0m\u001b[0m\n\u001b[0m\u001b[1;32m   3630\u001b[0m             \u001b[0;32mexcept\u001b[0m \u001b[0mKeyError\u001b[0m \u001b[0;32mas\u001b[0m \u001b[0merr\u001b[0m\u001b[0;34m:\u001b[0m\u001b[0;34m\u001b[0m\u001b[0;34m\u001b[0m\u001b[0m\n",
      "\u001b[0;32m~/opt/anaconda3/lib/python3.9/site-packages/pandas/_libs/index.pyx\u001b[0m in \u001b[0;36mpandas._libs.index.IndexEngine.get_loc\u001b[0;34m()\u001b[0m\n",
      "\u001b[0;32m~/opt/anaconda3/lib/python3.9/site-packages/pandas/_libs/index.pyx\u001b[0m in \u001b[0;36mpandas._libs.index.IndexEngine.get_loc\u001b[0;34m()\u001b[0m\n",
      "\u001b[0;32mpandas/_libs/hashtable_class_helper.pxi\u001b[0m in \u001b[0;36mpandas._libs.hashtable.PyObjectHashTable.get_item\u001b[0;34m()\u001b[0m\n",
      "\u001b[0;32mpandas/_libs/hashtable_class_helper.pxi\u001b[0m in \u001b[0;36mpandas._libs.hashtable.PyObjectHashTable.get_item\u001b[0;34m()\u001b[0m\n",
      "\u001b[0;31mKeyError\u001b[0m: 'Oustanding Share'",
      "\nThe above exception was the direct cause of the following exception:\n",
      "\u001b[0;31mKeyError\u001b[0m                                  Traceback (most recent call last)",
      "\u001b[0;32m/var/folders/n_/367n_sc56lj0q1ddbd82d5qw0000gn/T/ipykernel_8304/1977777534.py\u001b[0m in \u001b[0;36m<module>\u001b[0;34m\u001b[0m\n\u001b[0;32m----> 1\u001b[0;31m \u001b[0mstocks\u001b[0m\u001b[0;34m[\u001b[0m\u001b[0;34m'Oustanding Share'\u001b[0m\u001b[0;34m]\u001b[0m\u001b[0;34m\u001b[0m\u001b[0;34m\u001b[0m\u001b[0m\n\u001b[0m",
      "\u001b[0;32m~/opt/anaconda3/lib/python3.9/site-packages/pandas/core/frame.py\u001b[0m in \u001b[0;36m__getitem__\u001b[0;34m(self, key)\u001b[0m\n\u001b[1;32m   3503\u001b[0m             \u001b[0;32mif\u001b[0m \u001b[0mself\u001b[0m\u001b[0;34m.\u001b[0m\u001b[0mcolumns\u001b[0m\u001b[0;34m.\u001b[0m\u001b[0mnlevels\u001b[0m \u001b[0;34m>\u001b[0m \u001b[0;36m1\u001b[0m\u001b[0;34m:\u001b[0m\u001b[0;34m\u001b[0m\u001b[0;34m\u001b[0m\u001b[0m\n\u001b[1;32m   3504\u001b[0m                 \u001b[0;32mreturn\u001b[0m \u001b[0mself\u001b[0m\u001b[0;34m.\u001b[0m\u001b[0m_getitem_multilevel\u001b[0m\u001b[0;34m(\u001b[0m\u001b[0mkey\u001b[0m\u001b[0;34m)\u001b[0m\u001b[0;34m\u001b[0m\u001b[0;34m\u001b[0m\u001b[0m\n\u001b[0;32m-> 3505\u001b[0;31m             \u001b[0mindexer\u001b[0m \u001b[0;34m=\u001b[0m \u001b[0mself\u001b[0m\u001b[0;34m.\u001b[0m\u001b[0mcolumns\u001b[0m\u001b[0;34m.\u001b[0m\u001b[0mget_loc\u001b[0m\u001b[0;34m(\u001b[0m\u001b[0mkey\u001b[0m\u001b[0;34m)\u001b[0m\u001b[0;34m\u001b[0m\u001b[0;34m\u001b[0m\u001b[0m\n\u001b[0m\u001b[1;32m   3506\u001b[0m             \u001b[0;32mif\u001b[0m \u001b[0mis_integer\u001b[0m\u001b[0;34m(\u001b[0m\u001b[0mindexer\u001b[0m\u001b[0;34m)\u001b[0m\u001b[0;34m:\u001b[0m\u001b[0;34m\u001b[0m\u001b[0;34m\u001b[0m\u001b[0m\n\u001b[1;32m   3507\u001b[0m                 \u001b[0mindexer\u001b[0m \u001b[0;34m=\u001b[0m \u001b[0;34m[\u001b[0m\u001b[0mindexer\u001b[0m\u001b[0;34m]\u001b[0m\u001b[0;34m\u001b[0m\u001b[0;34m\u001b[0m\u001b[0m\n",
      "\u001b[0;32m~/opt/anaconda3/lib/python3.9/site-packages/pandas/core/indexes/base.py\u001b[0m in \u001b[0;36mget_loc\u001b[0;34m(self, key, method, tolerance)\u001b[0m\n\u001b[1;32m   3629\u001b[0m                 \u001b[0;32mreturn\u001b[0m \u001b[0mself\u001b[0m\u001b[0;34m.\u001b[0m\u001b[0m_engine\u001b[0m\u001b[0;34m.\u001b[0m\u001b[0mget_loc\u001b[0m\u001b[0;34m(\u001b[0m\u001b[0mcasted_key\u001b[0m\u001b[0;34m)\u001b[0m\u001b[0;34m\u001b[0m\u001b[0;34m\u001b[0m\u001b[0m\n\u001b[1;32m   3630\u001b[0m             \u001b[0;32mexcept\u001b[0m \u001b[0mKeyError\u001b[0m \u001b[0;32mas\u001b[0m \u001b[0merr\u001b[0m\u001b[0;34m:\u001b[0m\u001b[0;34m\u001b[0m\u001b[0;34m\u001b[0m\u001b[0m\n\u001b[0;32m-> 3631\u001b[0;31m                 \u001b[0;32mraise\u001b[0m \u001b[0mKeyError\u001b[0m\u001b[0;34m(\u001b[0m\u001b[0mkey\u001b[0m\u001b[0;34m)\u001b[0m \u001b[0;32mfrom\u001b[0m \u001b[0merr\u001b[0m\u001b[0;34m\u001b[0m\u001b[0;34m\u001b[0m\u001b[0m\n\u001b[0m\u001b[1;32m   3632\u001b[0m             \u001b[0;32mexcept\u001b[0m \u001b[0mTypeError\u001b[0m\u001b[0;34m:\u001b[0m\u001b[0;34m\u001b[0m\u001b[0;34m\u001b[0m\u001b[0m\n\u001b[1;32m   3633\u001b[0m                 \u001b[0;31m# If we have a listlike key, _check_indexing_error will raise\u001b[0m\u001b[0;34m\u001b[0m\u001b[0;34m\u001b[0m\u001b[0m\n",
      "\u001b[0;31mKeyError\u001b[0m: 'Oustanding Share'"
     ]
    }
   ],
   "source": [
    "stocks['Oustanding Share']"
   ]
  }
 ],
 "metadata": {
  "kernelspec": {
   "display_name": "Python 3 (ipykernel)",
   "language": "python",
   "name": "python3"
  },
  "language_info": {
   "codemirror_mode": {
    "name": "ipython",
    "version": 3
   },
   "file_extension": ".py",
   "mimetype": "text/x-python",
   "name": "python",
   "nbconvert_exporter": "python",
   "pygments_lexer": "ipython3",
   "version": "3.9.13"
  }
 },
 "nbformat": 4,
 "nbformat_minor": 5
}
