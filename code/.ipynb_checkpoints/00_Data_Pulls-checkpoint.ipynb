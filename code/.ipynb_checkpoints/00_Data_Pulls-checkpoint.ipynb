{
 "cells": [
  {
   "cell_type": "code",
   "execution_count": 1,
   "id": "521da568-28ab-4b5f-bacd-0b5b6874e8ca",
   "metadata": {},
   "outputs": [
    {
     "name": "stdout",
     "output_type": "stream",
     "text": [
      "Requirement already satisfied: alpha_vantage in /Users/zubeirsaid/opt/anaconda3/lib/python3.9/site-packages (2.3.1)\n",
      "Requirement already satisfied: aiohttp in /Users/zubeirsaid/opt/anaconda3/lib/python3.9/site-packages (from alpha_vantage) (3.8.4)\n",
      "Requirement already satisfied: requests in /Users/zubeirsaid/opt/anaconda3/lib/python3.9/site-packages (from alpha_vantage) (2.31.0)\n",
      "Requirement already satisfied: attrs>=17.3.0 in /Users/zubeirsaid/opt/anaconda3/lib/python3.9/site-packages (from aiohttp->alpha_vantage) (23.1.0)\n",
      "Requirement already satisfied: charset-normalizer<4.0,>=2.0 in /Users/zubeirsaid/opt/anaconda3/lib/python3.9/site-packages (from aiohttp->alpha_vantage) (2.0.4)\n",
      "Requirement already satisfied: multidict<7.0,>=4.5 in /Users/zubeirsaid/opt/anaconda3/lib/python3.9/site-packages (from aiohttp->alpha_vantage) (6.0.4)\n",
      "Requirement already satisfied: async-timeout<5.0,>=4.0.0a3 in /Users/zubeirsaid/opt/anaconda3/lib/python3.9/site-packages (from aiohttp->alpha_vantage) (4.0.2)\n",
      "Requirement already satisfied: yarl<2.0,>=1.0 in /Users/zubeirsaid/opt/anaconda3/lib/python3.9/site-packages (from aiohttp->alpha_vantage) (1.8.2)\n",
      "Requirement already satisfied: frozenlist>=1.1.1 in /Users/zubeirsaid/opt/anaconda3/lib/python3.9/site-packages (from aiohttp->alpha_vantage) (1.3.3)\n",
      "Requirement already satisfied: aiosignal>=1.1.2 in /Users/zubeirsaid/opt/anaconda3/lib/python3.9/site-packages (from aiohttp->alpha_vantage) (1.3.1)\n",
      "Requirement already satisfied: idna<4,>=2.5 in /Users/zubeirsaid/opt/anaconda3/lib/python3.9/site-packages (from requests->alpha_vantage) (3.3)\n",
      "Requirement already satisfied: urllib3<3,>=1.21.1 in /Users/zubeirsaid/opt/anaconda3/lib/python3.9/site-packages (from requests->alpha_vantage) (1.26.11)\n",
      "Requirement already satisfied: certifi>=2017.4.17 in /Users/zubeirsaid/opt/anaconda3/lib/python3.9/site-packages (from requests->alpha_vantage) (2022.9.24)\n"
     ]
    }
   ],
   "source": [
    "!pip install alpha_vantage"
   ]
  },
  {
   "cell_type": "code",
   "execution_count": 2,
   "id": "e47937b4-7e89-4ef6-a95c-bf40b19babcb",
   "metadata": {},
   "outputs": [],
   "source": [
    "from alpha_vantage.timeseries import TimeSeries\n",
    "import matplotlib.pyplot as plt\n",
    "import pandas as pd\n",
    "import numpy as np\n",
    "import requests\n",
    "import time"
   ]
  },
  {
   "cell_type": "markdown",
   "id": "e891bee8-eaa2-4e58-8929-d075d43b4f71",
   "metadata": {},
   "source": [
    "### API PULL For Ticker Symbol for S&P 500"
   ]
  },
  {
   "cell_type": "code",
   "execution_count": 4,
   "id": "1263b35f-d8ab-4286-87b1-9ffab4d414f6",
   "metadata": {},
   "outputs": [],
   "source": [
    "url = \"https://en.wikipedia.org/wiki/List_of_S%26P_500_companies\"\n",
    "data = pd.read_html(url)\n",
    "table = data[0]\n",
    "tickers_list = table['Symbol'].tolist()\n",
    "\n",
    "tickers_array = np.array(tickers_list)\n",
    "tickers_array_sorted = np.sort(tickers_array)\n"
   ]
  },
  {
   "cell_type": "code",
   "execution_count": 5,
   "id": "0d6cef3c-3945-4888-849f-4533c90dc1e0",
   "metadata": {},
   "outputs": [
    {
     "data": {
      "text/plain": [
       "array(['A', 'AAL', 'AAPL', 'ABBV', 'ABNB', 'ABT', 'ACGL', 'ACN', 'ADBE',\n",
       "       'ADI', 'ADM', 'ADP', 'ADSK', 'AEE', 'AEP', 'AES', 'AFL', 'AIG',\n",
       "       'AIZ', 'AJG', 'AKAM', 'ALB', 'ALGN', 'ALK', 'ALL', 'ALLE', 'AMAT',\n",
       "       'AMCR', 'AMD', 'AME', 'AMGN', 'AMP', 'AMT', 'AMZN', 'ANET', 'ANSS',\n",
       "       'AON', 'AOS', 'APA', 'APD', 'APH', 'APTV', 'ARE', 'ATO', 'AVB',\n",
       "       'AVGO', 'AVY', 'AWK', 'AXON', 'AXP', 'AZO', 'BA', 'BAC', 'BALL',\n",
       "       'BAX', 'BBWI', 'BBY', 'BDX', 'BEN', 'BF.B', 'BG', 'BIIB', 'BIO',\n",
       "       'BK', 'BKNG', 'BKR', 'BLK', 'BMY', 'BR', 'BRK.B', 'BRO', 'BSX',\n",
       "       'BWA', 'BX', 'BXP', 'C', 'CAG', 'CAH', 'CARR', 'CAT', 'CB', 'CBOE',\n",
       "       'CBRE', 'CCI', 'CCL', 'CDAY', 'CDNS', 'CDW', 'CE', 'CEG', 'CF',\n",
       "       'CFG', 'CHD', 'CHRW', 'CHTR', 'CI', 'CINF', 'CL', 'CLX', 'CMA',\n",
       "       'CMCSA', 'CME', 'CMG', 'CMI', 'CMS', 'CNC', 'CNP', 'COF', 'COO',\n",
       "       'COP', 'COR', 'COST', 'CPB', 'CPRT', 'CPT', 'CRL', 'CRM', 'CSCO',\n",
       "       'CSGP', 'CSX', 'CTAS', 'CTLT', 'CTRA', 'CTSH', 'CTVA', 'CVS',\n",
       "       'CVX', 'CZR', 'D', 'DAL', 'DD', 'DE', 'DFS', 'DG', 'DGX', 'DHI',\n",
       "       'DHR', 'DIS', 'DLR', 'DLTR', 'DOV', 'DOW', 'DPZ', 'DRI', 'DTE',\n",
       "       'DUK', 'DVA', 'DVN', 'DXCM', 'EA', 'EBAY', 'ECL', 'ED', 'EFX',\n",
       "       'EG', 'EIX', 'EL', 'ELV', 'EMN', 'EMR', 'ENPH', 'EOG', 'EPAM',\n",
       "       'EQIX', 'EQR', 'EQT', 'ES', 'ESS', 'ETN', 'ETR', 'ETSY', 'EVRG',\n",
       "       'EW', 'EXC', 'EXPD', 'EXPE', 'EXR', 'F', 'FANG', 'FAST', 'FCX',\n",
       "       'FDS', 'FDX', 'FE', 'FFIV', 'FI', 'FICO', 'FIS', 'FITB', 'FLT',\n",
       "       'FMC', 'FOX', 'FOXA', 'FRT', 'FSLR', 'FTNT', 'FTV', 'GD', 'GE',\n",
       "       'GEHC', 'GEN', 'GILD', 'GIS', 'GL', 'GLW', 'GM', 'GNRC', 'GOOG',\n",
       "       'GOOGL', 'GPC', 'GPN', 'GRMN', 'GS', 'GWW', 'HAL', 'HAS', 'HBAN',\n",
       "       'HCA', 'HD', 'HES', 'HIG', 'HII', 'HLT', 'HOLX', 'HON', 'HPE',\n",
       "       'HPQ', 'HRL', 'HSIC', 'HST', 'HSY', 'HUBB', 'HUM', 'HWM', 'IBM',\n",
       "       'ICE', 'IDXX', 'IEX', 'IFF', 'ILMN', 'INCY', 'INTC', 'INTU',\n",
       "       'INVH', 'IP', 'IPG', 'IQV', 'IR', 'IRM', 'ISRG', 'IT', 'ITW',\n",
       "       'IVZ', 'J', 'JBHT', 'JCI', 'JKHY', 'JNJ', 'JNPR', 'JPM', 'K',\n",
       "       'KDP', 'KEY', 'KEYS', 'KHC', 'KIM', 'KLAC', 'KMB', 'KMI', 'KMX',\n",
       "       'KO', 'KR', 'KVUE', 'L', 'LDOS', 'LEN', 'LH', 'LHX', 'LIN', 'LKQ',\n",
       "       'LLY', 'LMT', 'LNT', 'LOW', 'LRCX', 'LULU', 'LUV', 'LVS', 'LW',\n",
       "       'LYB', 'LYV', 'MA', 'MAA', 'MAR', 'MAS', 'MCD', 'MCHP', 'MCK',\n",
       "       'MCO', 'MDLZ', 'MDT', 'MET', 'META', 'MGM', 'MHK', 'MKC', 'MKTX',\n",
       "       'MLM', 'MMC', 'MMM', 'MNST', 'MO', 'MOH', 'MOS', 'MPC', 'MPWR',\n",
       "       'MRK', 'MRNA', 'MRO', 'MS', 'MSCI', 'MSFT', 'MSI', 'MTB', 'MTCH',\n",
       "       'MTD', 'MU', 'NCLH', 'NDAQ', 'NDSN', 'NEE', 'NEM', 'NFLX', 'NI',\n",
       "       'NKE', 'NOC', 'NOW', 'NRG', 'NSC', 'NTAP', 'NTRS', 'NUE', 'NVDA',\n",
       "       'NVR', 'NWS', 'NWSA', 'NXPI', 'O', 'ODFL', 'OKE', 'OMC', 'ON',\n",
       "       'ORCL', 'ORLY', 'OTIS', 'OXY', 'PANW', 'PARA', 'PAYC', 'PAYX',\n",
       "       'PCAR', 'PCG', 'PEAK', 'PEG', 'PEP', 'PFE', 'PFG', 'PG', 'PGR',\n",
       "       'PH', 'PHM', 'PKG', 'PLD', 'PM', 'PNC', 'PNR', 'PNW', 'PODD',\n",
       "       'POOL', 'PPG', 'PPL', 'PRU', 'PSA', 'PSX', 'PTC', 'PWR', 'PXD',\n",
       "       'PYPL', 'QCOM', 'QRVO', 'RCL', 'REG', 'REGN', 'RF', 'RHI', 'RJF',\n",
       "       'RL', 'RMD', 'ROK', 'ROL', 'ROP', 'ROST', 'RSG', 'RTX', 'RVTY',\n",
       "       'SBAC', 'SBUX', 'SCHW', 'SEDG', 'SEE', 'SHW', 'SJM', 'SLB', 'SNA',\n",
       "       'SNPS', 'SO', 'SPG', 'SPGI', 'SRE', 'STE', 'STLD', 'STT', 'STX',\n",
       "       'STZ', 'SWK', 'SWKS', 'SYF', 'SYK', 'SYY', 'T', 'TAP', 'TDG',\n",
       "       'TDY', 'TECH', 'TEL', 'TER', 'TFC', 'TFX', 'TGT', 'TJX', 'TMO',\n",
       "       'TMUS', 'TPR', 'TRGP', 'TRMB', 'TROW', 'TRV', 'TSCO', 'TSLA',\n",
       "       'TSN', 'TT', 'TTWO', 'TXN', 'TXT', 'TYL', 'UAL', 'UDR', 'UHS',\n",
       "       'ULTA', 'UNH', 'UNP', 'UPS', 'URI', 'USB', 'V', 'VFC', 'VICI',\n",
       "       'VLO', 'VLTO', 'VMC', 'VRSK', 'VRSN', 'VRTX', 'VTR', 'VTRS', 'VZ',\n",
       "       'WAB', 'WAT', 'WBA', 'WBD', 'WDC', 'WEC', 'WELL', 'WFC', 'WHR',\n",
       "       'WM', 'WMB', 'WMT', 'WRB', 'WRK', 'WST', 'WTW', 'WY', 'WYNN',\n",
       "       'XEL', 'XOM', 'XRAY', 'XYL', 'YUM', 'ZBH', 'ZBRA', 'ZION', 'ZTS'],\n",
       "      dtype='<U5')"
      ]
     },
     "execution_count": 5,
     "metadata": {},
     "output_type": "execute_result"
    }
   ],
   "source": [
    "tickers_array_sorted"
   ]
  },
  {
   "cell_type": "markdown",
   "id": "81edd552-36d0-4fac-ab95-6b69e4b11ed8",
   "metadata": {},
   "source": [
    "### API Pull for Ticker, Market Cap, Exchange, and Shares Outstanding"
   ]
  },
  {
   "cell_type": "code",
   "execution_count": 200,
   "id": "ae1a65c8-9175-4843-8602-413ae78a8edc",
   "metadata": {},
   "outputs": [
    {
     "name": "stdout",
     "output_type": "stream",
     "text": [
      "['COLB', '4142220000', 'NASDAQ', '208571000']\n",
      "1\n",
      "['COLD', '7367819000', 'NYSE', '270255000']\n",
      "2\n",
      "['COLM', '4477725000', 'NASDAQ', '61330000']\n",
      "3\n",
      "['COTY', '8580263000', 'NYSE', '890993000']\n",
      "4\n",
      "['CPNG', '31286802000', 'NYSE', '1608940000']\n",
      "5\n",
      "['CPRI', '5992824000', 'NYSE', '116140000']\n",
      "6\n",
      "['CR', '4768957000', 'NYSE', '56773000']\n",
      "7\n",
      "['CRI', '2519779000', 'NYSE', '37258300']\n",
      "8\n",
      "['CROX', '5205861000', 'NASDAQ', '61644000']\n",
      "9\n",
      "['CRUS', '3798494000', 'NASDAQ', '54710000']\n",
      "10\n",
      "['CRWD', '44347707000', 'NASDAQ', '226056000']\n",
      "11\n",
      "['CSL', '12311024000', 'NYSE', '49919000']\n",
      "12\n",
      "['CUBE', '8182630000', 'NYSE', '224809000']\n",
      "13\n",
      "['CUZ', '2783994000', 'NYSE', '151774000']\n",
      "14\n",
      "['CW', '7787488000', 'NYSE', '38305400']\n",
      "15\n",
      "['CWEN', '4276465000', 'NYSE', '82386000']\n",
      "16\n",
      "['CWEN.A', 'N/A', 'N/A', 'N/A']\n",
      "17\n",
      "['CXT', '2992061000', 'NYSE', '56797000']\n",
      "18\n",
      "['DAR', '6891607000', 'NYSE', '159491000']\n",
      "19\n",
      "['DASH', '29642871000', 'NASDAQ', '365829000']\n",
      "20\n",
      "['DBX', '9365040000', 'NASDAQ', '257875000']\n",
      "21\n",
      "['DCI', '7094192000', 'NYSE', '120588000']\n",
      "22\n",
      "['DDOG', '28619411000', 'NASDAQ', '299067000']\n",
      "23\n",
      "['DECK', '13299325000', 'NYSE', '26134500']\n",
      "24\n",
      "['DINO', '10263328000', 'NYSE', '181039000']\n",
      "25\n",
      "['DISH', '2696062000', 'NASDAQ', '295438000']\n",
      "26\n",
      "['DKNG', '13246487000', 'NASDAQ', '463975000']\n",
      "27\n",
      "['DKS', '9251364000', 'NYSE', '61452000']\n",
      "28\n",
      "['DLB', '7690509000', 'NYSE', '59556000']\n",
      "29\n",
      "['DNA', '3484091000', 'NYSE', '1600990000']\n",
      "30\n",
      "['DNB', '4251708000', 'NYSE', '439226000']\n",
      "31\n",
      "['DOCS', '4205779000', 'NYSE', '125514000']\n",
      "32\n",
      "['DOCU', '8244026000', 'NASDAQ', '203205000']\n",
      "33\n",
      "['DOX', '9681576000', 'NASDAQ', '119026000']\n",
      "34\n",
      "['DRVN', '1884735000', 'NASDAQ', '167532000']\n",
      "35\n",
      "['FTI', '9063647000', 'NYSE', '438069000']\n",
      "36\n",
      "['FTRE', '2491728000', 'NASDAQ', '88800000']\n",
      "37\n",
      "['FWONA', '15824089000', 'NASDAQ', '23974000']\n",
      "38\n",
      "['FWONK', '15827554000', 'NASDAQ', '208137000']\n",
      "39\n",
      "['FYBR', '4082057000', 'NASDAQ', '245759000']\n",
      "40\n",
      "['G', '6395086000', 'NYSE', '181318000']\n",
      "41\n",
      "['GDDY', '11103147000', 'NYSE', '146812000']\n",
      "42\n",
      "['GFS', '30756254000', 'NASDAQ', '552673000']\n",
      "43\n",
      "['GGG', '11954564000', 'NYSE', '168993000']\n",
      "44\n",
      "['GLOB', '7847449000', 'NYSE', '42434700']\n",
      "45\n",
      "['GLPI', '11989516000', 'NASDAQ', '262640000']\n",
      "46\n",
      "['GME', '4016972000', 'NYSE', '305241000']\n",
      "47\n",
      "['GMED', '7184692000', 'NYSE', '117350000']\n",
      "48\n",
      "['GNTX', '7082448000', 'NASDAQ', '233436000']\n",
      "49\n",
      "['GO', '2718354000', 'NASDAQ', '98777000']\n",
      "50\n",
      "['GPK', '6423782000', 'NYSE', '307211000']\n",
      "51\n",
      "['GPS', '4431174000', 'NYSE', '369881000']\n",
      "52\n",
      "['GTES', '2936636000', 'NYSE', '264086000']\n",
      "53\n",
      "['GTLB', '7068243000', 'NASDAQ', '104100000']\n",
      "54\n",
      "['GWRE', '7253923000', 'NYSE', '81441000']\n",
      "55\n",
      "['GXO', '6339289000', 'NYSE', '118936000']\n",
      "56\n",
      "['H', '10890259000', 'NYSE', '45917100']\n",
      "57\n",
      "['HAYW', '2719386000', 'NYSE', '213118000']\n",
      "58\n",
      "['HCP', '4129814000', 'NASDAQ', '109377000']\n",
      "59\n",
      "['HE', '1370150000', 'NYSE', '109612000']\n",
      "60\n",
      "['HEI', '19501046000', 'NYSE', '54713000']\n",
      "61\n",
      "['HEI.A', 'N/A', 'N/A', 'N/A']\n",
      "62\n",
      "['HHH', '3338857000', 'NYSE', '50103000']\n",
      "63\n",
      "['HIW', '2019006000', 'NYSE', '105676000']\n",
      "64\n",
      "['HLI', '7094612000', 'NYSE', '51450000']\n",
      "65\n",
      "['HOG', '4220856000', 'NYSE', '141687000']\n",
      "66\n",
      "['HOOD', '8329712000', 'NASDAQ', '784179000']\n",
      "67\n",
      "['HR', '5533866000', 'NYSE', '380858000']\n",
      "68\n",
      "['HRB', '6343444000', 'NYSE', '146196000']\n",
      "69\n",
      "['HTZ', '3430052000', 'NASDAQ', '311257000']\n",
      "70\n",
      "['HUBS', '22248305000', 'NYSE', '50015000']\n",
      "71\n",
      "['HUN', '4128943000', 'NYSE', '177895000']\n",
      "72\n",
      "['HXL', '5483513000', 'NYSE', '84466000']\n",
      "73\n",
      "['IAC', '3907710000', 'NASDAQ', '80056000']\n",
      "74\n",
      "['IART', '3160098000', 'NASDAQ', '81404000']\n",
      "75\n",
      "['LEN.B', 'N/A', 'N/A', 'N/A']\n",
      "76\n",
      "['LSXMK', '8237999000', 'NASDAQ', '218680000']\n",
      "77\n",
      "['RGEN', '8156031000', 'NASDAQ', '55756000']\n",
      "78\n",
      "['WING', '5440934000', 'NASDAQ', '29977600']\n",
      "79\n",
      "['WLK', '15065788000', 'NYSE', '127687000']\n",
      "80\n",
      "['WMS', '8672668000', 'NYSE', '78692000']\n",
      "81\n",
      "['WOLF', '4074643000', 'NYSE', '125258000']\n",
      "82\n",
      "['WOOF', '846137000', 'NASDAQ', '229974000']\n",
      "83\n",
      "['WPC', '11449319000', 'NYSE', '213926000']\n",
      "84\n",
      "['WSC', '8274971000', 'NASDAQ', '197305000']\n",
      "85\n",
      "['WSM', '10284368000', 'NYSE', '64145000']\n",
      "86\n",
      "['WSO', '13940966000', 'NYSE', '33817800']\n",
      "87\n",
      "['WTFC', '4733693000', 'NASDAQ', '61212000']\n",
      "88\n",
      "['WTM', '3822675000', 'NYSE', '2560400']\n",
      "89\n",
      "['WTRG', '8855661000', 'NYSE', '264506000']\n",
      "90\n",
      "['WU', '4958843000', 'NYSE', '374535000']\n",
      "91\n",
      "['WWD', '7535283000', 'NASDAQ', '60418000']\n",
      "92\n",
      "['WWE', '8370225000', 'NYSE', '52063000']\n",
      "93\n",
      "['X', '7139308000', 'NYSE', '222964000']\n",
      "94\n",
      "['XP', '11711848000', 'NASDAQ', '435366000']\n",
      "95\n",
      "['XPO', '8296279000', 'NYSE', '115967000']\n",
      "96\n",
      "['YETI', '3546655000', 'NYSE', '86736000']\n",
      "97\n",
      "['Z', '9455844000', 'NASDAQ', '169924000']\n",
      "98\n",
      "['ZG', '9100569000', 'NASDAQ', '56684000']\n",
      "99\n",
      "['ZI', '11333562000', 'NASDAQ', '401470000']\n",
      "100\n",
      "['ZM', '18885050000', 'NASDAQ', '254292000']\n",
      "101\n",
      "['ZS', 'N/A', 'N/A', 'N/A']\n",
      "102\n"
     ]
    }
   ],
   "source": [
    "API_URL = \"https://www.alphavantage.co/query\"\n",
    "API_KEY = 'JFUJ5ADJL1XCA282'#\"T4OUVH0IXFEKGNJA\" (said.zubeir api)\n",
    "count = 0\n",
    "tickers_batch_6 = tickers_array_sorted\n",
    "\n",
    "def fetch_data_for_ticker(ticker):\n",
    "    \n",
    "    # Get overview data\n",
    "    params = {\n",
    "        \"function\": \"OVERVIEW\",\n",
    "        \"symbol\": ticker,\n",
    "        \"apikey\": API_KEY\n",
    "    }\n",
    "    response = requests.get(API_URL, params=params)\n",
    "    if response.status_code != 200:\n",
    "        print(f\"Error for ticker {ticker}: {response.text}\")\n",
    "        return [ticker, \"N/A\", \"N/A\", \"N/A\", \"N/A\"]\n",
    "    data = response.json()\n",
    "    \n",
    "    if \"Note\" in data:\n",
    "        print(data[\"Note\"])\n",
    "        time.sleep(60)  \n",
    "        return fetch_data_for_ticker(ticker) \n",
    "    \n",
    "    # Extract relevant data with checks\n",
    "    #ticker_price = 'N/A'\n",
    "    market_cap = data.get('MarketCapitalization', 'N/A')\n",
    "    exchange = data.get('Exchange', 'N/A')\n",
    "    outstanding_shares = data.get('SharesOutstanding', 'N/A')\n",
    "    \n",
    "    print([ticker,market_cap, exchange, outstanding_shares])\n",
    "    return [ticker, market_cap, exchange, outstanding_shares]\n",
    "\n",
    "#data_list = []\n",
    "data_list_rus = []\n",
    "for ticker in rus_miss_1[98:]:\n",
    "    data_list_rus.append(fetch_data_for_ticker(ticker))\n",
    "    time.sleep(15)  \n",
    "    count+=1\n",
    "    print(count)\n",
    "\n",
    "df = pd.DataFrame(data_list_rus, columns=[\"Ticker\", \"Market Cap\", \"Exchange\", \"Outstanding Shares\"])\n",
    "\n",
    "#print(df)\n"
   ]
  },
  {
   "cell_type": "code",
   "execution_count": 201,
   "id": "9ade60da-bf15-443b-a30d-3e76c27e2f22",
   "metadata": {},
   "outputs": [],
   "source": [
    "df = pd.DataFrame(data_list_rus, columns=[\"Ticker\", \"Market Cap\", \"Exchange\", \"Outstanding Shares\"])\n"
   ]
  },
  {
   "cell_type": "code",
   "execution_count": 203,
   "id": "2e53a551-c83a-47a7-847c-583808c8cf38",
   "metadata": {},
   "outputs": [],
   "source": [
    "df = df.iloc[:-1]"
   ]
  },
  {
   "cell_type": "code",
   "execution_count": 204,
   "id": "a1a8fc7f-0c2d-491c-81e2-c321ebfc1b1e",
   "metadata": {},
   "outputs": [
    {
     "data": {
      "text/html": [
       "<div>\n",
       "<style scoped>\n",
       "    .dataframe tbody tr th:only-of-type {\n",
       "        vertical-align: middle;\n",
       "    }\n",
       "\n",
       "    .dataframe tbody tr th {\n",
       "        vertical-align: top;\n",
       "    }\n",
       "\n",
       "    .dataframe thead th {\n",
       "        text-align: right;\n",
       "    }\n",
       "</style>\n",
       "<table border=\"1\" class=\"dataframe\">\n",
       "  <thead>\n",
       "    <tr style=\"text-align: right;\">\n",
       "      <th></th>\n",
       "      <th>Ticker</th>\n",
       "      <th>Market Cap</th>\n",
       "      <th>Exchange</th>\n",
       "      <th>Outstanding Shares</th>\n",
       "    </tr>\n",
       "  </thead>\n",
       "  <tbody>\n",
       "    <tr>\n",
       "      <th>96</th>\n",
       "      <td>YETI</td>\n",
       "      <td>3546655000</td>\n",
       "      <td>NYSE</td>\n",
       "      <td>86736000</td>\n",
       "    </tr>\n",
       "    <tr>\n",
       "      <th>97</th>\n",
       "      <td>Z</td>\n",
       "      <td>9455844000</td>\n",
       "      <td>NASDAQ</td>\n",
       "      <td>169924000</td>\n",
       "    </tr>\n",
       "    <tr>\n",
       "      <th>98</th>\n",
       "      <td>ZG</td>\n",
       "      <td>9100569000</td>\n",
       "      <td>NASDAQ</td>\n",
       "      <td>56684000</td>\n",
       "    </tr>\n",
       "    <tr>\n",
       "      <th>99</th>\n",
       "      <td>ZI</td>\n",
       "      <td>11333562000</td>\n",
       "      <td>NASDAQ</td>\n",
       "      <td>401470000</td>\n",
       "    </tr>\n",
       "    <tr>\n",
       "      <th>100</th>\n",
       "      <td>ZM</td>\n",
       "      <td>18885050000</td>\n",
       "      <td>NASDAQ</td>\n",
       "      <td>254292000</td>\n",
       "    </tr>\n",
       "  </tbody>\n",
       "</table>\n",
       "</div>"
      ],
      "text/plain": [
       "    Ticker   Market Cap Exchange Outstanding Shares\n",
       "96    YETI   3546655000     NYSE           86736000\n",
       "97       Z   9455844000   NASDAQ          169924000\n",
       "98      ZG   9100569000   NASDAQ           56684000\n",
       "99      ZI  11333562000   NASDAQ          401470000\n",
       "100     ZM  18885050000   NASDAQ          254292000"
      ]
     },
     "execution_count": 204,
     "metadata": {},
     "output_type": "execute_result"
    }
   ],
   "source": [
    "df.tail()"
   ]
  },
  {
   "cell_type": "code",
   "execution_count": 198,
   "id": "e8f4f4a4-719a-4b7f-8710-2a545cf66f6e",
   "metadata": {},
   "outputs": [],
   "source": [
    "#rus_rem1= df"
   ]
  },
  {
   "cell_type": "code",
   "execution_count": 205,
   "id": "b2a48f3e-2ae4-4d5b-8fce-145a0dc5cf2f",
   "metadata": {},
   "outputs": [],
   "source": [
    "rus_rem2 = df"
   ]
  },
  {
   "cell_type": "code",
   "execution_count": 206,
   "id": "b5fec1c8-f5da-4dcf-b5e3-a61c529fb41b",
   "metadata": {},
   "outputs": [
    {
     "data": {
      "text/plain": [
       "(101, 4)"
      ]
     },
     "execution_count": 206,
     "metadata": {},
     "output_type": "execute_result"
    }
   ],
   "source": [
    "rus_rem2.shape"
   ]
  },
  {
   "cell_type": "code",
   "execution_count": 199,
   "id": "1fc69c4f-6ba1-4221-bb41-74065d58ad19",
   "metadata": {},
   "outputs": [
    {
     "data": {
      "text/plain": [
       "(98, 4)"
      ]
     },
     "execution_count": 199,
     "metadata": {},
     "output_type": "execute_result"
    }
   ],
   "source": [
    "rus_rem1.shape"
   ]
  },
  {
   "cell_type": "code",
   "execution_count": 207,
   "id": "c0fe32ad-7d5c-4310-a1a2-8a1ba2aa55db",
   "metadata": {},
   "outputs": [],
   "source": [
    "result = pd.concat([rus_rem1,rus_rem2], axis=0).reset_index(drop=True)"
   ]
  },
  {
   "cell_type": "code",
   "execution_count": 210,
   "id": "bfe0608d-fa07-467d-9a74-c58fb8f32b37",
   "metadata": {},
   "outputs": [],
   "source": [
    "result.to_csv(\"rus_rem.csv\",index=False)"
   ]
  },
  {
   "cell_type": "code",
   "execution_count": 34,
   "id": "f118a873-39ad-4f1f-9489-8af98f5706a1",
   "metadata": {},
   "outputs": [],
   "source": [
    "#data_list"
   ]
  },
  {
   "cell_type": "code",
   "execution_count": 35,
   "id": "80031c0e-fdf7-4d71-8f38-3a84fc0a0ec3",
   "metadata": {},
   "outputs": [],
   "source": [
    "a_to_cday = pd.DataFrame(data_list,columns=[\"Ticker\",\"Price\",\"Market Cap\", \"Exchange\", \"Outstanding Shares\"])\n",
    "a_to_cday = a_to_cday.iloc[:-7]\n",
    "a_to_cday.shape"
   ]
  },
  {
   "cell_type": "code",
   "execution_count": 47,
   "id": "45cb8b27-8bb2-4daa-bf93-5b17193db9e7",
   "metadata": {},
   "outputs": [],
   "source": [
    "a_to_cday.to_csv('a_to_cday.csv', index=False)"
   ]
  },
  {
   "cell_type": "code",
   "execution_count": 7,
   "id": "c16ed7e9-b41e-402a-a4ea-81016a9fd0f0",
   "metadata": {},
   "outputs": [],
   "source": [
    "cdns_to_fico = pd.DataFrame(data_list_batch_2,columns=[\"Ticker\",\"Price\",\"Market Cap\", \"Exchange\", \"Outstanding Shares\"])\n",
    "cdns_to_fico = cdns_to_fico.iloc[:-11]\n",
    "cdns_to_fico.tail()"
   ]
  },
  {
   "cell_type": "code",
   "execution_count": 13,
   "id": "5dd6a842-255b-40fc-9735-c995f6e32f85",
   "metadata": {},
   "outputs": [],
   "source": [
    "cdns_to_fico.to_csv('cdns_to_fico.csv', index=False)"
   ]
  },
  {
   "cell_type": "code",
   "execution_count": 18,
   "id": "a108e790-72c7-4296-8a13-418c7e210849",
   "metadata": {},
   "outputs": [],
   "source": [
    "fis_to_lw = pd.DataFrame(data_list_batch_3,columns=[\"Ticker\",\"Price\",\"Market Cap\", \"Exchange\", \"Outstanding Shares\"])\n",
    "fis_to_lw = fis_to_lw.iloc[:-1]\n",
    "fis_to_lw = fis_to_lw.drop(fis_to_lw.index[0])"
   ]
  },
  {
   "cell_type": "code",
   "execution_count": 33,
   "id": "0e819adb-3abf-42a1-b58f-8374458b434a",
   "metadata": {},
   "outputs": [],
   "source": [
    "fis_to_lw.to_csv(\"fis_to_lw.csv\",index=False)"
   ]
  },
  {
   "cell_type": "code",
   "execution_count": 40,
   "id": "4d636ac6-8420-45df-9a98-2e730abcc931",
   "metadata": {},
   "outputs": [],
   "source": [
    "lyb_to_pypl = pd.DataFrame(data_list_batch_4,columns=[\"Ticker\",\"Price\",\"Market Cap\", \"Exchange\", \"Outstanding Shares\"])\n",
    "lyb_to_pypl = lyb_to_pypl.iloc[:-9]\n",
    "lyb_to_pypl.tail()"
   ]
  },
  {
   "cell_type": "code",
   "execution_count": 44,
   "id": "1cbcf720-b026-4a8b-9b72-46fc41dc4a0f",
   "metadata": {},
   "outputs": [],
   "source": [
    "lyb_to_pypl.to_csv(\"lyb_to_pypl.csv\",index=False)"
   ]
  },
  {
   "cell_type": "code",
   "execution_count": 47,
   "id": "d1bf1b72-b462-4292-957b-760ead169649",
   "metadata": {},
   "outputs": [],
   "source": [
    "qcom_to_txt = pd.DataFrame(data_list_batch_5,columns=[\"Ticker\",\"Price\",\"Market Cap\", \"Exchange\", \"Outstanding Shares\"])"
   ]
  },
  {
   "cell_type": "code",
   "execution_count": 49,
   "id": "b0d6cff6-7528-40ab-9710-8a90be1963bf",
   "metadata": {},
   "outputs": [],
   "source": [
    "qcom_to_txt.to_csv(\"qcom_to_txt.csv\",index=False)"
   ]
  },
  {
   "cell_type": "code",
   "execution_count": 52,
   "id": "6a589172-a545-4051-9338-9fc8b4eac971",
   "metadata": {},
   "outputs": [],
   "source": [
    "tyl_to_zts = pd.DataFrame(data_list_batch_6,columns=[\"Ticker\",\"Price\",\"Market Cap\", \"Exchange\", \"Outstanding Shares\"])"
   ]
  },
  {
   "cell_type": "code",
   "execution_count": 56,
   "id": "93411e29-6f9a-4f7a-b701-e17306cec2f6",
   "metadata": {},
   "outputs": [],
   "source": [
    "tyl_to_zts.to_csv(\"tyl_to_zts.csv\",index=False)"
   ]
  },
  {
   "cell_type": "markdown",
   "id": "46a12b2e-a7d4-4a24-8fa2-c30cc930497c",
   "metadata": {},
   "source": [
    "### API Pull for Last 8 Quarter Earnings"
   ]
  },
  {
   "cell_type": "code",
   "execution_count": 317,
   "id": "20c52d6d-49a5-4b9f-938e-81de82f6dc24",
   "metadata": {},
   "outputs": [],
   "source": [
    "temp_array = [\n",
    "   \"CWEN-A\"\n",
    "]\n"
   ]
  },
  {
   "cell_type": "code",
   "execution_count": 318,
   "id": "e3c42b32-2d80-4598-833f-32f7cc7624bd",
   "metadata": {},
   "outputs": [
    {
     "name": "stdout",
     "output_type": "stream",
     "text": [
      "{'Ticker': 'CWEN-A', 'Q1_NetIncome': '38000000', 'Q2_NetIncome': '0', 'Q3_NetIncome': '12000000', 'Q4_NetIncome': '32000000', 'Q5_NetIncome': '570000000', 'Q6_NetIncome': '-32000000', 'Q7_NetIncome': '-8000000', 'Q8_NetIncome': '21000000'}\n"
     ]
    },
    {
     "name": "stderr",
     "output_type": "stream",
     "text": [
      "/var/folders/n_/367n_sc56lj0q1ddbd82d5qw0000gn/T/ipykernel_35416/1550232455.py:42: FutureWarning: The frame.append method is deprecated and will be removed from pandas in a future version. Use pandas.concat instead.\n",
      "  dfz = dfz.append(fetch_data_for_ticker(ticker), ignore_index=True)\n"
     ]
    }
   ],
   "source": [
    "API_KEY = 'T4OUVH0IXFEKGNJA'\n",
    "\n",
    "def fetch_data_for_ticker(ticker):\n",
    "    data_dict = {'Ticker': ticker}\n",
    "    \n",
    "    monthly_adjusted_series = {}\n",
    "    income_endpoint = f\"https://www.alphavantage.co/query?function=INCOME_STATEMENT&symbol={ticker}&apikey={API_KEY}\"\n",
    "    response = requests.get(income_endpoint)\n",
    "    income_data = response.json()\n",
    "    \n",
    "    if 'quarterlyReports' in income_data:\n",
    "        quarterly_reports = income_data['quarterlyReports']\n",
    "        for i in range(min(8, len(quarterly_reports))): \n",
    "            quarter_key = f\"Q{i+1}_NetIncome\"\n",
    "            data_dict[quarter_key] = quarterly_reports[i]['netIncome']\n",
    "\n",
    "    #monthly_volume_endpoint = f\"https://www.alphavantage.co/query?function=TIME_SERIES_MONTHLY_ADJUSTED&symbol={ticker}&apikey={API_KEY}\"\n",
    "    #response = requests.get(monthly_volume_endpoint)\n",
    "    #monthly_volume_data = response.json()\n",
    "    \n",
    "    #if 'Monthly Adjusted Time Series' in monthly_volume_data:\n",
    "        #monthly_adjusted_series = monthly_volume_data['Monthly Adjusted Time Series']\n",
    "        #if monthly_adjusted_series:\n",
    "            #months = list(monthly_adjusted_series.keys())[:12]\n",
    "            #for i, month in enumerate(months):\n",
    "                #month_key = f\"Month{i+1}_Volume\"\n",
    "                \n",
    "               # if '5. volume' in monthly_adjusted_series[month]:\n",
    "                 #   data_dict[month_key] = monthly_adjusted_series[month]['5. volume']\n",
    "                #else:\n",
    "               #     data_dict[month_key] = None \n",
    "           # oldest_date = list(monthly_adjusted_series.keys())[-1]\n",
    "           # data_dict['OldestDataDate'] = oldest_date \n",
    "    \n",
    "    print(data_dict)\n",
    "    return data_dict\n",
    "\n",
    "\n",
    "dfz = pd.DataFrame()\n",
    "\n",
    "for ticker in temp_array: #rus_miss_1[172:]: #tickers_array_sorted[95:]:\n",
    "    dfz = dfz.append(fetch_data_for_ticker(ticker), ignore_index=True)\n",
    "    time.sleep(15)\n"
   ]
  },
  {
   "cell_type": "code",
   "execution_count": 315,
   "id": "80deab34-9cef-4499-ba55-2a27ff280dc7",
   "metadata": {},
   "outputs": [
    {
     "data": {
      "text/plain": [
       "(7, 9)"
      ]
     },
     "execution_count": 315,
     "metadata": {},
     "output_type": "execute_result"
    }
   ],
   "source": [
    "dfz.shape"
   ]
  },
  {
   "cell_type": "code",
   "execution_count": 316,
   "id": "17820f67-e67e-4149-a9be-10760df401d5",
   "metadata": {},
   "outputs": [],
   "source": [
    "dfz.to_csv(\"rtest3.csv\",index=False)"
   ]
  },
  {
   "cell_type": "code",
   "execution_count": 237,
   "id": "e066e934-8ddb-4336-b155-cec92a63eed9",
   "metadata": {},
   "outputs": [],
   "source": [
    "#dfz1 = dfz\n",
    "#dfz2 = dfz\n",
    "dfz3 = dfz"
   ]
  },
  {
   "cell_type": "code",
   "execution_count": 232,
   "id": "beada777-14d9-4f8e-96d0-04ea9d48d2fe",
   "metadata": {},
   "outputs": [],
   "source": [
    "dfz2 = dfz2.iloc[:-7]"
   ]
  },
  {
   "cell_type": "code",
   "execution_count": 238,
   "id": "2a89e11d-da68-4607-8eb7-653fae87523e",
   "metadata": {},
   "outputs": [
    {
     "data": {
      "text/plain": [
       "((72, 22), (100, 9), (28, 9))"
      ]
     },
     "execution_count": 238,
     "metadata": {},
     "output_type": "execute_result"
    }
   ],
   "source": [
    "dfz1.shape, dfz2.shape,dfz3.shape "
   ]
  },
  {
   "cell_type": "code",
   "execution_count": 233,
   "id": "9b8e5435-9e2a-4ae9-855f-f66ecc4f7aa5",
   "metadata": {},
   "outputs": [
    {
     "data": {
      "text/html": [
       "<div>\n",
       "<style scoped>\n",
       "    .dataframe tbody tr th:only-of-type {\n",
       "        vertical-align: middle;\n",
       "    }\n",
       "\n",
       "    .dataframe tbody tr th {\n",
       "        vertical-align: top;\n",
       "    }\n",
       "\n",
       "    .dataframe thead th {\n",
       "        text-align: right;\n",
       "    }\n",
       "</style>\n",
       "<table border=\"1\" class=\"dataframe\">\n",
       "  <thead>\n",
       "    <tr style=\"text-align: right;\">\n",
       "      <th></th>\n",
       "      <th>Ticker</th>\n",
       "      <th>Q1_NetIncome</th>\n",
       "      <th>Q2_NetIncome</th>\n",
       "      <th>Q3_NetIncome</th>\n",
       "      <th>Q4_NetIncome</th>\n",
       "      <th>Q5_NetIncome</th>\n",
       "      <th>Q6_NetIncome</th>\n",
       "      <th>Q7_NetIncome</th>\n",
       "      <th>Q8_NetIncome</th>\n",
       "    </tr>\n",
       "  </thead>\n",
       "  <tbody>\n",
       "    <tr>\n",
       "      <th>90</th>\n",
       "      <td>HLI</td>\n",
       "      <td>61390000</td>\n",
       "      <td>59660000</td>\n",
       "      <td>63051000</td>\n",
       "      <td>60730000</td>\n",
       "      <td>70782000</td>\n",
       "      <td>65173000</td>\n",
       "      <td>173735000</td>\n",
       "      <td>112883000</td>\n",
       "    </tr>\n",
       "    <tr>\n",
       "      <th>91</th>\n",
       "      <td>HOG</td>\n",
       "      <td>178039000</td>\n",
       "      <td>304090000</td>\n",
       "      <td>41871000</td>\n",
       "      <td>261186000</td>\n",
       "      <td>215849000</td>\n",
       "      <td>222502000</td>\n",
       "      <td>21567000</td>\n",
       "      <td>162973000</td>\n",
       "    </tr>\n",
       "    <tr>\n",
       "      <th>92</th>\n",
       "      <td>HOOD</td>\n",
       "      <td>25000000</td>\n",
       "      <td>-511000000</td>\n",
       "      <td>-166000000</td>\n",
       "      <td>-175000000</td>\n",
       "      <td>-295000000</td>\n",
       "      <td>-392000000</td>\n",
       "      <td>-423000000</td>\n",
       "      <td>-1317000000</td>\n",
       "    </tr>\n",
       "    <tr>\n",
       "      <th>93</th>\n",
       "      <td>HR</td>\n",
       "      <td>-82759000</td>\n",
       "      <td>-87125000</td>\n",
       "      <td>-35764000</td>\n",
       "      <td>28304000</td>\n",
       "      <td>6130000</td>\n",
       "      <td>42227000</td>\n",
       "      <td>21607000</td>\n",
       "      <td>-2066000</td>\n",
       "    </tr>\n",
       "    <tr>\n",
       "      <th>94</th>\n",
       "      <td>HRB</td>\n",
       "      <td>302271000</td>\n",
       "      <td>643429000</td>\n",
       "      <td>-223579000</td>\n",
       "      <td>-168421000</td>\n",
       "      <td>222703000</td>\n",
       "      <td>673177000</td>\n",
       "      <td>-190605000</td>\n",
       "      <td>-151601000</td>\n",
       "    </tr>\n",
       "    <tr>\n",
       "      <th>95</th>\n",
       "      <td>HTZ</td>\n",
       "      <td>139000000</td>\n",
       "      <td>196000000</td>\n",
       "      <td>116000000</td>\n",
       "      <td>577000000</td>\n",
       "      <td>940000000</td>\n",
       "      <td>426000000</td>\n",
       "      <td>-260000000</td>\n",
       "      <td>605000000</td>\n",
       "    </tr>\n",
       "    <tr>\n",
       "      <th>96</th>\n",
       "      <td>HUBS</td>\n",
       "      <td>-118946000</td>\n",
       "      <td>-38282000</td>\n",
       "      <td>-15636000</td>\n",
       "      <td>-31411000</td>\n",
       "      <td>-56361000</td>\n",
       "      <td>-9341000</td>\n",
       "      <td>-16371000</td>\n",
       "      <td>-13735000</td>\n",
       "    </tr>\n",
       "    <tr>\n",
       "      <th>97</th>\n",
       "      <td>HUN</td>\n",
       "      <td>19000000</td>\n",
       "      <td>153000000</td>\n",
       "      <td>-91000000</td>\n",
       "      <td>100000000</td>\n",
       "      <td>228000000</td>\n",
       "      <td>223000000</td>\n",
       "      <td>597000000</td>\n",
       "      <td>209000000</td>\n",
       "    </tr>\n",
       "    <tr>\n",
       "      <th>98</th>\n",
       "      <td>HXL</td>\n",
       "      <td>42500000</td>\n",
       "      <td>42700000</td>\n",
       "      <td>37000000</td>\n",
       "      <td>26800000</td>\n",
       "      <td>44700000</td>\n",
       "      <td>17800000</td>\n",
       "      <td>18900000</td>\n",
       "      <td>9000000</td>\n",
       "    </tr>\n",
       "    <tr>\n",
       "      <th>99</th>\n",
       "      <td>IAC</td>\n",
       "      <td>-89045000</td>\n",
       "      <td>417775000</td>\n",
       "      <td>-1419000</td>\n",
       "      <td>-63823000</td>\n",
       "      <td>-869130000</td>\n",
       "      <td>-235798000</td>\n",
       "      <td>12972000</td>\n",
       "      <td>60690000</td>\n",
       "    </tr>\n",
       "  </tbody>\n",
       "</table>\n",
       "</div>"
      ],
      "text/plain": [
       "   Ticker Q1_NetIncome Q2_NetIncome Q3_NetIncome Q4_NetIncome Q5_NetIncome  \\\n",
       "90    HLI     61390000     59660000     63051000     60730000     70782000   \n",
       "91    HOG    178039000    304090000     41871000    261186000    215849000   \n",
       "92   HOOD     25000000   -511000000   -166000000   -175000000   -295000000   \n",
       "93     HR    -82759000    -87125000    -35764000     28304000      6130000   \n",
       "94    HRB    302271000    643429000   -223579000   -168421000    222703000   \n",
       "95    HTZ    139000000    196000000    116000000    577000000    940000000   \n",
       "96   HUBS   -118946000    -38282000    -15636000    -31411000    -56361000   \n",
       "97    HUN     19000000    153000000    -91000000    100000000    228000000   \n",
       "98    HXL     42500000     42700000     37000000     26800000     44700000   \n",
       "99    IAC    -89045000    417775000     -1419000    -63823000   -869130000   \n",
       "\n",
       "   Q6_NetIncome Q7_NetIncome Q8_NetIncome  \n",
       "90     65173000    173735000    112883000  \n",
       "91    222502000     21567000    162973000  \n",
       "92   -392000000   -423000000  -1317000000  \n",
       "93     42227000     21607000     -2066000  \n",
       "94    673177000   -190605000   -151601000  \n",
       "95    426000000   -260000000    605000000  \n",
       "96     -9341000    -16371000    -13735000  \n",
       "97    223000000    597000000    209000000  \n",
       "98     17800000     18900000      9000000  \n",
       "99   -235798000     12972000     60690000  "
      ]
     },
     "execution_count": 233,
     "metadata": {},
     "output_type": "execute_result"
    }
   ],
   "source": [
    "dfz2.tail(10)"
   ]
  },
  {
   "cell_type": "code",
   "execution_count": 239,
   "id": "c4de120b-3841-44e6-9f10-23ac69cd7b48",
   "metadata": {},
   "outputs": [],
   "source": [
    "result2 = pd.concat([dfz1,dfz2,dfz3], axis=0).reset_index(drop=True)"
   ]
  },
  {
   "cell_type": "code",
   "execution_count": 240,
   "id": "747b76b1-987f-411c-8659-202c42a7d19b",
   "metadata": {},
   "outputs": [
    {
     "data": {
      "text/plain": [
       "(200, 22)"
      ]
     },
     "execution_count": 240,
     "metadata": {},
     "output_type": "execute_result"
    }
   ],
   "source": [
    "result2.shape"
   ]
  },
  {
   "cell_type": "code",
   "execution_count": 241,
   "id": "151dc526-24e9-4f93-9657-63e09b31093d",
   "metadata": {},
   "outputs": [],
   "source": [
    "result3 = pd.merge(result,result2, on='Ticker')"
   ]
  },
  {
   "cell_type": "code",
   "execution_count": 243,
   "id": "2801b889-bc15-4804-b0c0-1dc6a845a648",
   "metadata": {},
   "outputs": [
    {
     "data": {
      "text/plain": [
       "(199, 25)"
      ]
     },
     "execution_count": 243,
     "metadata": {},
     "output_type": "execute_result"
    }
   ],
   "source": [
    "result3.shape"
   ]
  },
  {
   "cell_type": "code",
   "execution_count": 247,
   "id": "40f6a275-19c7-41ec-8476-6d3d34ea1994",
   "metadata": {},
   "outputs": [
    {
     "data": {
      "text/plain": [
       "Ticker                  0\n",
       "Market Cap              0\n",
       "Exchange                0\n",
       "Outstanding Shares      0\n",
       "Q1_NetIncome           16\n",
       "Q2_NetIncome           16\n",
       "Q3_NetIncome           16\n",
       "Q4_NetIncome           17\n",
       "Q5_NetIncome           17\n",
       "Q6_NetIncome           17\n",
       "Q7_NetIncome           17\n",
       "Q8_NetIncome           18\n",
       "Month1_Volume         199\n",
       "Month2_Volume         199\n",
       "Month3_Volume         199\n",
       "Month4_Volume         199\n",
       "Month5_Volume         199\n",
       "Month6_Volume         199\n",
       "Month7_Volume         199\n",
       "Month8_Volume         199\n",
       "Month9_Volume         199\n",
       "Month10_Volume        199\n",
       "Month11_Volume        199\n",
       "Month12_Volume        199\n",
       "OldestDataDate        158\n",
       "dtype: int64"
      ]
     },
     "execution_count": 247,
     "metadata": {},
     "output_type": "execute_result"
    }
   ],
   "source": [
    "result3.isnull().sum()"
   ]
  },
  {
   "cell_type": "code",
   "execution_count": 271,
   "id": "3dbf9268-5eeb-4b89-813e-9c0b4611729b",
   "metadata": {},
   "outputs": [],
   "source": [
    "df.to_csv(\"remaining_3.csv\",index=False)"
   ]
  },
  {
   "cell_type": "markdown",
   "id": "d867d261-5c2d-4da5-9ae7-824e1008e006",
   "metadata": {},
   "source": [
    "### API Pull for Last 24 Month Monthly Volume"
   ]
  },
  {
   "cell_type": "code",
   "execution_count": 320,
   "id": "4b037005-39f7-4d63-99f5-312d75792fef",
   "metadata": {},
   "outputs": [],
   "source": [
    "temp_vol = [\n",
    "    \"LCID\", \"CC\", \"KBR\", \"PARAA\", \"RBLX\", \"PTON\", \"SNOW\", \"SGEN\", \"SPR\", \"U\", \"TWLO\",\n",
    "    \"INFA\", \"LAZ\", \"QS\", \"LYFT\", \"OKTA\", \"NTRA\", \"ROKU\", \"CFLT\", \"CG\", \"CCCS\", \"IONS\",\n",
    "    \"EXAS\", \"THG\", \"SPLK\", \"TEAM\", \"QDEL\", \"SRCL\", \"ESTC\", \"LPX\", \"NCNO\", \"NTNX\", \"ICUI\",\n",
    "    \"MSGS\", \"MRCY\", \"MRVI\", \"IRDM\", \"VSCO\", \"CERT\", \"RKT\", \"PRGO\", \"UAA\", \"TDC\", \"PEN\",\n",
    "    \"NCR\", \"RYN\", \"WTM\", \"PINC\", \"FOUR\", \"MAT\", \"TPG\", \"PLTR\", \"LOPE\", \"RRC\", \"PHIN\", \"MORN\",\n",
    "    \"PCTY\", \"MANH\", \"PLNT\", \"SMG\", \"FIVE\", \"CELH\", \"STAG\", \"WWE\", \"CHE\", \"TRU\", \"KRC\", \"KEX\",\n",
    "    \"CGNX\", \"VVV\", \"VNO\", \"FCN\", \"FLO\", \"ESAB\", \"REYN\", \"WH\", \"LFUS\", \"FND\", \"KNSL\", \"TREX\",\n",
    "    \"WDAY\", \"SLGN\", \"VRT\", \"WWD\", \"RBA\", \"PB\", \"VMI\", \"POST\", \"JHG\", \"SUI\", \"VAC\", \"DTM\",\n",
    "    \"WTRG\", \"SAIA\", \"EHC\", \"WEX\", \"UI\", \"MIDD\", \"SEIC\", \"EXP\", \"SITE\", \"TKR\", \"CBSH\", \"MDU\",\n",
    "    \"SSNC\", \"MUSA\", \"LECO\", \"SNX\", \"EME\", \"CHDN\", \"CCK\", \"CFR\", \"OZK\", \"WU\", \"MTG\", \"ENTG\",\n",
    "    \"RNR\", \"RGA\", \"WAL\", \"JBL\", \"LLYVK\", \"LSXMA\", \"FWONK\", \"UHAL\", \"UTHR\", \"LAD\", \"PAG\", \"RITM\",\n",
    "    \"RS\", \"TOL\", \"X\", \"SCCO\", \"FERG\", \"LEN-B\", \"EEFT\", \"UHAL-B\", \"BF-A\", \"CWEN-A\", \"HEI-A\"\n",
    "]\n",
    "\n"
   ]
  },
  {
   "cell_type": "code",
   "execution_count": 336,
   "id": "408f8fa9-2780-4c19-a983-b861dfd42f6d",
   "metadata": {},
   "outputs": [
    {
     "name": "stdout",
     "output_type": "stream",
     "text": [
      "{'Ticker': 'TKR', 'Month1_Volume': '8459081', 'Month2_Volume': '10755117', 'Month3_Volume': '16997526', 'Month4_Volume': '9967188', 'Month5_Volume': '12326845', 'Month6_Volume': '12255835', 'Month7_Volume': '12304941', 'Month8_Volume': '13390804', 'Month9_Volume': '13916562', 'Month10_Volume': '10380545', 'Month11_Volume': '11007831', 'Month12_Volume': '11513178', 'Month13_Volume': '11668877', 'Month14_Volume': '12778748', 'Month15_Volume': '9224605', 'Month16_Volume': '9836379', 'Month17_Volume': '9562077', 'Month18_Volume': '9841780', 'Month19_Volume': '10035622', 'Month20_Volume': '14202700', 'Month21_Volume': '10848048', 'Month22_Volume': '12325253', 'Month23_Volume': '11992629', 'Month24_Volume': '11140057'}\n"
     ]
    },
    {
     "name": "stderr",
     "output_type": "stream",
     "text": [
      "/var/folders/n_/367n_sc56lj0q1ddbd82d5qw0000gn/T/ipykernel_35416/1204255911.py:28: FutureWarning: The frame.append method is deprecated and will be removed from pandas in a future version. Use pandas.concat instead.\n",
      "  df = df.append(fetch_data_for_ticker(ticker), ignore_index=True)\n"
     ]
    },
    {
     "name": "stdout",
     "output_type": "stream",
     "text": [
      "{'Ticker': 'CBSH', 'Month1_Volume': '9197586', 'Month2_Volume': '12542635', 'Month3_Volume': '9392402', 'Month4_Volume': '14579671', 'Month5_Volume': '12373699', 'Month6_Volume': '13821501', 'Month7_Volume': '12140405', 'Month8_Volume': '15082536', 'Month9_Volume': '7519993', 'Month10_Volume': '7858348', 'Month11_Volume': '7997612', 'Month12_Volume': '6216041', 'Month13_Volume': '8145052', 'Month14_Volume': '8097362', 'Month15_Volume': '9149905', 'Month16_Volume': '7138558', 'Month17_Volume': '8312261', 'Month18_Volume': '8573478', 'Month19_Volume': '8970187', 'Month20_Volume': '9385176', 'Month21_Volume': '8606059', 'Month22_Volume': '8244097', 'Month23_Volume': '9153309', 'Month24_Volume': '5461309'}\n"
     ]
    },
    {
     "name": "stderr",
     "output_type": "stream",
     "text": [
      "/var/folders/n_/367n_sc56lj0q1ddbd82d5qw0000gn/T/ipykernel_35416/1204255911.py:28: FutureWarning: The frame.append method is deprecated and will be removed from pandas in a future version. Use pandas.concat instead.\n",
      "  df = df.append(fetch_data_for_ticker(ticker), ignore_index=True)\n"
     ]
    },
    {
     "name": "stdout",
     "output_type": "stream",
     "text": [
      "{'Ticker': 'MDU', 'Month1_Volume': '15375323', 'Month2_Volume': '26511206', 'Month3_Volume': '46970661', 'Month4_Volume': '42287910', 'Month5_Volume': '42372879', 'Month6_Volume': '28886862', 'Month7_Volume': '12889829', 'Month8_Volume': '27025350', 'Month9_Volume': '16716257', 'Month10_Volume': '13749324', 'Month11_Volume': '16729124', 'Month12_Volume': '17244271', 'Month13_Volume': '23678602', 'Month14_Volume': '19694463', 'Month15_Volume': '27389058', 'Month16_Volume': '23353460', 'Month17_Volume': '33591984', 'Month18_Volume': '33621107', 'Month19_Volume': '36200852', 'Month20_Volume': '45204600', 'Month21_Volume': '28483429', 'Month22_Volume': '19752767', 'Month23_Volume': '20842452', 'Month24_Volume': '18907276'}\n"
     ]
    },
    {
     "name": "stderr",
     "output_type": "stream",
     "text": [
      "/var/folders/n_/367n_sc56lj0q1ddbd82d5qw0000gn/T/ipykernel_35416/1204255911.py:28: FutureWarning: The frame.append method is deprecated and will be removed from pandas in a future version. Use pandas.concat instead.\n",
      "  df = df.append(fetch_data_for_ticker(ticker), ignore_index=True)\n"
     ]
    },
    {
     "name": "stdout",
     "output_type": "stream",
     "text": [
      "{'Ticker': 'SSNC', 'Month1_Volume': '12664240', 'Month2_Volume': '18041630', 'Month3_Volume': '22566647', 'Month4_Volume': '20658873', 'Month5_Volume': '26460465', 'Month6_Volume': '26028259', 'Month7_Volume': '19407858', 'Month8_Volume': '28912672', 'Month9_Volume': '27069305', 'Month10_Volume': '28111742', 'Month11_Volume': '29983473', 'Month12_Volume': '33061561', 'Month13_Volume': '32684289', 'Month14_Volume': '35315547', 'Month15_Volume': '29515068', 'Month16_Volume': '28633896', 'Month17_Volume': '37789916', 'Month18_Volume': '33306804', 'Month19_Volume': '24324422', 'Month20_Volume': '28039875', 'Month21_Volume': '25601549', 'Month22_Volume': '23815751', 'Month23_Volume': '24180357', 'Month24_Volume': '30084758'}\n"
     ]
    },
    {
     "name": "stderr",
     "output_type": "stream",
     "text": [
      "/var/folders/n_/367n_sc56lj0q1ddbd82d5qw0000gn/T/ipykernel_35416/1204255911.py:28: FutureWarning: The frame.append method is deprecated and will be removed from pandas in a future version. Use pandas.concat instead.\n",
      "  df = df.append(fetch_data_for_ticker(ticker), ignore_index=True)\n"
     ]
    },
    {
     "name": "stdout",
     "output_type": "stream",
     "text": [
      "{'Ticker': 'MUSA', 'Month1_Volume': '3304248', 'Month2_Volume': '4853396', 'Month3_Volume': '4855075', 'Month4_Volume': '4097855', 'Month5_Volume': '7877239', 'Month6_Volume': '6004109', 'Month7_Volume': '4431430', 'Month8_Volume': '7128839', 'Month9_Volume': '6886153', 'Month10_Volume': '5229700', 'Month11_Volume': '6566288', 'Month12_Volume': '5682207', 'Month13_Volume': '7832007', 'Month14_Volume': '6914211', 'Month15_Volume': '6197827', 'Month16_Volume': '7084137', 'Month17_Volume': '7928100', 'Month18_Volume': '7871386', 'Month19_Volume': '6413007', 'Month20_Volume': '7084746', 'Month21_Volume': '5520712', 'Month22_Volume': '4140109', 'Month23_Volume': '4332312', 'Month24_Volume': '4635256'}\n"
     ]
    },
    {
     "name": "stderr",
     "output_type": "stream",
     "text": [
      "/var/folders/n_/367n_sc56lj0q1ddbd82d5qw0000gn/T/ipykernel_35416/1204255911.py:28: FutureWarning: The frame.append method is deprecated and will be removed from pandas in a future version. Use pandas.concat instead.\n",
      "  df = df.append(fetch_data_for_ticker(ticker), ignore_index=True)\n"
     ]
    },
    {
     "name": "stdout",
     "output_type": "stream",
     "text": [
      "{'Ticker': 'LECO', 'Month1_Volume': '4095866', 'Month2_Volume': '6381050', 'Month3_Volume': '5587611', 'Month4_Volume': '6910282', 'Month5_Volume': '8065082', 'Month6_Volume': '7252372', 'Month7_Volume': '8490923', 'Month8_Volume': '8923706', 'Month9_Volume': '8531211', 'Month10_Volume': '7592979', 'Month11_Volume': '6585407', 'Month12_Volume': '6370813', 'Month13_Volume': '7547362', 'Month14_Volume': '5590887', 'Month15_Volume': '4248220', 'Month16_Volume': '5710888', 'Month17_Volume': '6322602', 'Month18_Volume': '6012436', 'Month19_Volume': '6183457', 'Month20_Volume': '7280682', 'Month21_Volume': '4861920', 'Month22_Volume': '4484117', 'Month23_Volume': '5167355', 'Month24_Volume': '3144579'}\n"
     ]
    },
    {
     "name": "stderr",
     "output_type": "stream",
     "text": [
      "/var/folders/n_/367n_sc56lj0q1ddbd82d5qw0000gn/T/ipykernel_35416/1204255911.py:28: FutureWarning: The frame.append method is deprecated and will be removed from pandas in a future version. Use pandas.concat instead.\n",
      "  df = df.append(fetch_data_for_ticker(ticker), ignore_index=True)\n"
     ]
    },
    {
     "name": "stdout",
     "output_type": "stream",
     "text": [
      "{'Ticker': 'SNX', 'Month1_Volume': '12137356', 'Month2_Volume': '10822852', 'Month3_Volume': '6390030', 'Month4_Volume': '9566906', 'Month5_Volume': '9710247', 'Month6_Volume': '6561047', 'Month7_Volume': '8172173', 'Month8_Volume': '11050944', 'Month9_Volume': '7858153', 'Month10_Volume': '11137939', 'Month11_Volume': '4343912', 'Month12_Volume': '5017549', 'Month13_Volume': '6324084', 'Month14_Volume': '7836436', 'Month15_Volume': '5643131', 'Month16_Volume': '5496235', 'Month17_Volume': '7985454', 'Month18_Volume': '6797898', 'Month19_Volume': '6902802', 'Month20_Volume': '7658389', 'Month21_Volume': '5551311', 'Month22_Volume': '8377679', 'Month23_Volume': '6719573', 'Month24_Volume': '5094329'}\n"
     ]
    },
    {
     "name": "stderr",
     "output_type": "stream",
     "text": [
      "/var/folders/n_/367n_sc56lj0q1ddbd82d5qw0000gn/T/ipykernel_35416/1204255911.py:28: FutureWarning: The frame.append method is deprecated and will be removed from pandas in a future version. Use pandas.concat instead.\n",
      "  df = df.append(fetch_data_for_ticker(ticker), ignore_index=True)\n"
     ]
    },
    {
     "name": "stdout",
     "output_type": "stream",
     "text": [
      "{'Ticker': 'EME', 'Month1_Volume': '3966267', 'Month2_Volume': '5454215', 'Month3_Volume': '7239166', 'Month4_Volume': '7119903', 'Month5_Volume': '13736450', 'Month6_Volume': '7090070', 'Month7_Volume': '8112248', 'Month8_Volume': '8019478', 'Month9_Volume': '6068228', 'Month10_Volume': '4328762', 'Month11_Volume': '6963732', 'Month12_Volume': '7823220', 'Month13_Volume': '6682291', 'Month14_Volume': '7080095', 'Month15_Volume': '6205088', 'Month16_Volume': '4599490', 'Month17_Volume': '9114051', 'Month18_Volume': '7701952', 'Month19_Volume': '8625937', 'Month20_Volume': '6736120', 'Month21_Volume': '5254412', 'Month22_Volume': '5675648', 'Month23_Volume': '4721678', 'Month24_Volume': '4279423'}\n"
     ]
    },
    {
     "name": "stderr",
     "output_type": "stream",
     "text": [
      "/var/folders/n_/367n_sc56lj0q1ddbd82d5qw0000gn/T/ipykernel_35416/1204255911.py:28: FutureWarning: The frame.append method is deprecated and will be removed from pandas in a future version. Use pandas.concat instead.\n",
      "  df = df.append(fetch_data_for_ticker(ticker), ignore_index=True)\n"
     ]
    },
    {
     "name": "stdout",
     "output_type": "stream",
     "text": [
      "{'Ticker': 'CHDN', 'Month1_Volume': '5321531', 'Month2_Volume': '8831150', 'Month3_Volume': '9452329', 'Month4_Volume': '7543306', 'Month5_Volume': '8807550', 'Month6_Volume': '5446841', 'Month7_Volume': '3804911', 'Month8_Volume': '5066988', 'Month9_Volume': '3131594', 'Month10_Volume': '2987864', 'Month11_Volume': '4980926', 'Month12_Volume': '3549073', 'Month13_Volume': '3731034', 'Month14_Volume': '4137380', 'Month15_Volume': '3865988', 'Month16_Volume': '3126184', 'Month17_Volume': '3957891', 'Month18_Volume': '5334392', 'Month19_Volume': '3616082', 'Month20_Volume': '4462962', 'Month21_Volume': '3334810', 'Month22_Volume': '3853550', 'Month23_Volume': '4223780', 'Month24_Volume': '3463854'}\n"
     ]
    },
    {
     "name": "stderr",
     "output_type": "stream",
     "text": [
      "/var/folders/n_/367n_sc56lj0q1ddbd82d5qw0000gn/T/ipykernel_35416/1204255911.py:28: FutureWarning: The frame.append method is deprecated and will be removed from pandas in a future version. Use pandas.concat instead.\n",
      "  df = df.append(fetch_data_for_ticker(ticker), ignore_index=True)\n"
     ]
    },
    {
     "name": "stdout",
     "output_type": "stream",
     "text": [
      "{'Ticker': 'CCK', 'Month1_Volume': '16598639', 'Month2_Volume': '14507065', 'Month3_Volume': '19323696', 'Month4_Volume': '19685150', 'Month5_Volume': '51975635', 'Month6_Volume': '17698811', 'Month7_Volume': '19851916', 'Month8_Volume': '19480060', 'Month9_Volume': '18608955', 'Month10_Volume': '24208040', 'Month11_Volume': '27128836', 'Month12_Volume': '30232305', 'Month13_Volume': '46922383', 'Month14_Volume': '31796557', 'Month15_Volume': '25922030', 'Month16_Volume': '27285247', 'Month17_Volume': '23864649', 'Month18_Volume': '24697719', 'Month19_Volume': '28659377', 'Month20_Volume': '27921662', 'Month21_Volume': '23700003', 'Month22_Volume': '21478327', 'Month23_Volume': '19271046', 'Month24_Volume': '24576766'}\n"
     ]
    },
    {
     "name": "stderr",
     "output_type": "stream",
     "text": [
      "/var/folders/n_/367n_sc56lj0q1ddbd82d5qw0000gn/T/ipykernel_35416/1204255911.py:28: FutureWarning: The frame.append method is deprecated and will be removed from pandas in a future version. Use pandas.concat instead.\n",
      "  df = df.append(fetch_data_for_ticker(ticker), ignore_index=True)\n"
     ]
    },
    {
     "name": "stdout",
     "output_type": "stream",
     "text": [
      "{'Ticker': 'CFR', 'Month1_Volume': '6240204', 'Month2_Volume': '8612408', 'Month3_Volume': '8908051', 'Month4_Volume': '14175446', 'Month5_Volume': '10842871', 'Month6_Volume': '14551021', 'Month7_Volume': '11564105', 'Month8_Volume': '21583516', 'Month9_Volume': '7449509', 'Month10_Volume': '8310549', 'Month11_Volume': '9073144', 'Month12_Volume': '7006199', 'Month13_Volume': '8965611', 'Month14_Volume': '10565208', 'Month15_Volume': '5943108', 'Month16_Volume': '5575887', 'Month17_Volume': '8299672', 'Month18_Volume': '7888874', 'Month19_Volume': '8378464', 'Month20_Volume': '9177156', 'Month21_Volume': '7661857', 'Month22_Volume': '9224833', 'Month23_Volume': '5467362', 'Month24_Volume': '5515011'}\n"
     ]
    },
    {
     "name": "stderr",
     "output_type": "stream",
     "text": [
      "/var/folders/n_/367n_sc56lj0q1ddbd82d5qw0000gn/T/ipykernel_35416/1204255911.py:28: FutureWarning: The frame.append method is deprecated and will be removed from pandas in a future version. Use pandas.concat instead.\n",
      "  df = df.append(fetch_data_for_ticker(ticker), ignore_index=True)\n"
     ]
    },
    {
     "name": "stdout",
     "output_type": "stream",
     "text": [
      "{'Ticker': 'OZK', 'Month1_Volume': '14481542', 'Month2_Volume': '18314038', 'Month3_Volume': '19040862', 'Month4_Volume': '42758031', 'Month5_Volume': '30358476', 'Month6_Volume': '39952398', 'Month7_Volume': '44873236', 'Month8_Volume': '57483792', 'Month9_Volume': '14322883', 'Month10_Volume': '20099900', 'Month11_Volume': '16447989', 'Month12_Volume': '13012008', 'Month13_Volume': '22152899', 'Month14_Volume': '15483315', 'Month15_Volume': '10370014', 'Month16_Volume': '16484585', 'Month17_Volume': '18740738', 'Month18_Volume': '16729371', 'Month19_Volume': '22292569', 'Month20_Volume': '16186443', 'Month21_Volume': '10170247', 'Month22_Volume': '15055931', 'Month23_Volume': '11379251', 'Month24_Volume': '9820449'}\n"
     ]
    },
    {
     "name": "stderr",
     "output_type": "stream",
     "text": [
      "/var/folders/n_/367n_sc56lj0q1ddbd82d5qw0000gn/T/ipykernel_35416/1204255911.py:28: FutureWarning: The frame.append method is deprecated and will be removed from pandas in a future version. Use pandas.concat instead.\n",
      "  df = df.append(fetch_data_for_ticker(ticker), ignore_index=True)\n"
     ]
    },
    {
     "name": "stdout",
     "output_type": "stream",
     "text": [
      "{'Ticker': 'WU', 'Month1_Volume': '59475472', 'Month2_Volume': '104053976', 'Month3_Volume': '78481032', 'Month4_Volume': '91828841', 'Month5_Volume': '113666819', 'Month6_Volume': '145773203', 'Month7_Volume': '108730587', 'Month8_Volume': '280811613', 'Month9_Volume': '186215619', 'Month10_Volume': '85627049', 'Month11_Volume': '105929457', 'Month12_Volume': '108106782', 'Month13_Volume': '111395065', 'Month14_Volume': '99917555', 'Month15_Volume': '87973093', 'Month16_Volume': '62771852', 'Month17_Volume': '71744388', 'Month18_Volume': '80421803', 'Month19_Volume': '74949636', 'Month20_Volume': '138247053', 'Month21_Volume': '109964894', 'Month22_Volume': '128229349', 'Month23_Volume': '228434203', 'Month24_Volume': '142158019'}\n"
     ]
    },
    {
     "name": "stderr",
     "output_type": "stream",
     "text": [
      "/var/folders/n_/367n_sc56lj0q1ddbd82d5qw0000gn/T/ipykernel_35416/1204255911.py:28: FutureWarning: The frame.append method is deprecated and will be removed from pandas in a future version. Use pandas.concat instead.\n",
      "  df = df.append(fetch_data_for_ticker(ticker), ignore_index=True)\n"
     ]
    },
    {
     "name": "stdout",
     "output_type": "stream",
     "text": [
      "{'Ticker': 'MTG', 'Month1_Volume': '26163449', 'Month2_Volume': '33939306', 'Month3_Volume': '42121958', 'Month4_Volume': '35408546', 'Month5_Volume': '50285072', 'Month6_Volume': '46868032', 'Month7_Volume': '37805684', 'Month8_Volume': '96041273', 'Month9_Volume': '47757710', 'Month10_Volume': '60629621', 'Month11_Volume': '61547126', 'Month12_Volume': '64065525', 'Month13_Volume': '79570559', 'Month14_Volume': '55855668', 'Month15_Volume': '54109665', 'Month16_Volume': '45397209', 'Month17_Volume': '63101201', 'Month18_Volume': '66027912', 'Month19_Volume': '57314512', 'Month20_Volume': '96691839', 'Month21_Volume': '57778087', 'Month22_Volume': '65861549', 'Month23_Volume': '73116303', 'Month24_Volume': '61264014'}\n"
     ]
    },
    {
     "name": "stderr",
     "output_type": "stream",
     "text": [
      "/var/folders/n_/367n_sc56lj0q1ddbd82d5qw0000gn/T/ipykernel_35416/1204255911.py:28: FutureWarning: The frame.append method is deprecated and will be removed from pandas in a future version. Use pandas.concat instead.\n",
      "  df = df.append(fetch_data_for_ticker(ticker), ignore_index=True)\n"
     ]
    },
    {
     "name": "stdout",
     "output_type": "stream",
     "text": [
      "{'Ticker': 'ENTG', 'Month1_Volume': '18113315', 'Month2_Volume': '21451077', 'Month3_Volume': '26326128', 'Month4_Volume': '23225626', 'Month5_Volume': '31121126', 'Month6_Volume': '45716808', 'Month7_Volume': '26851389', 'Month8_Volume': '30874068', 'Month9_Volume': '40521324', 'Month10_Volume': '32387443', 'Month11_Volume': '39747770', 'Month12_Volume': '47484275', 'Month13_Volume': '30433629', 'Month14_Volume': '32032328', 'Month15_Volume': '26991076', 'Month16_Volume': '31949847', 'Month17_Volume': '36784523', 'Month18_Volume': '25336050', 'Month19_Volume': '29523231', 'Month20_Volume': '31315938', 'Month21_Volume': '24896104', 'Month22_Volume': '27481979', 'Month23_Volume': '25042116', 'Month24_Volume': '26951316'}\n"
     ]
    },
    {
     "name": "stderr",
     "output_type": "stream",
     "text": [
      "/var/folders/n_/367n_sc56lj0q1ddbd82d5qw0000gn/T/ipykernel_35416/1204255911.py:28: FutureWarning: The frame.append method is deprecated and will be removed from pandas in a future version. Use pandas.concat instead.\n",
      "  df = df.append(fetch_data_for_ticker(ticker), ignore_index=True)\n"
     ]
    },
    {
     "name": "stdout",
     "output_type": "stream",
     "text": [
      "{'Ticker': 'RNR', 'Month1_Volume': '5904565', 'Month2_Volume': '6263913', 'Month3_Volume': '9483870', 'Month4_Volume': '9007933', 'Month5_Volume': '9226679', 'Month6_Volume': '16280921', 'Month7_Volume': '4815855', 'Month8_Volume': '7601247', 'Month9_Volume': '7311927', 'Month10_Volume': '6126557', 'Month11_Volume': '6281697', 'Month12_Volume': '9765482', 'Month13_Volume': '10529124', 'Month14_Volume': '10914701', 'Month15_Volume': '7888532', 'Month16_Volume': '8650199', 'Month17_Volume': '5753216', 'Month18_Volume': '6615694', 'Month19_Volume': '6448997', 'Month20_Volume': '9250053', 'Month21_Volume': '9732816', 'Month22_Volume': '7950637', 'Month23_Volume': '8973777', 'Month24_Volume': '13107028'}\n"
     ]
    },
    {
     "name": "stderr",
     "output_type": "stream",
     "text": [
      "/var/folders/n_/367n_sc56lj0q1ddbd82d5qw0000gn/T/ipykernel_35416/1204255911.py:28: FutureWarning: The frame.append method is deprecated and will be removed from pandas in a future version. Use pandas.concat instead.\n",
      "  df = df.append(fetch_data_for_ticker(ticker), ignore_index=True)\n"
     ]
    },
    {
     "name": "stdout",
     "output_type": "stream",
     "text": [
      "{'Ticker': 'RGA', 'Month1_Volume': '5166303', 'Month2_Volume': '7263862', 'Month3_Volume': '7586041', 'Month4_Volume': '7011885', 'Month5_Volume': '8990328', 'Month6_Volume': '8796460', 'Month7_Volume': '6583540', 'Month8_Volume': '11515323', 'Month9_Volume': '9676777', 'Month10_Volume': '6922034', 'Month11_Volume': '8653334', 'Month12_Volume': '10823091', 'Month13_Volume': '8933294', 'Month14_Volume': '7493797', 'Month15_Volume': '6816411', 'Month16_Volume': '6110822', 'Month17_Volume': '7344797', 'Month18_Volume': '9203532', 'Month19_Volume': '6341868', 'Month20_Volume': '9793513', 'Month21_Volume': '8154465', 'Month22_Volume': '9186441', 'Month23_Volume': '10179080', 'Month24_Volume': '10669427'}\n"
     ]
    },
    {
     "name": "stderr",
     "output_type": "stream",
     "text": [
      "/var/folders/n_/367n_sc56lj0q1ddbd82d5qw0000gn/T/ipykernel_35416/1204255911.py:28: FutureWarning: The frame.append method is deprecated and will be removed from pandas in a future version. Use pandas.concat instead.\n",
      "  df = df.append(fetch_data_for_ticker(ticker), ignore_index=True)\n"
     ]
    },
    {
     "name": "stdout",
     "output_type": "stream",
     "text": [
      "{'Ticker': 'WAL', 'Month1_Volume': '29223211', 'Month2_Volume': '29567142', 'Month3_Volume': '36156420', 'Month4_Volume': '64480301', 'Month5_Volume': '64745733', 'Month6_Volume': '269172026', 'Month7_Volume': '113363186', 'Month8_Volume': '344364974', 'Month9_Volume': '16645140', 'Month10_Volume': '20053712', 'Month11_Volume': '20406405', 'Month12_Volume': '14747096', 'Month13_Volume': '23455132', 'Month14_Volume': '16007254', 'Month15_Volume': '10670115', 'Month16_Volume': '12882344', 'Month17_Volume': '15172452', 'Month18_Volume': '13758685', 'Month19_Volume': '21118379', 'Month20_Volume': '23133429', 'Month21_Volume': '17722131', 'Month22_Volume': '21228530', 'Month23_Volume': '17500398', 'Month24_Volume': '12248571'}\n"
     ]
    },
    {
     "name": "stderr",
     "output_type": "stream",
     "text": [
      "/var/folders/n_/367n_sc56lj0q1ddbd82d5qw0000gn/T/ipykernel_35416/1204255911.py:28: FutureWarning: The frame.append method is deprecated and will be removed from pandas in a future version. Use pandas.concat instead.\n",
      "  df = df.append(fetch_data_for_ticker(ticker), ignore_index=True)\n"
     ]
    },
    {
     "name": "stdout",
     "output_type": "stream",
     "text": [
      "{'Ticker': 'JBL', 'Month1_Volume': '27535623', 'Month2_Volume': '30739054', 'Month3_Volume': '32382668', 'Month4_Volume': '20380240', 'Month5_Volume': '26224471', 'Month6_Volume': '18887204', 'Month7_Volume': '18900217', 'Month8_Volume': '32037546', 'Month9_Volume': '23401385', 'Month10_Volume': '30675502', 'Month11_Volume': '24110914', 'Month12_Volume': '26131697', 'Month13_Volume': '24308866', 'Month14_Volume': '25450348', 'Month15_Volume': '17744391', 'Month16_Volume': '16984797', 'Month17_Volume': '23620156', 'Month18_Volume': '15698059', 'Month19_Volume': '18145736', 'Month20_Volume': '31587554', 'Month21_Volume': '28796812', 'Month22_Volume': '24886460', 'Month23_Volume': '24328141', 'Month24_Volume': '14331092'}\n"
     ]
    },
    {
     "name": "stderr",
     "output_type": "stream",
     "text": [
      "/var/folders/n_/367n_sc56lj0q1ddbd82d5qw0000gn/T/ipykernel_35416/1204255911.py:28: FutureWarning: The frame.append method is deprecated and will be removed from pandas in a future version. Use pandas.concat instead.\n",
      "  df = df.append(fetch_data_for_ticker(ticker), ignore_index=True)\n"
     ]
    },
    {
     "name": "stdout",
     "output_type": "stream",
     "text": [
      "{'Ticker': 'LLYVK', 'Month1_Volume': '5274368', 'Month2_Volume': '10112447'}\n"
     ]
    },
    {
     "name": "stderr",
     "output_type": "stream",
     "text": [
      "/var/folders/n_/367n_sc56lj0q1ddbd82d5qw0000gn/T/ipykernel_35416/1204255911.py:28: FutureWarning: The frame.append method is deprecated and will be removed from pandas in a future version. Use pandas.concat instead.\n",
      "  df = df.append(fetch_data_for_ticker(ticker), ignore_index=True)\n"
     ]
    },
    {
     "name": "stdout",
     "output_type": "stream",
     "text": [
      "{'Ticker': 'LSXMA', 'Month1_Volume': '12522778', 'Month2_Volume': '25994405', 'Month3_Volume': '29496865', 'Month4_Volume': '25790752', 'Month5_Volume': '19830346', 'Month6_Volume': '25414848', 'Month7_Volume': '18176758', 'Month8_Volume': '50798417', 'Month9_Volume': '16937896', 'Month10_Volume': '10989148', 'Month11_Volume': '11519861', 'Month12_Volume': '16083572', 'Month13_Volume': '14254570', 'Month14_Volume': '14548284', 'Month15_Volume': '15946334', 'Month16_Volume': '14050812', 'Month17_Volume': '14177249', 'Month18_Volume': '20445096', 'Month19_Volume': '11137031', 'Month20_Volume': '21456500', 'Month21_Volume': '21811279', 'Month22_Volume': '15437084', 'Month23_Volume': '16719749', 'Month24_Volume': '16587555'}\n"
     ]
    },
    {
     "name": "stderr",
     "output_type": "stream",
     "text": [
      "/var/folders/n_/367n_sc56lj0q1ddbd82d5qw0000gn/T/ipykernel_35416/1204255911.py:28: FutureWarning: The frame.append method is deprecated and will be removed from pandas in a future version. Use pandas.concat instead.\n",
      "  df = df.append(fetch_data_for_ticker(ticker), ignore_index=True)\n"
     ]
    },
    {
     "name": "stdout",
     "output_type": "stream",
     "text": [
      "{'Ticker': 'FWONK', 'Month1_Volume': '12544186', 'Month2_Volume': '19089946', 'Month3_Volume': '18196645', 'Month4_Volume': '16302258', 'Month5_Volume': '21380737', 'Month6_Volume': '17924748', 'Month7_Volume': '13122402', 'Month8_Volume': '23279814', 'Month9_Volume': '14409128', 'Month10_Volume': '17299609', 'Month11_Volume': '19034035', 'Month12_Volume': '25568597', 'Month13_Volume': '19484811', 'Month14_Volume': '21910501', 'Month15_Volume': '29024665', 'Month16_Volume': '15711461', 'Month17_Volume': '22473136', 'Month18_Volume': '33306290', 'Month19_Volume': '21119963', 'Month20_Volume': '32217655', 'Month21_Volume': '24322086', 'Month22_Volume': '27232185', 'Month23_Volume': '23289479', 'Month24_Volume': '27387016'}\n"
     ]
    },
    {
     "name": "stderr",
     "output_type": "stream",
     "text": [
      "/var/folders/n_/367n_sc56lj0q1ddbd82d5qw0000gn/T/ipykernel_35416/1204255911.py:28: FutureWarning: The frame.append method is deprecated and will be removed from pandas in a future version. Use pandas.concat instead.\n",
      "  df = df.append(fetch_data_for_ticker(ticker), ignore_index=True)\n"
     ]
    },
    {
     "name": "stdout",
     "output_type": "stream",
     "text": [
      "{'Ticker': 'UHAL', 'Month1_Volume': '1938366', 'Month2_Volume': '2181485', 'Month3_Volume': '3052004', 'Month4_Volume': '3342087', 'Month5_Volume': '4623716', 'Month6_Volume': '4817461', 'Month7_Volume': '3685834', 'Month8_Volume': '5640264', 'Month9_Volume': '5802009', 'Month10_Volume': '5598695', 'Month11_Volume': '9797667', 'Month12_Volume': '11578977', 'Month13_Volume': '1210916', 'Month14_Volume': '1243840', 'Month15_Volume': '899370', 'Month16_Volume': '699482', 'Month17_Volume': '1035077', 'Month18_Volume': '1105776', 'Month19_Volume': '1091553', 'Month20_Volume': '1446703', 'Month21_Volume': '1437053', 'Month22_Volume': '887178', 'Month23_Volume': '1005404', 'Month24_Volume': '1016964'}\n"
     ]
    },
    {
     "name": "stderr",
     "output_type": "stream",
     "text": [
      "/var/folders/n_/367n_sc56lj0q1ddbd82d5qw0000gn/T/ipykernel_35416/1204255911.py:28: FutureWarning: The frame.append method is deprecated and will be removed from pandas in a future version. Use pandas.concat instead.\n",
      "  df = df.append(fetch_data_for_ticker(ticker), ignore_index=True)\n"
     ]
    },
    {
     "name": "stdout",
     "output_type": "stream",
     "text": [
      "{'Ticker': 'UTHR', 'Month1_Volume': '3759187', 'Month2_Volume': '5365306', 'Month3_Volume': '8606751', 'Month4_Volume': '6439761', 'Month5_Volume': '7068627', 'Month6_Volume': '10157011', 'Month7_Volume': '7235010', 'Month8_Volume': '15200652', 'Month9_Volume': '11921039', 'Month10_Volume': '6899996', 'Month11_Volume': '7833842', 'Month12_Volume': '9103855', 'Month13_Volume': '5968111', 'Month14_Volume': '7572405', 'Month15_Volume': '9627966', 'Month16_Volume': '8122973', 'Month17_Volume': '10959535', 'Month18_Volume': '11993358', 'Month19_Volume': '7589928', 'Month20_Volume': '10887110', 'Month21_Volume': '8907516', 'Month22_Volume': '8895531', 'Month23_Volume': '8098122', 'Month24_Volume': '8990190'}\n"
     ]
    },
    {
     "name": "stderr",
     "output_type": "stream",
     "text": [
      "/var/folders/n_/367n_sc56lj0q1ddbd82d5qw0000gn/T/ipykernel_35416/1204255911.py:28: FutureWarning: The frame.append method is deprecated and will be removed from pandas in a future version. Use pandas.concat instead.\n",
      "  df = df.append(fetch_data_for_ticker(ticker), ignore_index=True)\n"
     ]
    },
    {
     "name": "stdout",
     "output_type": "stream",
     "text": [
      "{'Ticker': 'LAD', 'Month1_Volume': '3258646', 'Month2_Volume': '3481211', 'Month3_Volume': '4178157', 'Month4_Volume': '6370834', 'Month5_Volume': '6361428', 'Month6_Volume': '6541753', 'Month7_Volume': '7639925', 'Month8_Volume': '7507412', 'Month9_Volume': '6456090', 'Month10_Volume': '6465188', 'Month11_Volume': '7920929', 'Month12_Volume': '9457064', 'Month13_Volume': '12072226', 'Month14_Volume': '8370927', 'Month15_Volume': '6399608', 'Month16_Volume': '7000613', 'Month17_Volume': '5849731', 'Month18_Volume': '8741218', 'Month19_Volume': '7995360', 'Month20_Volume': '5821877', 'Month21_Volume': '7280207', 'Month22_Volume': '7959502', 'Month23_Volume': '7706756', 'Month24_Volume': '8395977'}\n"
     ]
    },
    {
     "name": "stderr",
     "output_type": "stream",
     "text": [
      "/var/folders/n_/367n_sc56lj0q1ddbd82d5qw0000gn/T/ipykernel_35416/1204255911.py:28: FutureWarning: The frame.append method is deprecated and will be removed from pandas in a future version. Use pandas.concat instead.\n",
      "  df = df.append(fetch_data_for_ticker(ticker), ignore_index=True)\n"
     ]
    },
    {
     "name": "stdout",
     "output_type": "stream",
     "text": [
      "{'Ticker': 'PAG', 'Month1_Volume': '3843903', 'Month2_Volume': '5969141', 'Month3_Volume': '12612432', 'Month4_Volume': '5769568', 'Month5_Volume': '5973817', 'Month6_Volume': '7027694', 'Month7_Volume': '6180005', 'Month8_Volume': '8319595', 'Month9_Volume': '8062767', 'Month10_Volume': '6529405', 'Month11_Volume': '10342400', 'Month12_Volume': '8889742', 'Month13_Volume': '10068851', 'Month14_Volume': '12832725', 'Month15_Volume': '7210006', 'Month16_Volume': '8111981', 'Month17_Volume': '8625133', 'Month18_Volume': '6961788', 'Month19_Volume': '7702436', 'Month20_Volume': '7188136', 'Month21_Volume': '7464628', 'Month22_Volume': '5595776', 'Month23_Volume': '6848709', 'Month24_Volume': '7369676'}\n"
     ]
    },
    {
     "name": "stderr",
     "output_type": "stream",
     "text": [
      "/var/folders/n_/367n_sc56lj0q1ddbd82d5qw0000gn/T/ipykernel_35416/1204255911.py:28: FutureWarning: The frame.append method is deprecated and will be removed from pandas in a future version. Use pandas.concat instead.\n",
      "  df = df.append(fetch_data_for_ticker(ticker), ignore_index=True)\n"
     ]
    },
    {
     "name": "stdout",
     "output_type": "stream",
     "text": [
      "{'Ticker': 'RITM', 'Month1_Volume': '50065381', 'Month2_Volume': '76021201', 'Month3_Volume': '75338269', 'Month4_Volume': '86024753', 'Month5_Volume': '80863478', 'Month6_Volume': '85904263', 'Month7_Volume': '68342115', 'Month8_Volume': '115730101', 'Month9_Volume': '90822021', 'Month10_Volume': '78904073', 'Month11_Volume': '130192601', 'Month12_Volume': '87239208', 'Month13_Volume': '124229707', 'Month14_Volume': '107865247', 'Month15_Volume': '75128990', 'Month16_Volume': '82930231', 'Month17_Volume': '178001169', 'Month18_Volume': '145099603', 'Month19_Volume': '93833420', 'Month20_Volume': '120456561', 'Month21_Volume': '115048963', 'Month22_Volume': '108796526', 'Month23_Volume': '110716267', 'Month24_Volume': '85717707'}\n"
     ]
    },
    {
     "name": "stderr",
     "output_type": "stream",
     "text": [
      "/var/folders/n_/367n_sc56lj0q1ddbd82d5qw0000gn/T/ipykernel_35416/1204255911.py:28: FutureWarning: The frame.append method is deprecated and will be removed from pandas in a future version. Use pandas.concat instead.\n",
      "  df = df.append(fetch_data_for_ticker(ticker), ignore_index=True)\n"
     ]
    },
    {
     "name": "stdout",
     "output_type": "stream",
     "text": [
      "{'Ticker': 'RS', 'Month1_Volume': '4690570', 'Month2_Volume': '6323496', 'Month3_Volume': '5066529', 'Month4_Volume': '5093344', 'Month5_Volume': '7406427', 'Month6_Volume': '8038345', 'Month7_Volume': '8225362', 'Month8_Volume': '14369570', 'Month9_Volume': '13517427', 'Month10_Volume': '6614788', 'Month11_Volume': '8105269', 'Month12_Volume': '7801780', 'Month13_Volume': '10044940', 'Month14_Volume': '9939333', 'Month15_Volume': '7079953', 'Month16_Volume': '7818642', 'Month17_Volume': '8931468', 'Month18_Volume': '10207143', 'Month19_Volume': '7974769', 'Month20_Volume': '11733464', 'Month21_Volume': '7841924', 'Month22_Volume': '6457930', 'Month23_Volume': '6166960', 'Month24_Volume': '7499957'}\n"
     ]
    },
    {
     "name": "stderr",
     "output_type": "stream",
     "text": [
      "/var/folders/n_/367n_sc56lj0q1ddbd82d5qw0000gn/T/ipykernel_35416/1204255911.py:28: FutureWarning: The frame.append method is deprecated and will be removed from pandas in a future version. Use pandas.concat instead.\n",
      "  df = df.append(fetch_data_for_ticker(ticker), ignore_index=True)\n"
     ]
    },
    {
     "name": "stdout",
     "output_type": "stream",
     "text": [
      "{'Ticker': 'TOL', 'Month1_Volume': '25480168', 'Month2_Volume': '37292687', 'Month3_Volume': '40434341', 'Month4_Volume': '30958687', 'Month5_Volume': '38430644', 'Month6_Volume': '36758353', 'Month7_Volume': '22578374', 'Month8_Volume': '35913491', 'Month9_Volume': '30330078', 'Month10_Volume': '26941817', 'Month11_Volume': '34240099', 'Month12_Volume': '27172439', 'Month13_Volume': '37526982', 'Month14_Volume': '42268162', 'Month15_Volume': '37637883', 'Month16_Volume': '28460353', 'Month17_Volume': '34761247', 'Month18_Volume': '35331980', 'Month19_Volume': '36818302', 'Month20_Volume': '41001609', 'Month21_Volume': '37391916', 'Month22_Volume': '45994287', 'Month23_Volume': '41758558', 'Month24_Volume': '16870936'}\n"
     ]
    },
    {
     "name": "stderr",
     "output_type": "stream",
     "text": [
      "/var/folders/n_/367n_sc56lj0q1ddbd82d5qw0000gn/T/ipykernel_35416/1204255911.py:28: FutureWarning: The frame.append method is deprecated and will be removed from pandas in a future version. Use pandas.concat instead.\n",
      "  df = df.append(fetch_data_for_ticker(ticker), ignore_index=True)\n"
     ]
    },
    {
     "name": "stdout",
     "output_type": "stream",
     "text": [
      "{'Ticker': 'X', 'Month1_Volume': '75701690', 'Month2_Volume': '118311215', 'Month3_Volume': '371275106', 'Month4_Volume': '135061050', 'Month5_Volume': '144388657', 'Month6_Volume': '157279274', 'Month7_Volume': '119217343', 'Month8_Volume': '184089042', 'Month9_Volume': '135628894', 'Month10_Volume': '114491342', 'Month11_Volume': '150861087', 'Month12_Volume': '179411264', 'Month13_Volume': '245475760', 'Month14_Volume': '293561206', 'Month15_Volume': '213129793', 'Month16_Volume': '246788616', 'Month17_Volume': '303243461', 'Month18_Volume': '280569366', 'Month19_Volume': '256787663', 'Month20_Volume': '493859686', 'Month21_Volume': '335696754', 'Month22_Volume': '440161280', 'Month23_Volume': '316560338', 'Month24_Volume': '357979650'}\n"
     ]
    },
    {
     "name": "stderr",
     "output_type": "stream",
     "text": [
      "/var/folders/n_/367n_sc56lj0q1ddbd82d5qw0000gn/T/ipykernel_35416/1204255911.py:28: FutureWarning: The frame.append method is deprecated and will be removed from pandas in a future version. Use pandas.concat instead.\n",
      "  df = df.append(fetch_data_for_ticker(ticker), ignore_index=True)\n"
     ]
    },
    {
     "name": "stdout",
     "output_type": "stream",
     "text": [
      "{'Ticker': 'SCCO', 'Month1_Volume': '12800165', 'Month2_Volume': '19925268', 'Month3_Volume': '23547672', 'Month4_Volume': '21612688', 'Month5_Volume': '22877017', 'Month6_Volume': '28411246', 'Month7_Volume': '21112641', 'Month8_Volume': '31037156', 'Month9_Volume': '21938077', 'Month10_Volume': '34321944', 'Month11_Volume': '20230116', 'Month12_Volume': '32471583', 'Month13_Volume': '36016996', 'Month14_Volume': '28978980', 'Month15_Volume': '33165290', 'Month16_Volume': '32587776', 'Month17_Volume': '29263789', 'Month18_Volume': '34173617', 'Month19_Volume': '21454505', 'Month20_Volume': '28298280', 'Month21_Volume': '20916175', 'Month22_Volume': '23465179', 'Month23_Volume': '20966363', 'Month24_Volume': '20922526'}\n"
     ]
    },
    {
     "name": "stderr",
     "output_type": "stream",
     "text": [
      "/var/folders/n_/367n_sc56lj0q1ddbd82d5qw0000gn/T/ipykernel_35416/1204255911.py:28: FutureWarning: The frame.append method is deprecated and will be removed from pandas in a future version. Use pandas.concat instead.\n",
      "  df = df.append(fetch_data_for_ticker(ticker), ignore_index=True)\n"
     ]
    },
    {
     "name": "stdout",
     "output_type": "stream",
     "text": [
      "{'Ticker': 'FERG', 'Month1_Volume': '21281260', 'Month2_Volume': '22870165', 'Month3_Volume': '16950427', 'Month4_Volume': '21150874', 'Month5_Volume': '41501316', 'Month6_Volume': '29807827', 'Month7_Volume': '22924160', 'Month8_Volume': '33573015', 'Month9_Volume': '22758023', 'Month10_Volume': '26988192', 'Month11_Volume': '99582424', 'Month12_Volume': '49289770', 'Month13_Volume': '18572335', 'Month14_Volume': '15008633', 'Month15_Volume': '10397919', 'Month16_Volume': '9920855', 'Month17_Volume': '16202547', 'Month18_Volume': '15821286', 'Month19_Volume': '8352715', 'Month20_Volume': '9109847', 'Month21_Volume': '830275', 'Month22_Volume': '770557', 'Month23_Volume': '867641', 'Month24_Volume': '289508'}\n"
     ]
    },
    {
     "name": "stderr",
     "output_type": "stream",
     "text": [
      "/var/folders/n_/367n_sc56lj0q1ddbd82d5qw0000gn/T/ipykernel_35416/1204255911.py:28: FutureWarning: The frame.append method is deprecated and will be removed from pandas in a future version. Use pandas.concat instead.\n",
      "  df = df.append(fetch_data_for_ticker(ticker), ignore_index=True)\n"
     ]
    },
    {
     "name": "stdout",
     "output_type": "stream",
     "text": [
      "{'Ticker': 'LEN-B', 'Month1_Volume': '890509', 'Month2_Volume': '1437499', 'Month3_Volume': '1580388', 'Month4_Volume': '1586291', 'Month5_Volume': '1609703', 'Month6_Volume': '1365027', 'Month7_Volume': '1481707', 'Month8_Volume': '1403038', 'Month9_Volume': '1427388', 'Month10_Volume': '1693613', 'Month11_Volume': '1622532', 'Month12_Volume': '1443378', 'Month13_Volume': '1634741', 'Month14_Volume': '1829867', 'Month15_Volume': '1746754', 'Month16_Volume': '1932470', 'Month17_Volume': '2717236', 'Month18_Volume': '2359180', 'Month19_Volume': '2758801', 'Month20_Volume': '2203728', 'Month21_Volume': '2083115', 'Month22_Volume': '2212147', 'Month23_Volume': '1809985', 'Month24_Volume': '980701'}\n"
     ]
    },
    {
     "name": "stderr",
     "output_type": "stream",
     "text": [
      "/var/folders/n_/367n_sc56lj0q1ddbd82d5qw0000gn/T/ipykernel_35416/1204255911.py:28: FutureWarning: The frame.append method is deprecated and will be removed from pandas in a future version. Use pandas.concat instead.\n",
      "  df = df.append(fetch_data_for_ticker(ticker), ignore_index=True)\n"
     ]
    },
    {
     "name": "stdout",
     "output_type": "stream",
     "text": [
      "{'Ticker': 'EEFT', 'Month1_Volume': '9674171', 'Month2_Volume': '9284399', 'Month3_Volume': '11478276', 'Month4_Volume': '11755899', 'Month5_Volume': '6186599', 'Month6_Volume': '6036065', 'Month7_Volume': '4372339', 'Month8_Volume': '8200422', 'Month9_Volume': '6417253', 'Month10_Volume': '5416284', 'Month11_Volume': '5988856', 'Month12_Volume': '6866778', 'Month13_Volume': '9037321', 'Month14_Volume': '9003599', 'Month15_Volume': '7273551', 'Month16_Volume': '7848712', 'Month17_Volume': '8902261', 'Month18_Volume': '7503604', 'Month19_Volume': '7900171', 'Month20_Volume': '14230309', 'Month21_Volume': '11806064', 'Month22_Volume': '18907953', 'Month23_Volume': '10141456', 'Month24_Volume': '12009250'}\n"
     ]
    },
    {
     "name": "stderr",
     "output_type": "stream",
     "text": [
      "/var/folders/n_/367n_sc56lj0q1ddbd82d5qw0000gn/T/ipykernel_35416/1204255911.py:28: FutureWarning: The frame.append method is deprecated and will be removed from pandas in a future version. Use pandas.concat instead.\n",
      "  df = df.append(fetch_data_for_ticker(ticker), ignore_index=True)\n"
     ]
    },
    {
     "name": "stdout",
     "output_type": "stream",
     "text": [
      "{'Ticker': 'UHAL-B', 'Month1_Volume': '3034087', 'Month2_Volume': '7412198', 'Month3_Volume': '5193383', 'Month4_Volume': '5454196', 'Month5_Volume': '9694696', 'Month6_Volume': '8894240', 'Month7_Volume': '3535951', 'Month8_Volume': '5835125', 'Month9_Volume': '4732480', 'Month10_Volume': '4478161', 'Month11_Volume': '11089735'}\n"
     ]
    },
    {
     "name": "stderr",
     "output_type": "stream",
     "text": [
      "/var/folders/n_/367n_sc56lj0q1ddbd82d5qw0000gn/T/ipykernel_35416/1204255911.py:28: FutureWarning: The frame.append method is deprecated and will be removed from pandas in a future version. Use pandas.concat instead.\n",
      "  df = df.append(fetch_data_for_ticker(ticker), ignore_index=True)\n"
     ]
    },
    {
     "name": "stdout",
     "output_type": "stream",
     "text": [
      "{'Ticker': 'BF-A', 'Month1_Volume': '1007464', 'Month2_Volume': '2813986', 'Month3_Volume': '1034266', 'Month4_Volume': '722888', 'Month5_Volume': '3113450', 'Month6_Volume': '551135', 'Month7_Volume': '503978', 'Month8_Volume': '753055', 'Month9_Volume': '528954', 'Month10_Volume': '678238', 'Month11_Volume': '791220', 'Month12_Volume': '874296', 'Month13_Volume': '1230732', 'Month14_Volume': '3435048', 'Month15_Volume': '704085', 'Month16_Volume': '687529', 'Month17_Volume': '1437320', 'Month18_Volume': '668275', 'Month19_Volume': '635123', 'Month20_Volume': '1005658', 'Month21_Volume': '611619', 'Month22_Volume': '814271', 'Month23_Volume': '941540', 'Month24_Volume': '655241'}\n"
     ]
    },
    {
     "name": "stderr",
     "output_type": "stream",
     "text": [
      "/var/folders/n_/367n_sc56lj0q1ddbd82d5qw0000gn/T/ipykernel_35416/1204255911.py:28: FutureWarning: The frame.append method is deprecated and will be removed from pandas in a future version. Use pandas.concat instead.\n",
      "  df = df.append(fetch_data_for_ticker(ticker), ignore_index=True)\n"
     ]
    },
    {
     "name": "stdout",
     "output_type": "stream",
     "text": [
      "{'Ticker': 'CWEN-A', 'Month1_Volume': '5755588', 'Month2_Volume': '5279079', 'Month3_Volume': '5677887', 'Month4_Volume': '4393229', 'Month5_Volume': '11631903', 'Month6_Volume': '5510404', 'Month7_Volume': '4462035', 'Month8_Volume': '6989679', 'Month9_Volume': '3332810', 'Month10_Volume': '2826275', 'Month11_Volume': '3576701', 'Month12_Volume': '3003348', 'Month13_Volume': '2748905', 'Month14_Volume': '3720781', 'Month15_Volume': '3362790', 'Month16_Volume': '2916844', 'Month17_Volume': '5321795', 'Month18_Volume': '4801562', 'Month19_Volume': '3719372', 'Month20_Volume': '5379930', 'Month21_Volume': '3173994', 'Month22_Volume': '3570702', 'Month23_Volume': '4658554', 'Month24_Volume': '4876154'}\n"
     ]
    },
    {
     "name": "stderr",
     "output_type": "stream",
     "text": [
      "/var/folders/n_/367n_sc56lj0q1ddbd82d5qw0000gn/T/ipykernel_35416/1204255911.py:28: FutureWarning: The frame.append method is deprecated and will be removed from pandas in a future version. Use pandas.concat instead.\n",
      "  df = df.append(fetch_data_for_ticker(ticker), ignore_index=True)\n"
     ]
    },
    {
     "name": "stdout",
     "output_type": "stream",
     "text": [
      "{'Ticker': 'HEI-A', 'Month1_Volume': '2869496', 'Month2_Volume': '5294625', 'Month3_Volume': '5951137', 'Month4_Volume': '3524042', 'Month5_Volume': '5045481', 'Month6_Volume': '6095919', 'Month7_Volume': '2137436', 'Month8_Volume': '4015862', 'Month9_Volume': '4996347', 'Month10_Volume': '4488233', 'Month11_Volume': '5025485', 'Month12_Volume': '4102715', 'Month13_Volume': '4223518', 'Month14_Volume': '5471976', 'Month15_Volume': '3782105', 'Month16_Volume': '3743684', 'Month17_Volume': '6217543', 'Month18_Volume': '6868415', 'Month19_Volume': '4304007', 'Month20_Volume': '7505633', 'Month21_Volume': '10202590', 'Month22_Volume': '9593795', 'Month23_Volume': '4904669', 'Month24_Volume': '4697653'}\n"
     ]
    },
    {
     "name": "stderr",
     "output_type": "stream",
     "text": [
      "/var/folders/n_/367n_sc56lj0q1ddbd82d5qw0000gn/T/ipykernel_35416/1204255911.py:28: FutureWarning: The frame.append method is deprecated and will be removed from pandas in a future version. Use pandas.concat instead.\n",
      "  df = df.append(fetch_data_for_ticker(ticker), ignore_index=True)\n"
     ]
    }
   ],
   "source": [
    "API_KEY = 'JFUJ5ADJL1XCA282'#'T4OUVH0IXFEKGNJA'\n",
    "\n",
    "def fetch_data_for_ticker(ticker):\n",
    "    data_dict = {'Ticker': ticker}\n",
    "    \n",
    "    monthly_volume_endpoint = f\"https://www.alphavantage.co/query?function=TIME_SERIES_MONTHLY_ADJUSTED&symbol={ticker}&apikey={API_KEY}\"\n",
    "    response = requests.get(monthly_volume_endpoint)\n",
    "    monthly_volume_data = response.json()\n",
    "    \n",
    "    if 'Monthly Adjusted Time Series' in monthly_volume_data:\n",
    "        monthly_adjusted_series = monthly_volume_data['Monthly Adjusted Time Series']\n",
    "        if monthly_adjusted_series:\n",
    "            months = list(monthly_adjusted_series.keys())[:24]\n",
    "            for i, month in enumerate(months):\n",
    "                month_key = f\"Month{i+1}_Volume\"\n",
    "                \n",
    "                if '6. volume' in monthly_adjusted_series[month]:\n",
    "                    data_dict[month_key] = monthly_adjusted_series[month]['6. volume']\n",
    "                else:\n",
    "                    data_dict[month_key] = None \n",
    "\n",
    "    print(data_dict)\n",
    "    return data_dict\n",
    "\n",
    "df = pd.DataFrame()\n",
    "\n",
    "for ticker in temp_vol[101:]: #rus_miss_1[192:]: #tickers_array_sorted[490:]:\n",
    "    df = df.append(fetch_data_for_ticker(ticker), ignore_index=True)\n",
    "    time.sleep(15)\n"
   ]
  },
  {
   "cell_type": "code",
   "execution_count": 322,
   "id": "73af892f-ce4e-4e94-b78d-050d2d4a8552",
   "metadata": {},
   "outputs": [
    {
     "data": {
      "text/plain": [
       "(139, 25)"
      ]
     },
     "execution_count": 322,
     "metadata": {},
     "output_type": "execute_result"
    }
   ],
   "source": [
    "df.shape"
   ]
  },
  {
   "cell_type": "code",
   "execution_count": 258,
   "id": "9b6b5972-7268-40d7-a7b0-072a74e09927",
   "metadata": {},
   "outputs": [
    {
     "data": {
      "text/html": [
       "<div>\n",
       "<style scoped>\n",
       "    .dataframe tbody tr th:only-of-type {\n",
       "        vertical-align: middle;\n",
       "    }\n",
       "\n",
       "    .dataframe tbody tr th {\n",
       "        vertical-align: top;\n",
       "    }\n",
       "\n",
       "    .dataframe thead th {\n",
       "        text-align: right;\n",
       "    }\n",
       "</style>\n",
       "<table border=\"1\" class=\"dataframe\">\n",
       "  <thead>\n",
       "    <tr style=\"text-align: right;\">\n",
       "      <th></th>\n",
       "      <th>Ticker</th>\n",
       "      <th>Month1_Volume</th>\n",
       "      <th>Month2_Volume</th>\n",
       "      <th>Month3_Volume</th>\n",
       "      <th>Month4_Volume</th>\n",
       "      <th>Month5_Volume</th>\n",
       "      <th>Month6_Volume</th>\n",
       "      <th>Month7_Volume</th>\n",
       "      <th>Month8_Volume</th>\n",
       "      <th>Month9_Volume</th>\n",
       "      <th>...</th>\n",
       "      <th>Month15_Volume</th>\n",
       "      <th>Month16_Volume</th>\n",
       "      <th>Month17_Volume</th>\n",
       "      <th>Month18_Volume</th>\n",
       "      <th>Month19_Volume</th>\n",
       "      <th>Month20_Volume</th>\n",
       "      <th>Month21_Volume</th>\n",
       "      <th>Month22_Volume</th>\n",
       "      <th>Month23_Volume</th>\n",
       "      <th>Month24_Volume</th>\n",
       "    </tr>\n",
       "  </thead>\n",
       "  <tbody>\n",
       "    <tr>\n",
       "      <th>0</th>\n",
       "      <td>CHH</td>\n",
       "      <td>9373398</td>\n",
       "      <td>7427751</td>\n",
       "      <td>10659468</td>\n",
       "      <td>9073000</td>\n",
       "      <td>9340159</td>\n",
       "      <td>13858262</td>\n",
       "      <td>7302452</td>\n",
       "      <td>8127966</td>\n",
       "      <td>6773526</td>\n",
       "      <td>...</td>\n",
       "      <td>9752182</td>\n",
       "      <td>4759544</td>\n",
       "      <td>7445951</td>\n",
       "      <td>6151499</td>\n",
       "      <td>4378874</td>\n",
       "      <td>5737861</td>\n",
       "      <td>6472300</td>\n",
       "      <td>6908229</td>\n",
       "      <td>4734629</td>\n",
       "      <td>5886847</td>\n",
       "    </tr>\n",
       "    <tr>\n",
       "      <th>1</th>\n",
       "      <td>CHK</td>\n",
       "      <td>26127135</td>\n",
       "      <td>27139108</td>\n",
       "      <td>62173312</td>\n",
       "      <td>23538104</td>\n",
       "      <td>23530474</td>\n",
       "      <td>33789748</td>\n",
       "      <td>24229629</td>\n",
       "      <td>34284580</td>\n",
       "      <td>34486024</td>\n",
       "      <td>...</td>\n",
       "      <td>57736166</td>\n",
       "      <td>36609819</td>\n",
       "      <td>64632614</td>\n",
       "      <td>49429342</td>\n",
       "      <td>32671745</td>\n",
       "      <td>46337197</td>\n",
       "      <td>33069633</td>\n",
       "      <td>32329789</td>\n",
       "      <td>21015804</td>\n",
       "      <td>28472217</td>\n",
       "    </tr>\n",
       "    <tr>\n",
       "      <th>2</th>\n",
       "      <td>CHPT</td>\n",
       "      <td>321653885</td>\n",
       "      <td>296428652</td>\n",
       "      <td>149395624</td>\n",
       "      <td>206623575</td>\n",
       "      <td>316538932</td>\n",
       "      <td>179893921</td>\n",
       "      <td>164891980</td>\n",
       "      <td>198439622</td>\n",
       "      <td>168431297</td>\n",
       "      <td>...</td>\n",
       "      <td>222396952</td>\n",
       "      <td>193671457</td>\n",
       "      <td>236632083</td>\n",
       "      <td>225689004</td>\n",
       "      <td>161031303</td>\n",
       "      <td>216837761</td>\n",
       "      <td>176574744</td>\n",
       "      <td>208140499</td>\n",
       "      <td>240267851</td>\n",
       "      <td>219619048</td>\n",
       "    </tr>\n",
       "    <tr>\n",
       "      <th>3</th>\n",
       "      <td>CIEN</td>\n",
       "      <td>21145526</td>\n",
       "      <td>27289540</td>\n",
       "      <td>38922260</td>\n",
       "      <td>39420953</td>\n",
       "      <td>57129745</td>\n",
       "      <td>33981448</td>\n",
       "      <td>28177843</td>\n",
       "      <td>49923703</td>\n",
       "      <td>28487548</td>\n",
       "      <td>...</td>\n",
       "      <td>27200197</td>\n",
       "      <td>21557201</td>\n",
       "      <td>42032319</td>\n",
       "      <td>30587374</td>\n",
       "      <td>21134465</td>\n",
       "      <td>42647223</td>\n",
       "      <td>32224901</td>\n",
       "      <td>35868958</td>\n",
       "      <td>41121019</td>\n",
       "      <td>22545599</td>\n",
       "    </tr>\n",
       "    <tr>\n",
       "      <th>4</th>\n",
       "      <td>CLF</td>\n",
       "      <td>132020108</td>\n",
       "      <td>201249190</td>\n",
       "      <td>268664749</td>\n",
       "      <td>164159283</td>\n",
       "      <td>165434667</td>\n",
       "      <td>205914785</td>\n",
       "      <td>200781171</td>\n",
       "      <td>231680928</td>\n",
       "      <td>187627436</td>\n",
       "      <td>...</td>\n",
       "      <td>258948458</td>\n",
       "      <td>370457111</td>\n",
       "      <td>379538575</td>\n",
       "      <td>372106697</td>\n",
       "      <td>393461294</td>\n",
       "      <td>638281009</td>\n",
       "      <td>388382570</td>\n",
       "      <td>478564478</td>\n",
       "      <td>376880487</td>\n",
       "      <td>383284831</td>\n",
       "    </tr>\n",
       "  </tbody>\n",
       "</table>\n",
       "<p>5 rows × 25 columns</p>\n",
       "</div>"
      ],
      "text/plain": [
       "  Ticker Month1_Volume Month2_Volume Month3_Volume Month4_Volume  \\\n",
       "0    CHH       9373398       7427751      10659468       9073000   \n",
       "1    CHK      26127135      27139108      62173312      23538104   \n",
       "2   CHPT     321653885     296428652     149395624     206623575   \n",
       "3   CIEN      21145526      27289540      38922260      39420953   \n",
       "4    CLF     132020108     201249190     268664749     164159283   \n",
       "\n",
       "  Month5_Volume Month6_Volume Month7_Volume Month8_Volume Month9_Volume  ...  \\\n",
       "0       9340159      13858262       7302452       8127966       6773526  ...   \n",
       "1      23530474      33789748      24229629      34284580      34486024  ...   \n",
       "2     316538932     179893921     164891980     198439622     168431297  ...   \n",
       "3      57129745      33981448      28177843      49923703      28487548  ...   \n",
       "4     165434667     205914785     200781171     231680928     187627436  ...   \n",
       "\n",
       "  Month15_Volume Month16_Volume Month17_Volume Month18_Volume Month19_Volume  \\\n",
       "0        9752182        4759544        7445951        6151499        4378874   \n",
       "1       57736166       36609819       64632614       49429342       32671745   \n",
       "2      222396952      193671457      236632083      225689004      161031303   \n",
       "3       27200197       21557201       42032319       30587374       21134465   \n",
       "4      258948458      370457111      379538575      372106697      393461294   \n",
       "\n",
       "  Month20_Volume Month21_Volume Month22_Volume Month23_Volume Month24_Volume  \n",
       "0        5737861        6472300        6908229        4734629        5886847  \n",
       "1       46337197       33069633       32329789       21015804       28472217  \n",
       "2      216837761      176574744      208140499      240267851      219619048  \n",
       "3       42647223       32224901       35868958       41121019       22545599  \n",
       "4      638281009      388382570      478564478      376880487      383284831  \n",
       "\n",
       "[5 rows x 25 columns]"
      ]
     },
     "execution_count": 258,
     "metadata": {},
     "output_type": "execute_result"
    }
   ],
   "source": [
    "df.head()"
   ]
  },
  {
   "cell_type": "code",
   "execution_count": 337,
   "id": "5044c84a-3c09-4383-bc30-bbe8ab4df1a8",
   "metadata": {},
   "outputs": [],
   "source": [
    "#df1 = df\n",
    "#df2 = df\n",
    "#df3 = df\n",
    "#df4 = df\n",
    "df5 = df"
   ]
  },
  {
   "cell_type": "code",
   "execution_count": 338,
   "id": "f8873f6a-5637-4ecf-89f7-806f89f1a3f6",
   "metadata": {},
   "outputs": [
    {
     "data": {
      "text/plain": [
       "((85, 25), (107, 25), (8, 25), (101, 25), (38, 25))"
      ]
     },
     "execution_count": 338,
     "metadata": {},
     "output_type": "execute_result"
    }
   ],
   "source": [
    "df1.shape,df2.shape,df3.shape,df4.shape, df.shape"
   ]
  },
  {
   "cell_type": "code",
   "execution_count": 266,
   "id": "116c57ed-dc87-4aa6-a9ce-278c01262ef7",
   "metadata": {},
   "outputs": [],
   "source": [
    "#tot_rem_rus = pd.concat([df1,df2,df3], axis=0).reset_index(drop=True)"
   ]
  },
  {
   "cell_type": "code",
   "execution_count": 333,
   "id": "3bada05e-b5f5-49d3-9fb0-024f95f0cceb",
   "metadata": {},
   "outputs": [],
   "source": [
    "df4 = df4.iloc[:-8]"
   ]
  },
  {
   "cell_type": "code",
   "execution_count": 339,
   "id": "aaea2599-73ac-43ae-b8bb-b27b13f35bd5",
   "metadata": {},
   "outputs": [
    {
     "data": {
      "text/html": [
       "<div>\n",
       "<style scoped>\n",
       "    .dataframe tbody tr th:only-of-type {\n",
       "        vertical-align: middle;\n",
       "    }\n",
       "\n",
       "    .dataframe tbody tr th {\n",
       "        vertical-align: top;\n",
       "    }\n",
       "\n",
       "    .dataframe thead th {\n",
       "        text-align: right;\n",
       "    }\n",
       "</style>\n",
       "<table border=\"1\" class=\"dataframe\">\n",
       "  <thead>\n",
       "    <tr style=\"text-align: right;\">\n",
       "      <th></th>\n",
       "      <th>Ticker</th>\n",
       "      <th>Month1_Volume</th>\n",
       "      <th>Month2_Volume</th>\n",
       "      <th>Month3_Volume</th>\n",
       "      <th>Month4_Volume</th>\n",
       "      <th>Month5_Volume</th>\n",
       "      <th>Month6_Volume</th>\n",
       "      <th>Month7_Volume</th>\n",
       "      <th>Month8_Volume</th>\n",
       "      <th>Month9_Volume</th>\n",
       "      <th>...</th>\n",
       "      <th>Month15_Volume</th>\n",
       "      <th>Month16_Volume</th>\n",
       "      <th>Month17_Volume</th>\n",
       "      <th>Month18_Volume</th>\n",
       "      <th>Month19_Volume</th>\n",
       "      <th>Month20_Volume</th>\n",
       "      <th>Month21_Volume</th>\n",
       "      <th>Month22_Volume</th>\n",
       "      <th>Month23_Volume</th>\n",
       "      <th>Month24_Volume</th>\n",
       "    </tr>\n",
       "  </thead>\n",
       "  <tbody>\n",
       "    <tr>\n",
       "      <th>28</th>\n",
       "      <td>TOL</td>\n",
       "      <td>25480168</td>\n",
       "      <td>37292687</td>\n",
       "      <td>40434341</td>\n",
       "      <td>30958687</td>\n",
       "      <td>38430644</td>\n",
       "      <td>36758353</td>\n",
       "      <td>22578374</td>\n",
       "      <td>35913491</td>\n",
       "      <td>30330078</td>\n",
       "      <td>...</td>\n",
       "      <td>37637883</td>\n",
       "      <td>28460353</td>\n",
       "      <td>34761247</td>\n",
       "      <td>35331980</td>\n",
       "      <td>36818302</td>\n",
       "      <td>41001609</td>\n",
       "      <td>37391916</td>\n",
       "      <td>45994287</td>\n",
       "      <td>41758558</td>\n",
       "      <td>16870936</td>\n",
       "    </tr>\n",
       "    <tr>\n",
       "      <th>29</th>\n",
       "      <td>X</td>\n",
       "      <td>75701690</td>\n",
       "      <td>118311215</td>\n",
       "      <td>371275106</td>\n",
       "      <td>135061050</td>\n",
       "      <td>144388657</td>\n",
       "      <td>157279274</td>\n",
       "      <td>119217343</td>\n",
       "      <td>184089042</td>\n",
       "      <td>135628894</td>\n",
       "      <td>...</td>\n",
       "      <td>213129793</td>\n",
       "      <td>246788616</td>\n",
       "      <td>303243461</td>\n",
       "      <td>280569366</td>\n",
       "      <td>256787663</td>\n",
       "      <td>493859686</td>\n",
       "      <td>335696754</td>\n",
       "      <td>440161280</td>\n",
       "      <td>316560338</td>\n",
       "      <td>357979650</td>\n",
       "    </tr>\n",
       "    <tr>\n",
       "      <th>30</th>\n",
       "      <td>SCCO</td>\n",
       "      <td>12800165</td>\n",
       "      <td>19925268</td>\n",
       "      <td>23547672</td>\n",
       "      <td>21612688</td>\n",
       "      <td>22877017</td>\n",
       "      <td>28411246</td>\n",
       "      <td>21112641</td>\n",
       "      <td>31037156</td>\n",
       "      <td>21938077</td>\n",
       "      <td>...</td>\n",
       "      <td>33165290</td>\n",
       "      <td>32587776</td>\n",
       "      <td>29263789</td>\n",
       "      <td>34173617</td>\n",
       "      <td>21454505</td>\n",
       "      <td>28298280</td>\n",
       "      <td>20916175</td>\n",
       "      <td>23465179</td>\n",
       "      <td>20966363</td>\n",
       "      <td>20922526</td>\n",
       "    </tr>\n",
       "    <tr>\n",
       "      <th>31</th>\n",
       "      <td>FERG</td>\n",
       "      <td>21281260</td>\n",
       "      <td>22870165</td>\n",
       "      <td>16950427</td>\n",
       "      <td>21150874</td>\n",
       "      <td>41501316</td>\n",
       "      <td>29807827</td>\n",
       "      <td>22924160</td>\n",
       "      <td>33573015</td>\n",
       "      <td>22758023</td>\n",
       "      <td>...</td>\n",
       "      <td>10397919</td>\n",
       "      <td>9920855</td>\n",
       "      <td>16202547</td>\n",
       "      <td>15821286</td>\n",
       "      <td>8352715</td>\n",
       "      <td>9109847</td>\n",
       "      <td>830275</td>\n",
       "      <td>770557</td>\n",
       "      <td>867641</td>\n",
       "      <td>289508</td>\n",
       "    </tr>\n",
       "    <tr>\n",
       "      <th>32</th>\n",
       "      <td>LEN-B</td>\n",
       "      <td>890509</td>\n",
       "      <td>1437499</td>\n",
       "      <td>1580388</td>\n",
       "      <td>1586291</td>\n",
       "      <td>1609703</td>\n",
       "      <td>1365027</td>\n",
       "      <td>1481707</td>\n",
       "      <td>1403038</td>\n",
       "      <td>1427388</td>\n",
       "      <td>...</td>\n",
       "      <td>1746754</td>\n",
       "      <td>1932470</td>\n",
       "      <td>2717236</td>\n",
       "      <td>2359180</td>\n",
       "      <td>2758801</td>\n",
       "      <td>2203728</td>\n",
       "      <td>2083115</td>\n",
       "      <td>2212147</td>\n",
       "      <td>1809985</td>\n",
       "      <td>980701</td>\n",
       "    </tr>\n",
       "    <tr>\n",
       "      <th>33</th>\n",
       "      <td>EEFT</td>\n",
       "      <td>9674171</td>\n",
       "      <td>9284399</td>\n",
       "      <td>11478276</td>\n",
       "      <td>11755899</td>\n",
       "      <td>6186599</td>\n",
       "      <td>6036065</td>\n",
       "      <td>4372339</td>\n",
       "      <td>8200422</td>\n",
       "      <td>6417253</td>\n",
       "      <td>...</td>\n",
       "      <td>7273551</td>\n",
       "      <td>7848712</td>\n",
       "      <td>8902261</td>\n",
       "      <td>7503604</td>\n",
       "      <td>7900171</td>\n",
       "      <td>14230309</td>\n",
       "      <td>11806064</td>\n",
       "      <td>18907953</td>\n",
       "      <td>10141456</td>\n",
       "      <td>12009250</td>\n",
       "    </tr>\n",
       "    <tr>\n",
       "      <th>34</th>\n",
       "      <td>UHAL-B</td>\n",
       "      <td>3034087</td>\n",
       "      <td>7412198</td>\n",
       "      <td>5193383</td>\n",
       "      <td>5454196</td>\n",
       "      <td>9694696</td>\n",
       "      <td>8894240</td>\n",
       "      <td>3535951</td>\n",
       "      <td>5835125</td>\n",
       "      <td>4732480</td>\n",
       "      <td>...</td>\n",
       "      <td>NaN</td>\n",
       "      <td>NaN</td>\n",
       "      <td>NaN</td>\n",
       "      <td>NaN</td>\n",
       "      <td>NaN</td>\n",
       "      <td>NaN</td>\n",
       "      <td>NaN</td>\n",
       "      <td>NaN</td>\n",
       "      <td>NaN</td>\n",
       "      <td>NaN</td>\n",
       "    </tr>\n",
       "    <tr>\n",
       "      <th>35</th>\n",
       "      <td>BF-A</td>\n",
       "      <td>1007464</td>\n",
       "      <td>2813986</td>\n",
       "      <td>1034266</td>\n",
       "      <td>722888</td>\n",
       "      <td>3113450</td>\n",
       "      <td>551135</td>\n",
       "      <td>503978</td>\n",
       "      <td>753055</td>\n",
       "      <td>528954</td>\n",
       "      <td>...</td>\n",
       "      <td>704085</td>\n",
       "      <td>687529</td>\n",
       "      <td>1437320</td>\n",
       "      <td>668275</td>\n",
       "      <td>635123</td>\n",
       "      <td>1005658</td>\n",
       "      <td>611619</td>\n",
       "      <td>814271</td>\n",
       "      <td>941540</td>\n",
       "      <td>655241</td>\n",
       "    </tr>\n",
       "    <tr>\n",
       "      <th>36</th>\n",
       "      <td>CWEN-A</td>\n",
       "      <td>5755588</td>\n",
       "      <td>5279079</td>\n",
       "      <td>5677887</td>\n",
       "      <td>4393229</td>\n",
       "      <td>11631903</td>\n",
       "      <td>5510404</td>\n",
       "      <td>4462035</td>\n",
       "      <td>6989679</td>\n",
       "      <td>3332810</td>\n",
       "      <td>...</td>\n",
       "      <td>3362790</td>\n",
       "      <td>2916844</td>\n",
       "      <td>5321795</td>\n",
       "      <td>4801562</td>\n",
       "      <td>3719372</td>\n",
       "      <td>5379930</td>\n",
       "      <td>3173994</td>\n",
       "      <td>3570702</td>\n",
       "      <td>4658554</td>\n",
       "      <td>4876154</td>\n",
       "    </tr>\n",
       "    <tr>\n",
       "      <th>37</th>\n",
       "      <td>HEI-A</td>\n",
       "      <td>2869496</td>\n",
       "      <td>5294625</td>\n",
       "      <td>5951137</td>\n",
       "      <td>3524042</td>\n",
       "      <td>5045481</td>\n",
       "      <td>6095919</td>\n",
       "      <td>2137436</td>\n",
       "      <td>4015862</td>\n",
       "      <td>4996347</td>\n",
       "      <td>...</td>\n",
       "      <td>3782105</td>\n",
       "      <td>3743684</td>\n",
       "      <td>6217543</td>\n",
       "      <td>6868415</td>\n",
       "      <td>4304007</td>\n",
       "      <td>7505633</td>\n",
       "      <td>10202590</td>\n",
       "      <td>9593795</td>\n",
       "      <td>4904669</td>\n",
       "      <td>4697653</td>\n",
       "    </tr>\n",
       "  </tbody>\n",
       "</table>\n",
       "<p>10 rows × 25 columns</p>\n",
       "</div>"
      ],
      "text/plain": [
       "    Ticker Month1_Volume Month2_Volume Month3_Volume Month4_Volume  \\\n",
       "28     TOL      25480168      37292687      40434341      30958687   \n",
       "29       X      75701690     118311215     371275106     135061050   \n",
       "30    SCCO      12800165      19925268      23547672      21612688   \n",
       "31    FERG      21281260      22870165      16950427      21150874   \n",
       "32   LEN-B        890509       1437499       1580388       1586291   \n",
       "33    EEFT       9674171       9284399      11478276      11755899   \n",
       "34  UHAL-B       3034087       7412198       5193383       5454196   \n",
       "35    BF-A       1007464       2813986       1034266        722888   \n",
       "36  CWEN-A       5755588       5279079       5677887       4393229   \n",
       "37   HEI-A       2869496       5294625       5951137       3524042   \n",
       "\n",
       "   Month5_Volume Month6_Volume Month7_Volume Month8_Volume Month9_Volume  ...  \\\n",
       "28      38430644      36758353      22578374      35913491      30330078  ...   \n",
       "29     144388657     157279274     119217343     184089042     135628894  ...   \n",
       "30      22877017      28411246      21112641      31037156      21938077  ...   \n",
       "31      41501316      29807827      22924160      33573015      22758023  ...   \n",
       "32       1609703       1365027       1481707       1403038       1427388  ...   \n",
       "33       6186599       6036065       4372339       8200422       6417253  ...   \n",
       "34       9694696       8894240       3535951       5835125       4732480  ...   \n",
       "35       3113450        551135        503978        753055        528954  ...   \n",
       "36      11631903       5510404       4462035       6989679       3332810  ...   \n",
       "37       5045481       6095919       2137436       4015862       4996347  ...   \n",
       "\n",
       "   Month15_Volume Month16_Volume Month17_Volume Month18_Volume Month19_Volume  \\\n",
       "28       37637883       28460353       34761247       35331980       36818302   \n",
       "29      213129793      246788616      303243461      280569366      256787663   \n",
       "30       33165290       32587776       29263789       34173617       21454505   \n",
       "31       10397919        9920855       16202547       15821286        8352715   \n",
       "32        1746754        1932470        2717236        2359180        2758801   \n",
       "33        7273551        7848712        8902261        7503604        7900171   \n",
       "34            NaN            NaN            NaN            NaN            NaN   \n",
       "35         704085         687529        1437320         668275         635123   \n",
       "36        3362790        2916844        5321795        4801562        3719372   \n",
       "37        3782105        3743684        6217543        6868415        4304007   \n",
       "\n",
       "   Month20_Volume Month21_Volume Month22_Volume Month23_Volume Month24_Volume  \n",
       "28       41001609       37391916       45994287       41758558       16870936  \n",
       "29      493859686      335696754      440161280      316560338      357979650  \n",
       "30       28298280       20916175       23465179       20966363       20922526  \n",
       "31        9109847         830275         770557         867641         289508  \n",
       "32        2203728        2083115        2212147        1809985         980701  \n",
       "33       14230309       11806064       18907953       10141456       12009250  \n",
       "34            NaN            NaN            NaN            NaN            NaN  \n",
       "35        1005658         611619         814271         941540         655241  \n",
       "36        5379930        3173994        3570702        4658554        4876154  \n",
       "37        7505633       10202590        9593795        4904669        4697653  \n",
       "\n",
       "[10 rows x 25 columns]"
      ]
     },
     "execution_count": 339,
     "metadata": {},
     "output_type": "execute_result"
    }
   ],
   "source": [
    "df5.tail(10)"
   ]
  },
  {
   "cell_type": "code",
   "execution_count": 340,
   "id": "ad88d1d8-846a-4cb8-87cf-a1ccc3d1d756",
   "metadata": {},
   "outputs": [],
   "source": [
    "result10 = pd.concat([df4,df5],axis=0).reset_index(drop=True)"
   ]
  },
  {
   "cell_type": "code",
   "execution_count": 344,
   "id": "8058d317-61e6-4757-a974-fdc28a7189a1",
   "metadata": {},
   "outputs": [
    {
     "data": {
      "text/plain": [
       "(139, 25)"
      ]
     },
     "execution_count": 344,
     "metadata": {},
     "output_type": "execute_result"
    }
   ],
   "source": [
    "result10.shape"
   ]
  },
  {
   "cell_type": "code",
   "execution_count": 343,
   "id": "01d45b68-1e4f-43cf-9316-c5159559b73f",
   "metadata": {},
   "outputs": [],
   "source": [
    "result10.to_csv(\"partial_rus_10.csv\", index=False)"
   ]
  },
  {
   "cell_type": "code",
   "execution_count": 275,
   "id": "c5928906-f8ab-4479-ba99-c7f7b94f09e4",
   "metadata": {},
   "outputs": [
    {
     "data": {
      "text/plain": [
       "Index(['Ticker', 'Month1_Volume', 'Month2_Volume', 'Month3_Volume',\n",
       "       'Month4_Volume', 'Month5_Volume', 'Month6_Volume', 'Month7_Volume',\n",
       "       'Month8_Volume', 'Month9_Volume', 'Month10_Volume', 'Month11_Volume',\n",
       "       'Month12_Volume', 'Month13_Volume', 'Month14_Volume', 'Month15_Volume',\n",
       "       'Month16_Volume', 'Month17_Volume', 'Month18_Volume', 'Month19_Volume',\n",
       "       'Month20_Volume', 'Month21_Volume', 'Month22_Volume', 'Month23_Volume',\n",
       "       'Month24_Volume'],\n",
       "      dtype='object')"
      ]
     },
     "execution_count": 275,
     "metadata": {},
     "output_type": "execute_result"
    }
   ],
   "source": [
    "tot_rem_rus.columns"
   ]
  },
  {
   "cell_type": "code",
   "execution_count": 278,
   "id": "c06cc57f-49f8-4dcf-922e-84d9b26362b5",
   "metadata": {},
   "outputs": [
    {
     "data": {
      "text/plain": [
       "Index(['Ticker', 'Market Cap', 'Exchange', 'Outstanding Shares',\n",
       "       'Q1_NetIncome', 'Q2_NetIncome', 'Q3_NetIncome', 'Q4_NetIncome',\n",
       "       'Q5_NetIncome', 'Q6_NetIncome', 'Q7_NetIncome', 'Q8_NetIncome'],\n",
       "      dtype='object')"
      ]
     },
     "execution_count": 278,
     "metadata": {},
     "output_type": "execute_result"
    }
   ],
   "source": [
    "result3.columns"
   ]
  },
  {
   "cell_type": "code",
   "execution_count": 277,
   "id": "503616e5-a861-47c9-8d96-e8f846ee6243",
   "metadata": {},
   "outputs": [],
   "source": [
    "drop_col=['Month1_Volume', 'Month2_Volume', 'Month3_Volume', 'Month4_Volume',\n",
    "       'Month5_Volume', 'Month6_Volume', 'Month7_Volume', 'Month8_Volume',\n",
    "       'Month9_Volume', 'Month10_Volume', 'Month11_Volume', 'Month12_Volume',\n",
    "       'OldestDataDate']\n",
    "result3.drop(columns=drop_col,axis=1,inplace=True)"
   ]
  },
  {
   "cell_type": "code",
   "execution_count": 279,
   "id": "aa783750-3021-4cf3-97e5-c8ffecdbc5a6",
   "metadata": {},
   "outputs": [],
   "source": [
    "result4 = pd.merge(result3,tot_rem_rus,on='Ticker')"
   ]
  },
  {
   "cell_type": "code",
   "execution_count": 280,
   "id": "0d2d7f8c-3d79-4b20-a25f-f39bc1c96d41",
   "metadata": {},
   "outputs": [
    {
     "data": {
      "text/plain": [
       "Index(['Ticker', 'Market Cap', 'Exchange', 'Outstanding Shares',\n",
       "       'Q1_NetIncome', 'Q2_NetIncome', 'Q3_NetIncome', 'Q4_NetIncome',\n",
       "       'Q5_NetIncome', 'Q6_NetIncome', 'Q7_NetIncome', 'Q8_NetIncome',\n",
       "       'Month1_Volume', 'Month2_Volume', 'Month3_Volume', 'Month4_Volume',\n",
       "       'Month5_Volume', 'Month6_Volume', 'Month7_Volume', 'Month8_Volume',\n",
       "       'Month9_Volume', 'Month10_Volume', 'Month11_Volume', 'Month12_Volume',\n",
       "       'Month13_Volume', 'Month14_Volume', 'Month15_Volume', 'Month16_Volume',\n",
       "       'Month17_Volume', 'Month18_Volume', 'Month19_Volume', 'Month20_Volume',\n",
       "       'Month21_Volume', 'Month22_Volume', 'Month23_Volume', 'Month24_Volume'],\n",
       "      dtype='object')"
      ]
     },
     "execution_count": 280,
     "metadata": {},
     "output_type": "execute_result"
    }
   ],
   "source": [
    "result4.columns"
   ]
  },
  {
   "cell_type": "code",
   "execution_count": 281,
   "id": "2d1fe9dd-cd69-460a-be38-d4d525997c58",
   "metadata": {},
   "outputs": [],
   "source": [
    "result4.to_csv(\"remaning_russell.csv\",index=False)"
   ]
  },
  {
   "cell_type": "code",
   "execution_count": 100,
   "id": "22cf6788-3d9d-4c58-b26d-394e187f8a3f",
   "metadata": {},
   "outputs": [
    {
     "data": {
      "text/plain": [
       "(13, 25)"
      ]
     },
     "execution_count": 100,
     "metadata": {},
     "output_type": "execute_result"
    }
   ],
   "source": [
    "df.shape"
   ]
  },
  {
   "cell_type": "code",
   "execution_count": 91,
   "id": "5fd97c96-9552-4535-855b-8c0aed10a3ef",
   "metadata": {},
   "outputs": [],
   "source": [
    "df = df.iloc[:-3]"
   ]
  },
  {
   "cell_type": "code",
   "execution_count": 37,
   "id": "f60c7841-22ce-4110-a188-41b0c10211dd",
   "metadata": {},
   "outputs": [],
   "source": [
    "#df1 = df"
   ]
  },
  {
   "cell_type": "code",
   "execution_count": 51,
   "id": "f30b2ccf-5295-4bd9-be13-3f7f370691bb",
   "metadata": {},
   "outputs": [],
   "source": [
    "#df2 = df"
   ]
  },
  {
   "cell_type": "code",
   "execution_count": 82,
   "id": "30d092f3-51b6-47e0-9e73-c76f26400568",
   "metadata": {},
   "outputs": [],
   "source": [
    "#df3 = df"
   ]
  },
  {
   "cell_type": "code",
   "execution_count": 93,
   "id": "23840474-1f85-4a94-9e47-486ad37ba1bf",
   "metadata": {},
   "outputs": [],
   "source": [
    "#df4 = df"
   ]
  },
  {
   "cell_type": "code",
   "execution_count": 94,
   "id": "5d0a6a1c-2a72-4835-932d-966afaf5feff",
   "metadata": {},
   "outputs": [],
   "source": [
    "#df5 = df"
   ]
  },
  {
   "cell_type": "code",
   "execution_count": 104,
   "id": "52670877-0e95-41a6-9d7d-84ca2f0e4451",
   "metadata": {},
   "outputs": [],
   "source": [
    "df6 = df"
   ]
  },
  {
   "cell_type": "code",
   "execution_count": 53,
   "id": "426bc4bc-6c55-403f-afd4-d13a9eda538d",
   "metadata": {},
   "outputs": [
    {
     "data": {
      "text/plain": [
       "(95, 25)"
      ]
     },
     "execution_count": 53,
     "metadata": {},
     "output_type": "execute_result"
    }
   ],
   "source": [
    "df1.shape"
   ]
  },
  {
   "cell_type": "code",
   "execution_count": 75,
   "id": "8a93b946-7a87-44fb-9e0b-fae4b62a2ebf",
   "metadata": {},
   "outputs": [
    {
     "data": {
      "text/plain": [
       "(97, 25)"
      ]
     },
     "execution_count": 75,
     "metadata": {},
     "output_type": "execute_result"
    }
   ],
   "source": [
    "df2.shape"
   ]
  },
  {
   "cell_type": "code",
   "execution_count": 76,
   "id": "c382ab03-fa76-4f8e-9c42-7b998491a162",
   "metadata": {},
   "outputs": [
    {
     "data": {
      "text/plain": [
       "(101, 25)"
      ]
     },
     "execution_count": 76,
     "metadata": {},
     "output_type": "execute_result"
    }
   ],
   "source": [
    "df3.shape"
   ]
  },
  {
   "cell_type": "code",
   "execution_count": 95,
   "id": "856f22da-b6b6-435d-9412-f448d620d98b",
   "metadata": {},
   "outputs": [
    {
     "data": {
      "text/plain": [
       "(96, 25)"
      ]
     },
     "execution_count": 95,
     "metadata": {},
     "output_type": "execute_result"
    }
   ],
   "source": [
    "df4.shape"
   ]
  },
  {
   "cell_type": "code",
   "execution_count": 101,
   "id": "14abe997-b3df-46f1-a5aa-bc91bbbb3a49",
   "metadata": {},
   "outputs": [
    {
     "data": {
      "text/plain": [
       "(101, 25)"
      ]
     },
     "execution_count": 101,
     "metadata": {},
     "output_type": "execute_result"
    }
   ],
   "source": [
    "df5.shape"
   ]
  },
  {
   "cell_type": "code",
   "execution_count": 105,
   "id": "e89764d8-40ed-4252-aa53-169191d42543",
   "metadata": {},
   "outputs": [
    {
     "data": {
      "text/plain": [
       "(13, 25)"
      ]
     },
     "execution_count": 105,
     "metadata": {},
     "output_type": "execute_result"
    }
   ],
   "source": [
    "df6.shape"
   ]
  },
  {
   "cell_type": "code",
   "execution_count": 106,
   "id": "6648751b-5253-4eb0-b8a2-a735642b188d",
   "metadata": {},
   "outputs": [],
   "source": [
    "frames = [df1, df2, df3,df4,df5,df6]\n",
    "result_df = pd.concat(frames)"
   ]
  },
  {
   "cell_type": "code",
   "execution_count": 110,
   "id": "c6f9ca38-4f81-4cee-ab0f-f2ef73696de7",
   "metadata": {},
   "outputs": [],
   "source": [
    "result_df.to_csv(\"volume_total.csv\", index=False)"
   ]
  },
  {
   "cell_type": "code",
   "execution_count": 102,
   "id": "d8e14984-70d5-4293-a46a-979a279ffb7c",
   "metadata": {},
   "outputs": [],
   "source": [
    "df5.to_csv(\"volume_5.csv\",index=False)"
   ]
  },
  {
   "cell_type": "markdown",
   "id": "3167e595-b162-4b24-9e99-bd1e9ac4f2ba",
   "metadata": {},
   "source": [
    "# Russell 1000"
   ]
  },
  {
   "cell_type": "markdown",
   "id": "664a8eb5-ee08-4ebe-94f0-85b6ab2dbd4a",
   "metadata": {},
   "source": [
    "### API Pull For Russell 1000"
   ]
  },
  {
   "cell_type": "code",
   "execution_count": 2,
   "id": "14020823-47b5-4bae-97cb-a38afd6ea09a",
   "metadata": {},
   "outputs": [
    {
     "ename": "NameError",
     "evalue": "name 'pd' is not defined",
     "output_type": "error",
     "traceback": [
      "\u001b[0;31m---------------------------------------------------------------------------\u001b[0m",
      "\u001b[0;31mNameError\u001b[0m                                 Traceback (most recent call last)",
      "\u001b[0;32m/var/folders/n_/367n_sc56lj0q1ddbd82d5qw0000gn/T/ipykernel_9319/2654750000.py\u001b[0m in \u001b[0;36m<module>\u001b[0;34m\u001b[0m\n\u001b[1;32m      1\u001b[0m \u001b[0murl\u001b[0m \u001b[0;34m=\u001b[0m \u001b[0;34m\"https://en.wikipedia.org/wiki/Russell_1000_Index\"\u001b[0m\u001b[0;34m\u001b[0m\u001b[0;34m\u001b[0m\u001b[0m\n\u001b[0;32m----> 2\u001b[0;31m \u001b[0mdata\u001b[0m \u001b[0;34m=\u001b[0m \u001b[0mpd\u001b[0m\u001b[0;34m.\u001b[0m\u001b[0mread_html\u001b[0m\u001b[0;34m(\u001b[0m\u001b[0murl\u001b[0m\u001b[0;34m)\u001b[0m\u001b[0;34m\u001b[0m\u001b[0;34m\u001b[0m\u001b[0m\n\u001b[0m\u001b[1;32m      3\u001b[0m \u001b[0mtable\u001b[0m \u001b[0;34m=\u001b[0m \u001b[0mdata\u001b[0m\u001b[0;34m[\u001b[0m\u001b[0;36m2\u001b[0m\u001b[0;34m]\u001b[0m\u001b[0;34m\u001b[0m\u001b[0;34m\u001b[0m\u001b[0m\n\u001b[1;32m      4\u001b[0m \u001b[0mrussell_list\u001b[0m \u001b[0;34m=\u001b[0m \u001b[0mtable\u001b[0m\u001b[0;34m[\u001b[0m\u001b[0;34m'Ticker'\u001b[0m\u001b[0;34m]\u001b[0m\u001b[0;34m.\u001b[0m\u001b[0mtolist\u001b[0m\u001b[0;34m(\u001b[0m\u001b[0;34m)\u001b[0m\u001b[0;34m\u001b[0m\u001b[0;34m\u001b[0m\u001b[0m\n\u001b[1;32m      5\u001b[0m \u001b[0;34m\u001b[0m\u001b[0m\n",
      "\u001b[0;31mNameError\u001b[0m: name 'pd' is not defined"
     ]
    }
   ],
   "source": [
    "url = \"https://en.wikipedia.org/wiki/Russell_1000_Index\"\n",
    "data = pd.read_html(url)\n",
    "table = data[2]\n",
    "russell_list = table['Ticker'].tolist()\n",
    "\n",
    "russell_array = np.array(russell_list)\n",
    "russell_array_sorted = np.sort(russell_array)"
   ]
  },
  {
   "cell_type": "code",
   "execution_count": 1,
   "id": "8485d61a-568f-49ad-b7c1-525292ac3d9b",
   "metadata": {},
   "outputs": [
    {
     "ename": "NameError",
     "evalue": "name 'russell_array_sorted' is not defined",
     "output_type": "error",
     "traceback": [
      "\u001b[0;31m---------------------------------------------------------------------------\u001b[0m",
      "\u001b[0;31mNameError\u001b[0m                                 Traceback (most recent call last)",
      "\u001b[0;32m/var/folders/n_/367n_sc56lj0q1ddbd82d5qw0000gn/T/ipykernel_9319/2493891969.py\u001b[0m in \u001b[0;36m<module>\u001b[0;34m\u001b[0m\n\u001b[0;32m----> 1\u001b[0;31m \u001b[0mrussell_array_sorted\u001b[0m\u001b[0;34m.\u001b[0m\u001b[0mshape\u001b[0m\u001b[0;34m\u001b[0m\u001b[0;34m\u001b[0m\u001b[0m\n\u001b[0m",
      "\u001b[0;31mNameError\u001b[0m: name 'russell_array_sorted' is not defined"
     ]
    }
   ],
   "source": [
    "russell_array_sorted.shape"
   ]
  },
  {
   "cell_type": "code",
   "execution_count": 170,
   "id": "3e851e93-41e5-4289-b93c-0e1e675f8511",
   "metadata": {},
   "outputs": [],
   "source": [
    "russell_set = set(russell_array_sorted)\n",
    "tickers_set = set(tickers_array_sorted)\n",
    "\n",
    "next_500_set = russell_set - tickers_set\n",
    "\n",
    "next_500_array = sorted(list(next_500_set))"
   ]
  },
  {
   "cell_type": "code",
   "execution_count": 177,
   "id": "6e748ca8-d323-49b7-b62a-581ec7a62bc9",
   "metadata": {},
   "outputs": [
    {
     "data": {
      "text/plain": [
       "509"
      ]
     },
     "execution_count": 177,
     "metadata": {},
     "output_type": "execute_result"
    }
   ],
   "source": [
    "len(next_500_array)"
   ]
  },
  {
   "cell_type": "code",
   "execution_count": 160,
   "id": "dbced1f4-2c2e-4cd3-8785-9ad503bbfe59",
   "metadata": {},
   "outputs": [
    {
     "name": "stdout",
     "output_type": "stream",
     "text": [
      "{'Ticker': 'WING', 'Market Cap': '5440934000', 'Exchange': 'NASDAQ', 'Outstanding Shares': '29977600', 'Q1_NetIncome': '16181000', 'Q2_NetIncome': '15669000', 'Q3_NetIncome': '17596000', 'Q4_NetIncome': '13368000', 'Q5_NetIncome': '13307000', 'Q6_NetIncome': '8676000', 'Q7_NetIncome': '6896000', 'Q8_NetIncome': '11290000', 'Month1_Volume': '8248856', 'Month2_Volume': '14150991', 'Month3_Volume': '13756049', 'Month4_Volume': '9774352', 'Month5_Volume': '14548092', 'Month6_Volume': '13185396', 'Month7_Volume': '10643174', 'Month8_Volume': '13266179', 'Month9_Volume': '15552850', 'Month10_Volume': '9836408', 'Month11_Volume': '10662142', 'Month12_Volume': '9539502', 'Month13_Volume': '22407880', 'Month14_Volume': '15524741', 'Month15_Volume': '14204571', 'Month16_Volume': '20200894', 'Month17_Volume': '15192834', 'Month18_Volume': '17956110', 'Month19_Volume': '10227965', 'Month20_Volume': '13114559', 'Month21_Volume': '10282696', 'Month22_Volume': '7608409', 'Month23_Volume': '6588446', 'Month24_Volume': '9625940'}\n"
     ]
    },
    {
     "name": "stderr",
     "output_type": "stream",
     "text": [
      "/var/folders/n_/367n_sc56lj0q1ddbd82d5qw0000gn/T/ipykernel_35416/2395817632.py:56: FutureWarning: The frame.append method is deprecated and will be removed from pandas in a future version. Use pandas.concat instead.\n",
      "  df = df.append(fetch_data_for_ticker(ticker), ignore_index=True)\n"
     ]
    },
    {
     "name": "stdout",
     "output_type": "stream",
     "text": [
      "{'Ticker': 'WLK', 'Market Cap': '15065788000', 'Exchange': 'NYSE', 'Outstanding Shares': '127687000', 'Q1_NetIncome': '297000000', 'Q2_NetIncome': '394000000', 'Q3_NetIncome': '232000000', 'Q4_NetIncome': '401000000', 'Q5_NetIncome': '858000000', 'Q6_NetIncome': '756000000', 'Q7_NetIncome': '644000000', 'Q8_NetIncome': '607000000'}\n"
     ]
    },
    {
     "name": "stderr",
     "output_type": "stream",
     "text": [
      "/var/folders/n_/367n_sc56lj0q1ddbd82d5qw0000gn/T/ipykernel_35416/2395817632.py:56: FutureWarning: The frame.append method is deprecated and will be removed from pandas in a future version. Use pandas.concat instead.\n",
      "  df = df.append(fetch_data_for_ticker(ticker), ignore_index=True)\n"
     ]
    },
    {
     "name": "stdout",
     "output_type": "stream",
     "text": [
      "Thank you for using Alpha Vantage! Our standard API call frequency is 5 calls per minute and 100 calls per day. Please visit https://www.alphavantage.co/premium/ if you would like to target a higher API call frequency.\n",
      "{'Ticker': 'WMS', 'Market Cap': '8672668000', 'Exchange': 'NYSE', 'Outstanding Shares': '78692000', 'Q1_NetIncome': '173652000', 'Q2_NetIncome': '85893000', 'Q3_NetIncome': '82040000', 'Q4_NetIncome': '152007000', 'Q5_NetIncome': '187146000', 'Q6_NetIncome': '46307000', 'Q7_NetIncome': '73678000', 'Q8_NetIncome': '75359000', 'Month1_Volume': '8384741', 'Month2_Volume': '13048316', 'Month3_Volume': '14304853', 'Month4_Volume': '12353476', 'Month5_Volume': '14997560', 'Month6_Volume': '12969012', 'Month7_Volume': '11584534', 'Month8_Volume': '35567991', 'Month9_Volume': '19730257', 'Month10_Volume': '13982400', 'Month11_Volume': '15323055', 'Month12_Volume': '25452103', 'Month13_Volume': '12650661', 'Month14_Volume': '14385050', 'Month15_Volume': '17573416', 'Month16_Volume': '11682011', 'Month17_Volume': '15852063', 'Month18_Volume': '9993709', 'Month19_Volume': '6666971', 'Month20_Volume': '10783835', 'Month21_Volume': '9711826', 'Month22_Volume': '6935416', 'Month23_Volume': '7903600', 'Month24_Volume': '8409652'}\n"
     ]
    },
    {
     "name": "stderr",
     "output_type": "stream",
     "text": [
      "/var/folders/n_/367n_sc56lj0q1ddbd82d5qw0000gn/T/ipykernel_35416/2395817632.py:56: FutureWarning: The frame.append method is deprecated and will be removed from pandas in a future version. Use pandas.concat instead.\n",
      "  df = df.append(fetch_data_for_ticker(ticker), ignore_index=True)\n"
     ]
    },
    {
     "name": "stdout",
     "output_type": "stream",
     "text": [
      "{'Ticker': 'WOLF', 'Market Cap': '4074643000', 'Exchange': 'NYSE', 'Outstanding Shares': '125258000', 'Q1_NetIncome': '-113300000', 'Q2_NetIncome': '-99500000', 'Q3_NetIncome': '-90900000', 'Q4_NetIncome': '-26200000', 'Q5_NetIncome': '32400000', 'Q6_NetIncome': '-66500000', 'Q7_NetIncome': '-96700000', 'Q8_NetIncome': '-70100000', 'Month1_Volume': '54781851', 'Month2_Volume': '55382172', 'Month3_Volume': '69565889', 'Month4_Volume': '61214336', 'Month5_Volume': '54195373', 'Month6_Volume': '78767300', 'Month7_Volume': '57910527', 'Month8_Volume': '56286264', 'Month9_Volume': '34351086', 'Month10_Volume': '53069868', 'Month11_Volume': '45043621', 'Month12_Volume': '66397625', 'Month13_Volume': '66964955', 'Month14_Volume': '51016184', 'Month15_Volume': '59962217', 'Month16_Volume': '29540924', 'Month17_Volume': '33250788', 'Month18_Volume': '46408357', 'Month19_Volume': '32605654', 'Month20_Volume': '41669467', 'Month21_Volume': '34190562', 'Month22_Volume': '42222408', 'Month23_Volume': '28745524', 'Month24_Volume': '38829805'}\n"
     ]
    },
    {
     "name": "stderr",
     "output_type": "stream",
     "text": [
      "/var/folders/n_/367n_sc56lj0q1ddbd82d5qw0000gn/T/ipykernel_35416/2395817632.py:56: FutureWarning: The frame.append method is deprecated and will be removed from pandas in a future version. Use pandas.concat instead.\n",
      "  df = df.append(fetch_data_for_ticker(ticker), ignore_index=True)\n"
     ]
    },
    {
     "name": "stdout",
     "output_type": "stream",
     "text": [
      "{'Ticker': 'WOOF', 'Market Cap': '846137000', 'Exchange': 'NASDAQ', 'Outstanding Shares': '229974000', 'Q1_NetIncome': '-14606000', 'Q2_NetIncome': '-1892000', 'Q3_NetIncome': '32732000', 'Q4_NetIncome': '19920000', 'Q5_NetIncome': '13456000', 'Q6_NetIncome': '24693000', 'Q7_NetIncome': '28994000', 'Q8_NetIncome': '52752000'}\n"
     ]
    },
    {
     "name": "stderr",
     "output_type": "stream",
     "text": [
      "/var/folders/n_/367n_sc56lj0q1ddbd82d5qw0000gn/T/ipykernel_35416/2395817632.py:56: FutureWarning: The frame.append method is deprecated and will be removed from pandas in a future version. Use pandas.concat instead.\n",
      "  df = df.append(fetch_data_for_ticker(ticker), ignore_index=True)\n"
     ]
    },
    {
     "name": "stdout",
     "output_type": "stream",
     "text": [
      "Thank you for using Alpha Vantage! Our standard API call frequency is 5 calls per minute and 100 calls per day. Please visit https://www.alphavantage.co/premium/ if you would like to target a higher API call frequency.\n",
      "{'Ticker': 'WPC', 'Market Cap': '11449319000', 'Exchange': 'NYSE', 'Outstanding Shares': '213926000', 'Q1_NetIncome': '144620000', 'Q2_NetIncome': '294380000', 'Q3_NetIncome': '209538000', 'Q4_NetIncome': '104928000', 'Q5_NetIncome': '127678000', 'Q6_NetIncome': '156995000', 'Q7_NetIncome': '99562000', 'Q8_NetIncome': '138547000', 'Month1_Volume': '27242455', 'Month2_Volume': '38631136', 'Month3_Volume': '21500284', 'Month4_Volume': '21588941', 'Month5_Volume': '24205457', 'Month6_Volume': '20335906', 'Month7_Volume': '22199051', 'Month8_Volume': '23364842', 'Month9_Volume': '17622887', 'Month10_Volume': '14093042', 'Month11_Volume': '24568499', 'Month12_Volume': '21470769', 'Month13_Volume': '22296446', 'Month14_Volume': '23425454', 'Month15_Volume': '21633011', 'Month16_Volume': '15213837', 'Month17_Volume': '29774619', 'Month18_Volume': '22464105', 'Month19_Volume': '18900743', 'Month20_Volume': '20897629', 'Month21_Volume': '18025469', 'Month22_Volume': '17248735', 'Month23_Volume': '18541705', 'Month24_Volume': '15614988'}\n"
     ]
    },
    {
     "name": "stderr",
     "output_type": "stream",
     "text": [
      "/var/folders/n_/367n_sc56lj0q1ddbd82d5qw0000gn/T/ipykernel_35416/2395817632.py:56: FutureWarning: The frame.append method is deprecated and will be removed from pandas in a future version. Use pandas.concat instead.\n",
      "  df = df.append(fetch_data_for_ticker(ticker), ignore_index=True)\n"
     ]
    },
    {
     "name": "stdout",
     "output_type": "stream",
     "text": [
      "{'Ticker': 'WSC', 'Market Cap': '8274971000', 'Exchange': 'NASDAQ', 'Outstanding Shares': '197305000', 'Q1_NetIncome': '87729000', 'Q2_NetIncome': '210884000', 'Q3_NetIncome': '86400000', 'Q4_NetIncome': '128593000', 'Q5_NetIncome': '73376000', 'Q6_NetIncome': '51171000', 'Q7_NetIncome': '74223000', 'Q8_NetIncome': '61103000', 'Month1_Volume': '20176744', 'Month2_Volume': '34598752', 'Month3_Volume': '47657103', 'Month4_Volume': '26489250', 'Month5_Volume': '39577717', 'Month6_Volume': '36381594', 'Month7_Volume': '59186745', 'Month8_Volume': '53831747', 'Month9_Volume': '33607001', 'Month10_Volume': '26056072', 'Month11_Volume': '31405227', 'Month12_Volume': '37775561', 'Month13_Volume': '40509034', 'Month14_Volume': '36397927', 'Month15_Volume': '43607355', 'Month16_Volume': '33746960', 'Month17_Volume': '76437812', 'Month18_Volume': '56324289', 'Month19_Volume': '46607224', 'Month20_Volume': '38622248', 'Month21_Volume': '31014618', 'Month22_Volume': '32185930', 'Month23_Volume': '35227156', 'Month24_Volume': '50203971'}\n"
     ]
    },
    {
     "name": "stderr",
     "output_type": "stream",
     "text": [
      "/var/folders/n_/367n_sc56lj0q1ddbd82d5qw0000gn/T/ipykernel_35416/2395817632.py:56: FutureWarning: The frame.append method is deprecated and will be removed from pandas in a future version. Use pandas.concat instead.\n",
      "  df = df.append(fetch_data_for_ticker(ticker), ignore_index=True)\n"
     ]
    },
    {
     "name": "stdout",
     "output_type": "stream",
     "text": [
      "{'Ticker': 'WSM', 'Market Cap': '10284368000', 'Exchange': 'NYSE', 'Outstanding Shares': '64145000', 'Q1_NetIncome': '201507000', 'Q2_NetIncome': '156531000', 'Q3_NetIncome': '354993000', 'Q4_NetIncome': '251723000', 'Q5_NetIncome': '267075000', 'Q6_NetIncome': '254113000', 'Q7_NetIncome': '402941000', 'Q8_NetIncome': '249524000'}\n"
     ]
    },
    {
     "name": "stderr",
     "output_type": "stream",
     "text": [
      "/var/folders/n_/367n_sc56lj0q1ddbd82d5qw0000gn/T/ipykernel_35416/2395817632.py:56: FutureWarning: The frame.append method is deprecated and will be removed from pandas in a future version. Use pandas.concat instead.\n",
      "  df = df.append(fetch_data_for_ticker(ticker), ignore_index=True)\n"
     ]
    },
    {
     "name": "stdout",
     "output_type": "stream",
     "text": [
      "Thank you for using Alpha Vantage! Our standard API call frequency is 5 calls per minute and 100 calls per day. Please visit https://www.alphavantage.co/premium/ if you would like to target a higher API call frequency.\n",
      "{'Ticker': 'WSO', 'Market Cap': '13940966000', 'Exchange': 'NYSE', 'Outstanding Shares': '33817800', 'Q1_NetIncome': '172764000', 'Q2_NetIncome': '110073000', 'Q3_NetIncome': '137671000', 'Q4_NetIncome': '157641000', 'Q5_NetIncome': '192557000', 'Q6_NetIncome': '113298000', 'Q7_NetIncome': '78886000', 'Q8_NetIncome': '140865000', 'Month1_Volume': '6864247', 'Month2_Volume': '6761409', 'Month3_Volume': '5824596', 'Month4_Volume': '6038656', 'Month5_Volume': '7679599', 'Month6_Volume': '8616197', 'Month7_Volume': '7481183', 'Month8_Volume': '6553990', 'Month9_Volume': '7031546', 'Month10_Volume': '4856154', 'Month11_Volume': '5268789', 'Month12_Volume': '5739719', 'Month13_Volume': '7985221', 'Month14_Volume': '5400642', 'Month15_Volume': '5189161', 'Month16_Volume': '6242860', 'Month17_Volume': '5997650', 'Month18_Volume': '6057594', 'Month19_Volume': '6202636', 'Month20_Volume': '4741239', 'Month21_Volume': '3723621', 'Month22_Volume': '2628464', 'Month23_Volume': '3141493', 'Month24_Volume': '1981934'}\n"
     ]
    },
    {
     "name": "stderr",
     "output_type": "stream",
     "text": [
      "/var/folders/n_/367n_sc56lj0q1ddbd82d5qw0000gn/T/ipykernel_35416/2395817632.py:56: FutureWarning: The frame.append method is deprecated and will be removed from pandas in a future version. Use pandas.concat instead.\n",
      "  df = df.append(fetch_data_for_ticker(ticker), ignore_index=True)\n"
     ]
    },
    {
     "name": "stdout",
     "output_type": "stream",
     "text": [
      "{'Ticker': 'WTFC', 'Market Cap': '4733693000', 'Exchange': 'NASDAQ', 'Outstanding Shares': '61212000', 'Q1_NetIncome': '154750000', 'Q2_NetIncome': '180198000', 'Q3_NetIncome': '144817000', 'Q4_NetIncome': '142961000', 'Q5_NetIncome': '94513000', 'Q6_NetIncome': '127391000', 'Q7_NetIncome': '98757000', 'Q8_NetIncome': '109137000', 'Month1_Volume': '6856682', 'Month2_Volume': '7410352', 'Month3_Volume': '6197377', 'Month4_Volume': '10552520', 'Month5_Volume': '11293704', 'Month6_Volume': '11061047', 'Month7_Volume': '10216468', 'Month8_Volume': '20169346', 'Month9_Volume': '7108016', 'Month10_Volume': '9505083', 'Month11_Volume': '9172569', 'Month12_Volume': '8232985', 'Month13_Volume': '10609969', 'Month14_Volume': '7771958', 'Month15_Volume': '6750867', 'Month16_Volume': '9007600', 'Month17_Volume': '14335381', 'Month18_Volume': '7172375', 'Month19_Volume': '8511375', 'Month20_Volume': '10561617', 'Month21_Volume': '8695703', 'Month22_Volume': '9590707', 'Month23_Volume': '6813774', 'Month24_Volume': '5826815'}\n"
     ]
    },
    {
     "name": "stderr",
     "output_type": "stream",
     "text": [
      "/var/folders/n_/367n_sc56lj0q1ddbd82d5qw0000gn/T/ipykernel_35416/2395817632.py:56: FutureWarning: The frame.append method is deprecated and will be removed from pandas in a future version. Use pandas.concat instead.\n",
      "  df = df.append(fetch_data_for_ticker(ticker), ignore_index=True)\n"
     ]
    },
    {
     "name": "stdout",
     "output_type": "stream",
     "text": [
      "{'Ticker': 'WTM', 'Market Cap': '3822675000', 'Exchange': 'NYSE', 'Outstanding Shares': '2560400', 'Q1_NetIncome': '19600000', 'Q2_NetIncome': '179500000', 'Q3_NetIncome': '40400000', 'Q4_NetIncome': '888200000', 'Q5_NetIncome': '-169200000', 'Q6_NetIncome': '33400000', 'Q7_NetIncome': '32800000', 'Q8_NetIncome': '-371400000'}\n"
     ]
    },
    {
     "name": "stderr",
     "output_type": "stream",
     "text": [
      "/var/folders/n_/367n_sc56lj0q1ddbd82d5qw0000gn/T/ipykernel_35416/2395817632.py:56: FutureWarning: The frame.append method is deprecated and will be removed from pandas in a future version. Use pandas.concat instead.\n",
      "  df = df.append(fetch_data_for_ticker(ticker), ignore_index=True)\n"
     ]
    },
    {
     "name": "stdout",
     "output_type": "stream",
     "text": [
      "{'Ticker': 'WTRG', 'Market Cap': '8855661000', 'Exchange': 'NYSE', 'Outstanding Shares': '264506000', 'Q1_NetIncome': '91268000', 'Q2_NetIncome': '191434000', 'Q3_NetIncome': '114932000', 'Q4_NetIncome': '68638000', 'Q5_NetIncome': '82291000', 'Q6_NetIncome': '199376000', 'Q7_NetIncome': '116506000', 'Q8_NetIncome': '50503000', 'Month1_Volume': '21168705', 'Month2_Volume': '27783333', 'Month3_Volume': '25434889', 'Month4_Volume': '22372791', 'Month5_Volume': '22471650', 'Month6_Volume': '23427755', 'Month7_Volume': '19313302', 'Month8_Volume': '35149096', 'Month9_Volume': '23219254', 'Month10_Volume': '18905597', 'Month11_Volume': '21209060', 'Month12_Volume': '21387399', 'Month13_Volume': '27639992', 'Month14_Volume': '28342753', 'Month15_Volume': '20138658', 'Month16_Volume': '18619263', 'Month17_Volume': '22462150', 'Month18_Volume': '28657805', 'Month19_Volume': '21474740', 'Month20_Volume': '25381071', 'Month21_Volume': '26271930', 'Month22_Volume': '22441567', 'Month23_Volume': '24435959', 'Month24_Volume': '16217914'}\n"
     ]
    },
    {
     "name": "stderr",
     "output_type": "stream",
     "text": [
      "/var/folders/n_/367n_sc56lj0q1ddbd82d5qw0000gn/T/ipykernel_35416/2395817632.py:56: FutureWarning: The frame.append method is deprecated and will be removed from pandas in a future version. Use pandas.concat instead.\n",
      "  df = df.append(fetch_data_for_ticker(ticker), ignore_index=True)\n"
     ]
    },
    {
     "name": "stdout",
     "output_type": "stream",
     "text": [
      "{'Ticker': 'WU', 'Market Cap': '4958843000', 'Exchange': 'NYSE', 'Outstanding Shares': '374535000', 'Q1_NetIncome': '176200000', 'Q2_NetIncome': '151800000', 'Q3_NetIncome': '249400000', 'Q4_NetIncome': '173900000', 'Q5_NetIncome': '194000000', 'Q6_NetIncome': '293300000', 'Q7_NetIncome': '168800000', 'Q8_NetIncome': '232700000'}\n"
     ]
    },
    {
     "name": "stderr",
     "output_type": "stream",
     "text": [
      "/var/folders/n_/367n_sc56lj0q1ddbd82d5qw0000gn/T/ipykernel_35416/2395817632.py:56: FutureWarning: The frame.append method is deprecated and will be removed from pandas in a future version. Use pandas.concat instead.\n",
      "  df = df.append(fetch_data_for_ticker(ticker), ignore_index=True)\n"
     ]
    },
    {
     "name": "stdout",
     "output_type": "stream",
     "text": [
      "Thank you for using Alpha Vantage! Our standard API call frequency is 5 calls per minute and 100 calls per day. Please visit https://www.alphavantage.co/premium/ if you would like to target a higher API call frequency.\n",
      "{'Ticker': 'WWD', 'Market Cap': '7535283000', 'Exchange': 'NASDAQ', 'Outstanding Shares': '60418000', 'Q1_NetIncome': '84599000', 'Q2_NetIncome': '35511000', 'Q3_NetIncome': '29606000', 'Q4_NetIncome': '54041000', 'Q5_NetIncome': '39446000', 'Q6_NetIncome': '47906000', 'Q7_NetIncome': '30305000', 'Q8_NetIncome': '49905000', 'Month1_Volume': '4429819', 'Month2_Volume': '6426536', 'Month3_Volume': '10070582', 'Month4_Volume': '4187253', 'Month5_Volume': '5842152', 'Month6_Volume': '8934894', 'Month7_Volume': '5359032', 'Month8_Volume': '8405550', 'Month9_Volume': '6540368', 'Month10_Volume': '7398863', 'Month11_Volume': '5684749', 'Month12_Volume': '6704262', 'Month13_Volume': '5719863', 'Month14_Volume': '8941208', 'Month15_Volume': '9857995', 'Month16_Volume': '4990938', 'Month17_Volume': '6931375', 'Month18_Volume': '10818949', 'Month19_Volume': '8673693', 'Month20_Volume': '12903625', 'Month21_Volume': '9458105', 'Month22_Volume': '6078119', 'Month23_Volume': '5411660', 'Month24_Volume': '4984334'}\n"
     ]
    },
    {
     "name": "stderr",
     "output_type": "stream",
     "text": [
      "/var/folders/n_/367n_sc56lj0q1ddbd82d5qw0000gn/T/ipykernel_35416/2395817632.py:56: FutureWarning: The frame.append method is deprecated and will be removed from pandas in a future version. Use pandas.concat instead.\n",
      "  df = df.append(fetch_data_for_ticker(ticker), ignore_index=True)\n"
     ]
    },
    {
     "name": "stdout",
     "output_type": "stream",
     "text": [
      "{'Ticker': 'WWE', 'Market Cap': '8370225000', 'Exchange': 'NYSE', 'Outstanding Shares': '52063000', 'Q1_NetIncome': '52001000', 'Q2_NetIncome': '36678000', 'Q3_NetIncome': '38828000', 'Q4_NetIncome': '41620000', 'Q5_NetIncome': '49099000', 'Q6_NetIncome': '66041000', 'Q7_NetIncome': '60889000', 'Q8_NetIncome': '43486000', 'Month1_Volume': '8792975', 'Month2_Volume': '16550984', 'Month3_Volume': '11164954', 'Month4_Volume': '12393378', 'Month5_Volume': '17467596', 'Month6_Volume': '39780043', 'Month7_Volume': '21661958', 'Month8_Volume': '15698490', 'Month9_Volume': '30968919', 'Month10_Volume': '11728270', 'Month11_Volume': '12880192', 'Month12_Volume': '16705495', 'Month13_Volume': '13980648', 'Month14_Volume': '11350482', 'Month15_Volume': '16864440', 'Month16_Volume': '17882900', 'Month17_Volume': '15434483', 'Month18_Volume': '10829287', 'Month19_Volume': '15086632', 'Month20_Volume': '15492006', 'Month21_Volume': '10919742', 'Month22_Volume': '10600836', 'Month23_Volume': '13620774', 'Month24_Volume': '9336164'}\n"
     ]
    },
    {
     "name": "stderr",
     "output_type": "stream",
     "text": [
      "/var/folders/n_/367n_sc56lj0q1ddbd82d5qw0000gn/T/ipykernel_35416/2395817632.py:56: FutureWarning: The frame.append method is deprecated and will be removed from pandas in a future version. Use pandas.concat instead.\n",
      "  df = df.append(fetch_data_for_ticker(ticker), ignore_index=True)\n"
     ]
    },
    {
     "name": "stdout",
     "output_type": "stream",
     "text": [
      "{'Ticker': 'X', 'Market Cap': '7139308000', 'Exchange': 'NYSE', 'Outstanding Shares': '222964000', 'Q1_NetIncome': '477000000', 'Q2_NetIncome': '199000000', 'Q3_NetIncome': '174000000', 'Q4_NetIncome': '490000000', 'Q5_NetIncome': '978000000', 'Q6_NetIncome': '882000000', 'Q7_NetIncome': '1069000000', 'Q8_NetIncome': '2002000000'}\n"
     ]
    },
    {
     "name": "stderr",
     "output_type": "stream",
     "text": [
      "/var/folders/n_/367n_sc56lj0q1ddbd82d5qw0000gn/T/ipykernel_35416/2395817632.py:56: FutureWarning: The frame.append method is deprecated and will be removed from pandas in a future version. Use pandas.concat instead.\n",
      "  df = df.append(fetch_data_for_ticker(ticker), ignore_index=True)\n"
     ]
    },
    {
     "name": "stdout",
     "output_type": "stream",
     "text": [
      "Thank you for using Alpha Vantage! Our standard API call frequency is 5 calls per minute and 100 calls per day. Please visit https://www.alphavantage.co/premium/ if you would like to target a higher API call frequency.\n",
      "{'Ticker': 'XP', 'Market Cap': '11711848000', 'Exchange': 'NASDAQ', 'Outstanding Shares': '435366000', 'Q1_NetIncome': '975353000', 'Q2_NetIncome': '782949000', 'Q3_NetIncome': '782949000', 'Q4_NetIncome': '1030746000', 'Q5_NetIncome': '911251000', 'Q6_NetIncome': '989442000', 'Q7_NetIncome': '854104000', 'Q8_NetIncome': '935662000', 'Month1_Volume': '68137411', 'Month2_Volume': '128802464', 'Month3_Volume': '94190665', 'Month4_Volume': '92186956', 'Month5_Volume': '159150539', 'Month6_Volume': '136862651', 'Month7_Volume': '115484024', 'Month8_Volume': '154056331', 'Month9_Volume': '122551773', 'Month10_Volume': '76001998', 'Month11_Volume': '88721106', 'Month12_Volume': '110851439', 'Month13_Volume': '99386001', 'Month14_Volume': '61447020', 'Month15_Volume': '116741087', 'Month16_Volume': '62695259', 'Month17_Volume': '83944919', 'Month18_Volume': '122725656', 'Month19_Volume': '73989466', 'Month20_Volume': '97281395', 'Month21_Volume': '71972874', 'Month22_Volume': '79250993', 'Month23_Volume': '78247177', 'Month24_Volume': '81345754'}\n"
     ]
    },
    {
     "name": "stderr",
     "output_type": "stream",
     "text": [
      "/var/folders/n_/367n_sc56lj0q1ddbd82d5qw0000gn/T/ipykernel_35416/2395817632.py:56: FutureWarning: The frame.append method is deprecated and will be removed from pandas in a future version. Use pandas.concat instead.\n",
      "  df = df.append(fetch_data_for_ticker(ticker), ignore_index=True)\n"
     ]
    },
    {
     "name": "stdout",
     "output_type": "stream",
     "text": [
      "{'Ticker': 'XPO', 'Market Cap': '8296279000', 'Exchange': 'NYSE', 'Outstanding Shares': '115967000', 'Q1_NetIncome': '33000000', 'Q2_NetIncome': '14000000', 'Q3_NetIncome': '-94000000', 'Q4_NetIncome': '131000000', 'Q5_NetIncome': '141000000', 'Q6_NetIncome': '488000000', 'Q7_NetIncome': '122000000', 'Q8_NetIncome': '-57000000', 'Month1_Volume': '22522146', 'Month2_Volume': '29256960', 'Month3_Volume': '36232147', 'Month4_Volume': '44797143', 'Month5_Volume': '36616021', 'Month6_Volume': '41967110', 'Month7_Volume': '54983176', 'Month8_Volume': '37286689', 'Month9_Volume': '40733424', 'Month10_Volume': '28025919', 'Month11_Volume': '25372531', 'Month12_Volume': '39489875', 'Month13_Volume': '32092219', 'Month14_Volume': '32571254', 'Month15_Volume': '33085788', 'Month16_Volume': '23054747', 'Month17_Volume': '31011329', 'Month18_Volume': '35169107', 'Month19_Volume': '40842231', 'Month20_Volume': '37460934', 'Month21_Volume': '32825903', 'Month22_Volume': '27903926', 'Month23_Volume': '29417206', 'Month24_Volume': '31724835'}\n"
     ]
    },
    {
     "name": "stderr",
     "output_type": "stream",
     "text": [
      "/var/folders/n_/367n_sc56lj0q1ddbd82d5qw0000gn/T/ipykernel_35416/2395817632.py:56: FutureWarning: The frame.append method is deprecated and will be removed from pandas in a future version. Use pandas.concat instead.\n",
      "  df = df.append(fetch_data_for_ticker(ticker), ignore_index=True)\n"
     ]
    },
    {
     "name": "stdout",
     "output_type": "stream",
     "text": [
      "{'Ticker': 'YETI', 'Market Cap': '3546655000', 'Exchange': 'NYSE', 'Outstanding Shares': '86736000', 'Q1_NetIncome': '38071000', 'Q2_NetIncome': '10564000', 'Q3_NetIncome': '-27738000', 'Q4_NetIncome': '45520000', 'Q5_NetIncome': '46252000', 'Q6_NetIncome': '25659000', 'Q7_NetIncome': '72881000', 'Q8_NetIncome': '52967000'}\n"
     ]
    },
    {
     "name": "stderr",
     "output_type": "stream",
     "text": [
      "/var/folders/n_/367n_sc56lj0q1ddbd82d5qw0000gn/T/ipykernel_35416/2395817632.py:56: FutureWarning: The frame.append method is deprecated and will be removed from pandas in a future version. Use pandas.concat instead.\n",
      "  df = df.append(fetch_data_for_ticker(ticker), ignore_index=True)\n"
     ]
    },
    {
     "name": "stdout",
     "output_type": "stream",
     "text": [
      "{'Ticker': 'Z', 'Market Cap': '9455844000', 'Exchange': 'NASDAQ', 'Outstanding Shares': '169924000', 'Q1_NetIncome': '-35000000', 'Q2_NetIncome': '-22000000', 'Q3_NetIncome': '-72000000', 'Q4_NetIncome': '-53000000', 'Q5_NetIncome': '8000000', 'Q6_NetIncome': '16000000', 'Q7_NetIncome': '-261000000', 'Q8_NetIncome': '-329000000', 'Month1_Volume': '32534672', 'Month2_Volume': '46141989', 'Month3_Volume': '63449307', 'Month4_Volume': '50513131', 'Month5_Volume': '61078408', 'Month6_Volume': '65237352', 'Month7_Volume': '37477822', 'Month8_Volume': '51727424', 'Month9_Volume': '75104251', 'Month10_Volume': '92704594', 'Month11_Volume': '78788526', 'Month12_Volume': '78306072', 'Month13_Volume': '66627746', 'Month14_Volume': '87331976', 'Month15_Volume': '82503325', 'Month16_Volume': '59516937', 'Month17_Volume': '91557877', 'Month18_Volume': '143396442', 'Month19_Volume': '73508736', 'Month20_Volume': '84890045', 'Month21_Volume': '177847236', 'Month22_Volume': '82818100', 'Month23_Volume': '117820788', 'Month24_Volume': '268529953'}\n"
     ]
    },
    {
     "name": "stderr",
     "output_type": "stream",
     "text": [
      "/var/folders/n_/367n_sc56lj0q1ddbd82d5qw0000gn/T/ipykernel_35416/2395817632.py:56: FutureWarning: The frame.append method is deprecated and will be removed from pandas in a future version. Use pandas.concat instead.\n",
      "  df = df.append(fetch_data_for_ticker(ticker), ignore_index=True)\n"
     ]
    },
    {
     "name": "stdout",
     "output_type": "stream",
     "text": [
      "{'Ticker': 'ZG', 'Market Cap': '9100569000', 'Exchange': 'NASDAQ', 'Outstanding Shares': '56684000', 'Q1_NetIncome': '-35000000', 'Q2_NetIncome': '-22000000', 'Q3_NetIncome': '-72000000', 'Q4_NetIncome': '-53000000', 'Q5_NetIncome': '8000000', 'Q6_NetIncome': '16000000', 'Q7_NetIncome': '-261000000', 'Q8_NetIncome': '-329000000', 'Month1_Volume': '5823233', 'Month2_Volume': '8355505', 'Month3_Volume': '11489628', 'Month4_Volume': '11390084', 'Month5_Volume': '8569219', 'Month6_Volume': '10227755', 'Month7_Volume': '5899547', 'Month8_Volume': '10163774', 'Month9_Volume': '14595974', 'Month10_Volume': '13875672', 'Month11_Volume': '19589982', 'Month12_Volume': '15969181', 'Month13_Volume': '11358412', 'Month14_Volume': '16813693', 'Month15_Volume': '16211312', 'Month16_Volume': '14324010', 'Month17_Volume': '25541982', 'Month18_Volume': '32610283', 'Month19_Volume': '15611941', 'Month20_Volume': '17204955', 'Month21_Volume': '31329138', 'Month22_Volume': '17518397', 'Month23_Volume': '21505137', 'Month24_Volume': '49822038'}\n"
     ]
    },
    {
     "name": "stderr",
     "output_type": "stream",
     "text": [
      "/var/folders/n_/367n_sc56lj0q1ddbd82d5qw0000gn/T/ipykernel_35416/2395817632.py:56: FutureWarning: The frame.append method is deprecated and will be removed from pandas in a future version. Use pandas.concat instead.\n",
      "  df = df.append(fetch_data_for_ticker(ticker), ignore_index=True)\n"
     ]
    },
    {
     "name": "stdout",
     "output_type": "stream",
     "text": [
      "Thank you for using Alpha Vantage! Our standard API call frequency is 5 calls per minute and 100 calls per day. Please visit https://www.alphavantage.co/premium/ if you would like to target a higher API call frequency.\n",
      "{'Ticker': 'ZI', 'Market Cap': '11333562000', 'Exchange': 'NASDAQ', 'Outstanding Shares': '401470000', 'Q1_NetIncome': '38100000', 'Q2_NetIncome': '44500000', 'Q3_NetIncome': '23200000', 'Q4_NetIncome': '17900000', 'Q5_NetIncome': '15900000', 'Q6_NetIncome': '6200000', 'Q7_NetIncome': '144900000', 'Q8_NetIncome': '-40600000', 'Month1_Volume': '75507051', 'Month2_Volume': '117256555', 'Month3_Volume': '187760825', 'Month4_Volume': '92589716', 'Month5_Volume': '183517361', 'Month6_Volume': '107549065', 'Month7_Volume': '76935739', 'Month8_Volume': '113777388', 'Month9_Volume': '113328923', 'Month10_Volume': '107227352', 'Month11_Volume': '83172943', 'Month12_Volume': '150316926', 'Month13_Volume': '66654873', 'Month14_Volume': '78838723', 'Month15_Volume': '88302584', 'Month16_Volume': '61673772', 'Month17_Volume': '128545853', 'Month18_Volume': '115434078', 'Month19_Volume': '45591734', 'Month20_Volume': '71343881', 'Month21_Volume': '72499507', 'Month22_Volume': '86053062', 'Month23_Volume': '100543464', 'Month24_Volume': '120783062'}\n"
     ]
    },
    {
     "name": "stderr",
     "output_type": "stream",
     "text": [
      "/var/folders/n_/367n_sc56lj0q1ddbd82d5qw0000gn/T/ipykernel_35416/2395817632.py:56: FutureWarning: The frame.append method is deprecated and will be removed from pandas in a future version. Use pandas.concat instead.\n",
      "  df = df.append(fetch_data_for_ticker(ticker), ignore_index=True)\n"
     ]
    },
    {
     "name": "stdout",
     "output_type": "stream",
     "text": [
      "{'Ticker': 'ZM', 'Market Cap': '18885050000', 'Exchange': 'NASDAQ', 'Outstanding Shares': '254292000', 'Q1_NetIncome': '181974000', 'Q2_NetIncome': '15444000', 'Q3_NetIncome': '-104050000', 'Q4_NetIncome': '48353000', 'Q5_NetIncome': '45750000', 'Q6_NetIncome': '113658000', 'Q7_NetIncome': '490641000', 'Q8_NetIncome': '340383000', 'Month1_Volume': '43915149', 'Month2_Volume': '68379608', 'Month3_Volume': '82773345', 'Month4_Volume': '65659901', 'Month5_Volume': '80766317', 'Month6_Volume': '106939854', 'Month7_Volume': '76734985', 'Month8_Volume': '81455607', 'Month9_Volume': '97500866', 'Month10_Volume': '62561706', 'Month11_Volume': '66832818', 'Month12_Volume': '98163274', 'Month13_Volume': '72418009', 'Month14_Volume': '85061402', 'Month15_Volume': '129075530', 'Month16_Volume': '80192888', 'Month17_Volume': '108323924', 'Month18_Volume': '146692202', 'Month19_Volume': '76936299', 'Month20_Volume': '132883521', 'Month21_Volume': '80610673', 'Month22_Volume': '84657822', 'Month23_Volume': '99977398', 'Month24_Volume': '113471764'}\n"
     ]
    },
    {
     "name": "stderr",
     "output_type": "stream",
     "text": [
      "/var/folders/n_/367n_sc56lj0q1ddbd82d5qw0000gn/T/ipykernel_35416/2395817632.py:56: FutureWarning: The frame.append method is deprecated and will be removed from pandas in a future version. Use pandas.concat instead.\n",
      "  df = df.append(fetch_data_for_ticker(ticker), ignore_index=True)\n"
     ]
    },
    {
     "name": "stdout",
     "output_type": "stream",
     "text": [
      "{'Ticker': 'ZS', 'Market Cap': '24800920000', 'Exchange': 'NASDAQ', 'Outstanding Shares': '147169000', 'Q1_NetIncome': '-30674000', 'Q2_NetIncome': '-46046000', 'Q3_NetIncome': '-57453000', 'Q4_NetIncome': '-68162000', 'Q5_NetIncome': '-97652000', 'Q6_NetIncome': '-101405000', 'Q7_NetIncome': '-100420000', 'Q8_NetIncome': '-90801000'}\n"
     ]
    },
    {
     "name": "stderr",
     "output_type": "stream",
     "text": [
      "/var/folders/n_/367n_sc56lj0q1ddbd82d5qw0000gn/T/ipykernel_35416/2395817632.py:56: FutureWarning: The frame.append method is deprecated and will be removed from pandas in a future version. Use pandas.concat instead.\n",
      "  df = df.append(fetch_data_for_ticker(ticker), ignore_index=True)\n"
     ]
    }
   ],
   "source": [
    "API_URL = \"https://www.alphavantage.co/query\"\n",
    "API_KEY = 'JFUJ5ADJL1XCA282'\n",
    "\n",
    "def fetch_data_for_ticker(ticker):\n",
    "    data_dict = {'Ticker': ticker}\n",
    "    \n",
    "    # Fetch overview data\n",
    "    params = {\n",
    "        \"function\": \"OVERVIEW\",\n",
    "        \"symbol\": ticker,\n",
    "        \"apikey\": API_KEY\n",
    "    }\n",
    "    response = requests.get(API_URL, params=params)\n",
    "    data = response.json()\n",
    "    \n",
    "    if \"Note\" in data:\n",
    "        print(data[\"Note\"])\n",
    "        time.sleep(60)\n",
    "        return fetch_data_for_ticker(ticker)\n",
    "    \n",
    "    # Add overview data to dictionary\n",
    "    data_dict['Market Cap'] = data.get('MarketCapitalization', 'N/A')\n",
    "    data_dict['Exchange'] = data.get('Exchange', 'N/A')\n",
    "    data_dict['Outstanding Shares'] = data.get('SharesOutstanding', 'N/A')\n",
    "    \n",
    "    # Fetch income statement\n",
    "    income_endpoint = f\"https://www.alphavantage.co/query?function=INCOME_STATEMENT&symbol={ticker}&apikey={API_KEY}\"\n",
    "    response = requests.get(income_endpoint)\n",
    "    income_data = response.json()\n",
    "    \n",
    "    if 'quarterlyReports' in income_data:\n",
    "        quarterly_reports = income_data['quarterlyReports']\n",
    "        for i in range(min(8, len(quarterly_reports))):\n",
    "            quarter_key = f\"Q{i+1}_NetIncome\"\n",
    "            data_dict[quarter_key] = quarterly_reports[i]['netIncome']\n",
    "    \n",
    "    #time.sleep(2)\n",
    "    # Fetch monthly volume data\n",
    "    monthly_volume_endpoint = f\"https://www.alphavantage.co/query?function=TIME_SERIES_MONTHLY_ADJUSTED&symbol={ticker}&apikey={API_KEY}\"\n",
    "    response = requests.get(monthly_volume_endpoint)\n",
    "    monthly_volume_data = response.json()\n",
    "    \n",
    "    if 'Monthly Adjusted Time Series' in monthly_volume_data:\n",
    "        monthly_adjusted_series = monthly_volume_data['Monthly Adjusted Time Series']\n",
    "        months = list(monthly_adjusted_series.keys())[:24]\n",
    "        for i, month in enumerate(months):\n",
    "            month_key = f\"Month{i+1}_Volume\"\n",
    "            data_dict[month_key] = monthly_adjusted_series[month].get('6. volume', None)\n",
    "    \n",
    "    print(data_dict)\n",
    "    return data_dict\n",
    "\n",
    "df = pd.DataFrame()\n",
    "\n",
    "for ticker in next_500_array[485:]:\n",
    "    df = df.append(fetch_data_for_ticker(ticker), ignore_index=True)\n",
    "    time.sleep(20)\n"
   ]
  },
  {
   "cell_type": "code",
   "execution_count": 161,
   "id": "061dcee9-0ab5-412f-ae4f-ba9e648b1807",
   "metadata": {},
   "outputs": [
    {
     "data": {
      "text/plain": [
       "(24, 36)"
      ]
     },
     "execution_count": 161,
     "metadata": {},
     "output_type": "execute_result"
    }
   ],
   "source": [
    "df.shape"
   ]
  },
  {
   "cell_type": "code",
   "execution_count": 162,
   "id": "9a7f27f8-a1ad-4d55-a942-6c235b565d6e",
   "metadata": {},
   "outputs": [],
   "source": [
    "#d1 = df\n",
    "#df2 = df\n",
    "#df3 = df\n",
    "#df4 = df\n",
    "#df5 = df\n",
    "#df6 = df\n",
    "#df7 = df\n",
    "#df8 = df\n",
    "#df9 = df\n",
    "#df10 = df\n",
    "#df11 = df\n",
    "#df12 = df\n",
    "df13 = df"
   ]
  },
  {
   "cell_type": "code",
   "execution_count": 155,
   "id": "8f027eff-eb8e-438f-b6f3-1b15df479200",
   "metadata": {},
   "outputs": [],
   "source": [
    "df13 = df13.iloc[:-4]"
   ]
  },
  {
   "cell_type": "code",
   "execution_count": 163,
   "id": "a48c4c57-2aee-48ad-a867-ef73f8c90444",
   "metadata": {},
   "outputs": [
    {
     "data": {
      "text/html": [
       "<div>\n",
       "<style scoped>\n",
       "    .dataframe tbody tr th:only-of-type {\n",
       "        vertical-align: middle;\n",
       "    }\n",
       "\n",
       "    .dataframe tbody tr th {\n",
       "        vertical-align: top;\n",
       "    }\n",
       "\n",
       "    .dataframe thead th {\n",
       "        text-align: right;\n",
       "    }\n",
       "</style>\n",
       "<table border=\"1\" class=\"dataframe\">\n",
       "  <thead>\n",
       "    <tr style=\"text-align: right;\">\n",
       "      <th></th>\n",
       "      <th>Ticker</th>\n",
       "      <th>Market Cap</th>\n",
       "      <th>Exchange</th>\n",
       "      <th>Outstanding Shares</th>\n",
       "      <th>Q1_NetIncome</th>\n",
       "      <th>Q2_NetIncome</th>\n",
       "      <th>Q3_NetIncome</th>\n",
       "      <th>Q4_NetIncome</th>\n",
       "      <th>Q5_NetIncome</th>\n",
       "      <th>Q6_NetIncome</th>\n",
       "      <th>...</th>\n",
       "      <th>Month15_Volume</th>\n",
       "      <th>Month16_Volume</th>\n",
       "      <th>Month17_Volume</th>\n",
       "      <th>Month18_Volume</th>\n",
       "      <th>Month19_Volume</th>\n",
       "      <th>Month20_Volume</th>\n",
       "      <th>Month21_Volume</th>\n",
       "      <th>Month22_Volume</th>\n",
       "      <th>Month23_Volume</th>\n",
       "      <th>Month24_Volume</th>\n",
       "    </tr>\n",
       "  </thead>\n",
       "  <tbody>\n",
       "    <tr>\n",
       "      <th>14</th>\n",
       "      <td>WWE</td>\n",
       "      <td>8370225000</td>\n",
       "      <td>NYSE</td>\n",
       "      <td>52063000</td>\n",
       "      <td>52001000</td>\n",
       "      <td>36678000</td>\n",
       "      <td>38828000</td>\n",
       "      <td>41620000</td>\n",
       "      <td>49099000</td>\n",
       "      <td>66041000</td>\n",
       "      <td>...</td>\n",
       "      <td>16864440</td>\n",
       "      <td>17882900</td>\n",
       "      <td>15434483</td>\n",
       "      <td>10829287</td>\n",
       "      <td>15086632</td>\n",
       "      <td>15492006</td>\n",
       "      <td>10919742</td>\n",
       "      <td>10600836</td>\n",
       "      <td>13620774</td>\n",
       "      <td>9336164</td>\n",
       "    </tr>\n",
       "    <tr>\n",
       "      <th>15</th>\n",
       "      <td>X</td>\n",
       "      <td>7139308000</td>\n",
       "      <td>NYSE</td>\n",
       "      <td>222964000</td>\n",
       "      <td>477000000</td>\n",
       "      <td>199000000</td>\n",
       "      <td>174000000</td>\n",
       "      <td>490000000</td>\n",
       "      <td>978000000</td>\n",
       "      <td>882000000</td>\n",
       "      <td>...</td>\n",
       "      <td>NaN</td>\n",
       "      <td>NaN</td>\n",
       "      <td>NaN</td>\n",
       "      <td>NaN</td>\n",
       "      <td>NaN</td>\n",
       "      <td>NaN</td>\n",
       "      <td>NaN</td>\n",
       "      <td>NaN</td>\n",
       "      <td>NaN</td>\n",
       "      <td>NaN</td>\n",
       "    </tr>\n",
       "    <tr>\n",
       "      <th>16</th>\n",
       "      <td>XP</td>\n",
       "      <td>11711848000</td>\n",
       "      <td>NASDAQ</td>\n",
       "      <td>435366000</td>\n",
       "      <td>975353000</td>\n",
       "      <td>782949000</td>\n",
       "      <td>782949000</td>\n",
       "      <td>1030746000</td>\n",
       "      <td>911251000</td>\n",
       "      <td>989442000</td>\n",
       "      <td>...</td>\n",
       "      <td>116741087</td>\n",
       "      <td>62695259</td>\n",
       "      <td>83944919</td>\n",
       "      <td>122725656</td>\n",
       "      <td>73989466</td>\n",
       "      <td>97281395</td>\n",
       "      <td>71972874</td>\n",
       "      <td>79250993</td>\n",
       "      <td>78247177</td>\n",
       "      <td>81345754</td>\n",
       "    </tr>\n",
       "    <tr>\n",
       "      <th>17</th>\n",
       "      <td>XPO</td>\n",
       "      <td>8296279000</td>\n",
       "      <td>NYSE</td>\n",
       "      <td>115967000</td>\n",
       "      <td>33000000</td>\n",
       "      <td>14000000</td>\n",
       "      <td>-94000000</td>\n",
       "      <td>131000000</td>\n",
       "      <td>141000000</td>\n",
       "      <td>488000000</td>\n",
       "      <td>...</td>\n",
       "      <td>33085788</td>\n",
       "      <td>23054747</td>\n",
       "      <td>31011329</td>\n",
       "      <td>35169107</td>\n",
       "      <td>40842231</td>\n",
       "      <td>37460934</td>\n",
       "      <td>32825903</td>\n",
       "      <td>27903926</td>\n",
       "      <td>29417206</td>\n",
       "      <td>31724835</td>\n",
       "    </tr>\n",
       "    <tr>\n",
       "      <th>18</th>\n",
       "      <td>YETI</td>\n",
       "      <td>3546655000</td>\n",
       "      <td>NYSE</td>\n",
       "      <td>86736000</td>\n",
       "      <td>38071000</td>\n",
       "      <td>10564000</td>\n",
       "      <td>-27738000</td>\n",
       "      <td>45520000</td>\n",
       "      <td>46252000</td>\n",
       "      <td>25659000</td>\n",
       "      <td>...</td>\n",
       "      <td>NaN</td>\n",
       "      <td>NaN</td>\n",
       "      <td>NaN</td>\n",
       "      <td>NaN</td>\n",
       "      <td>NaN</td>\n",
       "      <td>NaN</td>\n",
       "      <td>NaN</td>\n",
       "      <td>NaN</td>\n",
       "      <td>NaN</td>\n",
       "      <td>NaN</td>\n",
       "    </tr>\n",
       "    <tr>\n",
       "      <th>19</th>\n",
       "      <td>Z</td>\n",
       "      <td>9455844000</td>\n",
       "      <td>NASDAQ</td>\n",
       "      <td>169924000</td>\n",
       "      <td>-35000000</td>\n",
       "      <td>-22000000</td>\n",
       "      <td>-72000000</td>\n",
       "      <td>-53000000</td>\n",
       "      <td>8000000</td>\n",
       "      <td>16000000</td>\n",
       "      <td>...</td>\n",
       "      <td>82503325</td>\n",
       "      <td>59516937</td>\n",
       "      <td>91557877</td>\n",
       "      <td>143396442</td>\n",
       "      <td>73508736</td>\n",
       "      <td>84890045</td>\n",
       "      <td>177847236</td>\n",
       "      <td>82818100</td>\n",
       "      <td>117820788</td>\n",
       "      <td>268529953</td>\n",
       "    </tr>\n",
       "    <tr>\n",
       "      <th>20</th>\n",
       "      <td>ZG</td>\n",
       "      <td>9100569000</td>\n",
       "      <td>NASDAQ</td>\n",
       "      <td>56684000</td>\n",
       "      <td>-35000000</td>\n",
       "      <td>-22000000</td>\n",
       "      <td>-72000000</td>\n",
       "      <td>-53000000</td>\n",
       "      <td>8000000</td>\n",
       "      <td>16000000</td>\n",
       "      <td>...</td>\n",
       "      <td>16211312</td>\n",
       "      <td>14324010</td>\n",
       "      <td>25541982</td>\n",
       "      <td>32610283</td>\n",
       "      <td>15611941</td>\n",
       "      <td>17204955</td>\n",
       "      <td>31329138</td>\n",
       "      <td>17518397</td>\n",
       "      <td>21505137</td>\n",
       "      <td>49822038</td>\n",
       "    </tr>\n",
       "    <tr>\n",
       "      <th>21</th>\n",
       "      <td>ZI</td>\n",
       "      <td>11333562000</td>\n",
       "      <td>NASDAQ</td>\n",
       "      <td>401470000</td>\n",
       "      <td>38100000</td>\n",
       "      <td>44500000</td>\n",
       "      <td>23200000</td>\n",
       "      <td>17900000</td>\n",
       "      <td>15900000</td>\n",
       "      <td>6200000</td>\n",
       "      <td>...</td>\n",
       "      <td>88302584</td>\n",
       "      <td>61673772</td>\n",
       "      <td>128545853</td>\n",
       "      <td>115434078</td>\n",
       "      <td>45591734</td>\n",
       "      <td>71343881</td>\n",
       "      <td>72499507</td>\n",
       "      <td>86053062</td>\n",
       "      <td>100543464</td>\n",
       "      <td>120783062</td>\n",
       "    </tr>\n",
       "    <tr>\n",
       "      <th>22</th>\n",
       "      <td>ZM</td>\n",
       "      <td>18885050000</td>\n",
       "      <td>NASDAQ</td>\n",
       "      <td>254292000</td>\n",
       "      <td>181974000</td>\n",
       "      <td>15444000</td>\n",
       "      <td>-104050000</td>\n",
       "      <td>48353000</td>\n",
       "      <td>45750000</td>\n",
       "      <td>113658000</td>\n",
       "      <td>...</td>\n",
       "      <td>129075530</td>\n",
       "      <td>80192888</td>\n",
       "      <td>108323924</td>\n",
       "      <td>146692202</td>\n",
       "      <td>76936299</td>\n",
       "      <td>132883521</td>\n",
       "      <td>80610673</td>\n",
       "      <td>84657822</td>\n",
       "      <td>99977398</td>\n",
       "      <td>113471764</td>\n",
       "    </tr>\n",
       "    <tr>\n",
       "      <th>23</th>\n",
       "      <td>ZS</td>\n",
       "      <td>24800920000</td>\n",
       "      <td>NASDAQ</td>\n",
       "      <td>147169000</td>\n",
       "      <td>-30674000</td>\n",
       "      <td>-46046000</td>\n",
       "      <td>-57453000</td>\n",
       "      <td>-68162000</td>\n",
       "      <td>-97652000</td>\n",
       "      <td>-101405000</td>\n",
       "      <td>...</td>\n",
       "      <td>NaN</td>\n",
       "      <td>NaN</td>\n",
       "      <td>NaN</td>\n",
       "      <td>NaN</td>\n",
       "      <td>NaN</td>\n",
       "      <td>NaN</td>\n",
       "      <td>NaN</td>\n",
       "      <td>NaN</td>\n",
       "      <td>NaN</td>\n",
       "      <td>NaN</td>\n",
       "    </tr>\n",
       "  </tbody>\n",
       "</table>\n",
       "<p>10 rows × 36 columns</p>\n",
       "</div>"
      ],
      "text/plain": [
       "   Ticker   Market Cap Exchange Outstanding Shares Q1_NetIncome Q2_NetIncome  \\\n",
       "14    WWE   8370225000     NYSE           52063000     52001000     36678000   \n",
       "15      X   7139308000     NYSE          222964000    477000000    199000000   \n",
       "16     XP  11711848000   NASDAQ          435366000    975353000    782949000   \n",
       "17    XPO   8296279000     NYSE          115967000     33000000     14000000   \n",
       "18   YETI   3546655000     NYSE           86736000     38071000     10564000   \n",
       "19      Z   9455844000   NASDAQ          169924000    -35000000    -22000000   \n",
       "20     ZG   9100569000   NASDAQ           56684000    -35000000    -22000000   \n",
       "21     ZI  11333562000   NASDAQ          401470000     38100000     44500000   \n",
       "22     ZM  18885050000   NASDAQ          254292000    181974000     15444000   \n",
       "23     ZS  24800920000   NASDAQ          147169000    -30674000    -46046000   \n",
       "\n",
       "   Q3_NetIncome Q4_NetIncome Q5_NetIncome Q6_NetIncome  ... Month15_Volume  \\\n",
       "14     38828000     41620000     49099000     66041000  ...       16864440   \n",
       "15    174000000    490000000    978000000    882000000  ...            NaN   \n",
       "16    782949000   1030746000    911251000    989442000  ...      116741087   \n",
       "17    -94000000    131000000    141000000    488000000  ...       33085788   \n",
       "18    -27738000     45520000     46252000     25659000  ...            NaN   \n",
       "19    -72000000    -53000000      8000000     16000000  ...       82503325   \n",
       "20    -72000000    -53000000      8000000     16000000  ...       16211312   \n",
       "21     23200000     17900000     15900000      6200000  ...       88302584   \n",
       "22   -104050000     48353000     45750000    113658000  ...      129075530   \n",
       "23    -57453000    -68162000    -97652000   -101405000  ...            NaN   \n",
       "\n",
       "   Month16_Volume Month17_Volume Month18_Volume Month19_Volume Month20_Volume  \\\n",
       "14       17882900       15434483       10829287       15086632       15492006   \n",
       "15            NaN            NaN            NaN            NaN            NaN   \n",
       "16       62695259       83944919      122725656       73989466       97281395   \n",
       "17       23054747       31011329       35169107       40842231       37460934   \n",
       "18            NaN            NaN            NaN            NaN            NaN   \n",
       "19       59516937       91557877      143396442       73508736       84890045   \n",
       "20       14324010       25541982       32610283       15611941       17204955   \n",
       "21       61673772      128545853      115434078       45591734       71343881   \n",
       "22       80192888      108323924      146692202       76936299      132883521   \n",
       "23            NaN            NaN            NaN            NaN            NaN   \n",
       "\n",
       "   Month21_Volume Month22_Volume Month23_Volume Month24_Volume  \n",
       "14       10919742       10600836       13620774        9336164  \n",
       "15            NaN            NaN            NaN            NaN  \n",
       "16       71972874       79250993       78247177       81345754  \n",
       "17       32825903       27903926       29417206       31724835  \n",
       "18            NaN            NaN            NaN            NaN  \n",
       "19      177847236       82818100      117820788      268529953  \n",
       "20       31329138       17518397       21505137       49822038  \n",
       "21       72499507       86053062      100543464      120783062  \n",
       "22       80610673       84657822       99977398      113471764  \n",
       "23            NaN            NaN            NaN            NaN  \n",
       "\n",
       "[10 rows x 36 columns]"
      ]
     },
     "execution_count": 163,
     "metadata": {},
     "output_type": "execute_result"
    }
   ],
   "source": [
    "df13.tail(10)"
   ]
  },
  {
   "cell_type": "code",
   "execution_count": 164,
   "id": "6055594e-0444-4222-9116-eca23249a56f",
   "metadata": {},
   "outputs": [
    {
     "data": {
      "text/plain": [
       "(24, 36)"
      ]
     },
     "execution_count": 164,
     "metadata": {},
     "output_type": "execute_result"
    }
   ],
   "source": [
    "#df1.shape\n",
    "#df2.shape\n",
    "#df3.shape\n",
    "#df4.shape\n",
    "#df5.shape\n",
    "#df6.shape\n",
    "#df10.shape\n",
    "df13.shape"
   ]
  },
  {
   "cell_type": "code",
   "execution_count": 166,
   "id": "75ba3f4a-7138-4028-a343-a1d7e34bf7a4",
   "metadata": {},
   "outputs": [],
   "source": [
    "df13.to_csv(\"russell_13.csv\", index=False)"
   ]
  },
  {
   "cell_type": "code",
   "execution_count": null,
   "id": "235ccf04-c25a-449a-a4eb-b01dbb597bb7",
   "metadata": {},
   "outputs": [],
   "source": [
    "next_500_array"
   ]
  },
  {
   "cell_type": "code",
   "execution_count": 178,
   "id": "479523f6-e751-4c92-959b-480732a7ac04",
   "metadata": {},
   "outputs": [],
   "source": [
    "rus = pd.read_csv(\"russell_partial.csv\")"
   ]
  },
  {
   "cell_type": "code",
   "execution_count": 179,
   "id": "2ff67047-5ffa-4d23-abd4-2421c26bb29b",
   "metadata": {},
   "outputs": [
    {
     "data": {
      "text/plain": [
       "(329, 36)"
      ]
     },
     "execution_count": 179,
     "metadata": {},
     "output_type": "execute_result"
    }
   ],
   "source": [
    "rus.shape"
   ]
  },
  {
   "cell_type": "code",
   "execution_count": 180,
   "id": "f38b575e-a01c-44e2-acb0-05c03f7c9d96",
   "metadata": {},
   "outputs": [],
   "source": [
    "df_set = set(rus['Ticker'].values)"
   ]
  },
  {
   "cell_type": "code",
   "execution_count": 182,
   "id": "53deda61-bbba-4030-a46e-a9611c6819b5",
   "metadata": {},
   "outputs": [],
   "source": [
    "rus_miss_1 = [item for item in next_500_array if item not in df_set]"
   ]
  },
  {
   "cell_type": "code",
   "execution_count": 185,
   "id": "0ef777a6-2a9d-4ec3-8d41-e294f974712a",
   "metadata": {},
   "outputs": [
    {
     "data": {
      "text/plain": [
       "['AA',\n",
       " 'AAP',\n",
       " 'ACHC',\n",
       " 'ACI',\n",
       " 'ACM',\n",
       " 'ADC',\n",
       " 'ADT',\n",
       " 'AFG',\n",
       " 'AFRM',\n",
       " 'AGCO',\n",
       " 'AGL',\n",
       " 'AGNC',\n",
       " 'AGO',\n",
       " 'AGR',\n",
       " 'AIRC',\n",
       " 'AL',\n",
       " 'ALGM',\n",
       " 'ALLY',\n",
       " 'ALNY',\n",
       " 'ALSN',\n",
       " 'AM',\n",
       " 'AMBP',\n",
       " 'AMC',\n",
       " 'AMED',\n",
       " 'AMG',\n",
       " 'AMH',\n",
       " 'AN',\n",
       " 'APLS',\n",
       " 'APO',\n",
       " 'APP',\n",
       " 'AR',\n",
       " 'ARES',\n",
       " 'ARMK',\n",
       " 'ARW',\n",
       " 'ASH',\n",
       " 'ATR',\n",
       " 'AVT',\n",
       " 'AVTR',\n",
       " 'AWI',\n",
       " 'AXS',\n",
       " 'AXTA',\n",
       " 'AYI',\n",
       " 'AYX',\n",
       " 'AZEK',\n",
       " 'AZPN',\n",
       " 'AZTA',\n",
       " 'BAH',\n",
       " 'BC',\n",
       " 'BEPC',\n",
       " 'BERY',\n",
       " 'BF.A',\n",
       " 'BFAM',\n",
       " 'BHF',\n",
       " 'BILL',\n",
       " 'BJ',\n",
       " 'BKI',\n",
       " 'BLD',\n",
       " 'BLDR',\n",
       " 'BMRN',\n",
       " 'BOKF',\n",
       " 'BPOP',\n",
       " 'BRKR',\n",
       " 'BRX',\n",
       " 'BSY',\n",
       " 'BURL',\n",
       " 'BWXT',\n",
       " 'BYD',\n",
       " 'CABO',\n",
       " 'CACC',\n",
       " 'CACI',\n",
       " 'CAR',\n",
       " 'CASY',\n",
       " 'CAVA',\n",
       " 'CBSH',\n",
       " 'CC',\n",
       " 'CCCS',\n",
       " 'CCK',\n",
       " 'CELH',\n",
       " 'CERT',\n",
       " 'CFLT',\n",
       " 'CFR',\n",
       " 'CG',\n",
       " 'CGNX',\n",
       " 'CHDN',\n",
       " 'CHE',\n",
       " 'CHH',\n",
       " 'CHK',\n",
       " 'CHPT',\n",
       " 'CIEN',\n",
       " 'CLF',\n",
       " 'CLH',\n",
       " 'CLVT',\n",
       " 'CNA',\n",
       " 'CNHI',\n",
       " 'CNM',\n",
       " 'CNXC',\n",
       " 'COHR',\n",
       " 'COIN',\n",
       " 'COLB',\n",
       " 'COLD',\n",
       " 'COLM',\n",
       " 'COTY',\n",
       " 'CPNG',\n",
       " 'CPRI',\n",
       " 'CR',\n",
       " 'CRI',\n",
       " 'CROX',\n",
       " 'CRUS',\n",
       " 'CRWD',\n",
       " 'CSL',\n",
       " 'CUBE',\n",
       " 'CUZ',\n",
       " 'CW',\n",
       " 'CWEN',\n",
       " 'CWEN.A',\n",
       " 'CXT',\n",
       " 'DAR',\n",
       " 'DASH',\n",
       " 'DBX',\n",
       " 'DCI',\n",
       " 'DDOG',\n",
       " 'DECK',\n",
       " 'DINO',\n",
       " 'DISH',\n",
       " 'DKNG',\n",
       " 'DKS',\n",
       " 'DLB',\n",
       " 'DNA',\n",
       " 'DNB',\n",
       " 'DOCS',\n",
       " 'DOCU',\n",
       " 'DOX',\n",
       " 'DRVN',\n",
       " 'FTI',\n",
       " 'FTRE',\n",
       " 'FWONA',\n",
       " 'FWONK',\n",
       " 'FYBR',\n",
       " 'G',\n",
       " 'GDDY',\n",
       " 'GFS',\n",
       " 'GGG',\n",
       " 'GLOB',\n",
       " 'GLPI',\n",
       " 'GME',\n",
       " 'GMED',\n",
       " 'GNTX',\n",
       " 'GO',\n",
       " 'GPK',\n",
       " 'GPS',\n",
       " 'GTES',\n",
       " 'GTLB',\n",
       " 'GWRE',\n",
       " 'GXO',\n",
       " 'H',\n",
       " 'HAYW',\n",
       " 'HCP',\n",
       " 'HE',\n",
       " 'HEI',\n",
       " 'HEI.A',\n",
       " 'HHH',\n",
       " 'HIW',\n",
       " 'HLI',\n",
       " 'HOG',\n",
       " 'HOOD',\n",
       " 'HR',\n",
       " 'HRB',\n",
       " 'HTZ',\n",
       " 'HUBS',\n",
       " 'HUN',\n",
       " 'HXL',\n",
       " 'IAC',\n",
       " 'IART',\n",
       " 'LEN.B',\n",
       " 'LSXMK',\n",
       " 'RGEN',\n",
       " 'WING',\n",
       " 'WLK',\n",
       " 'WMS',\n",
       " 'WOLF',\n",
       " 'WOOF',\n",
       " 'WPC',\n",
       " 'WSC',\n",
       " 'WSM',\n",
       " 'WSO',\n",
       " 'WTFC',\n",
       " 'WTM',\n",
       " 'WTRG',\n",
       " 'WU',\n",
       " 'WWD',\n",
       " 'WWE',\n",
       " 'X',\n",
       " 'XP',\n",
       " 'XPO',\n",
       " 'YETI',\n",
       " 'Z',\n",
       " 'ZG',\n",
       " 'ZI',\n",
       " 'ZM',\n",
       " 'ZS']"
      ]
     },
     "execution_count": 185,
     "metadata": {},
     "output_type": "execute_result"
    }
   ],
   "source": [
    "rus_miss_1"
   ]
  },
  {
   "cell_type": "code",
   "execution_count": null,
   "id": "47c188f5-75c4-4abc-8792-bb34e1022b10",
   "metadata": {},
   "outputs": [],
   "source": []
  },
  {
   "cell_type": "code",
   "execution_count": null,
   "id": "0bcd8a35-ea7e-4147-843a-a5e833244d91",
   "metadata": {},
   "outputs": [],
   "source": [
    "pd.concat([df1,df2,df3], axis=0).reset_index(drop=True)\n"
   ]
  },
  {
   "cell_type": "code",
   "execution_count": 296,
   "id": "5d93aa59-434e-4852-a3a8-91087e7b16bb",
   "metadata": {},
   "outputs": [],
   "source": [
    "r1 = pd.read_csv(\"combine_russell_part_1.csv\")\n",
    "r2 = pd.read_csv(\"combine_russell_part_2.csv\")"
   ]
  },
  {
   "cell_type": "code",
   "execution_count": 297,
   "id": "9aaee829-f459-4da1-9920-bd782b495ba4",
   "metadata": {},
   "outputs": [
    {
     "data": {
      "text/plain": [
       "((361, 36), (199, 36))"
      ]
     },
     "execution_count": 297,
     "metadata": {},
     "output_type": "execute_result"
    }
   ],
   "source": [
    "r1.shape,r2.shape"
   ]
  },
  {
   "cell_type": "code",
   "execution_count": 298,
   "id": "a204848c-4bd0-4cfc-8a29-705484c9b926",
   "metadata": {},
   "outputs": [],
   "source": [
    "r = pd.concat([r1,r2], axis=0).reset_index(drop=True)\n"
   ]
  },
  {
   "cell_type": "code",
   "execution_count": 299,
   "id": "0cae6a0e-bdc9-445e-8e04-37dd48e79986",
   "metadata": {},
   "outputs": [
    {
     "data": {
      "text/plain": [
       "(560, 36)"
      ]
     },
     "execution_count": 299,
     "metadata": {},
     "output_type": "execute_result"
    }
   ],
   "source": [
    "r.shape"
   ]
  },
  {
   "cell_type": "code",
   "execution_count": 300,
   "id": "e9c4d13d-3411-4992-b669-ac88a3db94e3",
   "metadata": {},
   "outputs": [
    {
     "data": {
      "text/plain": [
       "Index(['Ticker', 'Market Cap', 'Exchange', 'Outstanding Shares',\n",
       "       'Q1_NetIncome', 'Q2_NetIncome', 'Q3_NetIncome', 'Q4_NetIncome',\n",
       "       'Q5_NetIncome', 'Q6_NetIncome', 'Q7_NetIncome', 'Q8_NetIncome',\n",
       "       'Month1_Volume', 'Month2_Volume', 'Month3_Volume', 'Month4_Volume',\n",
       "       'Month5_Volume', 'Month6_Volume', 'Month7_Volume', 'Month8_Volume',\n",
       "       'Month9_Volume', 'Month10_Volume', 'Month11_Volume', 'Month12_Volume',\n",
       "       'Month13_Volume', 'Month14_Volume', 'Month15_Volume', 'Month16_Volume',\n",
       "       'Month17_Volume', 'Month18_Volume', 'Month19_Volume', 'Month20_Volume',\n",
       "       'Month21_Volume', 'Month22_Volume', 'Month23_Volume', 'Month24_Volume'],\n",
       "      dtype='object')"
      ]
     },
     "execution_count": 300,
     "metadata": {},
     "output_type": "execute_result"
    }
   ],
   "source": [
    "r.columns"
   ]
  },
  {
   "cell_type": "code",
   "execution_count": 305,
   "id": "19d5f4cf-547b-41f8-a21b-8d7b130ccf45",
   "metadata": {},
   "outputs": [
    {
     "data": {
      "text/plain": [
       "Ticker                  0\n",
       "Market Cap              7\n",
       "Exchange                7\n",
       "Outstanding Shares      7\n",
       "Q1_NetIncome           28\n",
       "Q2_NetIncome           28\n",
       "Q3_NetIncome           28\n",
       "Q4_NetIncome           30\n",
       "Q5_NetIncome           30\n",
       "Q6_NetIncome           30\n",
       "Q7_NetIncome           31\n",
       "Q8_NetIncome           32\n",
       "Month1_Volume         141\n",
       "Month2_Volume         141\n",
       "Month3_Volume         143\n",
       "Month4_Volume         144\n",
       "Month5_Volume         145\n",
       "Month6_Volume         145\n",
       "Month7_Volume         145\n",
       "Month8_Volume         146\n",
       "Month9_Volume         146\n",
       "Month10_Volume        146\n",
       "Month11_Volume        146\n",
       "Month12_Volume        146\n",
       "Month13_Volume        146\n",
       "Month14_Volume        146\n",
       "Month15_Volume        146\n",
       "Month16_Volume        146\n",
       "Month17_Volume        146\n",
       "Month18_Volume        146\n",
       "Month19_Volume        146\n",
       "Month20_Volume        146\n",
       "Month21_Volume        146\n",
       "Month22_Volume        146\n",
       "Month23_Volume        148\n",
       "Month24_Volume        149\n",
       "dtype: int64"
      ]
     },
     "execution_count": 305,
     "metadata": {},
     "output_type": "execute_result"
    }
   ],
   "source": [
    "r.isnull().sum()"
   ]
  },
  {
   "cell_type": "code",
   "execution_count": 302,
   "id": "f4c8273f-5b8a-4910-8795-97c2397d39f7",
   "metadata": {},
   "outputs": [],
   "source": [
    "r = r.drop_duplicates(subset=['Ticker'])"
   ]
  },
  {
   "cell_type": "code",
   "execution_count": null,
   "id": "22566565-31fe-427a-a2c8-d4f3b51a6dcd",
   "metadata": {},
   "outputs": [],
   "source": []
  },
  {
   "cell_type": "code",
   "execution_count": 303,
   "id": "02f3e8d9-eedf-4457-9b5c-6f3f83bed42e",
   "metadata": {},
   "outputs": [
    {
     "data": {
      "text/plain": [
       "(509, 36)"
      ]
     },
     "execution_count": 303,
     "metadata": {},
     "output_type": "execute_result"
    }
   ],
   "source": [
    "r.shape"
   ]
  },
  {
   "cell_type": "code",
   "execution_count": 304,
   "id": "33b1d554-215d-4ec6-b1bd-6a853ab5ffe7",
   "metadata": {},
   "outputs": [],
   "source": [
    "r.to_csv(\"rtest.csv\",index=False)"
   ]
  },
  {
   "cell_type": "markdown",
   "id": "04773e72-5f08-4c96-b73b-381531a317a7",
   "metadata": {},
   "source": [
    "# Adding More Data"
   ]
  },
  {
   "cell_type": "code",
   "execution_count": 3,
   "id": "48d2c7d8-315c-4829-95b7-1c52be487cf5",
   "metadata": {},
   "outputs": [
    {
     "data": {
      "text/html": [
       "<div>\n",
       "<style scoped>\n",
       "    .dataframe tbody tr th:only-of-type {\n",
       "        vertical-align: middle;\n",
       "    }\n",
       "\n",
       "    .dataframe tbody tr th {\n",
       "        vertical-align: top;\n",
       "    }\n",
       "\n",
       "    .dataframe thead th {\n",
       "        text-align: right;\n",
       "    }\n",
       "</style>\n",
       "<table border=\"1\" class=\"dataframe\">\n",
       "  <thead>\n",
       "    <tr style=\"text-align: right;\">\n",
       "      <th></th>\n",
       "      <th>Ticker</th>\n",
       "      <th>Market Cap</th>\n",
       "      <th>Exchange</th>\n",
       "      <th>Outstanding Shares</th>\n",
       "      <th>Q1_NetIncome</th>\n",
       "      <th>Q2_NetIncome</th>\n",
       "      <th>Q3_NetIncome</th>\n",
       "      <th>Q4_NetIncome</th>\n",
       "      <th>Q5_NetIncome</th>\n",
       "      <th>Q6_NetIncome</th>\n",
       "      <th>...</th>\n",
       "      <th>Month18_Volume</th>\n",
       "      <th>Month19_Volume</th>\n",
       "      <th>Month20_Volume</th>\n",
       "      <th>Month21_Volume</th>\n",
       "      <th>Month22_Volume</th>\n",
       "      <th>Month23_Volume</th>\n",
       "      <th>Month24_Volume</th>\n",
       "      <th>Underaged</th>\n",
       "      <th>in_index</th>\n",
       "      <th>Oustanding Shares</th>\n",
       "    </tr>\n",
       "  </thead>\n",
       "  <tbody>\n",
       "    <tr>\n",
       "      <th>0</th>\n",
       "      <td>PARAA</td>\n",
       "      <td>7870631000</td>\n",
       "      <td>NASDAQ</td>\n",
       "      <td>40703600</td>\n",
       "      <td>-299000000</td>\n",
       "      <td>-1118000000</td>\n",
       "      <td>21000000</td>\n",
       "      <td>2.310000e+08</td>\n",
       "      <td>4.190000e+08</td>\n",
       "      <td>433000000.0</td>\n",
       "      <td>...</td>\n",
       "      <td>1324182.0</td>\n",
       "      <td>1356764.0</td>\n",
       "      <td>2332860.0</td>\n",
       "      <td>2406809.0</td>\n",
       "      <td>2101219.0</td>\n",
       "      <td>2476328.0</td>\n",
       "      <td>1525239.0</td>\n",
       "      <td>0</td>\n",
       "      <td>0</td>\n",
       "      <td>NaN</td>\n",
       "    </tr>\n",
       "    <tr>\n",
       "      <th>1</th>\n",
       "      <td>TNL</td>\n",
       "      <td>3064163000</td>\n",
       "      <td>NYSE</td>\n",
       "      <td>73924000</td>\n",
       "      <td>94000000</td>\n",
       "      <td>64000000</td>\n",
       "      <td>91000000</td>\n",
       "      <td>1.160000e+08</td>\n",
       "      <td>1.000000e+08</td>\n",
       "      <td>51000000.0</td>\n",
       "      <td>...</td>\n",
       "      <td>17161460.0</td>\n",
       "      <td>19595204.0</td>\n",
       "      <td>18295853.0</td>\n",
       "      <td>16187556.0</td>\n",
       "      <td>15468411.0</td>\n",
       "      <td>15173904.0</td>\n",
       "      <td>12318754.0</td>\n",
       "      <td>0</td>\n",
       "      <td>0</td>\n",
       "      <td>NaN</td>\n",
       "    </tr>\n",
       "    <tr>\n",
       "      <th>2</th>\n",
       "      <td>IBKR</td>\n",
       "      <td>33844158000</td>\n",
       "      <td>NASDAQ</td>\n",
       "      <td>90820000</td>\n",
       "      <td>125000000</td>\n",
       "      <td>148000000</td>\n",
       "      <td>136000000</td>\n",
       "      <td>9.900000e+07</td>\n",
       "      <td>7.200000e+07</td>\n",
       "      <td>73000000.0</td>\n",
       "      <td>...</td>\n",
       "      <td>21179384.0</td>\n",
       "      <td>15268038.0</td>\n",
       "      <td>22956651.0</td>\n",
       "      <td>14411174.0</td>\n",
       "      <td>21220417.0</td>\n",
       "      <td>16820150.0</td>\n",
       "      <td>16025946.0</td>\n",
       "      <td>0</td>\n",
       "      <td>0</td>\n",
       "      <td>NaN</td>\n",
       "    </tr>\n",
       "    <tr>\n",
       "      <th>3</th>\n",
       "      <td>RLI</td>\n",
       "      <td>6136793000</td>\n",
       "      <td>NYSE</td>\n",
       "      <td>45596200</td>\n",
       "      <td>77652000</td>\n",
       "      <td>98811000</td>\n",
       "      <td>97834000</td>\n",
       "      <td>4.398930e+08</td>\n",
       "      <td>-2.239000e+06</td>\n",
       "      <td>47923000.0</td>\n",
       "      <td>...</td>\n",
       "      <td>4189106.0</td>\n",
       "      <td>3242971.0</td>\n",
       "      <td>3382645.0</td>\n",
       "      <td>2626683.0</td>\n",
       "      <td>2873627.0</td>\n",
       "      <td>2820883.0</td>\n",
       "      <td>2216243.0</td>\n",
       "      <td>0</td>\n",
       "      <td>0</td>\n",
       "      <td>NaN</td>\n",
       "    </tr>\n",
       "    <tr>\n",
       "      <th>4</th>\n",
       "      <td>PFG</td>\n",
       "      <td>17210108000</td>\n",
       "      <td>NASDAQ</td>\n",
       "      <td>241715000</td>\n",
       "      <td>388800000</td>\n",
       "      <td>-140100000</td>\n",
       "      <td>-9500000</td>\n",
       "      <td>1.385500e+09</td>\n",
       "      <td>3.118700e+09</td>\n",
       "      <td>338700000.0</td>\n",
       "      <td>...</td>\n",
       "      <td>45203766.0</td>\n",
       "      <td>28726399.0</td>\n",
       "      <td>43798479.0</td>\n",
       "      <td>37520900.0</td>\n",
       "      <td>26779575.0</td>\n",
       "      <td>37095643.0</td>\n",
       "      <td>32903213.0</td>\n",
       "      <td>0</td>\n",
       "      <td>1</td>\n",
       "      <td>NaN</td>\n",
       "    </tr>\n",
       "  </tbody>\n",
       "</table>\n",
       "<p>5 rows × 39 columns</p>\n",
       "</div>"
      ],
      "text/plain": [
       "  Ticker   Market Cap Exchange  Outstanding Shares  Q1_NetIncome  \\\n",
       "0  PARAA   7870631000   NASDAQ            40703600    -299000000   \n",
       "1    TNL   3064163000     NYSE            73924000      94000000   \n",
       "2   IBKR  33844158000   NASDAQ            90820000     125000000   \n",
       "3    RLI   6136793000     NYSE            45596200      77652000   \n",
       "4    PFG  17210108000   NASDAQ           241715000     388800000   \n",
       "\n",
       "   Q2_NetIncome  Q3_NetIncome  Q4_NetIncome  Q5_NetIncome  Q6_NetIncome  ...  \\\n",
       "0   -1118000000      21000000  2.310000e+08  4.190000e+08   433000000.0  ...   \n",
       "1      64000000      91000000  1.160000e+08  1.000000e+08    51000000.0  ...   \n",
       "2     148000000     136000000  9.900000e+07  7.200000e+07    73000000.0  ...   \n",
       "3      98811000      97834000  4.398930e+08 -2.239000e+06    47923000.0  ...   \n",
       "4    -140100000      -9500000  1.385500e+09  3.118700e+09   338700000.0  ...   \n",
       "\n",
       "   Month18_Volume  Month19_Volume  Month20_Volume  Month21_Volume  \\\n",
       "0       1324182.0       1356764.0       2332860.0       2406809.0   \n",
       "1      17161460.0      19595204.0      18295853.0      16187556.0   \n",
       "2      21179384.0      15268038.0      22956651.0      14411174.0   \n",
       "3       4189106.0       3242971.0       3382645.0       2626683.0   \n",
       "4      45203766.0      28726399.0      43798479.0      37520900.0   \n",
       "\n",
       "   Month22_Volume  Month23_Volume  Month24_Volume  Underaged  in_index  \\\n",
       "0       2101219.0       2476328.0       1525239.0          0         0   \n",
       "1      15468411.0      15173904.0      12318754.0          0         0   \n",
       "2      21220417.0      16820150.0      16025946.0          0         0   \n",
       "3       2873627.0       2820883.0       2216243.0          0         0   \n",
       "4      26779575.0      37095643.0      32903213.0          0         1   \n",
       "\n",
       "   Oustanding Shares  \n",
       "0                NaN  \n",
       "1                NaN  \n",
       "2                NaN  \n",
       "3                NaN  \n",
       "4                NaN  \n",
       "\n",
       "[5 rows x 39 columns]"
      ]
     },
     "execution_count": 3,
     "metadata": {},
     "output_type": "execute_result"
    }
   ],
   "source": [
    "market = pd.read_csv(\"total_market.csv\")\n",
    "market.head()"
   ]
  },
  {
   "cell_type": "code",
   "execution_count": 4,
   "id": "4a00533b-01c1-4991-82d7-e5e62096a9e1",
   "metadata": {},
   "outputs": [],
   "source": [
    "tickers = market['Ticker'].sort_values()"
   ]
  },
  {
   "cell_type": "code",
   "execution_count": 5,
   "id": "f45c7909-9a21-460d-8e5b-65e11cb84f11",
   "metadata": {},
   "outputs": [
    {
     "data": {
      "text/plain": [
       "(1008,)"
      ]
     },
     "execution_count": 5,
     "metadata": {},
     "output_type": "execute_result"
    }
   ],
   "source": [
    "tickers.shape"
   ]
  },
  {
   "cell_type": "code",
   "execution_count": 82,
   "id": "6ac81bc6-6738-483d-813a-2455e5f2b7d0",
   "metadata": {},
   "outputs": [
    {
     "name": "stdout",
     "output_type": "stream",
     "text": [
      "{'Ticker': 'CBSH', 'Q9_NetIncome': '162326000', 'Q10_NetIncome': '130972000', 'Q11_NetIncome': '129889000', 'Q12_NetIncome': '132448000', 'Q13_NetIncome': '39863000', 'Q14_NetIncome': '51857000', 'Q15_NetIncome': '106880000', 'Q16_NetIncome': '109242000'}\n"
     ]
    },
    {
     "name": "stderr",
     "output_type": "stream",
     "text": [
      "/var/folders/n_/367n_sc56lj0q1ddbd82d5qw0000gn/T/ipykernel_2404/2934145278.py:26: FutureWarning: The frame.append method is deprecated and will be removed from pandas in a future version. Use pandas.concat instead.\n",
      "  dfz = dfz.append(fetch_data_for_ticker(ticker), ignore_index=True)\n"
     ]
    },
    {
     "name": "stdout",
     "output_type": "stream",
     "text": [
      "{'Ticker': 'CC', 'Q9_NetIncome': '66000000', 'Q10_NetIncome': '96000000', 'Q11_NetIncome': '19000000', 'Q12_NetIncome': '76000000', 'Q13_NetIncome': '24000000', 'Q14_NetIncome': '100000000', 'Q15_NetIncome': '-317000000', 'Q16_NetIncome': '76000000'}\n"
     ]
    },
    {
     "name": "stderr",
     "output_type": "stream",
     "text": [
      "/var/folders/n_/367n_sc56lj0q1ddbd82d5qw0000gn/T/ipykernel_2404/2934145278.py:26: FutureWarning: The frame.append method is deprecated and will be removed from pandas in a future version. Use pandas.concat instead.\n",
      "  dfz = dfz.append(fetch_data_for_ticker(ticker), ignore_index=True)\n"
     ]
    },
    {
     "name": "stdout",
     "output_type": "stream",
     "text": [
      "{'Ticker': 'CCCS', 'Q9_NetIncome': '3816000', 'Q10_NetIncome': '-5084000', 'Q11_NetIncome': '5617000', 'Q12_NetIncome': '4720000', 'Q13_NetIncome': '-1961000', 'Q14_NetIncome': '-25252000'}\n"
     ]
    },
    {
     "name": "stderr",
     "output_type": "stream",
     "text": [
      "/var/folders/n_/367n_sc56lj0q1ddbd82d5qw0000gn/T/ipykernel_2404/2934145278.py:26: FutureWarning: The frame.append method is deprecated and will be removed from pandas in a future version. Use pandas.concat instead.\n",
      "  dfz = dfz.append(fetch_data_for_ticker(ticker), ignore_index=True)\n"
     ]
    },
    {
     "name": "stdout",
     "output_type": "stream",
     "text": [
      "{'Ticker': 'CCI', 'Q9_NetIncome': '334000000', 'Q10_NetIncome': '58000000', 'Q11_NetIncome': '508000000', 'Q12_NetIncome': '163000000', 'Q13_NetIncome': '200000000', 'Q14_NetIncome': '185000000', 'Q15_NetIncome': '208000000', 'Q16_NetIncome': '272000000'}\n"
     ]
    },
    {
     "name": "stderr",
     "output_type": "stream",
     "text": [
      "/var/folders/n_/367n_sc56lj0q1ddbd82d5qw0000gn/T/ipykernel_2404/2934145278.py:26: FutureWarning: The frame.append method is deprecated and will be removed from pandas in a future version. Use pandas.concat instead.\n",
      "  dfz = dfz.append(fetch_data_for_ticker(ticker), ignore_index=True)\n"
     ]
    },
    {
     "name": "stdout",
     "output_type": "stream",
     "text": [
      "{'Ticker': 'CCK', 'Q9_NetIncome': '128000000', 'Q10_NetIncome': '211000000', 'Q11_NetIncome': '151000000', 'Q12_NetIncome': '214000000', 'Q13_NetIncome': '126000000', 'Q14_NetIncome': '88000000', 'Q15_NetIncome': '87000000', 'Q16_NetIncome': '183000000'}\n"
     ]
    },
    {
     "name": "stderr",
     "output_type": "stream",
     "text": [
      "/var/folders/n_/367n_sc56lj0q1ddbd82d5qw0000gn/T/ipykernel_2404/2934145278.py:26: FutureWarning: The frame.append method is deprecated and will be removed from pandas in a future version. Use pandas.concat instead.\n",
      "  dfz = dfz.append(fetch_data_for_ticker(ticker), ignore_index=True)\n"
     ]
    },
    {
     "name": "stdout",
     "output_type": "stream",
     "text": [
      "{'Ticker': 'CCL', 'Q9_NetIncome': '-2836000000', 'Q10_NetIncome': '-2072000000', 'Q11_NetIncome': '-1973000000', 'Q12_NetIncome': '-2222000000', 'Q13_NetIncome': '-2858000000', 'Q14_NetIncome': '-4374000000', 'Q15_NetIncome': '-781000000', 'Q16_NetIncome': '423000000'}\n"
     ]
    },
    {
     "name": "stderr",
     "output_type": "stream",
     "text": [
      "/var/folders/n_/367n_sc56lj0q1ddbd82d5qw0000gn/T/ipykernel_2404/2934145278.py:26: FutureWarning: The frame.append method is deprecated and will be removed from pandas in a future version. Use pandas.concat instead.\n",
      "  dfz = dfz.append(fetch_data_for_ticker(ticker), ignore_index=True)\n"
     ]
    },
    {
     "name": "stdout",
     "output_type": "stream",
     "text": [
      "{'Ticker': 'CDAY', 'Q9_NetIncome': '-25800000', 'Q10_NetIncome': '-19200000', 'Q11_NetIncome': '-17300000', 'Q12_NetIncome': '-800000', 'Q13_NetIncome': '5500000', 'Q14_NetIncome': '8600000', 'Q15_NetIncome': '-1500000', 'Q16_NetIncome': '62700000'}\n"
     ]
    },
    {
     "name": "stderr",
     "output_type": "stream",
     "text": [
      "/var/folders/n_/367n_sc56lj0q1ddbd82d5qw0000gn/T/ipykernel_2404/2934145278.py:26: FutureWarning: The frame.append method is deprecated and will be removed from pandas in a future version. Use pandas.concat instead.\n",
      "  dfz = dfz.append(fetch_data_for_ticker(ticker), ignore_index=True)\n"
     ]
    },
    {
     "name": "stdout",
     "output_type": "stream",
     "text": [
      "{'Ticker': 'CDNS', 'Q9_NetIncome': '176307000', 'Q10_NetIncome': '155900000', 'Q11_NetIncome': '187169000', 'Q12_NetIncome': '173738000', 'Q13_NetIncome': '161630000', 'Q14_NetIncome': '131288000', 'Q15_NetIncome': '123988000', 'Q16_NetIncome': '659675000'}\n"
     ]
    },
    {
     "name": "stderr",
     "output_type": "stream",
     "text": [
      "/var/folders/n_/367n_sc56lj0q1ddbd82d5qw0000gn/T/ipykernel_2404/2934145278.py:26: FutureWarning: The frame.append method is deprecated and will be removed from pandas in a future version. Use pandas.concat instead.\n",
      "  dfz = dfz.append(fetch_data_for_ticker(ticker), ignore_index=True)\n"
     ]
    },
    {
     "name": "stdout",
     "output_type": "stream",
     "text": [
      "{'Ticker': 'CDW', 'Q9_NetIncome': '274100000', 'Q10_NetIncome': '232600000', 'Q11_NetIncome': '238300000', 'Q12_NetIncome': '193200000', 'Q13_NetIncome': '189100000', 'Q14_NetIncome': '167900000', 'Q15_NetIncome': '185600000', 'Q16_NetIncome': '201700000'}\n"
     ]
    },
    {
     "name": "stderr",
     "output_type": "stream",
     "text": [
      "/var/folders/n_/367n_sc56lj0q1ddbd82d5qw0000gn/T/ipykernel_2404/2934145278.py:26: FutureWarning: The frame.append method is deprecated and will be removed from pandas in a future version. Use pandas.concat instead.\n",
      "  dfz = dfz.append(fetch_data_for_ticker(ticker), ignore_index=True)\n"
     ]
    },
    {
     "name": "stdout",
     "output_type": "stream",
     "text": [
      "{'Ticker': 'CE', 'Q9_NetIncome': '538000000', 'Q10_NetIncome': '322000000', 'Q11_NetIncome': '1453000000', 'Q12_NetIncome': '207000000', 'Q13_NetIncome': '107000000', 'Q14_NetIncome': '218000000', 'Q15_NetIncome': '43000000', 'Q16_NetIncome': '263000000'}\n"
     ]
    },
    {
     "name": "stderr",
     "output_type": "stream",
     "text": [
      "/var/folders/n_/367n_sc56lj0q1ddbd82d5qw0000gn/T/ipykernel_2404/2934145278.py:26: FutureWarning: The frame.append method is deprecated and will be removed from pandas in a future version. Use pandas.concat instead.\n",
      "  dfz = dfz.append(fetch_data_for_ticker(ticker), ignore_index=True)\n"
     ]
    },
    {
     "name": "stdout",
     "output_type": "stream",
     "text": [
      "{'Ticker': 'CEG', 'Q9_NetIncome': '-61000000', 'Q10_NetIncome': '-793000000'}\n"
     ]
    },
    {
     "name": "stderr",
     "output_type": "stream",
     "text": [
      "/var/folders/n_/367n_sc56lj0q1ddbd82d5qw0000gn/T/ipykernel_2404/2934145278.py:26: FutureWarning: The frame.append method is deprecated and will be removed from pandas in a future version. Use pandas.concat instead.\n",
      "  dfz = dfz.append(fetch_data_for_ticker(ticker), ignore_index=True)\n"
     ]
    },
    {
     "name": "stdout",
     "output_type": "stream",
     "text": [
      "{'Ticker': 'CELH', 'Q9_NetIncome': '780000', 'Q10_NetIncome': '585000', 'Q11_NetIncome': '1666012', 'Q12_NetIncome': '4753603', 'Q13_NetIncome': '1558334', 'Q14_NetIncome': '546051', 'Q15_NetIncome': '-1173082', 'Q16_NetIncome': '961042'}\n"
     ]
    },
    {
     "name": "stderr",
     "output_type": "stream",
     "text": [
      "/var/folders/n_/367n_sc56lj0q1ddbd82d5qw0000gn/T/ipykernel_2404/2934145278.py:26: FutureWarning: The frame.append method is deprecated and will be removed from pandas in a future version. Use pandas.concat instead.\n",
      "  dfz = dfz.append(fetch_data_for_ticker(ticker), ignore_index=True)\n"
     ]
    },
    {
     "name": "stdout",
     "output_type": "stream",
     "text": [
      "{'Ticker': 'CERT', 'Q9_NetIncome': '-2857000', 'Q10_NetIncome': '1052000', 'Q11_NetIncome': '-54447000', 'Q12_NetIncome': '1227000', 'Q13_NetIncome': '2777000', 'Q14_NetIncome': '1046000'}\n"
     ]
    },
    {
     "name": "stderr",
     "output_type": "stream",
     "text": [
      "/var/folders/n_/367n_sc56lj0q1ddbd82d5qw0000gn/T/ipykernel_2404/2934145278.py:26: FutureWarning: The frame.append method is deprecated and will be removed from pandas in a future version. Use pandas.concat instead.\n",
      "  dfz = dfz.append(fetch_data_for_ticker(ticker), ignore_index=True)\n"
     ]
    },
    {
     "name": "stdout",
     "output_type": "stream",
     "text": [
      "{'Ticker': 'CF', 'Q9_NetIncome': '246000000', 'Q10_NetIncome': '151000000', 'Q11_NetIncome': '87000000', 'Q12_NetIncome': '-28000000', 'Q13_NetIncome': '190000000', 'Q14_NetIncome': '68000000', 'Q15_NetIncome': '94000000', 'Q16_NetIncome': '65000000'}\n"
     ]
    },
    {
     "name": "stderr",
     "output_type": "stream",
     "text": [
      "/var/folders/n_/367n_sc56lj0q1ddbd82d5qw0000gn/T/ipykernel_2404/2934145278.py:26: FutureWarning: The frame.append method is deprecated and will be removed from pandas in a future version. Use pandas.concat instead.\n",
      "  dfz = dfz.append(fetch_data_for_ticker(ticker), ignore_index=True)\n"
     ]
    },
    {
     "name": "stdout",
     "output_type": "stream",
     "text": [
      "{'Ticker': 'CFG', 'Q9_NetIncome': '648000000', 'Q10_NetIncome': '611000000', 'Q11_NetIncome': '456000000', 'Q12_NetIncome': '314000000', 'Q13_NetIncome': '253000000', 'Q14_NetIncome': '34000000', 'Q15_NetIncome': '450000000', 'Q16_NetIncome': '449000000'}\n"
     ]
    },
    {
     "name": "stderr",
     "output_type": "stream",
     "text": [
      "/var/folders/n_/367n_sc56lj0q1ddbd82d5qw0000gn/T/ipykernel_2404/2934145278.py:26: FutureWarning: The frame.append method is deprecated and will be removed from pandas in a future version. Use pandas.concat instead.\n",
      "  dfz = dfz.append(fetch_data_for_ticker(ticker), ignore_index=True)\n"
     ]
    },
    {
     "name": "stdout",
     "output_type": "stream",
     "text": [
      "{'Ticker': 'CFLT', 'Q9_NetIncome': '-88170000', 'Q10_NetIncome': '-44526000', 'Q11_NetIncome': '-31756000', 'Q12_NetIncome': '-138141000', 'Q13_NetIncome': '-26296000'}\n"
     ]
    },
    {
     "name": "stderr",
     "output_type": "stream",
     "text": [
      "/var/folders/n_/367n_sc56lj0q1ddbd82d5qw0000gn/T/ipykernel_2404/2934145278.py:26: FutureWarning: The frame.append method is deprecated and will be removed from pandas in a future version. Use pandas.concat instead.\n",
      "  dfz = dfz.append(fetch_data_for_ticker(ticker), ignore_index=True)\n"
     ]
    },
    {
     "name": "stdout",
     "output_type": "stream",
     "text": [
      "{'Ticker': 'CFR', 'Q9_NetIncome': '118068000', 'Q10_NetIncome': '116015000', 'Q11_NetIncome': '88270000', 'Q12_NetIncome': '95056000', 'Q13_NetIncome': '93072000', 'Q14_NetIncome': '54753000', 'Q15_NetIncome': '103681000', 'Q16_NetIncome': '111836000'}\n"
     ]
    },
    {
     "name": "stderr",
     "output_type": "stream",
     "text": [
      "/var/folders/n_/367n_sc56lj0q1ddbd82d5qw0000gn/T/ipykernel_2404/2934145278.py:26: FutureWarning: The frame.append method is deprecated and will be removed from pandas in a future version. Use pandas.concat instead.\n",
      "  dfz = dfz.append(fetch_data_for_ticker(ticker), ignore_index=True)\n"
     ]
    },
    {
     "name": "stdout",
     "output_type": "stream",
     "text": [
      "{'Ticker': 'CG', 'Q9_NetIncome': '925000000', 'Q10_NetIncome': '869300000', 'Q11_NetIncome': '518800000', 'Q12_NetIncome': '295500000', 'Q13_NetIncome': '145900000', 'Q14_NetIncome': '-612000000', 'Q15_NetIncome': '-8300000', 'Q16_NetIncome': '92200000'}\n"
     ]
    },
    {
     "name": "stderr",
     "output_type": "stream",
     "text": [
      "/var/folders/n_/367n_sc56lj0q1ddbd82d5qw0000gn/T/ipykernel_2404/2934145278.py:26: FutureWarning: The frame.append method is deprecated and will be removed from pandas in a future version. Use pandas.concat instead.\n",
      "  dfz = dfz.append(fetch_data_for_ticker(ticker), ignore_index=True)\n"
     ]
    },
    {
     "name": "stdout",
     "output_type": "stream",
     "text": [
      "{'Ticker': 'CGNX', 'Q9_NetIncome': '77598000', 'Q10_NetIncome': '69848000', 'Q11_NetIncome': '69345000', 'Q12_NetIncome': '87506000', 'Q13_NetIncome': '-1142000', 'Q14_NetIncome': '20477000', 'Q15_NetIncome': '80327000', 'Q16_NetIncome': '41685000'}\n"
     ]
    },
    {
     "name": "stderr",
     "output_type": "stream",
     "text": [
      "/var/folders/n_/367n_sc56lj0q1ddbd82d5qw0000gn/T/ipykernel_2404/2934145278.py:26: FutureWarning: The frame.append method is deprecated and will be removed from pandas in a future version. Use pandas.concat instead.\n",
      "  dfz = dfz.append(fetch_data_for_ticker(ticker), ignore_index=True)\n"
     ]
    },
    {
     "name": "stdout",
     "output_type": "stream",
     "text": [
      "{'Ticker': 'CHD', 'Q9_NetIncome': '218300000', 'Q10_NetIncome': '220700000', 'Q11_NetIncome': '150200000', 'Q12_NetIncome': '216200000', 'Q13_NetIncome': '189700000', 'Q14_NetIncome': '229800000', 'Q15_NetIncome': '144400000', 'Q16_NetIncome': '157300000'}\n"
     ]
    },
    {
     "name": "stderr",
     "output_type": "stream",
     "text": [
      "/var/folders/n_/367n_sc56lj0q1ddbd82d5qw0000gn/T/ipykernel_2404/2934145278.py:26: FutureWarning: The frame.append method is deprecated and will be removed from pandas in a future version. Use pandas.concat instead.\n",
      "  dfz = dfz.append(fetch_data_for_ticker(ticker), ignore_index=True)\n"
     ]
    },
    {
     "name": "stdout",
     "output_type": "stream",
     "text": [
      "{'Ticker': 'CHDN', 'Q9_NetIncome': '61400000', 'Q10_NetIncome': '108300000', 'Q11_NetIncome': '36100000', 'Q12_NetIncome': '17100000', 'Q13_NetIncome': '43200000', 'Q14_NetIncome': '-118800000', 'Q15_NetIncome': '-23400000', 'Q16_NetIncome': '4000000'}\n"
     ]
    },
    {
     "name": "stderr",
     "output_type": "stream",
     "text": [
      "/var/folders/n_/367n_sc56lj0q1ddbd82d5qw0000gn/T/ipykernel_2404/2934145278.py:26: FutureWarning: The frame.append method is deprecated and will be removed from pandas in a future version. Use pandas.concat instead.\n",
      "  dfz = dfz.append(fetch_data_for_ticker(ticker), ignore_index=True)\n"
     ]
    },
    {
     "name": "stdout",
     "output_type": "stream",
     "text": [
      "{'Ticker': 'CHE', 'Q9_NetIncome': '56522000', 'Q10_NetIncome': '65400000', 'Q11_NetIncome': '113752000', 'Q12_NetIncome': '67722000', 'Q13_NetIncome': '82101000', 'Q14_NetIncome': '55891000', 'Q15_NetIncome': '65580000', 'Q16_NetIncome': '58947000'}\n"
     ]
    },
    {
     "name": "stderr",
     "output_type": "stream",
     "text": [
      "/var/folders/n_/367n_sc56lj0q1ddbd82d5qw0000gn/T/ipykernel_2404/2934145278.py:26: FutureWarning: The frame.append method is deprecated and will be removed from pandas in a future version. Use pandas.concat instead.\n",
      "  dfz = dfz.append(fetch_data_for_ticker(ticker), ignore_index=True)\n"
     ]
    },
    {
     "name": "stdout",
     "output_type": "stream",
     "text": [
      "{'Ticker': 'CHH', 'Q9_NetIncome': '85882000', 'Q10_NetIncome': '22337000', 'Q11_NetIncome': '7865000', 'Q12_NetIncome': '14500000', 'Q13_NetIncome': '-2441000', 'Q14_NetIncome': '55463000', 'Q15_NetIncome': '42169000', 'Q16_NetIncome': '76239000'}\n"
     ]
    },
    {
     "name": "stderr",
     "output_type": "stream",
     "text": [
      "/var/folders/n_/367n_sc56lj0q1ddbd82d5qw0000gn/T/ipykernel_2404/2934145278.py:26: FutureWarning: The frame.append method is deprecated and will be removed from pandas in a future version. Use pandas.concat instead.\n",
      "  dfz = dfz.append(fetch_data_for_ticker(ticker), ignore_index=True)\n"
     ]
    },
    {
     "name": "stdout",
     "output_type": "stream",
     "text": [
      "{'Ticker': 'CHK', 'Q9_NetIncome': '-439000000', 'Q10_NetIncome': '295000000', 'Q11_NetIncome': '-416000000', 'Q12_NetIncome': '-745000000', 'Q13_NetIncome': '-276000000', 'Q14_NetIncome': '-8297000000', 'Q15_NetIncome': '-324000000', 'Q16_NetIncome': '-61000000'}\n"
     ]
    },
    {
     "name": "stderr",
     "output_type": "stream",
     "text": [
      "/var/folders/n_/367n_sc56lj0q1ddbd82d5qw0000gn/T/ipykernel_2404/2934145278.py:26: FutureWarning: The frame.append method is deprecated and will be removed from pandas in a future version. Use pandas.concat instead.\n",
      "  dfz = dfz.append(fetch_data_for_ticker(ticker), ignore_index=True)\n"
     ]
    },
    {
     "name": "stdout",
     "output_type": "stream",
     "text": [
      "{'Ticker': 'CHPT', 'Q9_NetIncome': '-84938000', 'Q10_NetIncome': '82289000', 'Q11_NetIncome': '-255465316', 'Q12_NetIncome': '100124231', 'Q13_NetIncome': '-40890000', 'Q14_NetIncome': '-792915', 'Q15_NetIncome': '-35287000', 'Q16_NetIncome': '-124174'}\n"
     ]
    },
    {
     "name": "stderr",
     "output_type": "stream",
     "text": [
      "/var/folders/n_/367n_sc56lj0q1ddbd82d5qw0000gn/T/ipykernel_2404/2934145278.py:26: FutureWarning: The frame.append method is deprecated and will be removed from pandas in a future version. Use pandas.concat instead.\n",
      "  dfz = dfz.append(fetch_data_for_ticker(ticker), ignore_index=True)\n"
     ]
    },
    {
     "name": "stdout",
     "output_type": "stream",
     "text": [
      "{'Ticker': 'CHRW', 'Q9_NetIncome': '193789000', 'Q10_NetIncome': '173305000', 'Q11_NetIncome': '147807000', 'Q12_NetIncome': '136529000', 'Q13_NetIncome': '143939000', 'Q14_NetIncome': '78146000', 'Q15_NetIncome': '99106000', 'Q16_NetIncome': '146894000'}\n"
     ]
    },
    {
     "name": "stderr",
     "output_type": "stream",
     "text": [
      "/var/folders/n_/367n_sc56lj0q1ddbd82d5qw0000gn/T/ipykernel_2404/2934145278.py:26: FutureWarning: The frame.append method is deprecated and will be removed from pandas in a future version. Use pandas.concat instead.\n",
      "  dfz = dfz.append(fetch_data_for_ticker(ticker), ignore_index=True)\n"
     ]
    },
    {
     "name": "stdout",
     "output_type": "stream",
     "text": [
      "{'Ticker': 'CHTR'}\n"
     ]
    },
    {
     "name": "stderr",
     "output_type": "stream",
     "text": [
      "/var/folders/n_/367n_sc56lj0q1ddbd82d5qw0000gn/T/ipykernel_2404/2934145278.py:26: FutureWarning: The frame.append method is deprecated and will be removed from pandas in a future version. Use pandas.concat instead.\n",
      "  dfz = dfz.append(fetch_data_for_ticker(ticker), ignore_index=True)\n"
     ]
    },
    {
     "name": "stdout",
     "output_type": "stream",
     "text": [
      "{'Ticker': 'CI'}\n"
     ]
    },
    {
     "name": "stderr",
     "output_type": "stream",
     "text": [
      "/var/folders/n_/367n_sc56lj0q1ddbd82d5qw0000gn/T/ipykernel_2404/2934145278.py:26: FutureWarning: The frame.append method is deprecated and will be removed from pandas in a future version. Use pandas.concat instead.\n",
      "  dfz = dfz.append(fetch_data_for_ticker(ticker), ignore_index=True)\n"
     ]
    },
    {
     "name": "stdout",
     "output_type": "stream",
     "text": [
      "{'Ticker': 'CIEN'}\n"
     ]
    },
    {
     "name": "stderr",
     "output_type": "stream",
     "text": [
      "/var/folders/n_/367n_sc56lj0q1ddbd82d5qw0000gn/T/ipykernel_2404/2934145278.py:26: FutureWarning: The frame.append method is deprecated and will be removed from pandas in a future version. Use pandas.concat instead.\n",
      "  dfz = dfz.append(fetch_data_for_ticker(ticker), ignore_index=True)\n"
     ]
    },
    {
     "name": "stdout",
     "output_type": "stream",
     "text": [
      "{'Ticker': 'CINF'}\n"
     ]
    },
    {
     "name": "stderr",
     "output_type": "stream",
     "text": [
      "/var/folders/n_/367n_sc56lj0q1ddbd82d5qw0000gn/T/ipykernel_2404/2934145278.py:26: FutureWarning: The frame.append method is deprecated and will be removed from pandas in a future version. Use pandas.concat instead.\n",
      "  dfz = dfz.append(fetch_data_for_ticker(ticker), ignore_index=True)\n"
     ]
    },
    {
     "name": "stdout",
     "output_type": "stream",
     "text": [
      "{'Ticker': 'CL'}\n"
     ]
    },
    {
     "name": "stderr",
     "output_type": "stream",
     "text": [
      "/var/folders/n_/367n_sc56lj0q1ddbd82d5qw0000gn/T/ipykernel_2404/2934145278.py:26: FutureWarning: The frame.append method is deprecated and will be removed from pandas in a future version. Use pandas.concat instead.\n",
      "  dfz = dfz.append(fetch_data_for_ticker(ticker), ignore_index=True)\n"
     ]
    },
    {
     "name": "stdout",
     "output_type": "stream",
     "text": [
      "{'Ticker': 'CLF'}\n"
     ]
    },
    {
     "name": "stderr",
     "output_type": "stream",
     "text": [
      "/var/folders/n_/367n_sc56lj0q1ddbd82d5qw0000gn/T/ipykernel_2404/2934145278.py:26: FutureWarning: The frame.append method is deprecated and will be removed from pandas in a future version. Use pandas.concat instead.\n",
      "  dfz = dfz.append(fetch_data_for_ticker(ticker), ignore_index=True)\n"
     ]
    },
    {
     "name": "stdout",
     "output_type": "stream",
     "text": [
      "{'Ticker': 'CLH'}\n"
     ]
    },
    {
     "name": "stderr",
     "output_type": "stream",
     "text": [
      "/var/folders/n_/367n_sc56lj0q1ddbd82d5qw0000gn/T/ipykernel_2404/2934145278.py:26: FutureWarning: The frame.append method is deprecated and will be removed from pandas in a future version. Use pandas.concat instead.\n",
      "  dfz = dfz.append(fetch_data_for_ticker(ticker), ignore_index=True)\n"
     ]
    },
    {
     "name": "stdout",
     "output_type": "stream",
     "text": [
      "{'Ticker': 'CLVT'}\n"
     ]
    },
    {
     "name": "stderr",
     "output_type": "stream",
     "text": [
      "/var/folders/n_/367n_sc56lj0q1ddbd82d5qw0000gn/T/ipykernel_2404/2934145278.py:26: FutureWarning: The frame.append method is deprecated and will be removed from pandas in a future version. Use pandas.concat instead.\n",
      "  dfz = dfz.append(fetch_data_for_ticker(ticker), ignore_index=True)\n"
     ]
    },
    {
     "name": "stdout",
     "output_type": "stream",
     "text": [
      "{'Ticker': 'CLX'}\n"
     ]
    },
    {
     "name": "stderr",
     "output_type": "stream",
     "text": [
      "/var/folders/n_/367n_sc56lj0q1ddbd82d5qw0000gn/T/ipykernel_2404/2934145278.py:26: FutureWarning: The frame.append method is deprecated and will be removed from pandas in a future version. Use pandas.concat instead.\n",
      "  dfz = dfz.append(fetch_data_for_ticker(ticker), ignore_index=True)\n"
     ]
    },
    {
     "name": "stdout",
     "output_type": "stream",
     "text": [
      "{'Ticker': 'CMA'}\n"
     ]
    },
    {
     "name": "stderr",
     "output_type": "stream",
     "text": [
      "/var/folders/n_/367n_sc56lj0q1ddbd82d5qw0000gn/T/ipykernel_2404/2934145278.py:26: FutureWarning: The frame.append method is deprecated and will be removed from pandas in a future version. Use pandas.concat instead.\n",
      "  dfz = dfz.append(fetch_data_for_ticker(ticker), ignore_index=True)\n"
     ]
    },
    {
     "name": "stdout",
     "output_type": "stream",
     "text": [
      "{'Ticker': 'CMCSA'}\n"
     ]
    },
    {
     "name": "stderr",
     "output_type": "stream",
     "text": [
      "/var/folders/n_/367n_sc56lj0q1ddbd82d5qw0000gn/T/ipykernel_2404/2934145278.py:26: FutureWarning: The frame.append method is deprecated and will be removed from pandas in a future version. Use pandas.concat instead.\n",
      "  dfz = dfz.append(fetch_data_for_ticker(ticker), ignore_index=True)\n"
     ]
    },
    {
     "name": "stdout",
     "output_type": "stream",
     "text": [
      "{'Ticker': 'CME'}\n"
     ]
    },
    {
     "name": "stderr",
     "output_type": "stream",
     "text": [
      "/var/folders/n_/367n_sc56lj0q1ddbd82d5qw0000gn/T/ipykernel_2404/2934145278.py:26: FutureWarning: The frame.append method is deprecated and will be removed from pandas in a future version. Use pandas.concat instead.\n",
      "  dfz = dfz.append(fetch_data_for_ticker(ticker), ignore_index=True)\n"
     ]
    },
    {
     "name": "stdout",
     "output_type": "stream",
     "text": [
      "{'Ticker': 'CMG'}\n"
     ]
    },
    {
     "name": "stderr",
     "output_type": "stream",
     "text": [
      "/var/folders/n_/367n_sc56lj0q1ddbd82d5qw0000gn/T/ipykernel_2404/2934145278.py:26: FutureWarning: The frame.append method is deprecated and will be removed from pandas in a future version. Use pandas.concat instead.\n",
      "  dfz = dfz.append(fetch_data_for_ticker(ticker), ignore_index=True)\n"
     ]
    },
    {
     "name": "stdout",
     "output_type": "stream",
     "text": [
      "{'Ticker': 'CMI'}\n"
     ]
    },
    {
     "name": "stderr",
     "output_type": "stream",
     "text": [
      "/var/folders/n_/367n_sc56lj0q1ddbd82d5qw0000gn/T/ipykernel_2404/2934145278.py:26: FutureWarning: The frame.append method is deprecated and will be removed from pandas in a future version. Use pandas.concat instead.\n",
      "  dfz = dfz.append(fetch_data_for_ticker(ticker), ignore_index=True)\n"
     ]
    },
    {
     "name": "stdout",
     "output_type": "stream",
     "text": [
      "{'Ticker': 'CMS'}\n"
     ]
    },
    {
     "name": "stderr",
     "output_type": "stream",
     "text": [
      "/var/folders/n_/367n_sc56lj0q1ddbd82d5qw0000gn/T/ipykernel_2404/2934145278.py:26: FutureWarning: The frame.append method is deprecated and will be removed from pandas in a future version. Use pandas.concat instead.\n",
      "  dfz = dfz.append(fetch_data_for_ticker(ticker), ignore_index=True)\n"
     ]
    },
    {
     "name": "stdout",
     "output_type": "stream",
     "text": [
      "{'Ticker': 'CNA'}\n"
     ]
    },
    {
     "name": "stderr",
     "output_type": "stream",
     "text": [
      "/var/folders/n_/367n_sc56lj0q1ddbd82d5qw0000gn/T/ipykernel_2404/2934145278.py:26: FutureWarning: The frame.append method is deprecated and will be removed from pandas in a future version. Use pandas.concat instead.\n",
      "  dfz = dfz.append(fetch_data_for_ticker(ticker), ignore_index=True)\n"
     ]
    },
    {
     "name": "stdout",
     "output_type": "stream",
     "text": [
      "{'Ticker': 'CNC'}\n"
     ]
    },
    {
     "name": "stderr",
     "output_type": "stream",
     "text": [
      "/var/folders/n_/367n_sc56lj0q1ddbd82d5qw0000gn/T/ipykernel_2404/2934145278.py:26: FutureWarning: The frame.append method is deprecated and will be removed from pandas in a future version. Use pandas.concat instead.\n",
      "  dfz = dfz.append(fetch_data_for_ticker(ticker), ignore_index=True)\n"
     ]
    },
    {
     "name": "stdout",
     "output_type": "stream",
     "text": [
      "{'Ticker': 'CNHI'}\n"
     ]
    },
    {
     "name": "stderr",
     "output_type": "stream",
     "text": [
      "/var/folders/n_/367n_sc56lj0q1ddbd82d5qw0000gn/T/ipykernel_2404/2934145278.py:26: FutureWarning: The frame.append method is deprecated and will be removed from pandas in a future version. Use pandas.concat instead.\n",
      "  dfz = dfz.append(fetch_data_for_ticker(ticker), ignore_index=True)\n"
     ]
    },
    {
     "name": "stdout",
     "output_type": "stream",
     "text": [
      "{'Ticker': 'CNM'}\n"
     ]
    },
    {
     "name": "stderr",
     "output_type": "stream",
     "text": [
      "/var/folders/n_/367n_sc56lj0q1ddbd82d5qw0000gn/T/ipykernel_2404/2934145278.py:26: FutureWarning: The frame.append method is deprecated and will be removed from pandas in a future version. Use pandas.concat instead.\n",
      "  dfz = dfz.append(fetch_data_for_ticker(ticker), ignore_index=True)\n"
     ]
    },
    {
     "name": "stdout",
     "output_type": "stream",
     "text": [
      "{'Ticker': 'CNP'}\n"
     ]
    },
    {
     "name": "stderr",
     "output_type": "stream",
     "text": [
      "/var/folders/n_/367n_sc56lj0q1ddbd82d5qw0000gn/T/ipykernel_2404/2934145278.py:26: FutureWarning: The frame.append method is deprecated and will be removed from pandas in a future version. Use pandas.concat instead.\n",
      "  dfz = dfz.append(fetch_data_for_ticker(ticker), ignore_index=True)\n"
     ]
    },
    {
     "name": "stdout",
     "output_type": "stream",
     "text": [
      "{'Ticker': 'CNXC'}\n"
     ]
    },
    {
     "name": "stderr",
     "output_type": "stream",
     "text": [
      "/var/folders/n_/367n_sc56lj0q1ddbd82d5qw0000gn/T/ipykernel_2404/2934145278.py:26: FutureWarning: The frame.append method is deprecated and will be removed from pandas in a future version. Use pandas.concat instead.\n",
      "  dfz = dfz.append(fetch_data_for_ticker(ticker), ignore_index=True)\n"
     ]
    },
    {
     "name": "stdout",
     "output_type": "stream",
     "text": [
      "{'Ticker': 'COF'}\n"
     ]
    },
    {
     "name": "stderr",
     "output_type": "stream",
     "text": [
      "/var/folders/n_/367n_sc56lj0q1ddbd82d5qw0000gn/T/ipykernel_2404/2934145278.py:26: FutureWarning: The frame.append method is deprecated and will be removed from pandas in a future version. Use pandas.concat instead.\n",
      "  dfz = dfz.append(fetch_data_for_ticker(ticker), ignore_index=True)\n"
     ]
    },
    {
     "name": "stdout",
     "output_type": "stream",
     "text": [
      "{'Ticker': 'COHR'}\n"
     ]
    },
    {
     "name": "stderr",
     "output_type": "stream",
     "text": [
      "/var/folders/n_/367n_sc56lj0q1ddbd82d5qw0000gn/T/ipykernel_2404/2934145278.py:26: FutureWarning: The frame.append method is deprecated and will be removed from pandas in a future version. Use pandas.concat instead.\n",
      "  dfz = dfz.append(fetch_data_for_ticker(ticker), ignore_index=True)\n"
     ]
    },
    {
     "name": "stdout",
     "output_type": "stream",
     "text": [
      "{'Ticker': 'COIN'}\n"
     ]
    },
    {
     "name": "stderr",
     "output_type": "stream",
     "text": [
      "/var/folders/n_/367n_sc56lj0q1ddbd82d5qw0000gn/T/ipykernel_2404/2934145278.py:26: FutureWarning: The frame.append method is deprecated and will be removed from pandas in a future version. Use pandas.concat instead.\n",
      "  dfz = dfz.append(fetch_data_for_ticker(ticker), ignore_index=True)\n"
     ]
    },
    {
     "name": "stdout",
     "output_type": "stream",
     "text": [
      "{'Ticker': 'COLB'}\n"
     ]
    },
    {
     "name": "stderr",
     "output_type": "stream",
     "text": [
      "/var/folders/n_/367n_sc56lj0q1ddbd82d5qw0000gn/T/ipykernel_2404/2934145278.py:26: FutureWarning: The frame.append method is deprecated and will be removed from pandas in a future version. Use pandas.concat instead.\n",
      "  dfz = dfz.append(fetch_data_for_ticker(ticker), ignore_index=True)\n"
     ]
    },
    {
     "name": "stdout",
     "output_type": "stream",
     "text": [
      "{'Ticker': 'COLD'}\n"
     ]
    },
    {
     "name": "stderr",
     "output_type": "stream",
     "text": [
      "/var/folders/n_/367n_sc56lj0q1ddbd82d5qw0000gn/T/ipykernel_2404/2934145278.py:26: FutureWarning: The frame.append method is deprecated and will be removed from pandas in a future version. Use pandas.concat instead.\n",
      "  dfz = dfz.append(fetch_data_for_ticker(ticker), ignore_index=True)\n"
     ]
    },
    {
     "name": "stdout",
     "output_type": "stream",
     "text": [
      "{'Ticker': 'COLM'}\n"
     ]
    },
    {
     "name": "stderr",
     "output_type": "stream",
     "text": [
      "/var/folders/n_/367n_sc56lj0q1ddbd82d5qw0000gn/T/ipykernel_2404/2934145278.py:26: FutureWarning: The frame.append method is deprecated and will be removed from pandas in a future version. Use pandas.concat instead.\n",
      "  dfz = dfz.append(fetch_data_for_ticker(ticker), ignore_index=True)\n"
     ]
    },
    {
     "name": "stdout",
     "output_type": "stream",
     "text": [
      "{'Ticker': 'COO'}\n"
     ]
    },
    {
     "name": "stderr",
     "output_type": "stream",
     "text": [
      "/var/folders/n_/367n_sc56lj0q1ddbd82d5qw0000gn/T/ipykernel_2404/2934145278.py:26: FutureWarning: The frame.append method is deprecated and will be removed from pandas in a future version. Use pandas.concat instead.\n",
      "  dfz = dfz.append(fetch_data_for_ticker(ticker), ignore_index=True)\n"
     ]
    },
    {
     "name": "stdout",
     "output_type": "stream",
     "text": [
      "{'Ticker': 'COP'}\n"
     ]
    },
    {
     "name": "stderr",
     "output_type": "stream",
     "text": [
      "/var/folders/n_/367n_sc56lj0q1ddbd82d5qw0000gn/T/ipykernel_2404/2934145278.py:26: FutureWarning: The frame.append method is deprecated and will be removed from pandas in a future version. Use pandas.concat instead.\n",
      "  dfz = dfz.append(fetch_data_for_ticker(ticker), ignore_index=True)\n"
     ]
    },
    {
     "name": "stdout",
     "output_type": "stream",
     "text": [
      "{'Ticker': 'COR'}\n"
     ]
    },
    {
     "name": "stderr",
     "output_type": "stream",
     "text": [
      "/var/folders/n_/367n_sc56lj0q1ddbd82d5qw0000gn/T/ipykernel_2404/2934145278.py:26: FutureWarning: The frame.append method is deprecated and will be removed from pandas in a future version. Use pandas.concat instead.\n",
      "  dfz = dfz.append(fetch_data_for_ticker(ticker), ignore_index=True)\n"
     ]
    },
    {
     "name": "stdout",
     "output_type": "stream",
     "text": [
      "{'Ticker': 'COST'}\n"
     ]
    },
    {
     "name": "stderr",
     "output_type": "stream",
     "text": [
      "/var/folders/n_/367n_sc56lj0q1ddbd82d5qw0000gn/T/ipykernel_2404/2934145278.py:26: FutureWarning: The frame.append method is deprecated and will be removed from pandas in a future version. Use pandas.concat instead.\n",
      "  dfz = dfz.append(fetch_data_for_ticker(ticker), ignore_index=True)\n"
     ]
    },
    {
     "name": "stdout",
     "output_type": "stream",
     "text": [
      "{'Ticker': 'COTY'}\n"
     ]
    },
    {
     "name": "stderr",
     "output_type": "stream",
     "text": [
      "/var/folders/n_/367n_sc56lj0q1ddbd82d5qw0000gn/T/ipykernel_2404/2934145278.py:26: FutureWarning: The frame.append method is deprecated and will be removed from pandas in a future version. Use pandas.concat instead.\n",
      "  dfz = dfz.append(fetch_data_for_ticker(ticker), ignore_index=True)\n"
     ]
    },
    {
     "name": "stdout",
     "output_type": "stream",
     "text": [
      "{'Ticker': 'CPB'}\n"
     ]
    },
    {
     "name": "stderr",
     "output_type": "stream",
     "text": [
      "/var/folders/n_/367n_sc56lj0q1ddbd82d5qw0000gn/T/ipykernel_2404/2934145278.py:26: FutureWarning: The frame.append method is deprecated and will be removed from pandas in a future version. Use pandas.concat instead.\n",
      "  dfz = dfz.append(fetch_data_for_ticker(ticker), ignore_index=True)\n"
     ]
    },
    {
     "name": "stdout",
     "output_type": "stream",
     "text": [
      "{'Ticker': 'CPNG'}\n"
     ]
    },
    {
     "name": "stderr",
     "output_type": "stream",
     "text": [
      "/var/folders/n_/367n_sc56lj0q1ddbd82d5qw0000gn/T/ipykernel_2404/2934145278.py:26: FutureWarning: The frame.append method is deprecated and will be removed from pandas in a future version. Use pandas.concat instead.\n",
      "  dfz = dfz.append(fetch_data_for_ticker(ticker), ignore_index=True)\n"
     ]
    },
    {
     "name": "stdout",
     "output_type": "stream",
     "text": [
      "{'Ticker': 'CPRI'}\n"
     ]
    },
    {
     "name": "stderr",
     "output_type": "stream",
     "text": [
      "/var/folders/n_/367n_sc56lj0q1ddbd82d5qw0000gn/T/ipykernel_2404/2934145278.py:26: FutureWarning: The frame.append method is deprecated and will be removed from pandas in a future version. Use pandas.concat instead.\n",
      "  dfz = dfz.append(fetch_data_for_ticker(ticker), ignore_index=True)\n"
     ]
    },
    {
     "name": "stdout",
     "output_type": "stream",
     "text": [
      "{'Ticker': 'CPRT'}\n"
     ]
    },
    {
     "name": "stderr",
     "output_type": "stream",
     "text": [
      "/var/folders/n_/367n_sc56lj0q1ddbd82d5qw0000gn/T/ipykernel_2404/2934145278.py:26: FutureWarning: The frame.append method is deprecated and will be removed from pandas in a future version. Use pandas.concat instead.\n",
      "  dfz = dfz.append(fetch_data_for_ticker(ticker), ignore_index=True)\n"
     ]
    },
    {
     "name": "stdout",
     "output_type": "stream",
     "text": [
      "{'Ticker': 'CPT'}\n"
     ]
    },
    {
     "name": "stderr",
     "output_type": "stream",
     "text": [
      "/var/folders/n_/367n_sc56lj0q1ddbd82d5qw0000gn/T/ipykernel_2404/2934145278.py:26: FutureWarning: The frame.append method is deprecated and will be removed from pandas in a future version. Use pandas.concat instead.\n",
      "  dfz = dfz.append(fetch_data_for_ticker(ticker), ignore_index=True)\n"
     ]
    },
    {
     "name": "stdout",
     "output_type": "stream",
     "text": [
      "{'Ticker': 'CR'}\n"
     ]
    },
    {
     "name": "stderr",
     "output_type": "stream",
     "text": [
      "/var/folders/n_/367n_sc56lj0q1ddbd82d5qw0000gn/T/ipykernel_2404/2934145278.py:26: FutureWarning: The frame.append method is deprecated and will be removed from pandas in a future version. Use pandas.concat instead.\n",
      "  dfz = dfz.append(fetch_data_for_ticker(ticker), ignore_index=True)\n"
     ]
    },
    {
     "name": "stdout",
     "output_type": "stream",
     "text": [
      "{'Ticker': 'CRI'}\n"
     ]
    },
    {
     "name": "stderr",
     "output_type": "stream",
     "text": [
      "/var/folders/n_/367n_sc56lj0q1ddbd82d5qw0000gn/T/ipykernel_2404/2934145278.py:26: FutureWarning: The frame.append method is deprecated and will be removed from pandas in a future version. Use pandas.concat instead.\n",
      "  dfz = dfz.append(fetch_data_for_ticker(ticker), ignore_index=True)\n"
     ]
    },
    {
     "name": "stdout",
     "output_type": "stream",
     "text": [
      "{'Ticker': 'CRL'}\n"
     ]
    },
    {
     "name": "stderr",
     "output_type": "stream",
     "text": [
      "/var/folders/n_/367n_sc56lj0q1ddbd82d5qw0000gn/T/ipykernel_2404/2934145278.py:26: FutureWarning: The frame.append method is deprecated and will be removed from pandas in a future version. Use pandas.concat instead.\n",
      "  dfz = dfz.append(fetch_data_for_ticker(ticker), ignore_index=True)\n"
     ]
    },
    {
     "name": "stdout",
     "output_type": "stream",
     "text": [
      "{'Ticker': 'CRM'}\n"
     ]
    },
    {
     "name": "stderr",
     "output_type": "stream",
     "text": [
      "/var/folders/n_/367n_sc56lj0q1ddbd82d5qw0000gn/T/ipykernel_2404/2934145278.py:26: FutureWarning: The frame.append method is deprecated and will be removed from pandas in a future version. Use pandas.concat instead.\n",
      "  dfz = dfz.append(fetch_data_for_ticker(ticker), ignore_index=True)\n"
     ]
    },
    {
     "name": "stdout",
     "output_type": "stream",
     "text": [
      "{'Ticker': 'CROX'}\n"
     ]
    },
    {
     "name": "stderr",
     "output_type": "stream",
     "text": [
      "/var/folders/n_/367n_sc56lj0q1ddbd82d5qw0000gn/T/ipykernel_2404/2934145278.py:26: FutureWarning: The frame.append method is deprecated and will be removed from pandas in a future version. Use pandas.concat instead.\n",
      "  dfz = dfz.append(fetch_data_for_ticker(ticker), ignore_index=True)\n"
     ]
    },
    {
     "name": "stdout",
     "output_type": "stream",
     "text": [
      "{'Ticker': 'CRUS'}\n"
     ]
    },
    {
     "name": "stderr",
     "output_type": "stream",
     "text": [
      "/var/folders/n_/367n_sc56lj0q1ddbd82d5qw0000gn/T/ipykernel_2404/2934145278.py:26: FutureWarning: The frame.append method is deprecated and will be removed from pandas in a future version. Use pandas.concat instead.\n",
      "  dfz = dfz.append(fetch_data_for_ticker(ticker), ignore_index=True)\n"
     ]
    },
    {
     "name": "stdout",
     "output_type": "stream",
     "text": [
      "{'Ticker': 'CRWD'}\n"
     ]
    },
    {
     "name": "stderr",
     "output_type": "stream",
     "text": [
      "/var/folders/n_/367n_sc56lj0q1ddbd82d5qw0000gn/T/ipykernel_2404/2934145278.py:26: FutureWarning: The frame.append method is deprecated and will be removed from pandas in a future version. Use pandas.concat instead.\n",
      "  dfz = dfz.append(fetch_data_for_ticker(ticker), ignore_index=True)\n"
     ]
    },
    {
     "name": "stdout",
     "output_type": "stream",
     "text": [
      "{'Ticker': 'CSCO'}\n"
     ]
    },
    {
     "name": "stderr",
     "output_type": "stream",
     "text": [
      "/var/folders/n_/367n_sc56lj0q1ddbd82d5qw0000gn/T/ipykernel_2404/2934145278.py:26: FutureWarning: The frame.append method is deprecated and will be removed from pandas in a future version. Use pandas.concat instead.\n",
      "  dfz = dfz.append(fetch_data_for_ticker(ticker), ignore_index=True)\n"
     ]
    },
    {
     "name": "stdout",
     "output_type": "stream",
     "text": [
      "{'Ticker': 'CSGP'}\n"
     ]
    },
    {
     "name": "stderr",
     "output_type": "stream",
     "text": [
      "/var/folders/n_/367n_sc56lj0q1ddbd82d5qw0000gn/T/ipykernel_2404/2934145278.py:26: FutureWarning: The frame.append method is deprecated and will be removed from pandas in a future version. Use pandas.concat instead.\n",
      "  dfz = dfz.append(fetch_data_for_ticker(ticker), ignore_index=True)\n"
     ]
    },
    {
     "name": "stdout",
     "output_type": "stream",
     "text": [
      "{'Ticker': 'CSL'}\n"
     ]
    },
    {
     "name": "stderr",
     "output_type": "stream",
     "text": [
      "/var/folders/n_/367n_sc56lj0q1ddbd82d5qw0000gn/T/ipykernel_2404/2934145278.py:26: FutureWarning: The frame.append method is deprecated and will be removed from pandas in a future version. Use pandas.concat instead.\n",
      "  dfz = dfz.append(fetch_data_for_ticker(ticker), ignore_index=True)\n"
     ]
    },
    {
     "name": "stdout",
     "output_type": "stream",
     "text": [
      "{'Ticker': 'CSX'}\n"
     ]
    },
    {
     "name": "stderr",
     "output_type": "stream",
     "text": [
      "/var/folders/n_/367n_sc56lj0q1ddbd82d5qw0000gn/T/ipykernel_2404/2934145278.py:26: FutureWarning: The frame.append method is deprecated and will be removed from pandas in a future version. Use pandas.concat instead.\n",
      "  dfz = dfz.append(fetch_data_for_ticker(ticker), ignore_index=True)\n"
     ]
    },
    {
     "name": "stdout",
     "output_type": "stream",
     "text": [
      "{'Ticker': 'CTAS'}\n"
     ]
    },
    {
     "name": "stderr",
     "output_type": "stream",
     "text": [
      "/var/folders/n_/367n_sc56lj0q1ddbd82d5qw0000gn/T/ipykernel_2404/2934145278.py:26: FutureWarning: The frame.append method is deprecated and will be removed from pandas in a future version. Use pandas.concat instead.\n",
      "  dfz = dfz.append(fetch_data_for_ticker(ticker), ignore_index=True)\n"
     ]
    },
    {
     "name": "stdout",
     "output_type": "stream",
     "text": [
      "{'Ticker': 'CTLT'}\n"
     ]
    },
    {
     "name": "stderr",
     "output_type": "stream",
     "text": [
      "/var/folders/n_/367n_sc56lj0q1ddbd82d5qw0000gn/T/ipykernel_2404/2934145278.py:26: FutureWarning: The frame.append method is deprecated and will be removed from pandas in a future version. Use pandas.concat instead.\n",
      "  dfz = dfz.append(fetch_data_for_ticker(ticker), ignore_index=True)\n"
     ]
    },
    {
     "name": "stdout",
     "output_type": "stream",
     "text": [
      "{'Ticker': 'CTRA'}\n"
     ]
    },
    {
     "name": "stderr",
     "output_type": "stream",
     "text": [
      "/var/folders/n_/367n_sc56lj0q1ddbd82d5qw0000gn/T/ipykernel_2404/2934145278.py:26: FutureWarning: The frame.append method is deprecated and will be removed from pandas in a future version. Use pandas.concat instead.\n",
      "  dfz = dfz.append(fetch_data_for_ticker(ticker), ignore_index=True)\n"
     ]
    },
    {
     "name": "stdout",
     "output_type": "stream",
     "text": [
      "{'Ticker': 'CTSH'}\n"
     ]
    },
    {
     "name": "stderr",
     "output_type": "stream",
     "text": [
      "/var/folders/n_/367n_sc56lj0q1ddbd82d5qw0000gn/T/ipykernel_2404/2934145278.py:26: FutureWarning: The frame.append method is deprecated and will be removed from pandas in a future version. Use pandas.concat instead.\n",
      "  dfz = dfz.append(fetch_data_for_ticker(ticker), ignore_index=True)\n"
     ]
    },
    {
     "name": "stdout",
     "output_type": "stream",
     "text": [
      "{'Ticker': 'CTVA'}\n"
     ]
    },
    {
     "name": "stderr",
     "output_type": "stream",
     "text": [
      "/var/folders/n_/367n_sc56lj0q1ddbd82d5qw0000gn/T/ipykernel_2404/2934145278.py:26: FutureWarning: The frame.append method is deprecated and will be removed from pandas in a future version. Use pandas.concat instead.\n",
      "  dfz = dfz.append(fetch_data_for_ticker(ticker), ignore_index=True)\n"
     ]
    },
    {
     "name": "stdout",
     "output_type": "stream",
     "text": [
      "{'Ticker': 'CUBE'}\n"
     ]
    },
    {
     "name": "stderr",
     "output_type": "stream",
     "text": [
      "/var/folders/n_/367n_sc56lj0q1ddbd82d5qw0000gn/T/ipykernel_2404/2934145278.py:26: FutureWarning: The frame.append method is deprecated and will be removed from pandas in a future version. Use pandas.concat instead.\n",
      "  dfz = dfz.append(fetch_data_for_ticker(ticker), ignore_index=True)\n"
     ]
    },
    {
     "name": "stdout",
     "output_type": "stream",
     "text": [
      "{'Ticker': 'CUZ'}\n"
     ]
    },
    {
     "name": "stderr",
     "output_type": "stream",
     "text": [
      "/var/folders/n_/367n_sc56lj0q1ddbd82d5qw0000gn/T/ipykernel_2404/2934145278.py:26: FutureWarning: The frame.append method is deprecated and will be removed from pandas in a future version. Use pandas.concat instead.\n",
      "  dfz = dfz.append(fetch_data_for_ticker(ticker), ignore_index=True)\n"
     ]
    },
    {
     "name": "stdout",
     "output_type": "stream",
     "text": [
      "{'Ticker': 'CVS'}\n"
     ]
    },
    {
     "name": "stderr",
     "output_type": "stream",
     "text": [
      "/var/folders/n_/367n_sc56lj0q1ddbd82d5qw0000gn/T/ipykernel_2404/2934145278.py:26: FutureWarning: The frame.append method is deprecated and will be removed from pandas in a future version. Use pandas.concat instead.\n",
      "  dfz = dfz.append(fetch_data_for_ticker(ticker), ignore_index=True)\n"
     ]
    },
    {
     "name": "stdout",
     "output_type": "stream",
     "text": [
      "{'Ticker': 'CVX'}\n"
     ]
    },
    {
     "name": "stderr",
     "output_type": "stream",
     "text": [
      "/var/folders/n_/367n_sc56lj0q1ddbd82d5qw0000gn/T/ipykernel_2404/2934145278.py:26: FutureWarning: The frame.append method is deprecated and will be removed from pandas in a future version. Use pandas.concat instead.\n",
      "  dfz = dfz.append(fetch_data_for_ticker(ticker), ignore_index=True)\n"
     ]
    },
    {
     "name": "stdout",
     "output_type": "stream",
     "text": [
      "{'Ticker': 'CW'}\n"
     ]
    },
    {
     "name": "stderr",
     "output_type": "stream",
     "text": [
      "/var/folders/n_/367n_sc56lj0q1ddbd82d5qw0000gn/T/ipykernel_2404/2934145278.py:26: FutureWarning: The frame.append method is deprecated and will be removed from pandas in a future version. Use pandas.concat instead.\n",
      "  dfz = dfz.append(fetch_data_for_ticker(ticker), ignore_index=True)\n"
     ]
    },
    {
     "name": "stdout",
     "output_type": "stream",
     "text": [
      "{'Ticker': 'CWEN'}\n"
     ]
    },
    {
     "name": "stderr",
     "output_type": "stream",
     "text": [
      "/var/folders/n_/367n_sc56lj0q1ddbd82d5qw0000gn/T/ipykernel_2404/2934145278.py:26: FutureWarning: The frame.append method is deprecated and will be removed from pandas in a future version. Use pandas.concat instead.\n",
      "  dfz = dfz.append(fetch_data_for_ticker(ticker), ignore_index=True)\n"
     ]
    },
    {
     "name": "stdout",
     "output_type": "stream",
     "text": [
      "{'Ticker': 'CWEN.A'}\n"
     ]
    },
    {
     "name": "stderr",
     "output_type": "stream",
     "text": [
      "/var/folders/n_/367n_sc56lj0q1ddbd82d5qw0000gn/T/ipykernel_2404/2934145278.py:26: FutureWarning: The frame.append method is deprecated and will be removed from pandas in a future version. Use pandas.concat instead.\n",
      "  dfz = dfz.append(fetch_data_for_ticker(ticker), ignore_index=True)\n"
     ]
    },
    {
     "name": "stdout",
     "output_type": "stream",
     "text": [
      "{'Ticker': 'CXT'}\n"
     ]
    },
    {
     "name": "stderr",
     "output_type": "stream",
     "text": [
      "/var/folders/n_/367n_sc56lj0q1ddbd82d5qw0000gn/T/ipykernel_2404/2934145278.py:26: FutureWarning: The frame.append method is deprecated and will be removed from pandas in a future version. Use pandas.concat instead.\n",
      "  dfz = dfz.append(fetch_data_for_ticker(ticker), ignore_index=True)\n"
     ]
    },
    {
     "name": "stdout",
     "output_type": "stream",
     "text": [
      "{'Ticker': 'CZR'}\n"
     ]
    },
    {
     "name": "stderr",
     "output_type": "stream",
     "text": [
      "/var/folders/n_/367n_sc56lj0q1ddbd82d5qw0000gn/T/ipykernel_2404/2934145278.py:26: FutureWarning: The frame.append method is deprecated and will be removed from pandas in a future version. Use pandas.concat instead.\n",
      "  dfz = dfz.append(fetch_data_for_ticker(ticker), ignore_index=True)\n"
     ]
    },
    {
     "name": "stdout",
     "output_type": "stream",
     "text": [
      "{'Ticker': 'D'}\n"
     ]
    },
    {
     "name": "stderr",
     "output_type": "stream",
     "text": [
      "/var/folders/n_/367n_sc56lj0q1ddbd82d5qw0000gn/T/ipykernel_2404/2934145278.py:26: FutureWarning: The frame.append method is deprecated and will be removed from pandas in a future version. Use pandas.concat instead.\n",
      "  dfz = dfz.append(fetch_data_for_ticker(ticker), ignore_index=True)\n"
     ]
    },
    {
     "name": "stdout",
     "output_type": "stream",
     "text": [
      "{'Ticker': 'DAL'}\n"
     ]
    },
    {
     "name": "stderr",
     "output_type": "stream",
     "text": [
      "/var/folders/n_/367n_sc56lj0q1ddbd82d5qw0000gn/T/ipykernel_2404/2934145278.py:26: FutureWarning: The frame.append method is deprecated and will be removed from pandas in a future version. Use pandas.concat instead.\n",
      "  dfz = dfz.append(fetch_data_for_ticker(ticker), ignore_index=True)\n"
     ]
    },
    {
     "name": "stdout",
     "output_type": "stream",
     "text": [
      "{'Ticker': 'DAR'}\n"
     ]
    },
    {
     "name": "stderr",
     "output_type": "stream",
     "text": [
      "/var/folders/n_/367n_sc56lj0q1ddbd82d5qw0000gn/T/ipykernel_2404/2934145278.py:26: FutureWarning: The frame.append method is deprecated and will be removed from pandas in a future version. Use pandas.concat instead.\n",
      "  dfz = dfz.append(fetch_data_for_ticker(ticker), ignore_index=True)\n"
     ]
    },
    {
     "name": "stdout",
     "output_type": "stream",
     "text": [
      "{'Ticker': 'DASH'}\n"
     ]
    },
    {
     "name": "stderr",
     "output_type": "stream",
     "text": [
      "/var/folders/n_/367n_sc56lj0q1ddbd82d5qw0000gn/T/ipykernel_2404/2934145278.py:26: FutureWarning: The frame.append method is deprecated and will be removed from pandas in a future version. Use pandas.concat instead.\n",
      "  dfz = dfz.append(fetch_data_for_ticker(ticker), ignore_index=True)\n"
     ]
    },
    {
     "name": "stdout",
     "output_type": "stream",
     "text": [
      "{'Ticker': 'DBX'}\n"
     ]
    },
    {
     "name": "stderr",
     "output_type": "stream",
     "text": [
      "/var/folders/n_/367n_sc56lj0q1ddbd82d5qw0000gn/T/ipykernel_2404/2934145278.py:26: FutureWarning: The frame.append method is deprecated and will be removed from pandas in a future version. Use pandas.concat instead.\n",
      "  dfz = dfz.append(fetch_data_for_ticker(ticker), ignore_index=True)\n"
     ]
    },
    {
     "name": "stdout",
     "output_type": "stream",
     "text": [
      "{'Ticker': 'DCI'}\n"
     ]
    },
    {
     "name": "stderr",
     "output_type": "stream",
     "text": [
      "/var/folders/n_/367n_sc56lj0q1ddbd82d5qw0000gn/T/ipykernel_2404/2934145278.py:26: FutureWarning: The frame.append method is deprecated and will be removed from pandas in a future version. Use pandas.concat instead.\n",
      "  dfz = dfz.append(fetch_data_for_ticker(ticker), ignore_index=True)\n"
     ]
    },
    {
     "name": "stdout",
     "output_type": "stream",
     "text": [
      "{'Ticker': 'DD'}\n"
     ]
    },
    {
     "name": "stderr",
     "output_type": "stream",
     "text": [
      "/var/folders/n_/367n_sc56lj0q1ddbd82d5qw0000gn/T/ipykernel_2404/2934145278.py:26: FutureWarning: The frame.append method is deprecated and will be removed from pandas in a future version. Use pandas.concat instead.\n",
      "  dfz = dfz.append(fetch_data_for_ticker(ticker), ignore_index=True)\n"
     ]
    },
    {
     "name": "stdout",
     "output_type": "stream",
     "text": [
      "{'Ticker': 'DDOG'}\n"
     ]
    },
    {
     "name": "stderr",
     "output_type": "stream",
     "text": [
      "/var/folders/n_/367n_sc56lj0q1ddbd82d5qw0000gn/T/ipykernel_2404/2934145278.py:26: FutureWarning: The frame.append method is deprecated and will be removed from pandas in a future version. Use pandas.concat instead.\n",
      "  dfz = dfz.append(fetch_data_for_ticker(ticker), ignore_index=True)\n"
     ]
    },
    {
     "name": "stdout",
     "output_type": "stream",
     "text": [
      "{'Ticker': 'DE'}\n"
     ]
    },
    {
     "name": "stderr",
     "output_type": "stream",
     "text": [
      "/var/folders/n_/367n_sc56lj0q1ddbd82d5qw0000gn/T/ipykernel_2404/2934145278.py:26: FutureWarning: The frame.append method is deprecated and will be removed from pandas in a future version. Use pandas.concat instead.\n",
      "  dfz = dfz.append(fetch_data_for_ticker(ticker), ignore_index=True)\n"
     ]
    },
    {
     "name": "stdout",
     "output_type": "stream",
     "text": [
      "{'Ticker': 'DECK'}\n"
     ]
    },
    {
     "name": "stderr",
     "output_type": "stream",
     "text": [
      "/var/folders/n_/367n_sc56lj0q1ddbd82d5qw0000gn/T/ipykernel_2404/2934145278.py:26: FutureWarning: The frame.append method is deprecated and will be removed from pandas in a future version. Use pandas.concat instead.\n",
      "  dfz = dfz.append(fetch_data_for_ticker(ticker), ignore_index=True)\n"
     ]
    },
    {
     "name": "stdout",
     "output_type": "stream",
     "text": [
      "{'Ticker': 'DFS'}\n"
     ]
    },
    {
     "name": "stderr",
     "output_type": "stream",
     "text": [
      "/var/folders/n_/367n_sc56lj0q1ddbd82d5qw0000gn/T/ipykernel_2404/2934145278.py:26: FutureWarning: The frame.append method is deprecated and will be removed from pandas in a future version. Use pandas.concat instead.\n",
      "  dfz = dfz.append(fetch_data_for_ticker(ticker), ignore_index=True)\n"
     ]
    },
    {
     "name": "stdout",
     "output_type": "stream",
     "text": [
      "{'Ticker': 'DG'}\n"
     ]
    },
    {
     "name": "stderr",
     "output_type": "stream",
     "text": [
      "/var/folders/n_/367n_sc56lj0q1ddbd82d5qw0000gn/T/ipykernel_2404/2934145278.py:26: FutureWarning: The frame.append method is deprecated and will be removed from pandas in a future version. Use pandas.concat instead.\n",
      "  dfz = dfz.append(fetch_data_for_ticker(ticker), ignore_index=True)\n"
     ]
    },
    {
     "name": "stdout",
     "output_type": "stream",
     "text": [
      "{'Ticker': 'DGX'}\n"
     ]
    },
    {
     "name": "stderr",
     "output_type": "stream",
     "text": [
      "/var/folders/n_/367n_sc56lj0q1ddbd82d5qw0000gn/T/ipykernel_2404/2934145278.py:26: FutureWarning: The frame.append method is deprecated and will be removed from pandas in a future version. Use pandas.concat instead.\n",
      "  dfz = dfz.append(fetch_data_for_ticker(ticker), ignore_index=True)\n"
     ]
    },
    {
     "name": "stdout",
     "output_type": "stream",
     "text": [
      "{'Ticker': 'DHI'}\n"
     ]
    },
    {
     "name": "stderr",
     "output_type": "stream",
     "text": [
      "/var/folders/n_/367n_sc56lj0q1ddbd82d5qw0000gn/T/ipykernel_2404/2934145278.py:26: FutureWarning: The frame.append method is deprecated and will be removed from pandas in a future version. Use pandas.concat instead.\n",
      "  dfz = dfz.append(fetch_data_for_ticker(ticker), ignore_index=True)\n"
     ]
    },
    {
     "name": "stdout",
     "output_type": "stream",
     "text": [
      "{'Ticker': 'DHR'}\n"
     ]
    },
    {
     "name": "stderr",
     "output_type": "stream",
     "text": [
      "/var/folders/n_/367n_sc56lj0q1ddbd82d5qw0000gn/T/ipykernel_2404/2934145278.py:26: FutureWarning: The frame.append method is deprecated and will be removed from pandas in a future version. Use pandas.concat instead.\n",
      "  dfz = dfz.append(fetch_data_for_ticker(ticker), ignore_index=True)\n"
     ]
    },
    {
     "name": "stdout",
     "output_type": "stream",
     "text": [
      "{'Ticker': 'DINO'}\n"
     ]
    },
    {
     "name": "stderr",
     "output_type": "stream",
     "text": [
      "/var/folders/n_/367n_sc56lj0q1ddbd82d5qw0000gn/T/ipykernel_2404/2934145278.py:26: FutureWarning: The frame.append method is deprecated and will be removed from pandas in a future version. Use pandas.concat instead.\n",
      "  dfz = dfz.append(fetch_data_for_ticker(ticker), ignore_index=True)\n"
     ]
    },
    {
     "name": "stdout",
     "output_type": "stream",
     "text": [
      "{'Ticker': 'DIS'}\n"
     ]
    },
    {
     "name": "stderr",
     "output_type": "stream",
     "text": [
      "/var/folders/n_/367n_sc56lj0q1ddbd82d5qw0000gn/T/ipykernel_2404/2934145278.py:26: FutureWarning: The frame.append method is deprecated and will be removed from pandas in a future version. Use pandas.concat instead.\n",
      "  dfz = dfz.append(fetch_data_for_ticker(ticker), ignore_index=True)\n"
     ]
    },
    {
     "name": "stdout",
     "output_type": "stream",
     "text": [
      "{'Ticker': 'DISH'}\n"
     ]
    },
    {
     "name": "stderr",
     "output_type": "stream",
     "text": [
      "/var/folders/n_/367n_sc56lj0q1ddbd82d5qw0000gn/T/ipykernel_2404/2934145278.py:26: FutureWarning: The frame.append method is deprecated and will be removed from pandas in a future version. Use pandas.concat instead.\n",
      "  dfz = dfz.append(fetch_data_for_ticker(ticker), ignore_index=True)\n"
     ]
    },
    {
     "name": "stdout",
     "output_type": "stream",
     "text": [
      "{'Ticker': 'DKNG'}\n"
     ]
    },
    {
     "name": "stderr",
     "output_type": "stream",
     "text": [
      "/var/folders/n_/367n_sc56lj0q1ddbd82d5qw0000gn/T/ipykernel_2404/2934145278.py:26: FutureWarning: The frame.append method is deprecated and will be removed from pandas in a future version. Use pandas.concat instead.\n",
      "  dfz = dfz.append(fetch_data_for_ticker(ticker), ignore_index=True)\n"
     ]
    },
    {
     "name": "stdout",
     "output_type": "stream",
     "text": [
      "{'Ticker': 'DKS'}\n"
     ]
    },
    {
     "name": "stderr",
     "output_type": "stream",
     "text": [
      "/var/folders/n_/367n_sc56lj0q1ddbd82d5qw0000gn/T/ipykernel_2404/2934145278.py:26: FutureWarning: The frame.append method is deprecated and will be removed from pandas in a future version. Use pandas.concat instead.\n",
      "  dfz = dfz.append(fetch_data_for_ticker(ticker), ignore_index=True)\n"
     ]
    },
    {
     "name": "stdout",
     "output_type": "stream",
     "text": [
      "{'Ticker': 'DLB'}\n"
     ]
    },
    {
     "name": "stderr",
     "output_type": "stream",
     "text": [
      "/var/folders/n_/367n_sc56lj0q1ddbd82d5qw0000gn/T/ipykernel_2404/2934145278.py:26: FutureWarning: The frame.append method is deprecated and will be removed from pandas in a future version. Use pandas.concat instead.\n",
      "  dfz = dfz.append(fetch_data_for_ticker(ticker), ignore_index=True)\n"
     ]
    },
    {
     "name": "stdout",
     "output_type": "stream",
     "text": [
      "{'Ticker': 'DLR'}\n"
     ]
    },
    {
     "name": "stderr",
     "output_type": "stream",
     "text": [
      "/var/folders/n_/367n_sc56lj0q1ddbd82d5qw0000gn/T/ipykernel_2404/2934145278.py:26: FutureWarning: The frame.append method is deprecated and will be removed from pandas in a future version. Use pandas.concat instead.\n",
      "  dfz = dfz.append(fetch_data_for_ticker(ticker), ignore_index=True)\n"
     ]
    },
    {
     "name": "stdout",
     "output_type": "stream",
     "text": [
      "{'Ticker': 'DLTR'}\n"
     ]
    },
    {
     "name": "stderr",
     "output_type": "stream",
     "text": [
      "/var/folders/n_/367n_sc56lj0q1ddbd82d5qw0000gn/T/ipykernel_2404/2934145278.py:26: FutureWarning: The frame.append method is deprecated and will be removed from pandas in a future version. Use pandas.concat instead.\n",
      "  dfz = dfz.append(fetch_data_for_ticker(ticker), ignore_index=True)\n"
     ]
    },
    {
     "name": "stdout",
     "output_type": "stream",
     "text": [
      "{'Ticker': 'DNA'}\n"
     ]
    },
    {
     "name": "stderr",
     "output_type": "stream",
     "text": [
      "/var/folders/n_/367n_sc56lj0q1ddbd82d5qw0000gn/T/ipykernel_2404/2934145278.py:26: FutureWarning: The frame.append method is deprecated and will be removed from pandas in a future version. Use pandas.concat instead.\n",
      "  dfz = dfz.append(fetch_data_for_ticker(ticker), ignore_index=True)\n"
     ]
    },
    {
     "name": "stdout",
     "output_type": "stream",
     "text": [
      "{'Ticker': 'DNB'}\n"
     ]
    },
    {
     "name": "stderr",
     "output_type": "stream",
     "text": [
      "/var/folders/n_/367n_sc56lj0q1ddbd82d5qw0000gn/T/ipykernel_2404/2934145278.py:26: FutureWarning: The frame.append method is deprecated and will be removed from pandas in a future version. Use pandas.concat instead.\n",
      "  dfz = dfz.append(fetch_data_for_ticker(ticker), ignore_index=True)\n"
     ]
    },
    {
     "name": "stdout",
     "output_type": "stream",
     "text": [
      "{'Ticker': 'DOCS'}\n"
     ]
    },
    {
     "name": "stderr",
     "output_type": "stream",
     "text": [
      "/var/folders/n_/367n_sc56lj0q1ddbd82d5qw0000gn/T/ipykernel_2404/2934145278.py:26: FutureWarning: The frame.append method is deprecated and will be removed from pandas in a future version. Use pandas.concat instead.\n",
      "  dfz = dfz.append(fetch_data_for_ticker(ticker), ignore_index=True)\n"
     ]
    },
    {
     "name": "stdout",
     "output_type": "stream",
     "text": [
      "{'Ticker': 'DOCU'}\n"
     ]
    },
    {
     "name": "stderr",
     "output_type": "stream",
     "text": [
      "/var/folders/n_/367n_sc56lj0q1ddbd82d5qw0000gn/T/ipykernel_2404/2934145278.py:26: FutureWarning: The frame.append method is deprecated and will be removed from pandas in a future version. Use pandas.concat instead.\n",
      "  dfz = dfz.append(fetch_data_for_ticker(ticker), ignore_index=True)\n"
     ]
    },
    {
     "name": "stdout",
     "output_type": "stream",
     "text": [
      "{'Ticker': 'DOV'}\n"
     ]
    },
    {
     "name": "stderr",
     "output_type": "stream",
     "text": [
      "/var/folders/n_/367n_sc56lj0q1ddbd82d5qw0000gn/T/ipykernel_2404/2934145278.py:26: FutureWarning: The frame.append method is deprecated and will be removed from pandas in a future version. Use pandas.concat instead.\n",
      "  dfz = dfz.append(fetch_data_for_ticker(ticker), ignore_index=True)\n"
     ]
    },
    {
     "name": "stdout",
     "output_type": "stream",
     "text": [
      "{'Ticker': 'DOW'}\n"
     ]
    },
    {
     "name": "stderr",
     "output_type": "stream",
     "text": [
      "/var/folders/n_/367n_sc56lj0q1ddbd82d5qw0000gn/T/ipykernel_2404/2934145278.py:26: FutureWarning: The frame.append method is deprecated and will be removed from pandas in a future version. Use pandas.concat instead.\n",
      "  dfz = dfz.append(fetch_data_for_ticker(ticker), ignore_index=True)\n"
     ]
    },
    {
     "name": "stdout",
     "output_type": "stream",
     "text": [
      "{'Ticker': 'DOX'}\n"
     ]
    },
    {
     "name": "stderr",
     "output_type": "stream",
     "text": [
      "/var/folders/n_/367n_sc56lj0q1ddbd82d5qw0000gn/T/ipykernel_2404/2934145278.py:26: FutureWarning: The frame.append method is deprecated and will be removed from pandas in a future version. Use pandas.concat instead.\n",
      "  dfz = dfz.append(fetch_data_for_ticker(ticker), ignore_index=True)\n"
     ]
    },
    {
     "name": "stdout",
     "output_type": "stream",
     "text": [
      "{'Ticker': 'DPZ'}\n"
     ]
    },
    {
     "name": "stderr",
     "output_type": "stream",
     "text": [
      "/var/folders/n_/367n_sc56lj0q1ddbd82d5qw0000gn/T/ipykernel_2404/2934145278.py:26: FutureWarning: The frame.append method is deprecated and will be removed from pandas in a future version. Use pandas.concat instead.\n",
      "  dfz = dfz.append(fetch_data_for_ticker(ticker), ignore_index=True)\n"
     ]
    },
    {
     "name": "stdout",
     "output_type": "stream",
     "text": [
      "{'Ticker': 'DRI'}\n"
     ]
    },
    {
     "name": "stderr",
     "output_type": "stream",
     "text": [
      "/var/folders/n_/367n_sc56lj0q1ddbd82d5qw0000gn/T/ipykernel_2404/2934145278.py:26: FutureWarning: The frame.append method is deprecated and will be removed from pandas in a future version. Use pandas.concat instead.\n",
      "  dfz = dfz.append(fetch_data_for_ticker(ticker), ignore_index=True)\n"
     ]
    },
    {
     "name": "stdout",
     "output_type": "stream",
     "text": [
      "{'Ticker': 'DRVN'}\n"
     ]
    },
    {
     "name": "stderr",
     "output_type": "stream",
     "text": [
      "/var/folders/n_/367n_sc56lj0q1ddbd82d5qw0000gn/T/ipykernel_2404/2934145278.py:26: FutureWarning: The frame.append method is deprecated and will be removed from pandas in a future version. Use pandas.concat instead.\n",
      "  dfz = dfz.append(fetch_data_for_ticker(ticker), ignore_index=True)\n"
     ]
    },
    {
     "name": "stdout",
     "output_type": "stream",
     "text": [
      "{'Ticker': 'DT'}\n"
     ]
    },
    {
     "name": "stderr",
     "output_type": "stream",
     "text": [
      "/var/folders/n_/367n_sc56lj0q1ddbd82d5qw0000gn/T/ipykernel_2404/2934145278.py:26: FutureWarning: The frame.append method is deprecated and will be removed from pandas in a future version. Use pandas.concat instead.\n",
      "  dfz = dfz.append(fetch_data_for_ticker(ticker), ignore_index=True)\n"
     ]
    },
    {
     "name": "stdout",
     "output_type": "stream",
     "text": [
      "{'Ticker': 'DTE'}\n"
     ]
    },
    {
     "name": "stderr",
     "output_type": "stream",
     "text": [
      "/var/folders/n_/367n_sc56lj0q1ddbd82d5qw0000gn/T/ipykernel_2404/2934145278.py:26: FutureWarning: The frame.append method is deprecated and will be removed from pandas in a future version. Use pandas.concat instead.\n",
      "  dfz = dfz.append(fetch_data_for_ticker(ticker), ignore_index=True)\n"
     ]
    },
    {
     "name": "stdout",
     "output_type": "stream",
     "text": [
      "{'Ticker': 'DTM'}\n"
     ]
    },
    {
     "name": "stderr",
     "output_type": "stream",
     "text": [
      "/var/folders/n_/367n_sc56lj0q1ddbd82d5qw0000gn/T/ipykernel_2404/2934145278.py:26: FutureWarning: The frame.append method is deprecated and will be removed from pandas in a future version. Use pandas.concat instead.\n",
      "  dfz = dfz.append(fetch_data_for_ticker(ticker), ignore_index=True)\n"
     ]
    },
    {
     "name": "stdout",
     "output_type": "stream",
     "text": [
      "{'Ticker': 'DUK'}\n"
     ]
    },
    {
     "name": "stderr",
     "output_type": "stream",
     "text": [
      "/var/folders/n_/367n_sc56lj0q1ddbd82d5qw0000gn/T/ipykernel_2404/2934145278.py:26: FutureWarning: The frame.append method is deprecated and will be removed from pandas in a future version. Use pandas.concat instead.\n",
      "  dfz = dfz.append(fetch_data_for_ticker(ticker), ignore_index=True)\n"
     ]
    },
    {
     "name": "stdout",
     "output_type": "stream",
     "text": [
      "{'Ticker': 'DV'}\n"
     ]
    },
    {
     "name": "stderr",
     "output_type": "stream",
     "text": [
      "/var/folders/n_/367n_sc56lj0q1ddbd82d5qw0000gn/T/ipykernel_2404/2934145278.py:26: FutureWarning: The frame.append method is deprecated and will be removed from pandas in a future version. Use pandas.concat instead.\n",
      "  dfz = dfz.append(fetch_data_for_ticker(ticker), ignore_index=True)\n"
     ]
    },
    {
     "name": "stdout",
     "output_type": "stream",
     "text": [
      "{'Ticker': 'DVA'}\n"
     ]
    },
    {
     "name": "stderr",
     "output_type": "stream",
     "text": [
      "/var/folders/n_/367n_sc56lj0q1ddbd82d5qw0000gn/T/ipykernel_2404/2934145278.py:26: FutureWarning: The frame.append method is deprecated and will be removed from pandas in a future version. Use pandas.concat instead.\n",
      "  dfz = dfz.append(fetch_data_for_ticker(ticker), ignore_index=True)\n"
     ]
    },
    {
     "name": "stdout",
     "output_type": "stream",
     "text": [
      "{'Ticker': 'DVN'}\n"
     ]
    },
    {
     "name": "stderr",
     "output_type": "stream",
     "text": [
      "/var/folders/n_/367n_sc56lj0q1ddbd82d5qw0000gn/T/ipykernel_2404/2934145278.py:26: FutureWarning: The frame.append method is deprecated and will be removed from pandas in a future version. Use pandas.concat instead.\n",
      "  dfz = dfz.append(fetch_data_for_ticker(ticker), ignore_index=True)\n"
     ]
    },
    {
     "name": "stdout",
     "output_type": "stream",
     "text": [
      "{'Ticker': 'DXC'}\n"
     ]
    },
    {
     "name": "stderr",
     "output_type": "stream",
     "text": [
      "/var/folders/n_/367n_sc56lj0q1ddbd82d5qw0000gn/T/ipykernel_2404/2934145278.py:26: FutureWarning: The frame.append method is deprecated and will be removed from pandas in a future version. Use pandas.concat instead.\n",
      "  dfz = dfz.append(fetch_data_for_ticker(ticker), ignore_index=True)\n"
     ]
    },
    {
     "name": "stdout",
     "output_type": "stream",
     "text": [
      "{'Ticker': 'DXCM'}\n"
     ]
    },
    {
     "name": "stderr",
     "output_type": "stream",
     "text": [
      "/var/folders/n_/367n_sc56lj0q1ddbd82d5qw0000gn/T/ipykernel_2404/2934145278.py:26: FutureWarning: The frame.append method is deprecated and will be removed from pandas in a future version. Use pandas.concat instead.\n",
      "  dfz = dfz.append(fetch_data_for_ticker(ticker), ignore_index=True)\n"
     ]
    },
    {
     "name": "stdout",
     "output_type": "stream",
     "text": [
      "{'Ticker': 'EA'}\n"
     ]
    },
    {
     "name": "stderr",
     "output_type": "stream",
     "text": [
      "/var/folders/n_/367n_sc56lj0q1ddbd82d5qw0000gn/T/ipykernel_2404/2934145278.py:26: FutureWarning: The frame.append method is deprecated and will be removed from pandas in a future version. Use pandas.concat instead.\n",
      "  dfz = dfz.append(fetch_data_for_ticker(ticker), ignore_index=True)\n"
     ]
    },
    {
     "name": "stdout",
     "output_type": "stream",
     "text": [
      "{'Ticker': 'EBAY'}\n"
     ]
    },
    {
     "name": "stderr",
     "output_type": "stream",
     "text": [
      "/var/folders/n_/367n_sc56lj0q1ddbd82d5qw0000gn/T/ipykernel_2404/2934145278.py:26: FutureWarning: The frame.append method is deprecated and will be removed from pandas in a future version. Use pandas.concat instead.\n",
      "  dfz = dfz.append(fetch_data_for_ticker(ticker), ignore_index=True)\n"
     ]
    },
    {
     "name": "stdout",
     "output_type": "stream",
     "text": [
      "{'Ticker': 'ECL'}\n"
     ]
    },
    {
     "name": "stderr",
     "output_type": "stream",
     "text": [
      "/var/folders/n_/367n_sc56lj0q1ddbd82d5qw0000gn/T/ipykernel_2404/2934145278.py:26: FutureWarning: The frame.append method is deprecated and will be removed from pandas in a future version. Use pandas.concat instead.\n",
      "  dfz = dfz.append(fetch_data_for_ticker(ticker), ignore_index=True)\n"
     ]
    },
    {
     "name": "stdout",
     "output_type": "stream",
     "text": [
      "{'Ticker': 'ED'}\n"
     ]
    },
    {
     "name": "stderr",
     "output_type": "stream",
     "text": [
      "/var/folders/n_/367n_sc56lj0q1ddbd82d5qw0000gn/T/ipykernel_2404/2934145278.py:26: FutureWarning: The frame.append method is deprecated and will be removed from pandas in a future version. Use pandas.concat instead.\n",
      "  dfz = dfz.append(fetch_data_for_ticker(ticker), ignore_index=True)\n"
     ]
    },
    {
     "name": "stdout",
     "output_type": "stream",
     "text": [
      "{'Ticker': 'EEFT'}\n"
     ]
    },
    {
     "name": "stderr",
     "output_type": "stream",
     "text": [
      "/var/folders/n_/367n_sc56lj0q1ddbd82d5qw0000gn/T/ipykernel_2404/2934145278.py:26: FutureWarning: The frame.append method is deprecated and will be removed from pandas in a future version. Use pandas.concat instead.\n",
      "  dfz = dfz.append(fetch_data_for_ticker(ticker), ignore_index=True)\n"
     ]
    },
    {
     "name": "stdout",
     "output_type": "stream",
     "text": [
      "{'Ticker': 'EFX'}\n"
     ]
    },
    {
     "name": "stderr",
     "output_type": "stream",
     "text": [
      "/var/folders/n_/367n_sc56lj0q1ddbd82d5qw0000gn/T/ipykernel_2404/2934145278.py:26: FutureWarning: The frame.append method is deprecated and will be removed from pandas in a future version. Use pandas.concat instead.\n",
      "  dfz = dfz.append(fetch_data_for_ticker(ticker), ignore_index=True)\n"
     ]
    },
    {
     "name": "stdout",
     "output_type": "stream",
     "text": [
      "{'Ticker': 'EG'}\n"
     ]
    },
    {
     "name": "stderr",
     "output_type": "stream",
     "text": [
      "/var/folders/n_/367n_sc56lj0q1ddbd82d5qw0000gn/T/ipykernel_2404/2934145278.py:26: FutureWarning: The frame.append method is deprecated and will be removed from pandas in a future version. Use pandas.concat instead.\n",
      "  dfz = dfz.append(fetch_data_for_ticker(ticker), ignore_index=True)\n"
     ]
    },
    {
     "name": "stdout",
     "output_type": "stream",
     "text": [
      "{'Ticker': 'EGP'}\n"
     ]
    },
    {
     "name": "stderr",
     "output_type": "stream",
     "text": [
      "/var/folders/n_/367n_sc56lj0q1ddbd82d5qw0000gn/T/ipykernel_2404/2934145278.py:26: FutureWarning: The frame.append method is deprecated and will be removed from pandas in a future version. Use pandas.concat instead.\n",
      "  dfz = dfz.append(fetch_data_for_ticker(ticker), ignore_index=True)\n"
     ]
    },
    {
     "name": "stdout",
     "output_type": "stream",
     "text": [
      "{'Ticker': 'EHC'}\n"
     ]
    },
    {
     "name": "stderr",
     "output_type": "stream",
     "text": [
      "/var/folders/n_/367n_sc56lj0q1ddbd82d5qw0000gn/T/ipykernel_2404/2934145278.py:26: FutureWarning: The frame.append method is deprecated and will be removed from pandas in a future version. Use pandas.concat instead.\n",
      "  dfz = dfz.append(fetch_data_for_ticker(ticker), ignore_index=True)\n"
     ]
    },
    {
     "name": "stdout",
     "output_type": "stream",
     "text": [
      "{'Ticker': 'EIX'}\n"
     ]
    },
    {
     "name": "stderr",
     "output_type": "stream",
     "text": [
      "/var/folders/n_/367n_sc56lj0q1ddbd82d5qw0000gn/T/ipykernel_2404/2934145278.py:26: FutureWarning: The frame.append method is deprecated and will be removed from pandas in a future version. Use pandas.concat instead.\n",
      "  dfz = dfz.append(fetch_data_for_ticker(ticker), ignore_index=True)\n"
     ]
    },
    {
     "name": "stdout",
     "output_type": "stream",
     "text": [
      "{'Ticker': 'EL'}\n"
     ]
    },
    {
     "name": "stderr",
     "output_type": "stream",
     "text": [
      "/var/folders/n_/367n_sc56lj0q1ddbd82d5qw0000gn/T/ipykernel_2404/2934145278.py:26: FutureWarning: The frame.append method is deprecated and will be removed from pandas in a future version. Use pandas.concat instead.\n",
      "  dfz = dfz.append(fetch_data_for_ticker(ticker), ignore_index=True)\n"
     ]
    },
    {
     "name": "stdout",
     "output_type": "stream",
     "text": [
      "{'Ticker': 'ELAN'}\n"
     ]
    },
    {
     "name": "stderr",
     "output_type": "stream",
     "text": [
      "/var/folders/n_/367n_sc56lj0q1ddbd82d5qw0000gn/T/ipykernel_2404/2934145278.py:26: FutureWarning: The frame.append method is deprecated and will be removed from pandas in a future version. Use pandas.concat instead.\n",
      "  dfz = dfz.append(fetch_data_for_ticker(ticker), ignore_index=True)\n"
     ]
    },
    {
     "name": "stdout",
     "output_type": "stream",
     "text": [
      "{'Ticker': 'ELS'}\n"
     ]
    },
    {
     "name": "stderr",
     "output_type": "stream",
     "text": [
      "/var/folders/n_/367n_sc56lj0q1ddbd82d5qw0000gn/T/ipykernel_2404/2934145278.py:26: FutureWarning: The frame.append method is deprecated and will be removed from pandas in a future version. Use pandas.concat instead.\n",
      "  dfz = dfz.append(fetch_data_for_ticker(ticker), ignore_index=True)\n"
     ]
    },
    {
     "name": "stdout",
     "output_type": "stream",
     "text": [
      "{'Ticker': 'ELV'}\n"
     ]
    },
    {
     "name": "stderr",
     "output_type": "stream",
     "text": [
      "/var/folders/n_/367n_sc56lj0q1ddbd82d5qw0000gn/T/ipykernel_2404/2934145278.py:26: FutureWarning: The frame.append method is deprecated and will be removed from pandas in a future version. Use pandas.concat instead.\n",
      "  dfz = dfz.append(fetch_data_for_ticker(ticker), ignore_index=True)\n"
     ]
    },
    {
     "name": "stdout",
     "output_type": "stream",
     "text": [
      "{'Ticker': 'EME'}\n"
     ]
    },
    {
     "name": "stderr",
     "output_type": "stream",
     "text": [
      "/var/folders/n_/367n_sc56lj0q1ddbd82d5qw0000gn/T/ipykernel_2404/2934145278.py:26: FutureWarning: The frame.append method is deprecated and will be removed from pandas in a future version. Use pandas.concat instead.\n",
      "  dfz = dfz.append(fetch_data_for_ticker(ticker), ignore_index=True)\n"
     ]
    },
    {
     "name": "stdout",
     "output_type": "stream",
     "text": [
      "{'Ticker': 'EMN'}\n"
     ]
    },
    {
     "name": "stderr",
     "output_type": "stream",
     "text": [
      "/var/folders/n_/367n_sc56lj0q1ddbd82d5qw0000gn/T/ipykernel_2404/2934145278.py:26: FutureWarning: The frame.append method is deprecated and will be removed from pandas in a future version. Use pandas.concat instead.\n",
      "  dfz = dfz.append(fetch_data_for_ticker(ticker), ignore_index=True)\n"
     ]
    },
    {
     "name": "stdout",
     "output_type": "stream",
     "text": [
      "{'Ticker': 'EMR'}\n"
     ]
    },
    {
     "name": "stderr",
     "output_type": "stream",
     "text": [
      "/var/folders/n_/367n_sc56lj0q1ddbd82d5qw0000gn/T/ipykernel_2404/2934145278.py:26: FutureWarning: The frame.append method is deprecated and will be removed from pandas in a future version. Use pandas.concat instead.\n",
      "  dfz = dfz.append(fetch_data_for_ticker(ticker), ignore_index=True)\n"
     ]
    },
    {
     "name": "stdout",
     "output_type": "stream",
     "text": [
      "{'Ticker': 'ENOV'}\n"
     ]
    },
    {
     "name": "stderr",
     "output_type": "stream",
     "text": [
      "/var/folders/n_/367n_sc56lj0q1ddbd82d5qw0000gn/T/ipykernel_2404/2934145278.py:26: FutureWarning: The frame.append method is deprecated and will be removed from pandas in a future version. Use pandas.concat instead.\n",
      "  dfz = dfz.append(fetch_data_for_ticker(ticker), ignore_index=True)\n"
     ]
    },
    {
     "name": "stdout",
     "output_type": "stream",
     "text": [
      "{'Ticker': 'ENPH'}\n"
     ]
    },
    {
     "name": "stderr",
     "output_type": "stream",
     "text": [
      "/var/folders/n_/367n_sc56lj0q1ddbd82d5qw0000gn/T/ipykernel_2404/2934145278.py:26: FutureWarning: The frame.append method is deprecated and will be removed from pandas in a future version. Use pandas.concat instead.\n",
      "  dfz = dfz.append(fetch_data_for_ticker(ticker), ignore_index=True)\n"
     ]
    },
    {
     "name": "stdout",
     "output_type": "stream",
     "text": [
      "{'Ticker': 'ENTG'}\n"
     ]
    },
    {
     "name": "stderr",
     "output_type": "stream",
     "text": [
      "/var/folders/n_/367n_sc56lj0q1ddbd82d5qw0000gn/T/ipykernel_2404/2934145278.py:26: FutureWarning: The frame.append method is deprecated and will be removed from pandas in a future version. Use pandas.concat instead.\n",
      "  dfz = dfz.append(fetch_data_for_ticker(ticker), ignore_index=True)\n"
     ]
    },
    {
     "name": "stdout",
     "output_type": "stream",
     "text": [
      "{'Ticker': 'EOG'}\n"
     ]
    },
    {
     "name": "stderr",
     "output_type": "stream",
     "text": [
      "/var/folders/n_/367n_sc56lj0q1ddbd82d5qw0000gn/T/ipykernel_2404/2934145278.py:26: FutureWarning: The frame.append method is deprecated and will be removed from pandas in a future version. Use pandas.concat instead.\n",
      "  dfz = dfz.append(fetch_data_for_ticker(ticker), ignore_index=True)\n"
     ]
    },
    {
     "name": "stdout",
     "output_type": "stream",
     "text": [
      "{'Ticker': 'EPAM'}\n"
     ]
    },
    {
     "name": "stderr",
     "output_type": "stream",
     "text": [
      "/var/folders/n_/367n_sc56lj0q1ddbd82d5qw0000gn/T/ipykernel_2404/2934145278.py:26: FutureWarning: The frame.append method is deprecated and will be removed from pandas in a future version. Use pandas.concat instead.\n",
      "  dfz = dfz.append(fetch_data_for_ticker(ticker), ignore_index=True)\n"
     ]
    },
    {
     "name": "stdout",
     "output_type": "stream",
     "text": [
      "{'Ticker': 'EPR'}\n"
     ]
    },
    {
     "name": "stderr",
     "output_type": "stream",
     "text": [
      "/var/folders/n_/367n_sc56lj0q1ddbd82d5qw0000gn/T/ipykernel_2404/2934145278.py:26: FutureWarning: The frame.append method is deprecated and will be removed from pandas in a future version. Use pandas.concat instead.\n",
      "  dfz = dfz.append(fetch_data_for_ticker(ticker), ignore_index=True)\n"
     ]
    },
    {
     "name": "stdout",
     "output_type": "stream",
     "text": [
      "{'Ticker': 'EQH'}\n"
     ]
    },
    {
     "name": "stderr",
     "output_type": "stream",
     "text": [
      "/var/folders/n_/367n_sc56lj0q1ddbd82d5qw0000gn/T/ipykernel_2404/2934145278.py:26: FutureWarning: The frame.append method is deprecated and will be removed from pandas in a future version. Use pandas.concat instead.\n",
      "  dfz = dfz.append(fetch_data_for_ticker(ticker), ignore_index=True)\n"
     ]
    },
    {
     "name": "stdout",
     "output_type": "stream",
     "text": [
      "{'Ticker': 'EQIX'}\n"
     ]
    },
    {
     "name": "stderr",
     "output_type": "stream",
     "text": [
      "/var/folders/n_/367n_sc56lj0q1ddbd82d5qw0000gn/T/ipykernel_2404/2934145278.py:26: FutureWarning: The frame.append method is deprecated and will be removed from pandas in a future version. Use pandas.concat instead.\n",
      "  dfz = dfz.append(fetch_data_for_ticker(ticker), ignore_index=True)\n"
     ]
    },
    {
     "name": "stdout",
     "output_type": "stream",
     "text": [
      "{'Ticker': 'EQR'}\n"
     ]
    },
    {
     "name": "stderr",
     "output_type": "stream",
     "text": [
      "/var/folders/n_/367n_sc56lj0q1ddbd82d5qw0000gn/T/ipykernel_2404/2934145278.py:26: FutureWarning: The frame.append method is deprecated and will be removed from pandas in a future version. Use pandas.concat instead.\n",
      "  dfz = dfz.append(fetch_data_for_ticker(ticker), ignore_index=True)\n"
     ]
    },
    {
     "name": "stdout",
     "output_type": "stream",
     "text": [
      "{'Ticker': 'EQT'}\n"
     ]
    },
    {
     "name": "stderr",
     "output_type": "stream",
     "text": [
      "/var/folders/n_/367n_sc56lj0q1ddbd82d5qw0000gn/T/ipykernel_2404/2934145278.py:26: FutureWarning: The frame.append method is deprecated and will be removed from pandas in a future version. Use pandas.concat instead.\n",
      "  dfz = dfz.append(fetch_data_for_ticker(ticker), ignore_index=True)\n"
     ]
    },
    {
     "name": "stdout",
     "output_type": "stream",
     "text": [
      "{'Ticker': 'ES'}\n"
     ]
    },
    {
     "name": "stderr",
     "output_type": "stream",
     "text": [
      "/var/folders/n_/367n_sc56lj0q1ddbd82d5qw0000gn/T/ipykernel_2404/2934145278.py:26: FutureWarning: The frame.append method is deprecated and will be removed from pandas in a future version. Use pandas.concat instead.\n",
      "  dfz = dfz.append(fetch_data_for_ticker(ticker), ignore_index=True)\n"
     ]
    },
    {
     "name": "stdout",
     "output_type": "stream",
     "text": [
      "{'Ticker': 'ESAB'}\n"
     ]
    },
    {
     "name": "stderr",
     "output_type": "stream",
     "text": [
      "/var/folders/n_/367n_sc56lj0q1ddbd82d5qw0000gn/T/ipykernel_2404/2934145278.py:26: FutureWarning: The frame.append method is deprecated and will be removed from pandas in a future version. Use pandas.concat instead.\n",
      "  dfz = dfz.append(fetch_data_for_ticker(ticker), ignore_index=True)\n"
     ]
    },
    {
     "name": "stdout",
     "output_type": "stream",
     "text": [
      "{'Ticker': 'ESI'}\n"
     ]
    },
    {
     "name": "stderr",
     "output_type": "stream",
     "text": [
      "/var/folders/n_/367n_sc56lj0q1ddbd82d5qw0000gn/T/ipykernel_2404/2934145278.py:26: FutureWarning: The frame.append method is deprecated and will be removed from pandas in a future version. Use pandas.concat instead.\n",
      "  dfz = dfz.append(fetch_data_for_ticker(ticker), ignore_index=True)\n"
     ]
    },
    {
     "name": "stdout",
     "output_type": "stream",
     "text": [
      "{'Ticker': 'ESS'}\n"
     ]
    },
    {
     "name": "stderr",
     "output_type": "stream",
     "text": [
      "/var/folders/n_/367n_sc56lj0q1ddbd82d5qw0000gn/T/ipykernel_2404/2934145278.py:26: FutureWarning: The frame.append method is deprecated and will be removed from pandas in a future version. Use pandas.concat instead.\n",
      "  dfz = dfz.append(fetch_data_for_ticker(ticker), ignore_index=True)\n"
     ]
    },
    {
     "name": "stdout",
     "output_type": "stream",
     "text": [
      "{'Ticker': 'ESTC'}\n"
     ]
    },
    {
     "name": "stderr",
     "output_type": "stream",
     "text": [
      "/var/folders/n_/367n_sc56lj0q1ddbd82d5qw0000gn/T/ipykernel_2404/2934145278.py:26: FutureWarning: The frame.append method is deprecated and will be removed from pandas in a future version. Use pandas.concat instead.\n",
      "  dfz = dfz.append(fetch_data_for_ticker(ticker), ignore_index=True)\n"
     ]
    },
    {
     "name": "stdout",
     "output_type": "stream",
     "text": [
      "{'Ticker': 'ETN'}\n"
     ]
    },
    {
     "name": "stderr",
     "output_type": "stream",
     "text": [
      "/var/folders/n_/367n_sc56lj0q1ddbd82d5qw0000gn/T/ipykernel_2404/2934145278.py:26: FutureWarning: The frame.append method is deprecated and will be removed from pandas in a future version. Use pandas.concat instead.\n",
      "  dfz = dfz.append(fetch_data_for_ticker(ticker), ignore_index=True)\n"
     ]
    },
    {
     "name": "stdout",
     "output_type": "stream",
     "text": [
      "{'Ticker': 'ETR'}\n"
     ]
    },
    {
     "name": "stderr",
     "output_type": "stream",
     "text": [
      "/var/folders/n_/367n_sc56lj0q1ddbd82d5qw0000gn/T/ipykernel_2404/2934145278.py:26: FutureWarning: The frame.append method is deprecated and will be removed from pandas in a future version. Use pandas.concat instead.\n",
      "  dfz = dfz.append(fetch_data_for_ticker(ticker), ignore_index=True)\n"
     ]
    },
    {
     "name": "stdout",
     "output_type": "stream",
     "text": [
      "{'Ticker': 'ETSY'}\n"
     ]
    },
    {
     "name": "stderr",
     "output_type": "stream",
     "text": [
      "/var/folders/n_/367n_sc56lj0q1ddbd82d5qw0000gn/T/ipykernel_2404/2934145278.py:26: FutureWarning: The frame.append method is deprecated and will be removed from pandas in a future version. Use pandas.concat instead.\n",
      "  dfz = dfz.append(fetch_data_for_ticker(ticker), ignore_index=True)\n"
     ]
    },
    {
     "name": "stdout",
     "output_type": "stream",
     "text": [
      "{'Ticker': 'EVR'}\n"
     ]
    },
    {
     "name": "stderr",
     "output_type": "stream",
     "text": [
      "/var/folders/n_/367n_sc56lj0q1ddbd82d5qw0000gn/T/ipykernel_2404/2934145278.py:26: FutureWarning: The frame.append method is deprecated and will be removed from pandas in a future version. Use pandas.concat instead.\n",
      "  dfz = dfz.append(fetch_data_for_ticker(ticker), ignore_index=True)\n"
     ]
    },
    {
     "name": "stdout",
     "output_type": "stream",
     "text": [
      "{'Ticker': 'EVRG'}\n"
     ]
    },
    {
     "name": "stderr",
     "output_type": "stream",
     "text": [
      "/var/folders/n_/367n_sc56lj0q1ddbd82d5qw0000gn/T/ipykernel_2404/2934145278.py:26: FutureWarning: The frame.append method is deprecated and will be removed from pandas in a future version. Use pandas.concat instead.\n",
      "  dfz = dfz.append(fetch_data_for_ticker(ticker), ignore_index=True)\n"
     ]
    },
    {
     "name": "stdout",
     "output_type": "stream",
     "text": [
      "{'Ticker': 'EW'}\n"
     ]
    },
    {
     "name": "stderr",
     "output_type": "stream",
     "text": [
      "/var/folders/n_/367n_sc56lj0q1ddbd82d5qw0000gn/T/ipykernel_2404/2934145278.py:26: FutureWarning: The frame.append method is deprecated and will be removed from pandas in a future version. Use pandas.concat instead.\n",
      "  dfz = dfz.append(fetch_data_for_ticker(ticker), ignore_index=True)\n"
     ]
    },
    {
     "name": "stdout",
     "output_type": "stream",
     "text": [
      "{'Ticker': 'EWBC'}\n"
     ]
    },
    {
     "name": "stderr",
     "output_type": "stream",
     "text": [
      "/var/folders/n_/367n_sc56lj0q1ddbd82d5qw0000gn/T/ipykernel_2404/2934145278.py:26: FutureWarning: The frame.append method is deprecated and will be removed from pandas in a future version. Use pandas.concat instead.\n",
      "  dfz = dfz.append(fetch_data_for_ticker(ticker), ignore_index=True)\n"
     ]
    },
    {
     "name": "stdout",
     "output_type": "stream",
     "text": [
      "{'Ticker': 'EXAS'}\n"
     ]
    },
    {
     "name": "stderr",
     "output_type": "stream",
     "text": [
      "/var/folders/n_/367n_sc56lj0q1ddbd82d5qw0000gn/T/ipykernel_2404/2934145278.py:26: FutureWarning: The frame.append method is deprecated and will be removed from pandas in a future version. Use pandas.concat instead.\n",
      "  dfz = dfz.append(fetch_data_for_ticker(ticker), ignore_index=True)\n"
     ]
    },
    {
     "name": "stdout",
     "output_type": "stream",
     "text": [
      "{'Ticker': 'EXC'}\n"
     ]
    },
    {
     "name": "stderr",
     "output_type": "stream",
     "text": [
      "/var/folders/n_/367n_sc56lj0q1ddbd82d5qw0000gn/T/ipykernel_2404/2934145278.py:26: FutureWarning: The frame.append method is deprecated and will be removed from pandas in a future version. Use pandas.concat instead.\n",
      "  dfz = dfz.append(fetch_data_for_ticker(ticker), ignore_index=True)\n"
     ]
    },
    {
     "name": "stdout",
     "output_type": "stream",
     "text": [
      "{'Ticker': 'EXEL'}\n"
     ]
    },
    {
     "name": "stderr",
     "output_type": "stream",
     "text": [
      "/var/folders/n_/367n_sc56lj0q1ddbd82d5qw0000gn/T/ipykernel_2404/2934145278.py:26: FutureWarning: The frame.append method is deprecated and will be removed from pandas in a future version. Use pandas.concat instead.\n",
      "  dfz = dfz.append(fetch_data_for_ticker(ticker), ignore_index=True)\n"
     ]
    },
    {
     "name": "stdout",
     "output_type": "stream",
     "text": [
      "{'Ticker': 'EXP'}\n"
     ]
    },
    {
     "name": "stderr",
     "output_type": "stream",
     "text": [
      "/var/folders/n_/367n_sc56lj0q1ddbd82d5qw0000gn/T/ipykernel_2404/2934145278.py:26: FutureWarning: The frame.append method is deprecated and will be removed from pandas in a future version. Use pandas.concat instead.\n",
      "  dfz = dfz.append(fetch_data_for_ticker(ticker), ignore_index=True)\n"
     ]
    },
    {
     "name": "stdout",
     "output_type": "stream",
     "text": [
      "{'Ticker': 'EXPD'}\n"
     ]
    },
    {
     "name": "stderr",
     "output_type": "stream",
     "text": [
      "/var/folders/n_/367n_sc56lj0q1ddbd82d5qw0000gn/T/ipykernel_2404/2934145278.py:26: FutureWarning: The frame.append method is deprecated and will be removed from pandas in a future version. Use pandas.concat instead.\n",
      "  dfz = dfz.append(fetch_data_for_ticker(ticker), ignore_index=True)\n"
     ]
    },
    {
     "name": "stdout",
     "output_type": "stream",
     "text": [
      "{'Ticker': 'EXPE'}\n"
     ]
    },
    {
     "name": "stderr",
     "output_type": "stream",
     "text": [
      "/var/folders/n_/367n_sc56lj0q1ddbd82d5qw0000gn/T/ipykernel_2404/2934145278.py:26: FutureWarning: The frame.append method is deprecated and will be removed from pandas in a future version. Use pandas.concat instead.\n",
      "  dfz = dfz.append(fetch_data_for_ticker(ticker), ignore_index=True)\n"
     ]
    },
    {
     "name": "stdout",
     "output_type": "stream",
     "text": [
      "{'Ticker': 'EXR'}\n"
     ]
    },
    {
     "name": "stderr",
     "output_type": "stream",
     "text": [
      "/var/folders/n_/367n_sc56lj0q1ddbd82d5qw0000gn/T/ipykernel_2404/2934145278.py:26: FutureWarning: The frame.append method is deprecated and will be removed from pandas in a future version. Use pandas.concat instead.\n",
      "  dfz = dfz.append(fetch_data_for_ticker(ticker), ignore_index=True)\n"
     ]
    },
    {
     "name": "stdout",
     "output_type": "stream",
     "text": [
      "{'Ticker': 'F'}\n"
     ]
    },
    {
     "name": "stderr",
     "output_type": "stream",
     "text": [
      "/var/folders/n_/367n_sc56lj0q1ddbd82d5qw0000gn/T/ipykernel_2404/2934145278.py:26: FutureWarning: The frame.append method is deprecated and will be removed from pandas in a future version. Use pandas.concat instead.\n",
      "  dfz = dfz.append(fetch_data_for_ticker(ticker), ignore_index=True)\n"
     ]
    },
    {
     "name": "stdout",
     "output_type": "stream",
     "text": [
      "{'Ticker': 'FAF'}\n"
     ]
    },
    {
     "name": "stderr",
     "output_type": "stream",
     "text": [
      "/var/folders/n_/367n_sc56lj0q1ddbd82d5qw0000gn/T/ipykernel_2404/2934145278.py:26: FutureWarning: The frame.append method is deprecated and will be removed from pandas in a future version. Use pandas.concat instead.\n",
      "  dfz = dfz.append(fetch_data_for_ticker(ticker), ignore_index=True)\n"
     ]
    },
    {
     "name": "stdout",
     "output_type": "stream",
     "text": [
      "{'Ticker': 'FANG'}\n"
     ]
    },
    {
     "name": "stderr",
     "output_type": "stream",
     "text": [
      "/var/folders/n_/367n_sc56lj0q1ddbd82d5qw0000gn/T/ipykernel_2404/2934145278.py:26: FutureWarning: The frame.append method is deprecated and will be removed from pandas in a future version. Use pandas.concat instead.\n",
      "  dfz = dfz.append(fetch_data_for_ticker(ticker), ignore_index=True)\n"
     ]
    },
    {
     "name": "stdout",
     "output_type": "stream",
     "text": [
      "{'Ticker': 'FAST'}\n"
     ]
    },
    {
     "name": "stderr",
     "output_type": "stream",
     "text": [
      "/var/folders/n_/367n_sc56lj0q1ddbd82d5qw0000gn/T/ipykernel_2404/2934145278.py:26: FutureWarning: The frame.append method is deprecated and will be removed from pandas in a future version. Use pandas.concat instead.\n",
      "  dfz = dfz.append(fetch_data_for_ticker(ticker), ignore_index=True)\n"
     ]
    },
    {
     "name": "stdout",
     "output_type": "stream",
     "text": [
      "{'Ticker': 'FBIN'}\n"
     ]
    },
    {
     "name": "stderr",
     "output_type": "stream",
     "text": [
      "/var/folders/n_/367n_sc56lj0q1ddbd82d5qw0000gn/T/ipykernel_2404/2934145278.py:26: FutureWarning: The frame.append method is deprecated and will be removed from pandas in a future version. Use pandas.concat instead.\n",
      "  dfz = dfz.append(fetch_data_for_ticker(ticker), ignore_index=True)\n"
     ]
    },
    {
     "name": "stdout",
     "output_type": "stream",
     "text": [
      "{'Ticker': 'FCN'}\n"
     ]
    },
    {
     "name": "stderr",
     "output_type": "stream",
     "text": [
      "/var/folders/n_/367n_sc56lj0q1ddbd82d5qw0000gn/T/ipykernel_2404/2934145278.py:26: FutureWarning: The frame.append method is deprecated and will be removed from pandas in a future version. Use pandas.concat instead.\n",
      "  dfz = dfz.append(fetch_data_for_ticker(ticker), ignore_index=True)\n"
     ]
    },
    {
     "name": "stdout",
     "output_type": "stream",
     "text": [
      "{'Ticker': 'FCNCA'}\n"
     ]
    },
    {
     "name": "stderr",
     "output_type": "stream",
     "text": [
      "/var/folders/n_/367n_sc56lj0q1ddbd82d5qw0000gn/T/ipykernel_2404/2934145278.py:26: FutureWarning: The frame.append method is deprecated and will be removed from pandas in a future version. Use pandas.concat instead.\n",
      "  dfz = dfz.append(fetch_data_for_ticker(ticker), ignore_index=True)\n"
     ]
    },
    {
     "name": "stdout",
     "output_type": "stream",
     "text": [
      "{'Ticker': 'FCX'}\n"
     ]
    },
    {
     "name": "stderr",
     "output_type": "stream",
     "text": [
      "/var/folders/n_/367n_sc56lj0q1ddbd82d5qw0000gn/T/ipykernel_2404/2934145278.py:26: FutureWarning: The frame.append method is deprecated and will be removed from pandas in a future version. Use pandas.concat instead.\n",
      "  dfz = dfz.append(fetch_data_for_ticker(ticker), ignore_index=True)\n"
     ]
    },
    {
     "name": "stdout",
     "output_type": "stream",
     "text": [
      "{'Ticker': 'FDS'}\n"
     ]
    },
    {
     "name": "stderr",
     "output_type": "stream",
     "text": [
      "/var/folders/n_/367n_sc56lj0q1ddbd82d5qw0000gn/T/ipykernel_2404/2934145278.py:26: FutureWarning: The frame.append method is deprecated and will be removed from pandas in a future version. Use pandas.concat instead.\n",
      "  dfz = dfz.append(fetch_data_for_ticker(ticker), ignore_index=True)\n"
     ]
    },
    {
     "name": "stdout",
     "output_type": "stream",
     "text": [
      "{'Ticker': 'FDX'}\n"
     ]
    },
    {
     "name": "stderr",
     "output_type": "stream",
     "text": [
      "/var/folders/n_/367n_sc56lj0q1ddbd82d5qw0000gn/T/ipykernel_2404/2934145278.py:26: FutureWarning: The frame.append method is deprecated and will be removed from pandas in a future version. Use pandas.concat instead.\n",
      "  dfz = dfz.append(fetch_data_for_ticker(ticker), ignore_index=True)\n"
     ]
    },
    {
     "name": "stdout",
     "output_type": "stream",
     "text": [
      "{'Ticker': 'FE'}\n"
     ]
    },
    {
     "name": "stderr",
     "output_type": "stream",
     "text": [
      "/var/folders/n_/367n_sc56lj0q1ddbd82d5qw0000gn/T/ipykernel_2404/2934145278.py:26: FutureWarning: The frame.append method is deprecated and will be removed from pandas in a future version. Use pandas.concat instead.\n",
      "  dfz = dfz.append(fetch_data_for_ticker(ticker), ignore_index=True)\n"
     ]
    },
    {
     "name": "stdout",
     "output_type": "stream",
     "text": [
      "{'Ticker': 'FERG'}\n"
     ]
    },
    {
     "name": "stderr",
     "output_type": "stream",
     "text": [
      "/var/folders/n_/367n_sc56lj0q1ddbd82d5qw0000gn/T/ipykernel_2404/2934145278.py:26: FutureWarning: The frame.append method is deprecated and will be removed from pandas in a future version. Use pandas.concat instead.\n",
      "  dfz = dfz.append(fetch_data_for_ticker(ticker), ignore_index=True)\n"
     ]
    },
    {
     "name": "stdout",
     "output_type": "stream",
     "text": [
      "{'Ticker': 'FFIV'}\n"
     ]
    },
    {
     "name": "stderr",
     "output_type": "stream",
     "text": [
      "/var/folders/n_/367n_sc56lj0q1ddbd82d5qw0000gn/T/ipykernel_2404/2934145278.py:26: FutureWarning: The frame.append method is deprecated and will be removed from pandas in a future version. Use pandas.concat instead.\n",
      "  dfz = dfz.append(fetch_data_for_ticker(ticker), ignore_index=True)\n"
     ]
    },
    {
     "name": "stdout",
     "output_type": "stream",
     "text": [
      "{'Ticker': 'FHB'}\n"
     ]
    },
    {
     "name": "stderr",
     "output_type": "stream",
     "text": [
      "/var/folders/n_/367n_sc56lj0q1ddbd82d5qw0000gn/T/ipykernel_2404/2934145278.py:26: FutureWarning: The frame.append method is deprecated and will be removed from pandas in a future version. Use pandas.concat instead.\n",
      "  dfz = dfz.append(fetch_data_for_ticker(ticker), ignore_index=True)\n"
     ]
    },
    {
     "name": "stdout",
     "output_type": "stream",
     "text": [
      "{'Ticker': 'FHN'}\n"
     ]
    },
    {
     "name": "stderr",
     "output_type": "stream",
     "text": [
      "/var/folders/n_/367n_sc56lj0q1ddbd82d5qw0000gn/T/ipykernel_2404/2934145278.py:26: FutureWarning: The frame.append method is deprecated and will be removed from pandas in a future version. Use pandas.concat instead.\n",
      "  dfz = dfz.append(fetch_data_for_ticker(ticker), ignore_index=True)\n"
     ]
    },
    {
     "name": "stdout",
     "output_type": "stream",
     "text": [
      "{'Ticker': 'FI'}\n"
     ]
    },
    {
     "name": "stderr",
     "output_type": "stream",
     "text": [
      "/var/folders/n_/367n_sc56lj0q1ddbd82d5qw0000gn/T/ipykernel_2404/2934145278.py:26: FutureWarning: The frame.append method is deprecated and will be removed from pandas in a future version. Use pandas.concat instead.\n",
      "  dfz = dfz.append(fetch_data_for_ticker(ticker), ignore_index=True)\n"
     ]
    },
    {
     "name": "stdout",
     "output_type": "stream",
     "text": [
      "{'Ticker': 'FICO'}\n"
     ]
    },
    {
     "name": "stderr",
     "output_type": "stream",
     "text": [
      "/var/folders/n_/367n_sc56lj0q1ddbd82d5qw0000gn/T/ipykernel_2404/2934145278.py:26: FutureWarning: The frame.append method is deprecated and will be removed from pandas in a future version. Use pandas.concat instead.\n",
      "  dfz = dfz.append(fetch_data_for_ticker(ticker), ignore_index=True)\n"
     ]
    },
    {
     "name": "stdout",
     "output_type": "stream",
     "text": [
      "{'Ticker': 'FIS'}\n"
     ]
    },
    {
     "name": "stderr",
     "output_type": "stream",
     "text": [
      "/var/folders/n_/367n_sc56lj0q1ddbd82d5qw0000gn/T/ipykernel_2404/2934145278.py:26: FutureWarning: The frame.append method is deprecated and will be removed from pandas in a future version. Use pandas.concat instead.\n",
      "  dfz = dfz.append(fetch_data_for_ticker(ticker), ignore_index=True)\n"
     ]
    },
    {
     "name": "stdout",
     "output_type": "stream",
     "text": [
      "{'Ticker': 'FITB'}\n"
     ]
    },
    {
     "name": "stderr",
     "output_type": "stream",
     "text": [
      "/var/folders/n_/367n_sc56lj0q1ddbd82d5qw0000gn/T/ipykernel_2404/2934145278.py:26: FutureWarning: The frame.append method is deprecated and will be removed from pandas in a future version. Use pandas.concat instead.\n",
      "  dfz = dfz.append(fetch_data_for_ticker(ticker), ignore_index=True)\n"
     ]
    },
    {
     "name": "stdout",
     "output_type": "stream",
     "text": [
      "{'Ticker': 'FIVE'}\n"
     ]
    },
    {
     "name": "stderr",
     "output_type": "stream",
     "text": [
      "/var/folders/n_/367n_sc56lj0q1ddbd82d5qw0000gn/T/ipykernel_2404/2934145278.py:26: FutureWarning: The frame.append method is deprecated and will be removed from pandas in a future version. Use pandas.concat instead.\n",
      "  dfz = dfz.append(fetch_data_for_ticker(ticker), ignore_index=True)\n"
     ]
    },
    {
     "name": "stdout",
     "output_type": "stream",
     "text": [
      "{'Ticker': 'FIVN'}\n"
     ]
    },
    {
     "name": "stderr",
     "output_type": "stream",
     "text": [
      "/var/folders/n_/367n_sc56lj0q1ddbd82d5qw0000gn/T/ipykernel_2404/2934145278.py:26: FutureWarning: The frame.append method is deprecated and will be removed from pandas in a future version. Use pandas.concat instead.\n",
      "  dfz = dfz.append(fetch_data_for_ticker(ticker), ignore_index=True)\n"
     ]
    },
    {
     "name": "stdout",
     "output_type": "stream",
     "text": [
      "{'Ticker': 'FLO'}\n"
     ]
    },
    {
     "name": "stderr",
     "output_type": "stream",
     "text": [
      "/var/folders/n_/367n_sc56lj0q1ddbd82d5qw0000gn/T/ipykernel_2404/2934145278.py:26: FutureWarning: The frame.append method is deprecated and will be removed from pandas in a future version. Use pandas.concat instead.\n",
      "  dfz = dfz.append(fetch_data_for_ticker(ticker), ignore_index=True)\n"
     ]
    },
    {
     "name": "stdout",
     "output_type": "stream",
     "text": [
      "{'Ticker': 'FLS'}\n"
     ]
    },
    {
     "name": "stderr",
     "output_type": "stream",
     "text": [
      "/var/folders/n_/367n_sc56lj0q1ddbd82d5qw0000gn/T/ipykernel_2404/2934145278.py:26: FutureWarning: The frame.append method is deprecated and will be removed from pandas in a future version. Use pandas.concat instead.\n",
      "  dfz = dfz.append(fetch_data_for_ticker(ticker), ignore_index=True)\n"
     ]
    },
    {
     "name": "stdout",
     "output_type": "stream",
     "text": [
      "{'Ticker': 'FLT'}\n"
     ]
    },
    {
     "name": "stderr",
     "output_type": "stream",
     "text": [
      "/var/folders/n_/367n_sc56lj0q1ddbd82d5qw0000gn/T/ipykernel_2404/2934145278.py:26: FutureWarning: The frame.append method is deprecated and will be removed from pandas in a future version. Use pandas.concat instead.\n",
      "  dfz = dfz.append(fetch_data_for_ticker(ticker), ignore_index=True)\n"
     ]
    },
    {
     "name": "stdout",
     "output_type": "stream",
     "text": [
      "{'Ticker': 'FMC'}\n"
     ]
    },
    {
     "name": "stderr",
     "output_type": "stream",
     "text": [
      "/var/folders/n_/367n_sc56lj0q1ddbd82d5qw0000gn/T/ipykernel_2404/2934145278.py:26: FutureWarning: The frame.append method is deprecated and will be removed from pandas in a future version. Use pandas.concat instead.\n",
      "  dfz = dfz.append(fetch_data_for_ticker(ticker), ignore_index=True)\n"
     ]
    },
    {
     "name": "stdout",
     "output_type": "stream",
     "text": [
      "{'Ticker': 'FNB'}\n"
     ]
    },
    {
     "name": "stderr",
     "output_type": "stream",
     "text": [
      "/var/folders/n_/367n_sc56lj0q1ddbd82d5qw0000gn/T/ipykernel_2404/2934145278.py:26: FutureWarning: The frame.append method is deprecated and will be removed from pandas in a future version. Use pandas.concat instead.\n",
      "  dfz = dfz.append(fetch_data_for_ticker(ticker), ignore_index=True)\n"
     ]
    },
    {
     "name": "stdout",
     "output_type": "stream",
     "text": [
      "{'Ticker': 'FND'}\n"
     ]
    },
    {
     "name": "stderr",
     "output_type": "stream",
     "text": [
      "/var/folders/n_/367n_sc56lj0q1ddbd82d5qw0000gn/T/ipykernel_2404/2934145278.py:26: FutureWarning: The frame.append method is deprecated and will be removed from pandas in a future version. Use pandas.concat instead.\n",
      "  dfz = dfz.append(fetch_data_for_ticker(ticker), ignore_index=True)\n"
     ]
    },
    {
     "name": "stdout",
     "output_type": "stream",
     "text": [
      "{'Ticker': 'FNF'}\n"
     ]
    },
    {
     "name": "stderr",
     "output_type": "stream",
     "text": [
      "/var/folders/n_/367n_sc56lj0q1ddbd82d5qw0000gn/T/ipykernel_2404/2934145278.py:26: FutureWarning: The frame.append method is deprecated and will be removed from pandas in a future version. Use pandas.concat instead.\n",
      "  dfz = dfz.append(fetch_data_for_ticker(ticker), ignore_index=True)\n"
     ]
    },
    {
     "name": "stdout",
     "output_type": "stream",
     "text": [
      "{'Ticker': 'FOUR'}\n"
     ]
    },
    {
     "name": "stderr",
     "output_type": "stream",
     "text": [
      "/var/folders/n_/367n_sc56lj0q1ddbd82d5qw0000gn/T/ipykernel_2404/2934145278.py:26: FutureWarning: The frame.append method is deprecated and will be removed from pandas in a future version. Use pandas.concat instead.\n",
      "  dfz = dfz.append(fetch_data_for_ticker(ticker), ignore_index=True)\n"
     ]
    },
    {
     "name": "stdout",
     "output_type": "stream",
     "text": [
      "{'Ticker': 'FOX'}\n"
     ]
    },
    {
     "name": "stderr",
     "output_type": "stream",
     "text": [
      "/var/folders/n_/367n_sc56lj0q1ddbd82d5qw0000gn/T/ipykernel_2404/2934145278.py:26: FutureWarning: The frame.append method is deprecated and will be removed from pandas in a future version. Use pandas.concat instead.\n",
      "  dfz = dfz.append(fetch_data_for_ticker(ticker), ignore_index=True)\n"
     ]
    },
    {
     "name": "stdout",
     "output_type": "stream",
     "text": [
      "{'Ticker': 'FOXA'}\n"
     ]
    },
    {
     "name": "stderr",
     "output_type": "stream",
     "text": [
      "/var/folders/n_/367n_sc56lj0q1ddbd82d5qw0000gn/T/ipykernel_2404/2934145278.py:26: FutureWarning: The frame.append method is deprecated and will be removed from pandas in a future version. Use pandas.concat instead.\n",
      "  dfz = dfz.append(fetch_data_for_ticker(ticker), ignore_index=True)\n"
     ]
    },
    {
     "name": "stdout",
     "output_type": "stream",
     "text": [
      "{'Ticker': 'FR'}\n"
     ]
    },
    {
     "name": "stderr",
     "output_type": "stream",
     "text": [
      "/var/folders/n_/367n_sc56lj0q1ddbd82d5qw0000gn/T/ipykernel_2404/2934145278.py:26: FutureWarning: The frame.append method is deprecated and will be removed from pandas in a future version. Use pandas.concat instead.\n",
      "  dfz = dfz.append(fetch_data_for_ticker(ticker), ignore_index=True)\n"
     ]
    },
    {
     "name": "stdout",
     "output_type": "stream",
     "text": [
      "{'Ticker': 'FRPT'}\n"
     ]
    },
    {
     "name": "stderr",
     "output_type": "stream",
     "text": [
      "/var/folders/n_/367n_sc56lj0q1ddbd82d5qw0000gn/T/ipykernel_2404/2934145278.py:26: FutureWarning: The frame.append method is deprecated and will be removed from pandas in a future version. Use pandas.concat instead.\n",
      "  dfz = dfz.append(fetch_data_for_ticker(ticker), ignore_index=True)\n"
     ]
    },
    {
     "name": "stdout",
     "output_type": "stream",
     "text": [
      "{'Ticker': 'FRT'}\n"
     ]
    },
    {
     "name": "stderr",
     "output_type": "stream",
     "text": [
      "/var/folders/n_/367n_sc56lj0q1ddbd82d5qw0000gn/T/ipykernel_2404/2934145278.py:26: FutureWarning: The frame.append method is deprecated and will be removed from pandas in a future version. Use pandas.concat instead.\n",
      "  dfz = dfz.append(fetch_data_for_ticker(ticker), ignore_index=True)\n"
     ]
    },
    {
     "name": "stdout",
     "output_type": "stream",
     "text": [
      "{'Ticker': 'FSLR'}\n"
     ]
    },
    {
     "name": "stderr",
     "output_type": "stream",
     "text": [
      "/var/folders/n_/367n_sc56lj0q1ddbd82d5qw0000gn/T/ipykernel_2404/2934145278.py:26: FutureWarning: The frame.append method is deprecated and will be removed from pandas in a future version. Use pandas.concat instead.\n",
      "  dfz = dfz.append(fetch_data_for_ticker(ticker), ignore_index=True)\n"
     ]
    },
    {
     "name": "stdout",
     "output_type": "stream",
     "text": [
      "{'Ticker': 'FTI'}\n"
     ]
    },
    {
     "name": "stderr",
     "output_type": "stream",
     "text": [
      "/var/folders/n_/367n_sc56lj0q1ddbd82d5qw0000gn/T/ipykernel_2404/2934145278.py:26: FutureWarning: The frame.append method is deprecated and will be removed from pandas in a future version. Use pandas.concat instead.\n",
      "  dfz = dfz.append(fetch_data_for_ticker(ticker), ignore_index=True)\n"
     ]
    },
    {
     "name": "stdout",
     "output_type": "stream",
     "text": [
      "{'Ticker': 'FTNT'}\n"
     ]
    },
    {
     "name": "stderr",
     "output_type": "stream",
     "text": [
      "/var/folders/n_/367n_sc56lj0q1ddbd82d5qw0000gn/T/ipykernel_2404/2934145278.py:26: FutureWarning: The frame.append method is deprecated and will be removed from pandas in a future version. Use pandas.concat instead.\n",
      "  dfz = dfz.append(fetch_data_for_ticker(ticker), ignore_index=True)\n"
     ]
    },
    {
     "name": "stdout",
     "output_type": "stream",
     "text": [
      "{'Ticker': 'FTRE'}\n"
     ]
    },
    {
     "name": "stderr",
     "output_type": "stream",
     "text": [
      "/var/folders/n_/367n_sc56lj0q1ddbd82d5qw0000gn/T/ipykernel_2404/2934145278.py:26: FutureWarning: The frame.append method is deprecated and will be removed from pandas in a future version. Use pandas.concat instead.\n",
      "  dfz = dfz.append(fetch_data_for_ticker(ticker), ignore_index=True)\n"
     ]
    },
    {
     "name": "stdout",
     "output_type": "stream",
     "text": [
      "{'Ticker': 'FTV'}\n"
     ]
    },
    {
     "name": "stderr",
     "output_type": "stream",
     "text": [
      "/var/folders/n_/367n_sc56lj0q1ddbd82d5qw0000gn/T/ipykernel_2404/2934145278.py:26: FutureWarning: The frame.append method is deprecated and will be removed from pandas in a future version. Use pandas.concat instead.\n",
      "  dfz = dfz.append(fetch_data_for_ticker(ticker), ignore_index=True)\n"
     ]
    },
    {
     "name": "stdout",
     "output_type": "stream",
     "text": [
      "{'Ticker': 'FWONA'}\n"
     ]
    },
    {
     "name": "stderr",
     "output_type": "stream",
     "text": [
      "/var/folders/n_/367n_sc56lj0q1ddbd82d5qw0000gn/T/ipykernel_2404/2934145278.py:26: FutureWarning: The frame.append method is deprecated and will be removed from pandas in a future version. Use pandas.concat instead.\n",
      "  dfz = dfz.append(fetch_data_for_ticker(ticker), ignore_index=True)\n"
     ]
    },
    {
     "name": "stdout",
     "output_type": "stream",
     "text": [
      "{'Ticker': 'FWONK'}\n"
     ]
    },
    {
     "name": "stderr",
     "output_type": "stream",
     "text": [
      "/var/folders/n_/367n_sc56lj0q1ddbd82d5qw0000gn/T/ipykernel_2404/2934145278.py:26: FutureWarning: The frame.append method is deprecated and will be removed from pandas in a future version. Use pandas.concat instead.\n",
      "  dfz = dfz.append(fetch_data_for_ticker(ticker), ignore_index=True)\n"
     ]
    },
    {
     "name": "stdout",
     "output_type": "stream",
     "text": [
      "{'Ticker': 'FYBR'}\n"
     ]
    },
    {
     "name": "stderr",
     "output_type": "stream",
     "text": [
      "/var/folders/n_/367n_sc56lj0q1ddbd82d5qw0000gn/T/ipykernel_2404/2934145278.py:26: FutureWarning: The frame.append method is deprecated and will be removed from pandas in a future version. Use pandas.concat instead.\n",
      "  dfz = dfz.append(fetch_data_for_ticker(ticker), ignore_index=True)\n"
     ]
    },
    {
     "name": "stdout",
     "output_type": "stream",
     "text": [
      "{'Ticker': 'G'}\n"
     ]
    },
    {
     "name": "stderr",
     "output_type": "stream",
     "text": [
      "/var/folders/n_/367n_sc56lj0q1ddbd82d5qw0000gn/T/ipykernel_2404/2934145278.py:26: FutureWarning: The frame.append method is deprecated and will be removed from pandas in a future version. Use pandas.concat instead.\n",
      "  dfz = dfz.append(fetch_data_for_ticker(ticker), ignore_index=True)\n"
     ]
    },
    {
     "name": "stdout",
     "output_type": "stream",
     "text": [
      "{'Ticker': 'GD'}\n"
     ]
    },
    {
     "name": "stderr",
     "output_type": "stream",
     "text": [
      "/var/folders/n_/367n_sc56lj0q1ddbd82d5qw0000gn/T/ipykernel_2404/2934145278.py:26: FutureWarning: The frame.append method is deprecated and will be removed from pandas in a future version. Use pandas.concat instead.\n",
      "  dfz = dfz.append(fetch_data_for_ticker(ticker), ignore_index=True)\n"
     ]
    },
    {
     "name": "stdout",
     "output_type": "stream",
     "text": [
      "{'Ticker': 'GDDY'}\n"
     ]
    },
    {
     "name": "stderr",
     "output_type": "stream",
     "text": [
      "/var/folders/n_/367n_sc56lj0q1ddbd82d5qw0000gn/T/ipykernel_2404/2934145278.py:26: FutureWarning: The frame.append method is deprecated and will be removed from pandas in a future version. Use pandas.concat instead.\n",
      "  dfz = dfz.append(fetch_data_for_ticker(ticker), ignore_index=True)\n"
     ]
    },
    {
     "name": "stdout",
     "output_type": "stream",
     "text": [
      "{'Ticker': 'GE'}\n"
     ]
    },
    {
     "name": "stderr",
     "output_type": "stream",
     "text": [
      "/var/folders/n_/367n_sc56lj0q1ddbd82d5qw0000gn/T/ipykernel_2404/2934145278.py:26: FutureWarning: The frame.append method is deprecated and will be removed from pandas in a future version. Use pandas.concat instead.\n",
      "  dfz = dfz.append(fetch_data_for_ticker(ticker), ignore_index=True)\n"
     ]
    },
    {
     "name": "stdout",
     "output_type": "stream",
     "text": [
      "{'Ticker': 'GEHC'}\n"
     ]
    },
    {
     "name": "stderr",
     "output_type": "stream",
     "text": [
      "/var/folders/n_/367n_sc56lj0q1ddbd82d5qw0000gn/T/ipykernel_2404/2934145278.py:26: FutureWarning: The frame.append method is deprecated and will be removed from pandas in a future version. Use pandas.concat instead.\n",
      "  dfz = dfz.append(fetch_data_for_ticker(ticker), ignore_index=True)\n"
     ]
    },
    {
     "name": "stdout",
     "output_type": "stream",
     "text": [
      "{'Ticker': 'GEN'}\n"
     ]
    },
    {
     "name": "stderr",
     "output_type": "stream",
     "text": [
      "/var/folders/n_/367n_sc56lj0q1ddbd82d5qw0000gn/T/ipykernel_2404/2934145278.py:26: FutureWarning: The frame.append method is deprecated and will be removed from pandas in a future version. Use pandas.concat instead.\n",
      "  dfz = dfz.append(fetch_data_for_ticker(ticker), ignore_index=True)\n"
     ]
    },
    {
     "name": "stdout",
     "output_type": "stream",
     "text": [
      "{'Ticker': 'GFS'}\n"
     ]
    },
    {
     "name": "stderr",
     "output_type": "stream",
     "text": [
      "/var/folders/n_/367n_sc56lj0q1ddbd82d5qw0000gn/T/ipykernel_2404/2934145278.py:26: FutureWarning: The frame.append method is deprecated and will be removed from pandas in a future version. Use pandas.concat instead.\n",
      "  dfz = dfz.append(fetch_data_for_ticker(ticker), ignore_index=True)\n"
     ]
    },
    {
     "name": "stdout",
     "output_type": "stream",
     "text": [
      "{'Ticker': 'GGG'}\n"
     ]
    },
    {
     "name": "stderr",
     "output_type": "stream",
     "text": [
      "/var/folders/n_/367n_sc56lj0q1ddbd82d5qw0000gn/T/ipykernel_2404/2934145278.py:26: FutureWarning: The frame.append method is deprecated and will be removed from pandas in a future version. Use pandas.concat instead.\n",
      "  dfz = dfz.append(fetch_data_for_ticker(ticker), ignore_index=True)\n"
     ]
    },
    {
     "name": "stdout",
     "output_type": "stream",
     "text": [
      "{'Ticker': 'GILD'}\n"
     ]
    },
    {
     "name": "stderr",
     "output_type": "stream",
     "text": [
      "/var/folders/n_/367n_sc56lj0q1ddbd82d5qw0000gn/T/ipykernel_2404/2934145278.py:26: FutureWarning: The frame.append method is deprecated and will be removed from pandas in a future version. Use pandas.concat instead.\n",
      "  dfz = dfz.append(fetch_data_for_ticker(ticker), ignore_index=True)\n"
     ]
    },
    {
     "name": "stdout",
     "output_type": "stream",
     "text": [
      "{'Ticker': 'GIS'}\n"
     ]
    },
    {
     "name": "stderr",
     "output_type": "stream",
     "text": [
      "/var/folders/n_/367n_sc56lj0q1ddbd82d5qw0000gn/T/ipykernel_2404/2934145278.py:26: FutureWarning: The frame.append method is deprecated and will be removed from pandas in a future version. Use pandas.concat instead.\n",
      "  dfz = dfz.append(fetch_data_for_ticker(ticker), ignore_index=True)\n"
     ]
    },
    {
     "name": "stdout",
     "output_type": "stream",
     "text": [
      "{'Ticker': 'GL'}\n"
     ]
    },
    {
     "name": "stderr",
     "output_type": "stream",
     "text": [
      "/var/folders/n_/367n_sc56lj0q1ddbd82d5qw0000gn/T/ipykernel_2404/2934145278.py:26: FutureWarning: The frame.append method is deprecated and will be removed from pandas in a future version. Use pandas.concat instead.\n",
      "  dfz = dfz.append(fetch_data_for_ticker(ticker), ignore_index=True)\n"
     ]
    },
    {
     "name": "stdout",
     "output_type": "stream",
     "text": [
      "{'Ticker': 'GLOB'}\n"
     ]
    },
    {
     "name": "stderr",
     "output_type": "stream",
     "text": [
      "/var/folders/n_/367n_sc56lj0q1ddbd82d5qw0000gn/T/ipykernel_2404/2934145278.py:26: FutureWarning: The frame.append method is deprecated and will be removed from pandas in a future version. Use pandas.concat instead.\n",
      "  dfz = dfz.append(fetch_data_for_ticker(ticker), ignore_index=True)\n"
     ]
    },
    {
     "name": "stdout",
     "output_type": "stream",
     "text": [
      "{'Ticker': 'GLPI'}\n"
     ]
    },
    {
     "name": "stderr",
     "output_type": "stream",
     "text": [
      "/var/folders/n_/367n_sc56lj0q1ddbd82d5qw0000gn/T/ipykernel_2404/2934145278.py:26: FutureWarning: The frame.append method is deprecated and will be removed from pandas in a future version. Use pandas.concat instead.\n",
      "  dfz = dfz.append(fetch_data_for_ticker(ticker), ignore_index=True)\n"
     ]
    },
    {
     "name": "stdout",
     "output_type": "stream",
     "text": [
      "{'Ticker': 'GLW'}\n"
     ]
    },
    {
     "name": "stderr",
     "output_type": "stream",
     "text": [
      "/var/folders/n_/367n_sc56lj0q1ddbd82d5qw0000gn/T/ipykernel_2404/2934145278.py:26: FutureWarning: The frame.append method is deprecated and will be removed from pandas in a future version. Use pandas.concat instead.\n",
      "  dfz = dfz.append(fetch_data_for_ticker(ticker), ignore_index=True)\n"
     ]
    },
    {
     "name": "stdout",
     "output_type": "stream",
     "text": [
      "{'Ticker': 'GM'}\n"
     ]
    },
    {
     "name": "stderr",
     "output_type": "stream",
     "text": [
      "/var/folders/n_/367n_sc56lj0q1ddbd82d5qw0000gn/T/ipykernel_2404/2934145278.py:26: FutureWarning: The frame.append method is deprecated and will be removed from pandas in a future version. Use pandas.concat instead.\n",
      "  dfz = dfz.append(fetch_data_for_ticker(ticker), ignore_index=True)\n"
     ]
    },
    {
     "name": "stdout",
     "output_type": "stream",
     "text": [
      "{'Ticker': 'GME'}\n"
     ]
    },
    {
     "name": "stderr",
     "output_type": "stream",
     "text": [
      "/var/folders/n_/367n_sc56lj0q1ddbd82d5qw0000gn/T/ipykernel_2404/2934145278.py:26: FutureWarning: The frame.append method is deprecated and will be removed from pandas in a future version. Use pandas.concat instead.\n",
      "  dfz = dfz.append(fetch_data_for_ticker(ticker), ignore_index=True)\n"
     ]
    },
    {
     "name": "stdout",
     "output_type": "stream",
     "text": [
      "{'Ticker': 'GMED'}\n"
     ]
    },
    {
     "name": "stderr",
     "output_type": "stream",
     "text": [
      "/var/folders/n_/367n_sc56lj0q1ddbd82d5qw0000gn/T/ipykernel_2404/2934145278.py:26: FutureWarning: The frame.append method is deprecated and will be removed from pandas in a future version. Use pandas.concat instead.\n",
      "  dfz = dfz.append(fetch_data_for_ticker(ticker), ignore_index=True)\n"
     ]
    },
    {
     "name": "stdout",
     "output_type": "stream",
     "text": [
      "{'Ticker': 'GNRC'}\n"
     ]
    },
    {
     "name": "stderr",
     "output_type": "stream",
     "text": [
      "/var/folders/n_/367n_sc56lj0q1ddbd82d5qw0000gn/T/ipykernel_2404/2934145278.py:26: FutureWarning: The frame.append method is deprecated and will be removed from pandas in a future version. Use pandas.concat instead.\n",
      "  dfz = dfz.append(fetch_data_for_ticker(ticker), ignore_index=True)\n"
     ]
    },
    {
     "name": "stdout",
     "output_type": "stream",
     "text": [
      "{'Ticker': 'GNTX'}\n"
     ]
    },
    {
     "name": "stderr",
     "output_type": "stream",
     "text": [
      "/var/folders/n_/367n_sc56lj0q1ddbd82d5qw0000gn/T/ipykernel_2404/2934145278.py:26: FutureWarning: The frame.append method is deprecated and will be removed from pandas in a future version. Use pandas.concat instead.\n",
      "  dfz = dfz.append(fetch_data_for_ticker(ticker), ignore_index=True)\n"
     ]
    },
    {
     "name": "stdout",
     "output_type": "stream",
     "text": [
      "{'Ticker': 'GO'}\n"
     ]
    },
    {
     "name": "stderr",
     "output_type": "stream",
     "text": [
      "/var/folders/n_/367n_sc56lj0q1ddbd82d5qw0000gn/T/ipykernel_2404/2934145278.py:26: FutureWarning: The frame.append method is deprecated and will be removed from pandas in a future version. Use pandas.concat instead.\n",
      "  dfz = dfz.append(fetch_data_for_ticker(ticker), ignore_index=True)\n"
     ]
    },
    {
     "name": "stdout",
     "output_type": "stream",
     "text": [
      "{'Ticker': 'GOOG'}\n"
     ]
    },
    {
     "name": "stderr",
     "output_type": "stream",
     "text": [
      "/var/folders/n_/367n_sc56lj0q1ddbd82d5qw0000gn/T/ipykernel_2404/2934145278.py:26: FutureWarning: The frame.append method is deprecated and will be removed from pandas in a future version. Use pandas.concat instead.\n",
      "  dfz = dfz.append(fetch_data_for_ticker(ticker), ignore_index=True)\n"
     ]
    },
    {
     "name": "stdout",
     "output_type": "stream",
     "text": [
      "{'Ticker': 'GOOGL'}\n"
     ]
    },
    {
     "name": "stderr",
     "output_type": "stream",
     "text": [
      "/var/folders/n_/367n_sc56lj0q1ddbd82d5qw0000gn/T/ipykernel_2404/2934145278.py:26: FutureWarning: The frame.append method is deprecated and will be removed from pandas in a future version. Use pandas.concat instead.\n",
      "  dfz = dfz.append(fetch_data_for_ticker(ticker), ignore_index=True)\n"
     ]
    },
    {
     "name": "stdout",
     "output_type": "stream",
     "text": [
      "{'Ticker': 'GPC'}\n"
     ]
    },
    {
     "name": "stderr",
     "output_type": "stream",
     "text": [
      "/var/folders/n_/367n_sc56lj0q1ddbd82d5qw0000gn/T/ipykernel_2404/2934145278.py:26: FutureWarning: The frame.append method is deprecated and will be removed from pandas in a future version. Use pandas.concat instead.\n",
      "  dfz = dfz.append(fetch_data_for_ticker(ticker), ignore_index=True)\n"
     ]
    },
    {
     "name": "stdout",
     "output_type": "stream",
     "text": [
      "{'Ticker': 'GPK'}\n"
     ]
    },
    {
     "name": "stderr",
     "output_type": "stream",
     "text": [
      "/var/folders/n_/367n_sc56lj0q1ddbd82d5qw0000gn/T/ipykernel_2404/2934145278.py:26: FutureWarning: The frame.append method is deprecated and will be removed from pandas in a future version. Use pandas.concat instead.\n",
      "  dfz = dfz.append(fetch_data_for_ticker(ticker), ignore_index=True)\n"
     ]
    },
    {
     "name": "stdout",
     "output_type": "stream",
     "text": [
      "{'Ticker': 'GPN'}\n"
     ]
    },
    {
     "name": "stderr",
     "output_type": "stream",
     "text": [
      "/var/folders/n_/367n_sc56lj0q1ddbd82d5qw0000gn/T/ipykernel_2404/2934145278.py:26: FutureWarning: The frame.append method is deprecated and will be removed from pandas in a future version. Use pandas.concat instead.\n",
      "  dfz = dfz.append(fetch_data_for_ticker(ticker), ignore_index=True)\n"
     ]
    },
    {
     "name": "stdout",
     "output_type": "stream",
     "text": [
      "{'Ticker': 'GPS'}\n"
     ]
    },
    {
     "name": "stderr",
     "output_type": "stream",
     "text": [
      "/var/folders/n_/367n_sc56lj0q1ddbd82d5qw0000gn/T/ipykernel_2404/2934145278.py:26: FutureWarning: The frame.append method is deprecated and will be removed from pandas in a future version. Use pandas.concat instead.\n",
      "  dfz = dfz.append(fetch_data_for_ticker(ticker), ignore_index=True)\n"
     ]
    },
    {
     "name": "stdout",
     "output_type": "stream",
     "text": [
      "{'Ticker': 'GRMN'}\n"
     ]
    },
    {
     "name": "stderr",
     "output_type": "stream",
     "text": [
      "/var/folders/n_/367n_sc56lj0q1ddbd82d5qw0000gn/T/ipykernel_2404/2934145278.py:26: FutureWarning: The frame.append method is deprecated and will be removed from pandas in a future version. Use pandas.concat instead.\n",
      "  dfz = dfz.append(fetch_data_for_ticker(ticker), ignore_index=True)\n"
     ]
    },
    {
     "name": "stdout",
     "output_type": "stream",
     "text": [
      "{'Ticker': 'GS'}\n"
     ]
    },
    {
     "name": "stderr",
     "output_type": "stream",
     "text": [
      "/var/folders/n_/367n_sc56lj0q1ddbd82d5qw0000gn/T/ipykernel_2404/2934145278.py:26: FutureWarning: The frame.append method is deprecated and will be removed from pandas in a future version. Use pandas.concat instead.\n",
      "  dfz = dfz.append(fetch_data_for_ticker(ticker), ignore_index=True)\n"
     ]
    },
    {
     "name": "stdout",
     "output_type": "stream",
     "text": [
      "{'Ticker': 'GTES'}\n"
     ]
    },
    {
     "name": "stderr",
     "output_type": "stream",
     "text": [
      "/var/folders/n_/367n_sc56lj0q1ddbd82d5qw0000gn/T/ipykernel_2404/2934145278.py:26: FutureWarning: The frame.append method is deprecated and will be removed from pandas in a future version. Use pandas.concat instead.\n",
      "  dfz = dfz.append(fetch_data_for_ticker(ticker), ignore_index=True)\n"
     ]
    },
    {
     "name": "stdout",
     "output_type": "stream",
     "text": [
      "{'Ticker': 'GTLB'}\n"
     ]
    },
    {
     "name": "stderr",
     "output_type": "stream",
     "text": [
      "/var/folders/n_/367n_sc56lj0q1ddbd82d5qw0000gn/T/ipykernel_2404/2934145278.py:26: FutureWarning: The frame.append method is deprecated and will be removed from pandas in a future version. Use pandas.concat instead.\n",
      "  dfz = dfz.append(fetch_data_for_ticker(ticker), ignore_index=True)\n"
     ]
    },
    {
     "name": "stdout",
     "output_type": "stream",
     "text": [
      "{'Ticker': 'GWRE'}\n"
     ]
    },
    {
     "name": "stderr",
     "output_type": "stream",
     "text": [
      "/var/folders/n_/367n_sc56lj0q1ddbd82d5qw0000gn/T/ipykernel_2404/2934145278.py:26: FutureWarning: The frame.append method is deprecated and will be removed from pandas in a future version. Use pandas.concat instead.\n",
      "  dfz = dfz.append(fetch_data_for_ticker(ticker), ignore_index=True)\n"
     ]
    },
    {
     "name": "stdout",
     "output_type": "stream",
     "text": [
      "{'Ticker': 'GWW'}\n"
     ]
    },
    {
     "name": "stderr",
     "output_type": "stream",
     "text": [
      "/var/folders/n_/367n_sc56lj0q1ddbd82d5qw0000gn/T/ipykernel_2404/2934145278.py:26: FutureWarning: The frame.append method is deprecated and will be removed from pandas in a future version. Use pandas.concat instead.\n",
      "  dfz = dfz.append(fetch_data_for_ticker(ticker), ignore_index=True)\n"
     ]
    },
    {
     "name": "stdout",
     "output_type": "stream",
     "text": [
      "{'Ticker': 'GXO'}\n"
     ]
    },
    {
     "name": "stderr",
     "output_type": "stream",
     "text": [
      "/var/folders/n_/367n_sc56lj0q1ddbd82d5qw0000gn/T/ipykernel_2404/2934145278.py:26: FutureWarning: The frame.append method is deprecated and will be removed from pandas in a future version. Use pandas.concat instead.\n",
      "  dfz = dfz.append(fetch_data_for_ticker(ticker), ignore_index=True)\n"
     ]
    },
    {
     "name": "stdout",
     "output_type": "stream",
     "text": [
      "{'Ticker': 'H'}\n"
     ]
    },
    {
     "name": "stderr",
     "output_type": "stream",
     "text": [
      "/var/folders/n_/367n_sc56lj0q1ddbd82d5qw0000gn/T/ipykernel_2404/2934145278.py:26: FutureWarning: The frame.append method is deprecated and will be removed from pandas in a future version. Use pandas.concat instead.\n",
      "  dfz = dfz.append(fetch_data_for_ticker(ticker), ignore_index=True)\n"
     ]
    },
    {
     "name": "stdout",
     "output_type": "stream",
     "text": [
      "{'Ticker': 'HAL'}\n"
     ]
    },
    {
     "name": "stderr",
     "output_type": "stream",
     "text": [
      "/var/folders/n_/367n_sc56lj0q1ddbd82d5qw0000gn/T/ipykernel_2404/2934145278.py:26: FutureWarning: The frame.append method is deprecated and will be removed from pandas in a future version. Use pandas.concat instead.\n",
      "  dfz = dfz.append(fetch_data_for_ticker(ticker), ignore_index=True)\n"
     ]
    },
    {
     "name": "stdout",
     "output_type": "stream",
     "text": [
      "{'Ticker': 'HAS'}\n"
     ]
    },
    {
     "name": "stderr",
     "output_type": "stream",
     "text": [
      "/var/folders/n_/367n_sc56lj0q1ddbd82d5qw0000gn/T/ipykernel_2404/2934145278.py:26: FutureWarning: The frame.append method is deprecated and will be removed from pandas in a future version. Use pandas.concat instead.\n",
      "  dfz = dfz.append(fetch_data_for_ticker(ticker), ignore_index=True)\n"
     ]
    },
    {
     "name": "stdout",
     "output_type": "stream",
     "text": [
      "{'Ticker': 'HAYW'}\n"
     ]
    },
    {
     "name": "stderr",
     "output_type": "stream",
     "text": [
      "/var/folders/n_/367n_sc56lj0q1ddbd82d5qw0000gn/T/ipykernel_2404/2934145278.py:26: FutureWarning: The frame.append method is deprecated and will be removed from pandas in a future version. Use pandas.concat instead.\n",
      "  dfz = dfz.append(fetch_data_for_ticker(ticker), ignore_index=True)\n"
     ]
    },
    {
     "name": "stdout",
     "output_type": "stream",
     "text": [
      "{'Ticker': 'HBAN'}\n"
     ]
    },
    {
     "name": "stderr",
     "output_type": "stream",
     "text": [
      "/var/folders/n_/367n_sc56lj0q1ddbd82d5qw0000gn/T/ipykernel_2404/2934145278.py:26: FutureWarning: The frame.append method is deprecated and will be removed from pandas in a future version. Use pandas.concat instead.\n",
      "  dfz = dfz.append(fetch_data_for_ticker(ticker), ignore_index=True)\n"
     ]
    },
    {
     "name": "stdout",
     "output_type": "stream",
     "text": [
      "{'Ticker': 'HCA'}\n"
     ]
    },
    {
     "name": "stderr",
     "output_type": "stream",
     "text": [
      "/var/folders/n_/367n_sc56lj0q1ddbd82d5qw0000gn/T/ipykernel_2404/2934145278.py:26: FutureWarning: The frame.append method is deprecated and will be removed from pandas in a future version. Use pandas.concat instead.\n",
      "  dfz = dfz.append(fetch_data_for_ticker(ticker), ignore_index=True)\n"
     ]
    },
    {
     "name": "stdout",
     "output_type": "stream",
     "text": [
      "{'Ticker': 'HCP'}\n"
     ]
    },
    {
     "name": "stderr",
     "output_type": "stream",
     "text": [
      "/var/folders/n_/367n_sc56lj0q1ddbd82d5qw0000gn/T/ipykernel_2404/2934145278.py:26: FutureWarning: The frame.append method is deprecated and will be removed from pandas in a future version. Use pandas.concat instead.\n",
      "  dfz = dfz.append(fetch_data_for_ticker(ticker), ignore_index=True)\n"
     ]
    },
    {
     "name": "stdout",
     "output_type": "stream",
     "text": [
      "{'Ticker': 'HD'}\n"
     ]
    },
    {
     "name": "stderr",
     "output_type": "stream",
     "text": [
      "/var/folders/n_/367n_sc56lj0q1ddbd82d5qw0000gn/T/ipykernel_2404/2934145278.py:26: FutureWarning: The frame.append method is deprecated and will be removed from pandas in a future version. Use pandas.concat instead.\n",
      "  dfz = dfz.append(fetch_data_for_ticker(ticker), ignore_index=True)\n"
     ]
    },
    {
     "name": "stdout",
     "output_type": "stream",
     "text": [
      "{'Ticker': 'HE'}\n"
     ]
    },
    {
     "name": "stderr",
     "output_type": "stream",
     "text": [
      "/var/folders/n_/367n_sc56lj0q1ddbd82d5qw0000gn/T/ipykernel_2404/2934145278.py:26: FutureWarning: The frame.append method is deprecated and will be removed from pandas in a future version. Use pandas.concat instead.\n",
      "  dfz = dfz.append(fetch_data_for_ticker(ticker), ignore_index=True)\n"
     ]
    },
    {
     "name": "stdout",
     "output_type": "stream",
     "text": [
      "{'Ticker': 'HEI'}\n"
     ]
    },
    {
     "name": "stderr",
     "output_type": "stream",
     "text": [
      "/var/folders/n_/367n_sc56lj0q1ddbd82d5qw0000gn/T/ipykernel_2404/2934145278.py:26: FutureWarning: The frame.append method is deprecated and will be removed from pandas in a future version. Use pandas.concat instead.\n",
      "  dfz = dfz.append(fetch_data_for_ticker(ticker), ignore_index=True)\n"
     ]
    },
    {
     "name": "stdout",
     "output_type": "stream",
     "text": [
      "{'Ticker': 'HEI.A'}\n"
     ]
    },
    {
     "name": "stderr",
     "output_type": "stream",
     "text": [
      "/var/folders/n_/367n_sc56lj0q1ddbd82d5qw0000gn/T/ipykernel_2404/2934145278.py:26: FutureWarning: The frame.append method is deprecated and will be removed from pandas in a future version. Use pandas.concat instead.\n",
      "  dfz = dfz.append(fetch_data_for_ticker(ticker), ignore_index=True)\n"
     ]
    },
    {
     "name": "stdout",
     "output_type": "stream",
     "text": [
      "{'Ticker': 'HES'}\n"
     ]
    },
    {
     "name": "stderr",
     "output_type": "stream",
     "text": [
      "/var/folders/n_/367n_sc56lj0q1ddbd82d5qw0000gn/T/ipykernel_2404/2934145278.py:26: FutureWarning: The frame.append method is deprecated and will be removed from pandas in a future version. Use pandas.concat instead.\n",
      "  dfz = dfz.append(fetch_data_for_ticker(ticker), ignore_index=True)\n"
     ]
    },
    {
     "name": "stdout",
     "output_type": "stream",
     "text": [
      "{'Ticker': 'HHH'}\n"
     ]
    },
    {
     "name": "stderr",
     "output_type": "stream",
     "text": [
      "/var/folders/n_/367n_sc56lj0q1ddbd82d5qw0000gn/T/ipykernel_2404/2934145278.py:26: FutureWarning: The frame.append method is deprecated and will be removed from pandas in a future version. Use pandas.concat instead.\n",
      "  dfz = dfz.append(fetch_data_for_ticker(ticker), ignore_index=True)\n"
     ]
    },
    {
     "name": "stdout",
     "output_type": "stream",
     "text": [
      "{'Ticker': 'HIG'}\n"
     ]
    },
    {
     "name": "stderr",
     "output_type": "stream",
     "text": [
      "/var/folders/n_/367n_sc56lj0q1ddbd82d5qw0000gn/T/ipykernel_2404/2934145278.py:26: FutureWarning: The frame.append method is deprecated and will be removed from pandas in a future version. Use pandas.concat instead.\n",
      "  dfz = dfz.append(fetch_data_for_ticker(ticker), ignore_index=True)\n"
     ]
    },
    {
     "name": "stdout",
     "output_type": "stream",
     "text": [
      "{'Ticker': 'HII'}\n"
     ]
    },
    {
     "name": "stderr",
     "output_type": "stream",
     "text": [
      "/var/folders/n_/367n_sc56lj0q1ddbd82d5qw0000gn/T/ipykernel_2404/2934145278.py:26: FutureWarning: The frame.append method is deprecated and will be removed from pandas in a future version. Use pandas.concat instead.\n",
      "  dfz = dfz.append(fetch_data_for_ticker(ticker), ignore_index=True)\n"
     ]
    },
    {
     "name": "stdout",
     "output_type": "stream",
     "text": [
      "{'Ticker': 'HIW'}\n"
     ]
    },
    {
     "name": "stderr",
     "output_type": "stream",
     "text": [
      "/var/folders/n_/367n_sc56lj0q1ddbd82d5qw0000gn/T/ipykernel_2404/2934145278.py:26: FutureWarning: The frame.append method is deprecated and will be removed from pandas in a future version. Use pandas.concat instead.\n",
      "  dfz = dfz.append(fetch_data_for_ticker(ticker), ignore_index=True)\n"
     ]
    },
    {
     "name": "stdout",
     "output_type": "stream",
     "text": [
      "{'Ticker': 'HLI'}\n"
     ]
    },
    {
     "name": "stderr",
     "output_type": "stream",
     "text": [
      "/var/folders/n_/367n_sc56lj0q1ddbd82d5qw0000gn/T/ipykernel_2404/2934145278.py:26: FutureWarning: The frame.append method is deprecated and will be removed from pandas in a future version. Use pandas.concat instead.\n",
      "  dfz = dfz.append(fetch_data_for_ticker(ticker), ignore_index=True)\n"
     ]
    },
    {
     "name": "stdout",
     "output_type": "stream",
     "text": [
      "{'Ticker': 'HLT'}\n"
     ]
    },
    {
     "name": "stderr",
     "output_type": "stream",
     "text": [
      "/var/folders/n_/367n_sc56lj0q1ddbd82d5qw0000gn/T/ipykernel_2404/2934145278.py:26: FutureWarning: The frame.append method is deprecated and will be removed from pandas in a future version. Use pandas.concat instead.\n",
      "  dfz = dfz.append(fetch_data_for_ticker(ticker), ignore_index=True)\n"
     ]
    },
    {
     "name": "stdout",
     "output_type": "stream",
     "text": [
      "{'Ticker': 'HOG'}\n"
     ]
    },
    {
     "name": "stderr",
     "output_type": "stream",
     "text": [
      "/var/folders/n_/367n_sc56lj0q1ddbd82d5qw0000gn/T/ipykernel_2404/2934145278.py:26: FutureWarning: The frame.append method is deprecated and will be removed from pandas in a future version. Use pandas.concat instead.\n",
      "  dfz = dfz.append(fetch_data_for_ticker(ticker), ignore_index=True)\n"
     ]
    },
    {
     "name": "stdout",
     "output_type": "stream",
     "text": [
      "{'Ticker': 'HOLX'}\n"
     ]
    },
    {
     "name": "stderr",
     "output_type": "stream",
     "text": [
      "/var/folders/n_/367n_sc56lj0q1ddbd82d5qw0000gn/T/ipykernel_2404/2934145278.py:26: FutureWarning: The frame.append method is deprecated and will be removed from pandas in a future version. Use pandas.concat instead.\n",
      "  dfz = dfz.append(fetch_data_for_ticker(ticker), ignore_index=True)\n"
     ]
    },
    {
     "name": "stdout",
     "output_type": "stream",
     "text": [
      "{'Ticker': 'HON'}\n"
     ]
    },
    {
     "name": "stderr",
     "output_type": "stream",
     "text": [
      "/var/folders/n_/367n_sc56lj0q1ddbd82d5qw0000gn/T/ipykernel_2404/2934145278.py:26: FutureWarning: The frame.append method is deprecated and will be removed from pandas in a future version. Use pandas.concat instead.\n",
      "  dfz = dfz.append(fetch_data_for_ticker(ticker), ignore_index=True)\n"
     ]
    },
    {
     "name": "stdout",
     "output_type": "stream",
     "text": [
      "{'Ticker': 'HOOD'}\n"
     ]
    },
    {
     "name": "stderr",
     "output_type": "stream",
     "text": [
      "/var/folders/n_/367n_sc56lj0q1ddbd82d5qw0000gn/T/ipykernel_2404/2934145278.py:26: FutureWarning: The frame.append method is deprecated and will be removed from pandas in a future version. Use pandas.concat instead.\n",
      "  dfz = dfz.append(fetch_data_for_ticker(ticker), ignore_index=True)\n"
     ]
    },
    {
     "name": "stdout",
     "output_type": "stream",
     "text": [
      "{'Ticker': 'HPE'}\n"
     ]
    },
    {
     "name": "stderr",
     "output_type": "stream",
     "text": [
      "/var/folders/n_/367n_sc56lj0q1ddbd82d5qw0000gn/T/ipykernel_2404/2934145278.py:26: FutureWarning: The frame.append method is deprecated and will be removed from pandas in a future version. Use pandas.concat instead.\n",
      "  dfz = dfz.append(fetch_data_for_ticker(ticker), ignore_index=True)\n"
     ]
    },
    {
     "name": "stdout",
     "output_type": "stream",
     "text": [
      "{'Ticker': 'HPQ'}\n"
     ]
    },
    {
     "name": "stderr",
     "output_type": "stream",
     "text": [
      "/var/folders/n_/367n_sc56lj0q1ddbd82d5qw0000gn/T/ipykernel_2404/2934145278.py:26: FutureWarning: The frame.append method is deprecated and will be removed from pandas in a future version. Use pandas.concat instead.\n",
      "  dfz = dfz.append(fetch_data_for_ticker(ticker), ignore_index=True)\n"
     ]
    },
    {
     "name": "stdout",
     "output_type": "stream",
     "text": [
      "{'Ticker': 'HR'}\n"
     ]
    },
    {
     "name": "stderr",
     "output_type": "stream",
     "text": [
      "/var/folders/n_/367n_sc56lj0q1ddbd82d5qw0000gn/T/ipykernel_2404/2934145278.py:26: FutureWarning: The frame.append method is deprecated and will be removed from pandas in a future version. Use pandas.concat instead.\n",
      "  dfz = dfz.append(fetch_data_for_ticker(ticker), ignore_index=True)\n"
     ]
    },
    {
     "name": "stdout",
     "output_type": "stream",
     "text": [
      "{'Ticker': 'HRB'}\n"
     ]
    },
    {
     "name": "stderr",
     "output_type": "stream",
     "text": [
      "/var/folders/n_/367n_sc56lj0q1ddbd82d5qw0000gn/T/ipykernel_2404/2934145278.py:26: FutureWarning: The frame.append method is deprecated and will be removed from pandas in a future version. Use pandas.concat instead.\n",
      "  dfz = dfz.append(fetch_data_for_ticker(ticker), ignore_index=True)\n"
     ]
    },
    {
     "name": "stdout",
     "output_type": "stream",
     "text": [
      "{'Ticker': 'HRL'}\n"
     ]
    },
    {
     "name": "stderr",
     "output_type": "stream",
     "text": [
      "/var/folders/n_/367n_sc56lj0q1ddbd82d5qw0000gn/T/ipykernel_2404/2934145278.py:26: FutureWarning: The frame.append method is deprecated and will be removed from pandas in a future version. Use pandas.concat instead.\n",
      "  dfz = dfz.append(fetch_data_for_ticker(ticker), ignore_index=True)\n"
     ]
    },
    {
     "name": "stdout",
     "output_type": "stream",
     "text": [
      "{'Ticker': 'HSIC'}\n"
     ]
    },
    {
     "name": "stderr",
     "output_type": "stream",
     "text": [
      "/var/folders/n_/367n_sc56lj0q1ddbd82d5qw0000gn/T/ipykernel_2404/2934145278.py:26: FutureWarning: The frame.append method is deprecated and will be removed from pandas in a future version. Use pandas.concat instead.\n",
      "  dfz = dfz.append(fetch_data_for_ticker(ticker), ignore_index=True)\n"
     ]
    },
    {
     "name": "stdout",
     "output_type": "stream",
     "text": [
      "{'Ticker': 'HST'}\n"
     ]
    },
    {
     "name": "stderr",
     "output_type": "stream",
     "text": [
      "/var/folders/n_/367n_sc56lj0q1ddbd82d5qw0000gn/T/ipykernel_2404/2934145278.py:26: FutureWarning: The frame.append method is deprecated and will be removed from pandas in a future version. Use pandas.concat instead.\n",
      "  dfz = dfz.append(fetch_data_for_ticker(ticker), ignore_index=True)\n"
     ]
    },
    {
     "name": "stdout",
     "output_type": "stream",
     "text": [
      "{'Ticker': 'HSY'}\n"
     ]
    },
    {
     "name": "stderr",
     "output_type": "stream",
     "text": [
      "/var/folders/n_/367n_sc56lj0q1ddbd82d5qw0000gn/T/ipykernel_2404/2934145278.py:26: FutureWarning: The frame.append method is deprecated and will be removed from pandas in a future version. Use pandas.concat instead.\n",
      "  dfz = dfz.append(fetch_data_for_ticker(ticker), ignore_index=True)\n"
     ]
    },
    {
     "name": "stdout",
     "output_type": "stream",
     "text": [
      "{'Ticker': 'HTZ'}\n"
     ]
    },
    {
     "name": "stderr",
     "output_type": "stream",
     "text": [
      "/var/folders/n_/367n_sc56lj0q1ddbd82d5qw0000gn/T/ipykernel_2404/2934145278.py:26: FutureWarning: The frame.append method is deprecated and will be removed from pandas in a future version. Use pandas.concat instead.\n",
      "  dfz = dfz.append(fetch_data_for_ticker(ticker), ignore_index=True)\n"
     ]
    },
    {
     "name": "stdout",
     "output_type": "stream",
     "text": [
      "{'Ticker': 'HUBB'}\n"
     ]
    },
    {
     "name": "stderr",
     "output_type": "stream",
     "text": [
      "/var/folders/n_/367n_sc56lj0q1ddbd82d5qw0000gn/T/ipykernel_2404/2934145278.py:26: FutureWarning: The frame.append method is deprecated and will be removed from pandas in a future version. Use pandas.concat instead.\n",
      "  dfz = dfz.append(fetch_data_for_ticker(ticker), ignore_index=True)\n"
     ]
    },
    {
     "name": "stdout",
     "output_type": "stream",
     "text": [
      "{'Ticker': 'HUBS'}\n"
     ]
    },
    {
     "name": "stderr",
     "output_type": "stream",
     "text": [
      "/var/folders/n_/367n_sc56lj0q1ddbd82d5qw0000gn/T/ipykernel_2404/2934145278.py:26: FutureWarning: The frame.append method is deprecated and will be removed from pandas in a future version. Use pandas.concat instead.\n",
      "  dfz = dfz.append(fetch_data_for_ticker(ticker), ignore_index=True)\n"
     ]
    },
    {
     "name": "stdout",
     "output_type": "stream",
     "text": [
      "{'Ticker': 'HUM'}\n"
     ]
    },
    {
     "name": "stderr",
     "output_type": "stream",
     "text": [
      "/var/folders/n_/367n_sc56lj0q1ddbd82d5qw0000gn/T/ipykernel_2404/2934145278.py:26: FutureWarning: The frame.append method is deprecated and will be removed from pandas in a future version. Use pandas.concat instead.\n",
      "  dfz = dfz.append(fetch_data_for_ticker(ticker), ignore_index=True)\n"
     ]
    },
    {
     "name": "stdout",
     "output_type": "stream",
     "text": [
      "{'Ticker': 'HUN'}\n"
     ]
    },
    {
     "name": "stderr",
     "output_type": "stream",
     "text": [
      "/var/folders/n_/367n_sc56lj0q1ddbd82d5qw0000gn/T/ipykernel_2404/2934145278.py:26: FutureWarning: The frame.append method is deprecated and will be removed from pandas in a future version. Use pandas.concat instead.\n",
      "  dfz = dfz.append(fetch_data_for_ticker(ticker), ignore_index=True)\n"
     ]
    },
    {
     "name": "stdout",
     "output_type": "stream",
     "text": [
      "{'Ticker': 'HWM'}\n"
     ]
    },
    {
     "name": "stderr",
     "output_type": "stream",
     "text": [
      "/var/folders/n_/367n_sc56lj0q1ddbd82d5qw0000gn/T/ipykernel_2404/2934145278.py:26: FutureWarning: The frame.append method is deprecated and will be removed from pandas in a future version. Use pandas.concat instead.\n",
      "  dfz = dfz.append(fetch_data_for_ticker(ticker), ignore_index=True)\n"
     ]
    },
    {
     "name": "stdout",
     "output_type": "stream",
     "text": [
      "{'Ticker': 'HXL'}\n"
     ]
    },
    {
     "name": "stderr",
     "output_type": "stream",
     "text": [
      "/var/folders/n_/367n_sc56lj0q1ddbd82d5qw0000gn/T/ipykernel_2404/2934145278.py:26: FutureWarning: The frame.append method is deprecated and will be removed from pandas in a future version. Use pandas.concat instead.\n",
      "  dfz = dfz.append(fetch_data_for_ticker(ticker), ignore_index=True)\n"
     ]
    },
    {
     "name": "stdout",
     "output_type": "stream",
     "text": [
      "{'Ticker': 'IAC'}\n"
     ]
    },
    {
     "name": "stderr",
     "output_type": "stream",
     "text": [
      "/var/folders/n_/367n_sc56lj0q1ddbd82d5qw0000gn/T/ipykernel_2404/2934145278.py:26: FutureWarning: The frame.append method is deprecated and will be removed from pandas in a future version. Use pandas.concat instead.\n",
      "  dfz = dfz.append(fetch_data_for_ticker(ticker), ignore_index=True)\n"
     ]
    },
    {
     "name": "stdout",
     "output_type": "stream",
     "text": [
      "{'Ticker': 'IART'}\n"
     ]
    },
    {
     "name": "stderr",
     "output_type": "stream",
     "text": [
      "/var/folders/n_/367n_sc56lj0q1ddbd82d5qw0000gn/T/ipykernel_2404/2934145278.py:26: FutureWarning: The frame.append method is deprecated and will be removed from pandas in a future version. Use pandas.concat instead.\n",
      "  dfz = dfz.append(fetch_data_for_ticker(ticker), ignore_index=True)\n"
     ]
    },
    {
     "ename": "KeyboardInterrupt",
     "evalue": "",
     "output_type": "error",
     "traceback": [
      "\u001b[0;31m---------------------------------------------------------------------------\u001b[0m",
      "\u001b[0;31mKeyboardInterrupt\u001b[0m                         Traceback (most recent call last)",
      "\u001b[0;32m/var/folders/n_/367n_sc56lj0q1ddbd82d5qw0000gn/T/ipykernel_2404/2934145278.py\u001b[0m in \u001b[0;36m<module>\u001b[0;34m\u001b[0m\n\u001b[1;32m     25\u001b[0m \u001b[0;32mfor\u001b[0m \u001b[0mticker\u001b[0m \u001b[0;32min\u001b[0m \u001b[0mtickers\u001b[0m\u001b[0;34m[\u001b[0m\u001b[0;36m156\u001b[0m\u001b[0;34m:\u001b[0m\u001b[0;34m]\u001b[0m\u001b[0;34m:\u001b[0m\u001b[0;34m\u001b[0m\u001b[0;34m\u001b[0m\u001b[0m\n\u001b[1;32m     26\u001b[0m     \u001b[0mdfz\u001b[0m \u001b[0;34m=\u001b[0m \u001b[0mdfz\u001b[0m\u001b[0;34m.\u001b[0m\u001b[0mappend\u001b[0m\u001b[0;34m(\u001b[0m\u001b[0mfetch_data_for_ticker\u001b[0m\u001b[0;34m(\u001b[0m\u001b[0mticker\u001b[0m\u001b[0;34m)\u001b[0m\u001b[0;34m,\u001b[0m \u001b[0mignore_index\u001b[0m\u001b[0;34m=\u001b[0m\u001b[0;32mTrue\u001b[0m\u001b[0;34m)\u001b[0m\u001b[0;34m\u001b[0m\u001b[0;34m\u001b[0m\u001b[0m\n\u001b[0;32m---> 27\u001b[0;31m     \u001b[0mtime\u001b[0m\u001b[0;34m.\u001b[0m\u001b[0msleep\u001b[0m\u001b[0;34m(\u001b[0m\u001b[0;36m15\u001b[0m\u001b[0;34m)\u001b[0m\u001b[0;34m\u001b[0m\u001b[0;34m\u001b[0m\u001b[0m\n\u001b[0m",
      "\u001b[0;31mKeyboardInterrupt\u001b[0m: "
     ]
    }
   ],
   "source": [
    "API_KEY = 'T4OUVH0IXFEKGNJA'\n",
    "\n",
    "def fetch_data_for_ticker(ticker):\n",
    "    data_dict = {'Ticker': ticker}\n",
    "    \n",
    "    monthly_adjusted_series = {}\n",
    "    income_endpoint = f\"https://www.alphavantage.co/query?function=INCOME_STATEMENT&symbol={ticker}&apikey={API_KEY}\"\n",
    "    response = requests.get(income_endpoint)\n",
    "    income_data = response.json()\n",
    "    \n",
    "    if 'quarterlyReports' in income_data:\n",
    "        quarterly_reports = income_data['quarterlyReports']\n",
    "        # Modified start and stop points for the range\n",
    "        start, stop = 8, 16\n",
    "        for i in range(start, min(stop, len(quarterly_reports))): \n",
    "            # Label them as Q9_NetIncome to Q16_NetIncome\n",
    "            quarter_key = f\"Q{i+1}_NetIncome\"\n",
    "            data_dict[quarter_key] = quarterly_reports[i]['netIncome']\n",
    "          \n",
    "    print(data_dict)\n",
    "    return data_dict\n",
    "\n",
    "dfz = pd.DataFrame()\n",
    "\n",
    "for ticker in tickers[182:]:\n",
    "    dfz = dfz.append(fetch_data_for_ticker(ticker), ignore_index=True)\n",
    "    time.sleep(15)\n"
   ]
  },
  {
   "cell_type": "code",
   "execution_count": 238,
   "id": "58ede5cb-23be-484c-877a-465b68a4245c",
   "metadata": {
    "jupyter": {
     "source_hidden": true
    },
    "tags": []
   },
   "outputs": [],
   "source": [
    "#df1 = dfz\n",
    "#df2 = dfz\n",
    "#df3 = dfz\n",
    "#df4 = dfz\n",
    "#df5 = dfz\n",
    "#df6 = dfz\n",
    "#df7 = dfz\n",
    "#df8 = dfz\n",
    "#df9 = dfz\n",
    "#df10 = dfz\n",
    "#df11 = dfz\n",
    "#df12 = dfz\n",
    "#df13 = dfz\n",
    "#df14 = dfz\n",
    "#df15 = dfz\n",
    "#df16 = dfz\n",
    "#df17 = dfz\n",
    "#df18 = dfz\n",
    "#df19 = dfz"
   ]
  },
  {
   "cell_type": "code",
   "execution_count": 239,
   "id": "66c33376-1ff7-4466-bc6e-7d24acee6235",
   "metadata": {
    "collapsed": true,
    "jupyter": {
     "outputs_hidden": true,
     "source_hidden": true
    },
    "tags": []
   },
   "outputs": [
    {
     "data": {
      "text/plain": [
       "((25, 9),\n",
       " (25, 9),\n",
       " (26, 9),\n",
       " (26, 9),\n",
       " (26, 9),\n",
       " (26, 9),\n",
       " (26, 9),\n",
       " (26, 9),\n",
       " (26, 9),\n",
       " (26, 9),\n",
       " (26, 9),\n",
       " (26, 9),\n",
       " (26, 9),\n",
       " (26, 9),\n",
       " (26, 9),\n",
       " (25, 9),\n",
       " (26, 9),\n",
       " (26, 9),\n",
       " (33, 9))"
      ]
     },
     "execution_count": 239,
     "metadata": {},
     "output_type": "execute_result"
    }
   ],
   "source": [
    "(df1.shape, df2.shape, df3.shape, df4.shape, df5.shape,\n",
    " df6.shape, df7.shape, df8.shape, df9.shape, df10.shape,\n",
    " df11.shape, df12.shape, df13.shape, df14.shape, df15.shape,\n",
    " df16.shape, df17.shape, df18.shape, df19.shape)"
   ]
  },
  {
   "cell_type": "code",
   "execution_count": 83,
   "id": "0175bf91-0c4f-466f-b3e1-2b9c7bfb7056",
   "metadata": {},
   "outputs": [],
   "source": [
    "#df1 = dfz\n",
    "#df2 = dfz\n",
    "#df3 = dfz\n",
    "#df4 = dfz\n",
    "#df5 = dfz\n",
    "#df6 = dfz\n",
    "df7 = dfz"
   ]
  },
  {
   "cell_type": "code",
   "execution_count": 95,
   "id": "2b163bea-008f-48c2-b563-a883aa30f619",
   "metadata": {},
   "outputs": [],
   "source": [
    "df7 = df7.iloc[:-4]"
   ]
  },
  {
   "cell_type": "code",
   "execution_count": 96,
   "id": "6c8833a5-1f5d-4a35-b664-0c975367ca3f",
   "metadata": {},
   "outputs": [
    {
     "data": {
      "text/html": [
       "<div>\n",
       "<style scoped>\n",
       "    .dataframe tbody tr th:only-of-type {\n",
       "        vertical-align: middle;\n",
       "    }\n",
       "\n",
       "    .dataframe tbody tr th {\n",
       "        vertical-align: top;\n",
       "    }\n",
       "\n",
       "    .dataframe thead th {\n",
       "        text-align: right;\n",
       "    }\n",
       "</style>\n",
       "<table border=\"1\" class=\"dataframe\">\n",
       "  <thead>\n",
       "    <tr style=\"text-align: right;\">\n",
       "      <th></th>\n",
       "      <th>Ticker</th>\n",
       "      <th>Q9_NetIncome</th>\n",
       "      <th>Q10_NetIncome</th>\n",
       "      <th>Q11_NetIncome</th>\n",
       "      <th>Q12_NetIncome</th>\n",
       "      <th>Q13_NetIncome</th>\n",
       "      <th>Q14_NetIncome</th>\n",
       "      <th>Q15_NetIncome</th>\n",
       "      <th>Q16_NetIncome</th>\n",
       "    </tr>\n",
       "  </thead>\n",
       "  <tbody>\n",
       "    <tr>\n",
       "      <th>16</th>\n",
       "      <td>CFR</td>\n",
       "      <td>118068000</td>\n",
       "      <td>116015000</td>\n",
       "      <td>88270000</td>\n",
       "      <td>95056000</td>\n",
       "      <td>93072000</td>\n",
       "      <td>54753000</td>\n",
       "      <td>103681000</td>\n",
       "      <td>111836000</td>\n",
       "    </tr>\n",
       "    <tr>\n",
       "      <th>17</th>\n",
       "      <td>CG</td>\n",
       "      <td>925000000</td>\n",
       "      <td>869300000</td>\n",
       "      <td>518800000</td>\n",
       "      <td>295500000</td>\n",
       "      <td>145900000</td>\n",
       "      <td>-612000000</td>\n",
       "      <td>-8300000</td>\n",
       "      <td>92200000</td>\n",
       "    </tr>\n",
       "    <tr>\n",
       "      <th>18</th>\n",
       "      <td>CGNX</td>\n",
       "      <td>77598000</td>\n",
       "      <td>69848000</td>\n",
       "      <td>69345000</td>\n",
       "      <td>87506000</td>\n",
       "      <td>-1142000</td>\n",
       "      <td>20477000</td>\n",
       "      <td>80327000</td>\n",
       "      <td>41685000</td>\n",
       "    </tr>\n",
       "    <tr>\n",
       "      <th>19</th>\n",
       "      <td>CHD</td>\n",
       "      <td>218300000</td>\n",
       "      <td>220700000</td>\n",
       "      <td>150200000</td>\n",
       "      <td>216200000</td>\n",
       "      <td>189700000</td>\n",
       "      <td>229800000</td>\n",
       "      <td>144400000</td>\n",
       "      <td>157300000</td>\n",
       "    </tr>\n",
       "    <tr>\n",
       "      <th>20</th>\n",
       "      <td>CHDN</td>\n",
       "      <td>61400000</td>\n",
       "      <td>108300000</td>\n",
       "      <td>36100000</td>\n",
       "      <td>17100000</td>\n",
       "      <td>43200000</td>\n",
       "      <td>-118800000</td>\n",
       "      <td>-23400000</td>\n",
       "      <td>4000000</td>\n",
       "    </tr>\n",
       "    <tr>\n",
       "      <th>21</th>\n",
       "      <td>CHE</td>\n",
       "      <td>56522000</td>\n",
       "      <td>65400000</td>\n",
       "      <td>113752000</td>\n",
       "      <td>67722000</td>\n",
       "      <td>82101000</td>\n",
       "      <td>55891000</td>\n",
       "      <td>65580000</td>\n",
       "      <td>58947000</td>\n",
       "    </tr>\n",
       "    <tr>\n",
       "      <th>22</th>\n",
       "      <td>CHH</td>\n",
       "      <td>85882000</td>\n",
       "      <td>22337000</td>\n",
       "      <td>7865000</td>\n",
       "      <td>14500000</td>\n",
       "      <td>-2441000</td>\n",
       "      <td>55463000</td>\n",
       "      <td>42169000</td>\n",
       "      <td>76239000</td>\n",
       "    </tr>\n",
       "    <tr>\n",
       "      <th>23</th>\n",
       "      <td>CHK</td>\n",
       "      <td>-439000000</td>\n",
       "      <td>295000000</td>\n",
       "      <td>-416000000</td>\n",
       "      <td>-745000000</td>\n",
       "      <td>-276000000</td>\n",
       "      <td>-8297000000</td>\n",
       "      <td>-324000000</td>\n",
       "      <td>-61000000</td>\n",
       "    </tr>\n",
       "    <tr>\n",
       "      <th>24</th>\n",
       "      <td>CHPT</td>\n",
       "      <td>-84938000</td>\n",
       "      <td>82289000</td>\n",
       "      <td>-255465316</td>\n",
       "      <td>100124231</td>\n",
       "      <td>-40890000</td>\n",
       "      <td>-792915</td>\n",
       "      <td>-35287000</td>\n",
       "      <td>-124174</td>\n",
       "    </tr>\n",
       "    <tr>\n",
       "      <th>25</th>\n",
       "      <td>CHRW</td>\n",
       "      <td>193789000</td>\n",
       "      <td>173305000</td>\n",
       "      <td>147807000</td>\n",
       "      <td>136529000</td>\n",
       "      <td>143939000</td>\n",
       "      <td>78146000</td>\n",
       "      <td>99106000</td>\n",
       "      <td>146894000</td>\n",
       "    </tr>\n",
       "  </tbody>\n",
       "</table>\n",
       "</div>"
      ],
      "text/plain": [
       "   Ticker Q9_NetIncome Q10_NetIncome Q11_NetIncome Q12_NetIncome  \\\n",
       "16    CFR    118068000     116015000      88270000      95056000   \n",
       "17     CG    925000000     869300000     518800000     295500000   \n",
       "18   CGNX     77598000      69848000      69345000      87506000   \n",
       "19    CHD    218300000     220700000     150200000     216200000   \n",
       "20   CHDN     61400000     108300000      36100000      17100000   \n",
       "21    CHE     56522000      65400000     113752000      67722000   \n",
       "22    CHH     85882000      22337000       7865000      14500000   \n",
       "23    CHK   -439000000     295000000    -416000000    -745000000   \n",
       "24   CHPT    -84938000      82289000    -255465316     100124231   \n",
       "25   CHRW    193789000     173305000     147807000     136529000   \n",
       "\n",
       "   Q13_NetIncome Q14_NetIncome Q15_NetIncome Q16_NetIncome  \n",
       "16      93072000      54753000     103681000     111836000  \n",
       "17     145900000    -612000000      -8300000      92200000  \n",
       "18      -1142000      20477000      80327000      41685000  \n",
       "19     189700000     229800000     144400000     157300000  \n",
       "20      43200000    -118800000     -23400000       4000000  \n",
       "21      82101000      55891000      65580000      58947000  \n",
       "22      -2441000      55463000      42169000      76239000  \n",
       "23    -276000000   -8297000000    -324000000     -61000000  \n",
       "24     -40890000       -792915     -35287000       -124174  \n",
       "25     143939000      78146000      99106000     146894000  "
      ]
     },
     "execution_count": 96,
     "metadata": {},
     "output_type": "execute_result"
    }
   ],
   "source": [
    "df7.tail(10)"
   ]
  },
  {
   "cell_type": "code",
   "execution_count": 97,
   "id": "1ec757d5-c5cd-4b6d-8c47-046173a7ebe0",
   "metadata": {},
   "outputs": [
    {
     "data": {
      "text/plain": [
       "((26, 9), (26, 9), (26, 9), (26, 9), (26, 9), (26, 9), (26, 9))"
      ]
     },
     "execution_count": 97,
     "metadata": {},
     "output_type": "execute_result"
    }
   ],
   "source": [
    "df1.shape, df2.shape, df3.shape, df4.shape, df5.shape, df6.shape, df7.shape"
   ]
  },
  {
   "cell_type": "code",
   "execution_count": 98,
   "id": "850c9876-f0a5-476e-a1fe-8bbcb59318ea",
   "metadata": {},
   "outputs": [],
   "source": [
    "additional = pd.concat([df1,df2,df3,df4,df5,df6,df7],ignore_index = True)"
   ]
  },
  {
   "cell_type": "code",
   "execution_count": 99,
   "id": "e8090133-31eb-4dca-80a0-7c78131be0d3",
   "metadata": {},
   "outputs": [
    {
     "data": {
      "text/plain": [
       "(182, 9)"
      ]
     },
     "execution_count": 99,
     "metadata": {},
     "output_type": "execute_result"
    }
   ],
   "source": [
    "additional.shape"
   ]
  },
  {
   "cell_type": "code",
   "execution_count": 247,
   "id": "b535a4a1-9cd5-48e8-a505-f09ab8323dba",
   "metadata": {},
   "outputs": [],
   "source": [
    "additional.to_csv(\"second_491_add_data.csv\",index=False)"
   ]
  },
  {
   "cell_type": "code",
   "execution_count": null,
   "id": "9594809b-f02d-407f-bfbe-d9748e0f5306",
   "metadata": {},
   "outputs": [],
   "source": []
  },
  {
   "cell_type": "code",
   "execution_count": null,
   "id": "6f4608f1-8d2f-4a65-8096-d846d687a2a6",
   "metadata": {},
   "outputs": [],
   "source": []
  },
  {
   "cell_type": "code",
   "execution_count": null,
   "id": "51821e56-e1e6-4a41-89c8-a307af1d653a",
   "metadata": {},
   "outputs": [],
   "source": []
  },
  {
   "cell_type": "code",
   "execution_count": null,
   "id": "c8ae68a4-7c12-4c7d-a861-d76e711ce016",
   "metadata": {},
   "outputs": [],
   "source": []
  },
  {
   "cell_type": "code",
   "execution_count": null,
   "id": "a049b2ce-3f33-4e5a-b29d-7d0848ec4a97",
   "metadata": {},
   "outputs": [],
   "source": []
  }
 ],
 "metadata": {
  "kernelspec": {
   "display_name": "Python 3 (ipykernel)",
   "language": "python",
   "name": "python3"
  },
  "language_info": {
   "codemirror_mode": {
    "name": "ipython",
    "version": 3
   },
   "file_extension": ".py",
   "mimetype": "text/x-python",
   "name": "python",
   "nbconvert_exporter": "python",
   "pygments_lexer": "ipython3",
   "version": "3.9.13"
  }
 },
 "nbformat": 4,
 "nbformat_minor": 5
}
