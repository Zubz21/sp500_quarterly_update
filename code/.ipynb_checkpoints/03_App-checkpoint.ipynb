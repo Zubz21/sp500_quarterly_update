{
 "cells": [
  {
   "cell_type": "code",
   "execution_count": 27,
   "id": "1ba8769f-4ecd-41cf-9491-42de6986510f",
   "metadata": {},
   "outputs": [],
   "source": [
    "import streamlit as st\n",
    "import pandas as pd\n",
    "import joblib"
   ]
  },
  {
   "cell_type": "code",
   "execution_count": 28,
   "id": "b1a41fb7-389c-48c1-8adc-9540a1e27501",
   "metadata": {},
   "outputs": [],
   "source": [
    "model = joblib.load('trained_model.pkl')"
   ]
  },
  {
   "cell_type": "code",
   "execution_count": 29,
   "id": "3caad68b-7ab3-4a87-b045-eadc1e898fc7",
   "metadata": {},
   "outputs": [
    {
     "data": {
      "text/plain": [
       "501"
      ]
     },
     "execution_count": 29,
     "metadata": {},
     "output_type": "execute_result"
    }
   ],
   "source": [
    "stocks = pd.read_csv(\"total_market.csv\")\n",
    "tickers = stocks[stocks['in_index'] == 1]['Ticker'].tolist()\n",
    "len(tickers)"
   ]
  },
  {
   "cell_type": "code",
   "execution_count": 30,
   "id": "adad88fe-a8cd-4ace-9a3a-0a02ccf61041",
   "metadata": {},
   "outputs": [],
   "source": [
    "def main():\n",
    "    st.title(\"Your Model App\")\n",
    "\n",
    "    # Get user input\n",
    "    user_input = st.text_input(\"Enter some input for the model:\")\n",
    "\n",
    "    # When the 'Predict' button is pressed, make a prediction and display it\n",
    "    if st.button('Predict'):\n",
    "        prediction = model.predict([user_input])  # This assumes your model expects a single value in a list\n",
    "        st.write(f'Prediction: {prediction[0]}')  # Display the prediction\n",
    "    \n",
    "\n",
    "if __name__ == \"__main__\":\n",
    "    main()\n"
   ]
  },
  {
   "cell_type": "code",
   "execution_count": null,
   "id": "d11a68b3-65a2-48ac-b5dc-77aa7305de31",
   "metadata": {},
   "outputs": [],
   "source": []
  },
  {
   "cell_type": "code",
   "execution_count": null,
   "id": "1e449ad8-7b93-4365-a5dc-060ce29137b2",
   "metadata": {},
   "outputs": [],
   "source": []
  },
  {
   "cell_type": "code",
   "execution_count": null,
   "id": "b83d929b-1ae6-42d2-86a2-188376bd1883",
   "metadata": {},
   "outputs": [],
   "source": []
  },
  {
   "cell_type": "code",
   "execution_count": null,
   "id": "fe7062df-8d40-4997-bb7d-0beb970bc688",
   "metadata": {},
   "outputs": [],
   "source": []
  },
  {
   "cell_type": "code",
   "execution_count": null,
   "id": "5eb6e353-3611-4cbc-ac45-0bfa4a7cc9cc",
   "metadata": {},
   "outputs": [],
   "source": []
  },
  {
   "cell_type": "code",
   "execution_count": null,
   "id": "869e6847-04a6-44f0-8624-28347daab705",
   "metadata": {},
   "outputs": [],
   "source": []
  },
  {
   "cell_type": "code",
   "execution_count": null,
   "id": "2bfd400c-e440-4fd9-9ecf-13033464081b",
   "metadata": {},
   "outputs": [],
   "source": []
  }
 ],
 "metadata": {
  "kernelspec": {
   "display_name": "Python 3 (ipykernel)",
   "language": "python",
   "name": "python3"
  },
  "language_info": {
   "codemirror_mode": {
    "name": "ipython",
    "version": 3
   },
   "file_extension": ".py",
   "mimetype": "text/x-python",
   "name": "python",
   "nbconvert_exporter": "python",
   "pygments_lexer": "ipython3",
   "version": "3.9.13"
  }
 },
 "nbformat": 4,
 "nbformat_minor": 5
}
